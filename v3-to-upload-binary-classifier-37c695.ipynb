{
 "cells": [
  {
   "cell_type": "code",
   "execution_count": 1,
   "id": "c0943b07",
   "metadata": {
    "execution": {
     "iopub.execute_input": "2023-06-09T18:24:30.415737Z",
     "iopub.status.busy": "2023-06-09T18:24:30.414958Z",
     "iopub.status.idle": "2023-06-09T18:24:59.404673Z",
     "shell.execute_reply": "2023-06-09T18:24:59.402920Z"
    },
    "papermill": {
     "duration": 29.005369,
     "end_time": "2023-06-09T18:24:59.408055",
     "exception": false,
     "start_time": "2023-06-09T18:24:30.402686",
     "status": "completed"
    },
    "tags": []
   },
   "outputs": [
    {
     "name": "stdout",
     "output_type": "stream",
     "text": [
      "Collecting torchsummary\r\n",
      "  Downloading torchsummary-1.5.1-py3-none-any.whl (2.8 kB)\r\n",
      "Installing collected packages: torchsummary\r\n",
      "Successfully installed torchsummary-1.5.1\r\n",
      "\u001b[33mWARNING: Running pip as the 'root' user can result in broken permissions and conflicting behaviour with the system package manager. It is recommended to use a virtual environment instead: https://pip.pypa.io/warnings/venv\u001b[0m\u001b[33m\r\n",
      "\u001b[0mRequirement already satisfied: Unidecode in /opt/conda/lib/python3.7/site-packages (1.3.6)\r\n",
      "\u001b[33mWARNING: Running pip as the 'root' user can result in broken permissions and conflicting behaviour with the system package manager. It is recommended to use a virtual environment instead: https://pip.pypa.io/warnings/venv\u001b[0m\u001b[33m\r\n",
      "\u001b[0m"
     ]
    }
   ],
   "source": [
    "!pip install torchsummary\n",
    "!pip install Unidecode"
   ]
  },
  {
   "cell_type": "code",
   "execution_count": 2,
   "id": "987b7e16",
   "metadata": {
    "_cell_guid": "b1076dfc-b9ad-4769-8c92-a6c4dae69d19",
    "_uuid": "8f2839f25d086af736a60e9eeb907d3b93b6e0e5",
    "execution": {
     "iopub.execute_input": "2023-06-09T18:24:59.429724Z",
     "iopub.status.busy": "2023-06-09T18:24:59.429222Z",
     "iopub.status.idle": "2023-06-09T18:25:15.735779Z",
     "shell.execute_reply": "2023-06-09T18:25:15.734144Z"
    },
    "papermill": {
     "duration": 16.32144,
     "end_time": "2023-06-09T18:25:15.739196",
     "exception": false,
     "start_time": "2023-06-09T18:24:59.417756",
     "status": "completed"
    },
    "tags": []
   },
   "outputs": [],
   "source": [
    "import os\n",
    "import numpy as np\n",
    "import pandas as pd\n",
    "import re\n",
    "import csv\n",
    "from bs4 import BeautifulSoup\n",
    "import unicodedata\n",
    "import nltk\n",
    "from nltk.tokenize.toktok import ToktokTokenizer\n",
    "from tensorflow.keras.preprocessing import sequence\n",
    "from tensorflow.keras.preprocessing.text import Tokenizer\n",
    "from tqdm import tqdm\n",
    "import codecs\n",
    "import matplotlib.pyplot as plt\n",
    "import torch\n",
    "import torch.nn as nn\n",
    "import torch.nn.functional as F\n",
    "from torch.utils.data import DataLoader, TensorDataset, RandomSampler, SequentialSampler, random_split\n",
    "from torchsummary import summary\n",
    "from transformers import BertTokenizer\n",
    "from transformers import BertModel\n",
    "from transformers import AdamW, get_linear_schedule_with_warmup\n",
    "import matplotlib.pyplot as plt\n",
    "from sklearn import metrics\n",
    "import random\n",
    "import time\n",
    "from collections import Counter\n",
    "from wordcloud import WordCloud, STOPWORDS, ImageColorGenerator\n",
    "from unidecode import unidecode"
   ]
  },
  {
   "cell_type": "code",
   "execution_count": 3,
   "id": "d572ff32",
   "metadata": {
    "execution": {
     "iopub.execute_input": "2023-06-09T18:25:15.760709Z",
     "iopub.status.busy": "2023-06-09T18:25:15.760192Z",
     "iopub.status.idle": "2023-06-09T18:25:15.792521Z",
     "shell.execute_reply": "2023-06-09T18:25:15.790659Z"
    },
    "papermill": {
     "duration": 0.04683,
     "end_time": "2023-06-09T18:25:15.795516",
     "exception": false,
     "start_time": "2023-06-09T18:25:15.748686",
     "status": "completed"
    },
    "tags": []
   },
   "outputs": [],
   "source": [
    "def remove_html_tags(text):\n",
    "    soup = BeautifulSoup(text, \"html.parser\")\n",
    "    [s.extract() for s in soup(['iframe','script'])]\n",
    "    stripped_text = soup.get_text()\n",
    "    stripped_text = re.sub(r'[\"\\|\\n|\\r|\\n\\r]+',' ', stripped_text)\n",
    "    return stripped_text\n",
    "\n",
    "def remove_html(text):\n",
    "    text = re.sub(r'https?:\\/\\/\\S*', ' ', str(text), flags=re.MULTILINE)\n",
    "    return text\n",
    "\n",
    "def remove_accented_chars(text):\n",
    "    text = unicodedata.normalize('NFKD', text).encode('ascii','ignore').decode('utf-8','ignore')\n",
    "    return text\n",
    "\n",
    "def remove_special_characters(text):\n",
    "    text = re.sub(r'[^ \\nA-Za-z0-9À-ÖØ-öø-ÿ/]+',' ',text)\n",
    "    return text\n",
    "\n",
    "def remove_stopwords_1(text):\n",
    "    \n",
    "    stop_file_path = '/kaggle/input/offline-libs/stop-words-2018.7.23/stop-words-2018.7.23/stop_words/stop-words/italian.txt'\n",
    "   \n",
    "    with open(stop_file_path, 'r', encoding=\"utf-8\") as f:\n",
    "        stopwords = f.readlines()\n",
    "        stop_set = set(m.strip() for m in stopwords)\n",
    "        stopword_list = list(frozenset(stop_set))\n",
    "        stopword_list.append('rt')\n",
    "        stopword_list.append('cè')\n",
    "        stopword_list.append('via')\n",
    "        stopword_list.append('d')\n",
    "    \n",
    "    tokenizer = ToktokTokenizer()\n",
    "    tokens = tokenizer.tokenize(text)\n",
    "    tokens = [token.strip() for token in tokens]\n",
    "    filtered_tokens = [token for token in tokens if token not in stopword_list]\n",
    "    filtered_text = ' '.join(filtered_tokens)    \n",
    "    \n",
    "    return filtered_text\n",
    "\n",
    "def remove_stopwords_2(text):\n",
    "    \n",
    "    stop_file_path = '/kaggle/input/stopword-lists-for-19-languages/italianST.txt' \n",
    "    with open(stop_file_path, 'r', encoding=\"utf-8\") as f:\n",
    "        stopwords = f.readlines()\n",
    "        stop_set = set(m.strip() for m in stopwords)\n",
    "        stopword_list = list(frozenset(stop_set))\n",
    "\n",
    "    \n",
    "    tokenizer = ToktokTokenizer() \n",
    "    tokens = tokenizer.tokenize(text)\n",
    "    tokens = [token.strip() for token in tokens]\n",
    "    filtered_tokens = [token for token in tokens if token not in stopword_list]\n",
    "    filtered_text = ' '.join(filtered_tokens)    \n",
    "    \n",
    "    return filtered_text\n",
    "\n",
    "def remove_mentions(text):\n",
    "    processed_text = re.sub(r\"(?:\\@|http?\\://|https?\\://|www)\\S+\", ' ', text)\n",
    "    processed_text = ' '.join(processed_text.split())\n",
    "    return processed_text\n",
    "def remove_accents(text):\n",
    "    processed_text = unidecode(text)\n",
    "    return processed_text\n",
    "\n",
    "def preprocessing_text(text_arr):\n",
    "    preprocessed_text = []\n",
    "    idx = 0\n",
    "    for text in text_arr:\n",
    "        text = remove_html(text)\n",
    "        text = remove_html_tags(text) \n",
    "        text = remove_mentions(text)\n",
    "        text = remove_special_characters(text) \n",
    "        text = text.lower() \n",
    "        text = remove_stopwords_1(text) \n",
    "        text = remove_stopwords_2(text)\n",
    "        text = remove_accents(text)\n",
    "        preprocessed_text.append(text)\n",
    "        idx+=1\n",
    "    print('Data Preprocessing finished.')\n",
    "    return preprocessed_text"
   ]
  },
  {
   "cell_type": "code",
   "execution_count": 4,
   "id": "7deb226b",
   "metadata": {
    "execution": {
     "iopub.execute_input": "2023-06-09T18:25:15.816100Z",
     "iopub.status.busy": "2023-06-09T18:25:15.815521Z",
     "iopub.status.idle": "2023-06-09T18:25:15.869271Z",
     "shell.execute_reply": "2023-06-09T18:25:15.867809Z"
    },
    "papermill": {
     "duration": 0.068109,
     "end_time": "2023-06-09T18:25:15.872793",
     "exception": false,
     "start_time": "2023-06-09T18:25:15.804684",
     "status": "completed"
    },
    "tags": []
   },
   "outputs": [],
   "source": [
    "data_binary='/kaggle/input/tweets-binary-v2/tweets-for-binary-class.csv'\n",
    "df_binary=pd.read_csv(data_binary, index_col=0, encoding='ISO 8859-1')\n",
    "titles=df_binary.loc[:,\"text\"].values\n",
    "labels = df_binary.iloc[:,8:9].values"
   ]
  },
  {
   "cell_type": "code",
   "execution_count": 5,
   "id": "ace5293d",
   "metadata": {
    "execution": {
     "iopub.execute_input": "2023-06-09T18:25:15.893720Z",
     "iopub.status.busy": "2023-06-09T18:25:15.893171Z",
     "iopub.status.idle": "2023-06-09T18:25:20.537144Z",
     "shell.execute_reply": "2023-06-09T18:25:20.535302Z"
    },
    "papermill": {
     "duration": 4.658392,
     "end_time": "2023-06-09T18:25:20.540523",
     "exception": false,
     "start_time": "2023-06-09T18:25:15.882131",
     "status": "completed"
    },
    "tags": []
   },
   "outputs": [
    {
     "name": "stderr",
     "output_type": "stream",
     "text": [
      "/opt/conda/lib/python3.7/site-packages/bs4/__init__.py:439: MarkupResemblesLocatorWarning: The input looks more like a filename than markup. You may want to open this file and pass the filehandle into Beautiful Soup.\n",
      "  MarkupResemblesLocatorWarning\n"
     ]
    },
    {
     "name": "stdout",
     "output_type": "stream",
     "text": [
      "Data Preprocessing finished.\n"
     ]
    }
   ],
   "source": [
    "text_cleaned = preprocessing_text(titles)\n",
    "df_text_cleaned = pd.DataFrame({\"cleaned_text\": text_cleaned})"
   ]
  },
  {
   "cell_type": "code",
   "execution_count": 6,
   "id": "6e242b44",
   "metadata": {
    "execution": {
     "iopub.execute_input": "2023-06-09T18:25:20.562154Z",
     "iopub.status.busy": "2023-06-09T18:25:20.561264Z",
     "iopub.status.idle": "2023-06-09T18:25:22.212531Z",
     "shell.execute_reply": "2023-06-09T18:25:22.210976Z"
    },
    "papermill": {
     "duration": 1.66586,
     "end_time": "2023-06-09T18:25:22.215893",
     "exception": false,
     "start_time": "2023-06-09T18:25:20.550033",
     "status": "completed"
    },
    "tags": []
   },
   "outputs": [
    {
     "data": {
      "application/vnd.jupyter.widget-view+json": {
       "model_id": "5fa534eb72e3410ca0f36db6e56e1fe4",
       "version_major": 2,
       "version_minor": 0
      },
      "text/plain": [
       "Downloading (…)solve/main/vocab.txt:   0%|          | 0.00/996k [00:00<?, ?B/s]"
      ]
     },
     "metadata": {},
     "output_type": "display_data"
    },
    {
     "data": {
      "application/vnd.jupyter.widget-view+json": {
       "model_id": "6e49a6841a054d2781925a4badc2083b",
       "version_major": 2,
       "version_minor": 0
      },
      "text/plain": [
       "Downloading (…)okenizer_config.json:   0%|          | 0.00/29.0 [00:00<?, ?B/s]"
      ]
     },
     "metadata": {},
     "output_type": "display_data"
    },
    {
     "data": {
      "application/vnd.jupyter.widget-view+json": {
       "model_id": "23dba9b1cc37496091a86731341f9def",
       "version_major": 2,
       "version_minor": 0
      },
      "text/plain": [
       "Downloading (…)lve/main/config.json:   0%|          | 0.00/625 [00:00<?, ?B/s]"
      ]
     },
     "metadata": {},
     "output_type": "display_data"
    }
   ],
   "source": [
    "tokenizer = BertTokenizer.from_pretrained('bert-base-multilingual-cased', do_lower_case=True)"
   ]
  },
  {
   "cell_type": "code",
   "execution_count": 7,
   "id": "30d5852f",
   "metadata": {
    "execution": {
     "iopub.execute_input": "2023-06-09T18:25:22.238341Z",
     "iopub.status.busy": "2023-06-09T18:25:22.237843Z",
     "iopub.status.idle": "2023-06-09T18:25:24.140328Z",
     "shell.execute_reply": "2023-06-09T18:25:24.138914Z"
    },
    "papermill": {
     "duration": 1.917751,
     "end_time": "2023-06-09T18:25:24.143704",
     "exception": false,
     "start_time": "2023-06-09T18:25:22.225953",
     "status": "completed"
    },
    "tags": []
   },
   "outputs": [
    {
     "name": "stdout",
     "output_type": "stream",
     "text": [
      "Max sentence length:  73\n"
     ]
    }
   ],
   "source": [
    "max_length = 0\n",
    "\n",
    "for sentence in text_cleaned:\n",
    "\n",
    "    input_ids = tokenizer.encode(sentence, add_special_tokens=True)\n",
    "    max_length = max(max_length, len(input_ids))\n",
    "\n",
    "print('Max sentence length: ', max_length)"
   ]
  },
  {
   "cell_type": "code",
   "execution_count": 8,
   "id": "d4ac8535",
   "metadata": {
    "execution": {
     "iopub.execute_input": "2023-06-09T18:25:24.167283Z",
     "iopub.status.busy": "2023-06-09T18:25:24.165971Z",
     "iopub.status.idle": "2023-06-09T18:25:24.171944Z",
     "shell.execute_reply": "2023-06-09T18:25:24.170724Z"
    },
    "papermill": {
     "duration": 0.020924,
     "end_time": "2023-06-09T18:25:24.174780",
     "exception": false,
     "start_time": "2023-06-09T18:25:24.153856",
     "status": "completed"
    },
    "tags": []
   },
   "outputs": [],
   "source": [
    "input_ids = []\n",
    "attention_masks = []"
   ]
  },
  {
   "cell_type": "code",
   "execution_count": 9,
   "id": "ca3e6dfd",
   "metadata": {
    "execution": {
     "iopub.execute_input": "2023-06-09T18:25:24.197266Z",
     "iopub.status.busy": "2023-06-09T18:25:24.196755Z",
     "iopub.status.idle": "2023-06-09T18:25:27.808783Z",
     "shell.execute_reply": "2023-06-09T18:25:27.807699Z"
    },
    "papermill": {
     "duration": 3.626907,
     "end_time": "2023-06-09T18:25:27.812022",
     "exception": false,
     "start_time": "2023-06-09T18:25:24.185115",
     "status": "completed"
    },
    "tags": []
   },
   "outputs": [],
   "source": [
    "for sentence in titles:\n",
    "    inputs = tokenizer.encode_plus(\n",
    "        sentence,  # sequence to be encoded\n",
    "        add_special_tokens=True,  # to encode the sequences with the special tokens\n",
    "        padding='max_length',  # activates and controls padding\n",
    "        truncation=True,  # activates and controls truncation\n",
    "        max_length=max_length,  # controls the maximum length to use       \n",
    "        return_attention_mask=True,  # whether to return the attention mask\n",
    "        return_tensors='pt'  # to return PyTorch torch.Tensor objects        \n",
    "    )\n",
    "    #list of token ids to be fed to a model.\n",
    "    input_ids.append(inputs['input_ids'])\n",
    "    # list of indices specifying which tokens should be considered to by the model \n",
    "    attention_masks.append(inputs['attention_mask'])\n"
   ]
  },
  {
   "cell_type": "code",
   "execution_count": 10,
   "id": "75dfd31d",
   "metadata": {
    "execution": {
     "iopub.execute_input": "2023-06-09T18:25:27.834564Z",
     "iopub.status.busy": "2023-06-09T18:25:27.834051Z",
     "iopub.status.idle": "2023-06-09T18:25:27.881088Z",
     "shell.execute_reply": "2023-06-09T18:25:27.879674Z"
    },
    "papermill": {
     "duration": 0.06202,
     "end_time": "2023-06-09T18:25:27.884342",
     "exception": false,
     "start_time": "2023-06-09T18:25:27.822322",
     "status": "completed"
    },
    "tags": []
   },
   "outputs": [],
   "source": [
    "# Convert the lists into tensors.\n",
    "input_ids = torch.cat(input_ids, dim=0)\n",
    "attention_masks = torch.cat(attention_masks, dim=0)\n",
    "labels = torch.tensor(labels)"
   ]
  },
  {
   "cell_type": "code",
   "execution_count": 11,
   "id": "72d8049b",
   "metadata": {
    "execution": {
     "iopub.execute_input": "2023-06-09T18:25:27.906044Z",
     "iopub.status.busy": "2023-06-09T18:25:27.905570Z",
     "iopub.status.idle": "2023-06-09T18:25:27.911270Z",
     "shell.execute_reply": "2023-06-09T18:25:27.909927Z"
    },
    "papermill": {
     "duration": 0.019649,
     "end_time": "2023-06-09T18:25:27.914002",
     "exception": false,
     "start_time": "2023-06-09T18:25:27.894353",
     "status": "completed"
    },
    "tags": []
   },
   "outputs": [],
   "source": [
    "# For fine-tuning BERT on a specific task, the authors recommend a batch size of 16 or 32.\n",
    "batch_size = 16"
   ]
  },
  {
   "cell_type": "code",
   "execution_count": 12,
   "id": "bcbd8c1a",
   "metadata": {
    "execution": {
     "iopub.execute_input": "2023-06-09T18:25:27.936106Z",
     "iopub.status.busy": "2023-06-09T18:25:27.935367Z",
     "iopub.status.idle": "2023-06-09T18:25:27.950660Z",
     "shell.execute_reply": "2023-06-09T18:25:27.949306Z"
    },
    "papermill": {
     "duration": 0.029968,
     "end_time": "2023-06-09T18:25:27.953725",
     "exception": false,
     "start_time": "2023-06-09T18:25:27.923757",
     "status": "completed"
    },
    "tags": []
   },
   "outputs": [],
   "source": [
    "dataset = TensorDataset(input_ids, attention_masks, labels)\n",
    "\n",
    "# 80% training set 10% validation set 10% testing set\n",
    "train_size = int(0.8 * len(dataset))\n",
    "validation_size = int(0.1 * len(dataset))\n",
    "test_size = len(dataset) - train_size - validation_size\n",
    "\n",
    "train_dataset, validation_dataset, test_dataset = random_split(dataset, [train_size, validation_size, test_size])"
   ]
  },
  {
   "cell_type": "code",
   "execution_count": 13,
   "id": "5d84cd21",
   "metadata": {
    "execution": {
     "iopub.execute_input": "2023-06-09T18:25:27.976133Z",
     "iopub.status.busy": "2023-06-09T18:25:27.975000Z",
     "iopub.status.idle": "2023-06-09T18:25:27.983257Z",
     "shell.execute_reply": "2023-06-09T18:25:27.981996Z"
    },
    "papermill": {
     "duration": 0.022608,
     "end_time": "2023-06-09T18:25:27.986148",
     "exception": false,
     "start_time": "2023-06-09T18:25:27.963540",
     "status": "completed"
    },
    "tags": []
   },
   "outputs": [],
   "source": [
    "train_dataloader = DataLoader(\n",
    "            train_dataset,\n",
    "            sampler = RandomSampler(train_dataset),\n",
    "            batch_size = batch_size\n",
    "        )\n",
    "\n",
    "validation_dataloader = DataLoader(\n",
    "            validation_dataset,\n",
    "            sampler = SequentialSampler(validation_dataset),\n",
    "            batch_size = batch_size\n",
    "        )\n",
    "test_dataloader = DataLoader(\n",
    "            test_dataset,\n",
    "            sampler = SequentialSampler(test_dataset),\n",
    "            batch_size = batch_size\n",
    "        )"
   ]
  },
  {
   "cell_type": "code",
   "execution_count": 14,
   "id": "d951f257",
   "metadata": {
    "execution": {
     "iopub.execute_input": "2023-06-09T18:25:28.008880Z",
     "iopub.status.busy": "2023-06-09T18:25:28.008359Z",
     "iopub.status.idle": "2023-06-09T18:25:28.015131Z",
     "shell.execute_reply": "2023-06-09T18:25:28.013680Z"
    },
    "papermill": {
     "duration": 0.021874,
     "end_time": "2023-06-09T18:25:28.017909",
     "exception": false,
     "start_time": "2023-06-09T18:25:27.996035",
     "status": "completed"
    },
    "tags": []
   },
   "outputs": [],
   "source": [
    "loss_fn = nn.BCELoss()"
   ]
  },
  {
   "cell_type": "code",
   "execution_count": 15,
   "id": "8276c564",
   "metadata": {
    "execution": {
     "iopub.execute_input": "2023-06-09T18:25:28.041604Z",
     "iopub.status.busy": "2023-06-09T18:25:28.040628Z",
     "iopub.status.idle": "2023-06-09T18:25:28.051459Z",
     "shell.execute_reply": "2023-06-09T18:25:28.050427Z"
    },
    "papermill": {
     "duration": 0.025401,
     "end_time": "2023-06-09T18:25:28.054380",
     "exception": false,
     "start_time": "2023-06-09T18:25:28.028979",
     "status": "completed"
    },
    "tags": []
   },
   "outputs": [],
   "source": [
    "class BertClassifier(nn.Module):\n",
    "\n",
    "    def __init__(self, freeze_bert=True):\n",
    "\n",
    "        super(BertClassifier, self).__init__()\n",
    "        \n",
    "        D_in, D_out = 768, 1\n",
    "\n",
    "       \n",
    "        self.bert = BertModel.from_pretrained('bert-base-multilingual-cased')\n",
    "       \n",
    "        self.classifier = nn.Sequential(\n",
    "            nn.Dropout(),\n",
    "            nn.Linear(D_in, D_out),\n",
    "            nn.Sigmoid()\n",
    "        )\n",
    "\n",
    "        # freeze parameters\n",
    "        if freeze_bert:\n",
    "            for param in self.bert.parameters():\n",
    "                param.requires_grad = False\n",
    "\n",
    "    def forward(self, input_ids, attention_mask):\n",
    "\n",
    "        # feed input to BERT\n",
    "        outputs = self.bert(input_ids=input_ids,\n",
    "                            attention_mask=attention_mask)\n",
    "\n",
    "        # extract the last hidden state for classification task\n",
    "        pooled_output = torch.mean(outputs.last_hidden_state,1)\n",
    "\n",
    "        # feed input to classifier\n",
    "        logits = self.classifier(pooled_output)        \n",
    "\n",
    "        return logits"
   ]
  },
  {
   "cell_type": "code",
   "execution_count": 16,
   "id": "b9ce6ca7",
   "metadata": {
    "execution": {
     "iopub.execute_input": "2023-06-09T18:25:28.076828Z",
     "iopub.status.busy": "2023-06-09T18:25:28.075851Z",
     "iopub.status.idle": "2023-06-09T18:25:28.082462Z",
     "shell.execute_reply": "2023-06-09T18:25:28.081560Z"
    },
    "papermill": {
     "duration": 0.020876,
     "end_time": "2023-06-09T18:25:28.085159",
     "exception": false,
     "start_time": "2023-06-09T18:25:28.064283",
     "status": "completed"
    },
    "tags": []
   },
   "outputs": [],
   "source": [
    "def set_seed(seed_value=42):\n",
    "\n",
    "    random.seed(seed_value)\n",
    "    np.random.seed(seed_value)\n",
    "    torch.manual_seed(seed_value)\n",
    "    torch.cuda.manual_seed_all(seed_value)"
   ]
  },
  {
   "cell_type": "code",
   "execution_count": 17,
   "id": "1062616d",
   "metadata": {
    "execution": {
     "iopub.execute_input": "2023-06-09T18:25:28.108065Z",
     "iopub.status.busy": "2023-06-09T18:25:28.107089Z",
     "iopub.status.idle": "2023-06-09T18:25:28.115250Z",
     "shell.execute_reply": "2023-06-09T18:25:28.114281Z"
    },
    "papermill": {
     "duration": 0.023131,
     "end_time": "2023-06-09T18:25:28.118196",
     "exception": false,
     "start_time": "2023-06-09T18:25:28.095065",
     "status": "completed"
    },
    "tags": []
   },
   "outputs": [],
   "source": [
    "def initialize_model(epochs):\n",
    "\n",
    "    bert_classifier = BertClassifier(freeze_bert=True)    \n",
    "    bert_classifier\n",
    "\n",
    "\n",
    "    optimizer = AdamW(bert_classifier.parameters(),\n",
    "                      lr=1e-4,    # learning rate\n",
    "                      eps=1e-8    # epsilon value\n",
    "                      )\n",
    "\n",
    "    # total number of training steps\n",
    "    total_steps = len(train_dataloader) * epochs\n",
    "\n",
    "    # set up the learning rate scheduler\n",
    "    scheduler = get_linear_schedule_with_warmup(optimizer, num_warmup_steps=0, num_training_steps=total_steps)\n",
    "    return bert_classifier, optimizer, scheduler"
   ]
  },
  {
   "cell_type": "code",
   "execution_count": 18,
   "id": "136548d2",
   "metadata": {
    "execution": {
     "iopub.execute_input": "2023-06-09T18:25:28.141048Z",
     "iopub.status.busy": "2023-06-09T18:25:28.140119Z",
     "iopub.status.idle": "2023-06-09T18:25:28.147188Z",
     "shell.execute_reply": "2023-06-09T18:25:28.146279Z"
    },
    "papermill": {
     "duration": 0.021587,
     "end_time": "2023-06-09T18:25:28.149834",
     "exception": false,
     "start_time": "2023-06-09T18:25:28.128247",
     "status": "completed"
    },
    "tags": []
   },
   "outputs": [],
   "source": [
    "def calculate_metrics(pred, target):\n",
    "    return {'precision': metrics.precision_score(y_true=target, y_pred=pred),\n",
    "\n",
    "            'recall': metrics.recall_score(y_true=target, y_pred=pred),\n",
    "\n",
    "            'f1': metrics.f1_score(y_true=target, y_pred=pred)          \n",
    "\n",
    "            }\n"
   ]
  },
  {
   "cell_type": "code",
   "execution_count": 19,
   "id": "ca1769ae",
   "metadata": {
    "execution": {
     "iopub.execute_input": "2023-06-09T18:25:28.172223Z",
     "iopub.status.busy": "2023-06-09T18:25:28.171749Z",
     "iopub.status.idle": "2023-06-09T18:25:28.192460Z",
     "shell.execute_reply": "2023-06-09T18:25:28.191307Z"
    },
    "papermill": {
     "duration": 0.035389,
     "end_time": "2023-06-09T18:25:28.195238",
     "exception": false,
     "start_time": "2023-06-09T18:25:28.159849",
     "status": "completed"
    },
    "tags": []
   },
   "outputs": [],
   "source": [
    "def train(model, train_dataloader, validation_dataloader=None, epochs=5, evaluation=True):\n",
    "\n",
    "    print(\"Start training...\\n\")\n",
    "    for epoch_i in range(epochs):\n",
    "\n",
    "        print(\n",
    "            f\"{'Epoch':^7} | {'Batch':^7} | {'Train Loss':^12} | {'Val Loss':^10} | {'Val Precision':^9} | {'Val Recall':^9} | {'Val F1':^9} | {'Elapsed':^9}\")\n",
    "        print(\"-\" * 100)\n",
    "\n",
    "        # Measure the elapsed time of each epoch\n",
    "        t0_epoch, t0_batch = time.time(), time.time()\n",
    "\n",
    "        # Reset tracking variables at the beginning of each epoch\n",
    "        total_loss, batch_loss, batch_counts = 0, 0, 0\n",
    "\n",
    "        # Put the model into the training mode\n",
    "        model.train()\n",
    "\n",
    "        # For each batch of training data...\n",
    "        for step, batch in enumerate(train_dataloader):\n",
    "            batch_counts += 1\n",
    "            # Load batch to GPU\n",
    "            b_input_ids, b_attn_mask, b_labels = tuple(t for t in batch)\n",
    "\n",
    "            # Zero out any previously calculated gradients\n",
    "            model.zero_grad()\n",
    "\n",
    "            # Perform a forward pass. This will return logits.\n",
    "            logits = model(b_input_ids, b_attn_mask)\n",
    "\n",
    "            loss=loss_fn(logits, b_labels.type(torch.float))\n",
    "            # accumulate the loss values\n",
    "            batch_loss += loss.item()\n",
    "            total_loss += loss.item()\n",
    "            # Perform a backward pass to calculate gradients\n",
    "            loss.backward()\n",
    "\n",
    "            # Clip the norm of the gradients to 1.0 to prevent \"exploding gradients\"\n",
    "            torch.nn.utils.clip_grad_norm_(model.parameters(), 1.0)\n",
    "\n",
    "            # Update parameters and the learning rate\n",
    "            optimizer.step()\n",
    "            scheduler.step()\n",
    "\n",
    "            # Print the loss values and time elapsed for every 20 batches\n",
    "            if (step % 20 == 0 and step != 0) or (step == len(train_dataloader) - 1):\n",
    "                # Calculate time elapsed for 20 batches\n",
    "                time_elapsed = time.time() - t0_batch\n",
    "\n",
    "                # Print training results\n",
    "                print(\n",
    "                    f\"{epoch_i + 1:^7} | {step:^7} | {batch_loss / batch_counts:^12f} | {'-':^10} | {'-':^13} | {'-':^10} | {'-':^9} | {time_elapsed:^9f}\")\n",
    "\n",
    "                # Reset batch tracking variables\n",
    "                batch_loss, batch_counts = 0, 0\n",
    "                t0_batch = time.time()\n",
    "\n",
    "        # Calculate the average loss over the entire training data\n",
    "        avg_train_loss = total_loss / len(train_dataloader)\n",
    "\n",
    "        print(\"-\" * 100)\n",
    "\n",
    "        if evaluation == True:\n",
    "            # After the completion of each training epoch, measure the model's performance\n",
    "            # on our validation set.\n",
    "            val_loss, val_precision, val_recall, val_f1 = evaluate(model, validation_dataloader)\n",
    "\n",
    "            # Print performance over the entire training data\n",
    "            time_elapsed = time.time() - t0_epoch\n",
    "\n",
    "            # Print the header of the result table\n",
    "\n",
    "            print(\"-\" * 100)\n",
    "            print(\n",
    "                f\"{epoch_i + 1:^7} | {'-':^7} | {avg_train_loss:^12.6f} | {val_loss:^10.6f} | {val_precision:^13f} | {val_recall:^10.2f} | {val_f1:^9.2f} | {time_elapsed:^9.2f}\")\n",
    "            print(\"-\" * 100)\n",
    "        print(\"\\n\")\n",
    "\n",
    "    print(\"Training complete!\")\n",
    "\n",
    "    # saving the model\n",
    "    output_dir = '/kaggle/working/'\n",
    "\n",
    "    # Create output directory if needed\n",
    "    if not os.path.exists(output_dir):\n",
    "      os.makedirs(output_dir)\n",
    "\n",
    "    print(\"Saving model to %s\" % output_dir)\n",
    "\n",
    "    model.bert.save_pretrained(output_dir)"
   ]
  },
  {
   "cell_type": "code",
   "execution_count": 20,
   "id": "9c229a1d",
   "metadata": {
    "execution": {
     "iopub.execute_input": "2023-06-09T18:25:28.219504Z",
     "iopub.status.busy": "2023-06-09T18:25:28.218035Z",
     "iopub.status.idle": "2023-06-09T18:25:28.232797Z",
     "shell.execute_reply": "2023-06-09T18:25:28.231557Z"
    },
    "papermill": {
     "duration": 0.030167,
     "end_time": "2023-06-09T18:25:28.235919",
     "exception": false,
     "start_time": "2023-06-09T18:25:28.205752",
     "status": "completed"
    },
    "tags": []
   },
   "outputs": [],
   "source": [
    "def evaluate(model, val_dataloader):\n",
    "\n",
    "    model.eval()\n",
    "\n",
    "    # Tracking variables\n",
    "    val_precision = []\n",
    "    val_recall = []\n",
    "    val_f1 = []\n",
    "    val_loss = []\n",
    "\n",
    "    # For each batch in our validation set...\n",
    "    for batch in val_dataloader:\n",
    "        # Load batch to GPU\n",
    "        b_input_ids, b_attn_mask, b_labels = tuple(t for t in batch)\n",
    "\n",
    "        # Compute logits\n",
    "        with torch.no_grad():\n",
    "            logits = model(b_input_ids, b_attn_mask)\n",
    "\n",
    "        # Compute loss\n",
    "        loss = loss_fn(logits, b_labels.type(torch.float))\n",
    "        val_loss.append(loss.item())\n",
    "\n",
    "        # Get the predictions\n",
    "        logits_arr = logits.cpu().numpy()\n",
    "        logits_arr[logits_arr >= 0.5] = 1\n",
    "        logits_arr[logits_arr < 0.5] = 0\n",
    "\n",
    "        b_labels_arr = b_labels.cpu().numpy()\n",
    "        # Calculate the accuracy rate\n",
    "        precision_micro = metrics.precision_score(y_true=b_labels_arr, y_pred=logits_arr, average='micro')\n",
    "        val_precision.append(precision_micro)\n",
    "        recall_micro = metrics.recall_score(y_true=b_labels_arr, y_pred=logits_arr, average='micro')\n",
    "        val_recall.append(recall_micro)\n",
    "        f1_micro = metrics.f1_score(y_true=b_labels_arr, y_pred=logits_arr, average='micro')\n",
    "        val_f1.append(f1_micro)\n",
    "\n",
    "    # Compute the average accuracy and loss over the validation set.\n",
    "    val_loss = np.mean(val_loss)\n",
    "    val_precision = np.mean(precision_micro)\n",
    "    val_recall = np.mean(recall_micro)\n",
    "    val_f1 = np.mean(f1_micro)\n",
    "\n",
    "    return val_loss, val_precision, val_recall, val_f1\n"
   ]
  },
  {
   "cell_type": "code",
   "execution_count": 21,
   "id": "56f311f8",
   "metadata": {
    "execution": {
     "iopub.execute_input": "2023-06-09T18:25:28.259304Z",
     "iopub.status.busy": "2023-06-09T18:25:28.258370Z",
     "iopub.status.idle": "2023-06-09T18:25:28.267362Z",
     "shell.execute_reply": "2023-06-09T18:25:28.266416Z"
    },
    "papermill": {
     "duration": 0.023793,
     "end_time": "2023-06-09T18:25:28.270055",
     "exception": false,
     "start_time": "2023-06-09T18:25:28.246262",
     "status": "completed"
    },
    "tags": []
   },
   "outputs": [],
   "source": [
    "def bert_predict(model, test_dataloader):\n",
    "\n",
    "    model.eval()\n",
    "\n",
    "    all_logits = []\n",
    "\n",
    "    # For each batch in test set...\n",
    "    for batch in test_dataloader:\n",
    "        # Load batch to GPU\n",
    "        b_input_ids, b_attn_mask = tuple(t for t in batch)[:2]\n",
    "\n",
    "        # Compute logits\n",
    "        with torch.no_grad():\n",
    "            logits = model(b_input_ids, b_attn_mask)\n",
    "        all_logits.append(logits.type(torch.float))\n",
    "    \n",
    "    # Concatenate logits from each batch\n",
    "    all_logits = torch.cat(all_logits, dim=0)\n",
    "\n",
    "    # Apply softmax to calculate probabilities\n",
    "    probs = all_logits.cpu().numpy()\n",
    "\n",
    "    return probs"
   ]
  },
  {
   "cell_type": "code",
   "execution_count": 22,
   "id": "8a77b3bd",
   "metadata": {
    "execution": {
     "iopub.execute_input": "2023-06-09T18:25:28.295016Z",
     "iopub.status.busy": "2023-06-09T18:25:28.294159Z",
     "iopub.status.idle": "2023-06-09T18:41:27.007247Z",
     "shell.execute_reply": "2023-06-09T18:41:27.005540Z"
    },
    "papermill": {
     "duration": 958.730131,
     "end_time": "2023-06-09T18:41:27.010877",
     "exception": false,
     "start_time": "2023-06-09T18:25:28.280746",
     "status": "completed"
    },
    "tags": []
   },
   "outputs": [
    {
     "data": {
      "application/vnd.jupyter.widget-view+json": {
       "model_id": "567cf4f1938e4be881ad2aaca91e4683",
       "version_major": 2,
       "version_minor": 0
      },
      "text/plain": [
       "Downloading pytorch_model.bin:   0%|          | 0.00/714M [00:00<?, ?B/s]"
      ]
     },
     "metadata": {},
     "output_type": "display_data"
    },
    {
     "name": "stderr",
     "output_type": "stream",
     "text": [
      "Some weights of the model checkpoint at bert-base-multilingual-cased were not used when initializing BertModel: ['cls.predictions.decoder.weight', 'cls.predictions.transform.LayerNorm.weight', 'cls.predictions.bias', 'cls.seq_relationship.bias', 'cls.predictions.transform.LayerNorm.bias', 'cls.predictions.transform.dense.bias', 'cls.seq_relationship.weight', 'cls.predictions.transform.dense.weight']\n",
      "- This IS expected if you are initializing BertModel from the checkpoint of a model trained on another task or with another architecture (e.g. initializing a BertForSequenceClassification model from a BertForPreTraining model).\n",
      "- This IS NOT expected if you are initializing BertModel from the checkpoint of a model that you expect to be exactly identical (initializing a BertForSequenceClassification model from a BertForSequenceClassification model).\n",
      "/opt/conda/lib/python3.7/site-packages/transformers/optimization.py:395: FutureWarning: This implementation of AdamW is deprecated and will be removed in a future version. Use the PyTorch implementation torch.optim.AdamW instead, or set `no_deprecation_warning=True` to disable this warning\n",
      "  FutureWarning,\n"
     ]
    },
    {
     "name": "stdout",
     "output_type": "stream",
     "text": [
      "Start training...\n",
      "\n",
      " Epoch  |  Batch  |  Train Loss  |  Val Loss  | Val Precision | Val Recall |  Val F1   |  Elapsed \n",
      "----------------------------------------------------------------------------------------------------\n",
      "   1    |   20    |   0.700611   |     -      |       -       |     -      |     -     | 38.010678\n",
      "   1    |   40    |   0.689385   |     -      |       -       |     -      |     -     | 35.707331\n",
      "   1    |   60    |   0.685706   |     -      |       -       |     -      |     -     | 35.717090\n",
      "   1    |   80    |   0.701629   |     -      |       -       |     -      |     -     | 35.876333\n",
      "   1    |   94    |   0.692564   |     -      |       -       |     -      |     -     | 24.366034\n",
      "----------------------------------------------------------------------------------------------------\n",
      "----------------------------------------------------------------------------------------------------\n",
      "   1    |    -    |   0.694138   |  0.670962  |   0.538462    |    0.54    |   0.54    |  190.42  \n",
      "----------------------------------------------------------------------------------------------------\n",
      "\n",
      "\n",
      " Epoch  |  Batch  |  Train Loss  |  Val Loss  | Val Precision | Val Recall |  Val F1   |  Elapsed \n",
      "----------------------------------------------------------------------------------------------------\n",
      "   2    |   20    |   0.681165   |     -      |       -       |     -      |     -     | 37.396031\n",
      "   2    |   40    |   0.686554   |     -      |       -       |     -      |     -     | 35.620993\n",
      "   2    |   60    |   0.679376   |     -      |       -       |     -      |     -     | 35.640275\n",
      "   2    |   80    |   0.688873   |     -      |       -       |     -      |     -     | 36.205348\n",
      "   2    |   94    |   0.696833   |     -      |       -       |     -      |     -     | 24.393585\n",
      "----------------------------------------------------------------------------------------------------\n",
      "----------------------------------------------------------------------------------------------------\n",
      "   2    |    -    |   0.685855   |  0.658802  |   0.615385    |    0.62    |   0.62    |  190.14  \n",
      "----------------------------------------------------------------------------------------------------\n",
      "\n",
      "\n",
      " Epoch  |  Batch  |  Train Loss  |  Val Loss  | Val Precision | Val Recall |  Val F1   |  Elapsed \n",
      "----------------------------------------------------------------------------------------------------\n",
      "   3    |   20    |   0.678576   |     -      |       -       |     -      |     -     | 37.396161\n",
      "   3    |   40    |   0.675714   |     -      |       -       |     -      |     -     | 35.495811\n",
      "   3    |   60    |   0.681303   |     -      |       -       |     -      |     -     | 35.642663\n",
      "   3    |   80    |   0.674503   |     -      |       -       |     -      |     -     | 36.473135\n",
      "   3    |   94    |   0.674247   |     -      |       -       |     -      |     -     | 24.435594\n",
      "----------------------------------------------------------------------------------------------------\n",
      "----------------------------------------------------------------------------------------------------\n",
      "   3    |    -    |   0.677052   |  0.650324  |   0.615385    |    0.62    |   0.62    |  190.15  \n",
      "----------------------------------------------------------------------------------------------------\n",
      "\n",
      "\n",
      " Epoch  |  Batch  |  Train Loss  |  Val Loss  | Val Precision | Val Recall |  Val F1   |  Elapsed \n",
      "----------------------------------------------------------------------------------------------------\n",
      "   4    |   20    |   0.668090   |     -      |       -       |     -      |     -     | 37.464192\n",
      "   4    |   40    |   0.670343   |     -      |       -       |     -      |     -     | 35.657532\n",
      "   4    |   60    |   0.674598   |     -      |       -       |     -      |     -     | 35.676890\n",
      "   4    |   80    |   0.677002   |     -      |       -       |     -      |     -     | 35.999619\n",
      "   4    |   94    |   0.673902   |     -      |       -       |     -      |     -     | 24.285575\n",
      "----------------------------------------------------------------------------------------------------\n",
      "----------------------------------------------------------------------------------------------------\n",
      "   4    |    -    |   0.672667   |  0.645680  |   0.615385    |    0.62    |   0.62    |  189.98  \n",
      "----------------------------------------------------------------------------------------------------\n",
      "\n",
      "\n",
      " Epoch  |  Batch  |  Train Loss  |  Val Loss  | Val Precision | Val Recall |  Val F1   |  Elapsed \n",
      "----------------------------------------------------------------------------------------------------\n",
      "   5    |   20    |   0.673247   |     -      |       -       |     -      |     -     | 37.532677\n",
      "   5    |   40    |   0.659879   |     -      |       -       |     -      |     -     | 35.752001\n",
      "   5    |   60    |   0.671799   |     -      |       -       |     -      |     -     | 35.801042\n",
      "   5    |   80    |   0.667318   |     -      |       -       |     -      |     -     | 36.254664\n",
      "   5    |   94    |   0.677398   |     -      |       -       |     -      |     -     | 24.381989\n",
      "----------------------------------------------------------------------------------------------------\n",
      "----------------------------------------------------------------------------------------------------\n",
      "   5    |    -    |   0.669491   |  0.644167  |   0.692308    |    0.69    |   0.69    |  190.38  \n",
      "----------------------------------------------------------------------------------------------------\n",
      "\n",
      "\n",
      "Training complete!\n",
      "Saving model to /kaggle/working/\n"
     ]
    }
   ],
   "source": [
    "set_seed(42)\n",
    "bert_classifier, optimizer, scheduler = initialize_model(epochs=5)\n",
    "train(bert_classifier, train_dataloader, validation_dataloader, epochs=5, evaluation=True)"
   ]
  },
  {
   "cell_type": "code",
   "execution_count": 23,
   "id": "7d08bceb",
   "metadata": {
    "execution": {
     "iopub.execute_input": "2023-06-09T18:41:27.041251Z",
     "iopub.status.busy": "2023-06-09T18:41:27.040029Z",
     "iopub.status.idle": "2023-06-09T18:41:27.056028Z",
     "shell.execute_reply": "2023-06-09T18:41:27.054595Z"
    },
    "papermill": {
     "duration": 0.034432,
     "end_time": "2023-06-09T18:41:27.059119",
     "exception": false,
     "start_time": "2023-06-09T18:41:27.024687",
     "status": "completed"
    },
    "tags": []
   },
   "outputs": [
    {
     "data": {
      "text/plain": [
       "(191, 1)"
      ]
     },
     "execution_count": 23,
     "metadata": {},
     "output_type": "execute_result"
    }
   ],
   "source": [
    "test_labels = np.array([])\n",
    "for i, data in enumerate(test_dataloader):\n",
    "    test_labels = np.append(test_labels, data[2].numpy())\n",
    "test_labels = test_labels.reshape(191,1)\n",
    "test_labels.shape"
   ]
  },
  {
   "cell_type": "code",
   "execution_count": 24,
   "id": "ff683e41",
   "metadata": {
    "execution": {
     "iopub.execute_input": "2023-06-09T18:41:27.089774Z",
     "iopub.status.busy": "2023-06-09T18:41:27.089308Z",
     "iopub.status.idle": "2023-06-09T18:41:48.347754Z",
     "shell.execute_reply": "2023-06-09T18:41:48.346429Z"
    },
    "papermill": {
     "duration": 21.280316,
     "end_time": "2023-06-09T18:41:48.353795",
     "exception": false,
     "start_time": "2023-06-09T18:41:27.073479",
     "status": "completed"
    },
    "tags": []
   },
   "outputs": [
    {
     "name": "stdout",
     "output_type": "stream",
     "text": [
      "Precision: 0.7975\n",
      "Recall: 0.6562\n",
      "F1: 0.7200\n"
     ]
    }
   ],
   "source": [
    "probs = bert_predict(bert_classifier, test_dataloader)\n",
    "\n",
    "# Get predictions from the probabilities\n",
    "threshold = 0.5\n",
    "preds = np.where(probs > threshold, 1, 0)\n",
    "\n",
    "results = calculate_metrics(pred = preds,target = test_labels.astype(\"int\"))\n",
    "print(f'Precision: {results[\"precision\"]:.4f}')\n",
    "print(f'Recall: {results[\"recall\"]:.4f}')\n",
    "print(f'F1: {results[\"f1\"]:.4f}')\n",
    "\n",
    "\n",
    "csvFile = open('tweets-binary-prediction-results-v3.csv', 'w')\n",
    "csvWriter = csv.writer(csvFile)\n",
    "for i in preds:\n",
    "    csvWriter.writerow(i)\n",
    "csvFile.close()\n"
   ]
  }
 ],
 "metadata": {
  "kernelspec": {
   "display_name": "Python 3",
   "language": "python",
   "name": "python3"
  },
  "language_info": {
   "codemirror_mode": {
    "name": "ipython",
    "version": 3
   },
   "file_extension": ".py",
   "mimetype": "text/x-python",
   "name": "python",
   "nbconvert_exporter": "python",
   "pygments_lexer": "ipython3",
   "version": "3.7.12"
  },
  "papermill": {
   "default_parameters": {},
   "duration": 1055.327419,
   "end_time": "2023-06-09T18:41:51.958485",
   "environment_variables": {},
   "exception": null,
   "input_path": "__notebook__.ipynb",
   "output_path": "__notebook__.ipynb",
   "parameters": {},
   "start_time": "2023-06-09T18:24:16.631066",
   "version": "2.4.0"
  },
  "widgets": {
   "application/vnd.jupyter.widget-state+json": {
    "state": {
     "037a919e0b8a403bb3d549a4f1032764": {
      "model_module": "@jupyter-widgets/controls",
      "model_module_version": "1.5.0",
      "model_name": "HTMLModel",
      "state": {
       "_dom_classes": [],
       "_model_module": "@jupyter-widgets/controls",
       "_model_module_version": "1.5.0",
       "_model_name": "HTMLModel",
       "_view_count": null,
       "_view_module": "@jupyter-widgets/controls",
       "_view_module_version": "1.5.0",
       "_view_name": "HTMLView",
       "description": "",
       "description_tooltip": null,
       "layout": "IPY_MODEL_d95268fd465d4049bc2f4beb270985c8",
       "placeholder": "​",
       "style": "IPY_MODEL_62a3391ced1f4e14b3c3d5fb92b256ad",
       "value": " 996k/996k [00:00&lt;00:00, 3.93MB/s]"
      }
     },
     "0ceb6dbbc2c84771aa0e6841ab24ff31": {
      "model_module": "@jupyter-widgets/base",
      "model_module_version": "1.2.0",
      "model_name": "LayoutModel",
      "state": {
       "_model_module": "@jupyter-widgets/base",
       "_model_module_version": "1.2.0",
       "_model_name": "LayoutModel",
       "_view_count": null,
       "_view_module": "@jupyter-widgets/base",
       "_view_module_version": "1.2.0",
       "_view_name": "LayoutView",
       "align_content": null,
       "align_items": null,
       "align_self": null,
       "border": null,
       "bottom": null,
       "display": null,
       "flex": null,
       "flex_flow": null,
       "grid_area": null,
       "grid_auto_columns": null,
       "grid_auto_flow": null,
       "grid_auto_rows": null,
       "grid_column": null,
       "grid_gap": null,
       "grid_row": null,
       "grid_template_areas": null,
       "grid_template_columns": null,
       "grid_template_rows": null,
       "height": null,
       "justify_content": null,
       "justify_items": null,
       "left": null,
       "margin": null,
       "max_height": null,
       "max_width": null,
       "min_height": null,
       "min_width": null,
       "object_fit": null,
       "object_position": null,
       "order": null,
       "overflow": null,
       "overflow_x": null,
       "overflow_y": null,
       "padding": null,
       "right": null,
       "top": null,
       "visibility": null,
       "width": null
      }
     },
     "195874e9ca5f4762b497125d9c9fa694": {
      "model_module": "@jupyter-widgets/controls",
      "model_module_version": "1.5.0",
      "model_name": "DescriptionStyleModel",
      "state": {
       "_model_module": "@jupyter-widgets/controls",
       "_model_module_version": "1.5.0",
       "_model_name": "DescriptionStyleModel",
       "_view_count": null,
       "_view_module": "@jupyter-widgets/base",
       "_view_module_version": "1.2.0",
       "_view_name": "StyleView",
       "description_width": ""
      }
     },
     "1eb05b4897ac4885a620b65c7a28615a": {
      "model_module": "@jupyter-widgets/controls",
      "model_module_version": "1.5.0",
      "model_name": "FloatProgressModel",
      "state": {
       "_dom_classes": [],
       "_model_module": "@jupyter-widgets/controls",
       "_model_module_version": "1.5.0",
       "_model_name": "FloatProgressModel",
       "_view_count": null,
       "_view_module": "@jupyter-widgets/controls",
       "_view_module_version": "1.5.0",
       "_view_name": "ProgressView",
       "bar_style": "success",
       "description": "",
       "description_tooltip": null,
       "layout": "IPY_MODEL_f3d0da1c42164f60b1281bb86bdc59a5",
       "max": 625.0,
       "min": 0.0,
       "orientation": "horizontal",
       "style": "IPY_MODEL_a08f6ba584124127956c1a236503295d",
       "value": 625.0
      }
     },
     "2022ee32abfb4875a1364079662d9f32": {
      "model_module": "@jupyter-widgets/controls",
      "model_module_version": "1.5.0",
      "model_name": "DescriptionStyleModel",
      "state": {
       "_model_module": "@jupyter-widgets/controls",
       "_model_module_version": "1.5.0",
       "_model_name": "DescriptionStyleModel",
       "_view_count": null,
       "_view_module": "@jupyter-widgets/base",
       "_view_module_version": "1.2.0",
       "_view_name": "StyleView",
       "description_width": ""
      }
     },
     "23dba9b1cc37496091a86731341f9def": {
      "model_module": "@jupyter-widgets/controls",
      "model_module_version": "1.5.0",
      "model_name": "HBoxModel",
      "state": {
       "_dom_classes": [],
       "_model_module": "@jupyter-widgets/controls",
       "_model_module_version": "1.5.0",
       "_model_name": "HBoxModel",
       "_view_count": null,
       "_view_module": "@jupyter-widgets/controls",
       "_view_module_version": "1.5.0",
       "_view_name": "HBoxView",
       "box_style": "",
       "children": [
        "IPY_MODEL_850afb77667c46cfbb63f58e99c63b95",
        "IPY_MODEL_1eb05b4897ac4885a620b65c7a28615a",
        "IPY_MODEL_e0c73e5956e64549988ac597677fbd66"
       ],
       "layout": "IPY_MODEL_50dfa3732f314e959cd87ab350e48ce5"
      }
     },
     "46e6b966fc914fe9aaeb0c46d38df4e6": {
      "model_module": "@jupyter-widgets/base",
      "model_module_version": "1.2.0",
      "model_name": "LayoutModel",
      "state": {
       "_model_module": "@jupyter-widgets/base",
       "_model_module_version": "1.2.0",
       "_model_name": "LayoutModel",
       "_view_count": null,
       "_view_module": "@jupyter-widgets/base",
       "_view_module_version": "1.2.0",
       "_view_name": "LayoutView",
       "align_content": null,
       "align_items": null,
       "align_self": null,
       "border": null,
       "bottom": null,
       "display": null,
       "flex": null,
       "flex_flow": null,
       "grid_area": null,
       "grid_auto_columns": null,
       "grid_auto_flow": null,
       "grid_auto_rows": null,
       "grid_column": null,
       "grid_gap": null,
       "grid_row": null,
       "grid_template_areas": null,
       "grid_template_columns": null,
       "grid_template_rows": null,
       "height": null,
       "justify_content": null,
       "justify_items": null,
       "left": null,
       "margin": null,
       "max_height": null,
       "max_width": null,
       "min_height": null,
       "min_width": null,
       "object_fit": null,
       "object_position": null,
       "order": null,
       "overflow": null,
       "overflow_x": null,
       "overflow_y": null,
       "padding": null,
       "right": null,
       "top": null,
       "visibility": null,
       "width": null
      }
     },
     "48d28cec64964996abe3a787ca28b87c": {
      "model_module": "@jupyter-widgets/controls",
      "model_module_version": "1.5.0",
      "model_name": "DescriptionStyleModel",
      "state": {
       "_model_module": "@jupyter-widgets/controls",
       "_model_module_version": "1.5.0",
       "_model_name": "DescriptionStyleModel",
       "_view_count": null,
       "_view_module": "@jupyter-widgets/base",
       "_view_module_version": "1.2.0",
       "_view_name": "StyleView",
       "description_width": ""
      }
     },
     "4b1f670efabf41f4a3e22ccea85bad5d": {
      "model_module": "@jupyter-widgets/base",
      "model_module_version": "1.2.0",
      "model_name": "LayoutModel",
      "state": {
       "_model_module": "@jupyter-widgets/base",
       "_model_module_version": "1.2.0",
       "_model_name": "LayoutModel",
       "_view_count": null,
       "_view_module": "@jupyter-widgets/base",
       "_view_module_version": "1.2.0",
       "_view_name": "LayoutView",
       "align_content": null,
       "align_items": null,
       "align_self": null,
       "border": null,
       "bottom": null,
       "display": null,
       "flex": null,
       "flex_flow": null,
       "grid_area": null,
       "grid_auto_columns": null,
       "grid_auto_flow": null,
       "grid_auto_rows": null,
       "grid_column": null,
       "grid_gap": null,
       "grid_row": null,
       "grid_template_areas": null,
       "grid_template_columns": null,
       "grid_template_rows": null,
       "height": null,
       "justify_content": null,
       "justify_items": null,
       "left": null,
       "margin": null,
       "max_height": null,
       "max_width": null,
       "min_height": null,
       "min_width": null,
       "object_fit": null,
       "object_position": null,
       "order": null,
       "overflow": null,
       "overflow_x": null,
       "overflow_y": null,
       "padding": null,
       "right": null,
       "top": null,
       "visibility": null,
       "width": null
      }
     },
     "4e4db431b09a43b8a4d2834decd5620f": {
      "model_module": "@jupyter-widgets/controls",
      "model_module_version": "1.5.0",
      "model_name": "FloatProgressModel",
      "state": {
       "_dom_classes": [],
       "_model_module": "@jupyter-widgets/controls",
       "_model_module_version": "1.5.0",
       "_model_name": "FloatProgressModel",
       "_view_count": null,
       "_view_module": "@jupyter-widgets/controls",
       "_view_module_version": "1.5.0",
       "_view_name": "ProgressView",
       "bar_style": "success",
       "description": "",
       "description_tooltip": null,
       "layout": "IPY_MODEL_46e6b966fc914fe9aaeb0c46d38df4e6",
       "max": 995526.0,
       "min": 0.0,
       "orientation": "horizontal",
       "style": "IPY_MODEL_801a4d71a4b64bbe9c3b86086b8c3788",
       "value": 995526.0
      }
     },
     "50dfa3732f314e959cd87ab350e48ce5": {
      "model_module": "@jupyter-widgets/base",
      "model_module_version": "1.2.0",
      "model_name": "LayoutModel",
      "state": {
       "_model_module": "@jupyter-widgets/base",
       "_model_module_version": "1.2.0",
       "_model_name": "LayoutModel",
       "_view_count": null,
       "_view_module": "@jupyter-widgets/base",
       "_view_module_version": "1.2.0",
       "_view_name": "LayoutView",
       "align_content": null,
       "align_items": null,
       "align_self": null,
       "border": null,
       "bottom": null,
       "display": null,
       "flex": null,
       "flex_flow": null,
       "grid_area": null,
       "grid_auto_columns": null,
       "grid_auto_flow": null,
       "grid_auto_rows": null,
       "grid_column": null,
       "grid_gap": null,
       "grid_row": null,
       "grid_template_areas": null,
       "grid_template_columns": null,
       "grid_template_rows": null,
       "height": null,
       "justify_content": null,
       "justify_items": null,
       "left": null,
       "margin": null,
       "max_height": null,
       "max_width": null,
       "min_height": null,
       "min_width": null,
       "object_fit": null,
       "object_position": null,
       "order": null,
       "overflow": null,
       "overflow_x": null,
       "overflow_y": null,
       "padding": null,
       "right": null,
       "top": null,
       "visibility": null,
       "width": null
      }
     },
     "5581cee4589c45419f0080107dc57b37": {
      "model_module": "@jupyter-widgets/base",
      "model_module_version": "1.2.0",
      "model_name": "LayoutModel",
      "state": {
       "_model_module": "@jupyter-widgets/base",
       "_model_module_version": "1.2.0",
       "_model_name": "LayoutModel",
       "_view_count": null,
       "_view_module": "@jupyter-widgets/base",
       "_view_module_version": "1.2.0",
       "_view_name": "LayoutView",
       "align_content": null,
       "align_items": null,
       "align_self": null,
       "border": null,
       "bottom": null,
       "display": null,
       "flex": null,
       "flex_flow": null,
       "grid_area": null,
       "grid_auto_columns": null,
       "grid_auto_flow": null,
       "grid_auto_rows": null,
       "grid_column": null,
       "grid_gap": null,
       "grid_row": null,
       "grid_template_areas": null,
       "grid_template_columns": null,
       "grid_template_rows": null,
       "height": null,
       "justify_content": null,
       "justify_items": null,
       "left": null,
       "margin": null,
       "max_height": null,
       "max_width": null,
       "min_height": null,
       "min_width": null,
       "object_fit": null,
       "object_position": null,
       "order": null,
       "overflow": null,
       "overflow_x": null,
       "overflow_y": null,
       "padding": null,
       "right": null,
       "top": null,
       "visibility": null,
       "width": null
      }
     },
     "567cf4f1938e4be881ad2aaca91e4683": {
      "model_module": "@jupyter-widgets/controls",
      "model_module_version": "1.5.0",
      "model_name": "HBoxModel",
      "state": {
       "_dom_classes": [],
       "_model_module": "@jupyter-widgets/controls",
       "_model_module_version": "1.5.0",
       "_model_name": "HBoxModel",
       "_view_count": null,
       "_view_module": "@jupyter-widgets/controls",
       "_view_module_version": "1.5.0",
       "_view_name": "HBoxView",
       "box_style": "",
       "children": [
        "IPY_MODEL_56fda653882c48db885d5c5f9bb64954",
        "IPY_MODEL_644d6f4f5c364f959e2ced6ed4d25406",
        "IPY_MODEL_ede00f46f2964b1197cdf9785a61232e"
       ],
       "layout": "IPY_MODEL_5581cee4589c45419f0080107dc57b37"
      }
     },
     "56fb0586e47245fbb1367cc037965e0e": {
      "model_module": "@jupyter-widgets/controls",
      "model_module_version": "1.5.0",
      "model_name": "FloatProgressModel",
      "state": {
       "_dom_classes": [],
       "_model_module": "@jupyter-widgets/controls",
       "_model_module_version": "1.5.0",
       "_model_name": "FloatProgressModel",
       "_view_count": null,
       "_view_module": "@jupyter-widgets/controls",
       "_view_module_version": "1.5.0",
       "_view_name": "ProgressView",
       "bar_style": "success",
       "description": "",
       "description_tooltip": null,
       "layout": "IPY_MODEL_a97a510e456b489cbf1118ea2bfe94d9",
       "max": 29.0,
       "min": 0.0,
       "orientation": "horizontal",
       "style": "IPY_MODEL_f82f09e0915d4b7d86e7eef59692d254",
       "value": 29.0
      }
     },
     "56fda653882c48db885d5c5f9bb64954": {
      "model_module": "@jupyter-widgets/controls",
      "model_module_version": "1.5.0",
      "model_name": "HTMLModel",
      "state": {
       "_dom_classes": [],
       "_model_module": "@jupyter-widgets/controls",
       "_model_module_version": "1.5.0",
       "_model_name": "HTMLModel",
       "_view_count": null,
       "_view_module": "@jupyter-widgets/controls",
       "_view_module_version": "1.5.0",
       "_view_name": "HTMLView",
       "description": "",
       "description_tooltip": null,
       "layout": "IPY_MODEL_0ceb6dbbc2c84771aa0e6841ab24ff31",
       "placeholder": "​",
       "style": "IPY_MODEL_cc367064b4bd4b0fb4e43f9272d04197",
       "value": "Downloading pytorch_model.bin: 100%"
      }
     },
     "5aa670adef6141a19cf1ecec94274fe9": {
      "model_module": "@jupyter-widgets/controls",
      "model_module_version": "1.5.0",
      "model_name": "DescriptionStyleModel",
      "state": {
       "_model_module": "@jupyter-widgets/controls",
       "_model_module_version": "1.5.0",
       "_model_name": "DescriptionStyleModel",
       "_view_count": null,
       "_view_module": "@jupyter-widgets/base",
       "_view_module_version": "1.2.0",
       "_view_name": "StyleView",
       "description_width": ""
      }
     },
     "5fa534eb72e3410ca0f36db6e56e1fe4": {
      "model_module": "@jupyter-widgets/controls",
      "model_module_version": "1.5.0",
      "model_name": "HBoxModel",
      "state": {
       "_dom_classes": [],
       "_model_module": "@jupyter-widgets/controls",
       "_model_module_version": "1.5.0",
       "_model_name": "HBoxModel",
       "_view_count": null,
       "_view_module": "@jupyter-widgets/controls",
       "_view_module_version": "1.5.0",
       "_view_name": "HBoxView",
       "box_style": "",
       "children": [
        "IPY_MODEL_616186f590fc4448843ba68533df579a",
        "IPY_MODEL_4e4db431b09a43b8a4d2834decd5620f",
        "IPY_MODEL_037a919e0b8a403bb3d549a4f1032764"
       ],
       "layout": "IPY_MODEL_ab439ec1e7264f1bb536905988f234cb"
      }
     },
     "61135e87e59e4ade97bc72f89dd5bde4": {
      "model_module": "@jupyter-widgets/controls",
      "model_module_version": "1.5.0",
      "model_name": "HTMLModel",
      "state": {
       "_dom_classes": [],
       "_model_module": "@jupyter-widgets/controls",
       "_model_module_version": "1.5.0",
       "_model_name": "HTMLModel",
       "_view_count": null,
       "_view_module": "@jupyter-widgets/controls",
       "_view_module_version": "1.5.0",
       "_view_name": "HTMLView",
       "description": "",
       "description_tooltip": null,
       "layout": "IPY_MODEL_87366bfddd6c49cb90d28a7afe27bf01",
       "placeholder": "​",
       "style": "IPY_MODEL_195874e9ca5f4762b497125d9c9fa694",
       "value": "Downloading (…)okenizer_config.json: 100%"
      }
     },
     "616186f590fc4448843ba68533df579a": {
      "model_module": "@jupyter-widgets/controls",
      "model_module_version": "1.5.0",
      "model_name": "HTMLModel",
      "state": {
       "_dom_classes": [],
       "_model_module": "@jupyter-widgets/controls",
       "_model_module_version": "1.5.0",
       "_model_name": "HTMLModel",
       "_view_count": null,
       "_view_module": "@jupyter-widgets/controls",
       "_view_module_version": "1.5.0",
       "_view_name": "HTMLView",
       "description": "",
       "description_tooltip": null,
       "layout": "IPY_MODEL_bf7c8bb1c212489f958c683db09a7326",
       "placeholder": "​",
       "style": "IPY_MODEL_2022ee32abfb4875a1364079662d9f32",
       "value": "Downloading (…)solve/main/vocab.txt: 100%"
      }
     },
     "62a3391ced1f4e14b3c3d5fb92b256ad": {
      "model_module": "@jupyter-widgets/controls",
      "model_module_version": "1.5.0",
      "model_name": "DescriptionStyleModel",
      "state": {
       "_model_module": "@jupyter-widgets/controls",
       "_model_module_version": "1.5.0",
       "_model_name": "DescriptionStyleModel",
       "_view_count": null,
       "_view_module": "@jupyter-widgets/base",
       "_view_module_version": "1.2.0",
       "_view_name": "StyleView",
       "description_width": ""
      }
     },
     "644d6f4f5c364f959e2ced6ed4d25406": {
      "model_module": "@jupyter-widgets/controls",
      "model_module_version": "1.5.0",
      "model_name": "FloatProgressModel",
      "state": {
       "_dom_classes": [],
       "_model_module": "@jupyter-widgets/controls",
       "_model_module_version": "1.5.0",
       "_model_name": "FloatProgressModel",
       "_view_count": null,
       "_view_module": "@jupyter-widgets/controls",
       "_view_module_version": "1.5.0",
       "_view_name": "ProgressView",
       "bar_style": "success",
       "description": "",
       "description_tooltip": null,
       "layout": "IPY_MODEL_eec843d150434da884d508caa5d70b69",
       "max": 714314041.0,
       "min": 0.0,
       "orientation": "horizontal",
       "style": "IPY_MODEL_f408beb51dc14695b989292a4b0eb99c",
       "value": 714314041.0
      }
     },
     "67f17a24819d4505b1b0dd8bc9d6d26d": {
      "model_module": "@jupyter-widgets/controls",
      "model_module_version": "1.5.0",
      "model_name": "HTMLModel",
      "state": {
       "_dom_classes": [],
       "_model_module": "@jupyter-widgets/controls",
       "_model_module_version": "1.5.0",
       "_model_name": "HTMLModel",
       "_view_count": null,
       "_view_module": "@jupyter-widgets/controls",
       "_view_module_version": "1.5.0",
       "_view_name": "HTMLView",
       "description": "",
       "description_tooltip": null,
       "layout": "IPY_MODEL_91709cc6c2374fbeac2d3e3ae5969314",
       "placeholder": "​",
       "style": "IPY_MODEL_48d28cec64964996abe3a787ca28b87c",
       "value": " 29.0/29.0 [00:00&lt;00:00, 1.05kB/s]"
      }
     },
     "6e49a6841a054d2781925a4badc2083b": {
      "model_module": "@jupyter-widgets/controls",
      "model_module_version": "1.5.0",
      "model_name": "HBoxModel",
      "state": {
       "_dom_classes": [],
       "_model_module": "@jupyter-widgets/controls",
       "_model_module_version": "1.5.0",
       "_model_name": "HBoxModel",
       "_view_count": null,
       "_view_module": "@jupyter-widgets/controls",
       "_view_module_version": "1.5.0",
       "_view_name": "HBoxView",
       "box_style": "",
       "children": [
        "IPY_MODEL_61135e87e59e4ade97bc72f89dd5bde4",
        "IPY_MODEL_56fb0586e47245fbb1367cc037965e0e",
        "IPY_MODEL_67f17a24819d4505b1b0dd8bc9d6d26d"
       ],
       "layout": "IPY_MODEL_4b1f670efabf41f4a3e22ccea85bad5d"
      }
     },
     "801a4d71a4b64bbe9c3b86086b8c3788": {
      "model_module": "@jupyter-widgets/controls",
      "model_module_version": "1.5.0",
      "model_name": "ProgressStyleModel",
      "state": {
       "_model_module": "@jupyter-widgets/controls",
       "_model_module_version": "1.5.0",
       "_model_name": "ProgressStyleModel",
       "_view_count": null,
       "_view_module": "@jupyter-widgets/base",
       "_view_module_version": "1.2.0",
       "_view_name": "StyleView",
       "bar_color": null,
       "description_width": ""
      }
     },
     "850afb77667c46cfbb63f58e99c63b95": {
      "model_module": "@jupyter-widgets/controls",
      "model_module_version": "1.5.0",
      "model_name": "HTMLModel",
      "state": {
       "_dom_classes": [],
       "_model_module": "@jupyter-widgets/controls",
       "_model_module_version": "1.5.0",
       "_model_name": "HTMLModel",
       "_view_count": null,
       "_view_module": "@jupyter-widgets/controls",
       "_view_module_version": "1.5.0",
       "_view_name": "HTMLView",
       "description": "",
       "description_tooltip": null,
       "layout": "IPY_MODEL_ebdfc136fdf042a1936272434d9a30cc",
       "placeholder": "​",
       "style": "IPY_MODEL_5aa670adef6141a19cf1ecec94274fe9",
       "value": "Downloading (…)lve/main/config.json: 100%"
      }
     },
     "87366bfddd6c49cb90d28a7afe27bf01": {
      "model_module": "@jupyter-widgets/base",
      "model_module_version": "1.2.0",
      "model_name": "LayoutModel",
      "state": {
       "_model_module": "@jupyter-widgets/base",
       "_model_module_version": "1.2.0",
       "_model_name": "LayoutModel",
       "_view_count": null,
       "_view_module": "@jupyter-widgets/base",
       "_view_module_version": "1.2.0",
       "_view_name": "LayoutView",
       "align_content": null,
       "align_items": null,
       "align_self": null,
       "border": null,
       "bottom": null,
       "display": null,
       "flex": null,
       "flex_flow": null,
       "grid_area": null,
       "grid_auto_columns": null,
       "grid_auto_flow": null,
       "grid_auto_rows": null,
       "grid_column": null,
       "grid_gap": null,
       "grid_row": null,
       "grid_template_areas": null,
       "grid_template_columns": null,
       "grid_template_rows": null,
       "height": null,
       "justify_content": null,
       "justify_items": null,
       "left": null,
       "margin": null,
       "max_height": null,
       "max_width": null,
       "min_height": null,
       "min_width": null,
       "object_fit": null,
       "object_position": null,
       "order": null,
       "overflow": null,
       "overflow_x": null,
       "overflow_y": null,
       "padding": null,
       "right": null,
       "top": null,
       "visibility": null,
       "width": null
      }
     },
     "8ca09b0ecdb34ac891fa2a560f81219c": {
      "model_module": "@jupyter-widgets/base",
      "model_module_version": "1.2.0",
      "model_name": "LayoutModel",
      "state": {
       "_model_module": "@jupyter-widgets/base",
       "_model_module_version": "1.2.0",
       "_model_name": "LayoutModel",
       "_view_count": null,
       "_view_module": "@jupyter-widgets/base",
       "_view_module_version": "1.2.0",
       "_view_name": "LayoutView",
       "align_content": null,
       "align_items": null,
       "align_self": null,
       "border": null,
       "bottom": null,
       "display": null,
       "flex": null,
       "flex_flow": null,
       "grid_area": null,
       "grid_auto_columns": null,
       "grid_auto_flow": null,
       "grid_auto_rows": null,
       "grid_column": null,
       "grid_gap": null,
       "grid_row": null,
       "grid_template_areas": null,
       "grid_template_columns": null,
       "grid_template_rows": null,
       "height": null,
       "justify_content": null,
       "justify_items": null,
       "left": null,
       "margin": null,
       "max_height": null,
       "max_width": null,
       "min_height": null,
       "min_width": null,
       "object_fit": null,
       "object_position": null,
       "order": null,
       "overflow": null,
       "overflow_x": null,
       "overflow_y": null,
       "padding": null,
       "right": null,
       "top": null,
       "visibility": null,
       "width": null
      }
     },
     "91709cc6c2374fbeac2d3e3ae5969314": {
      "model_module": "@jupyter-widgets/base",
      "model_module_version": "1.2.0",
      "model_name": "LayoutModel",
      "state": {
       "_model_module": "@jupyter-widgets/base",
       "_model_module_version": "1.2.0",
       "_model_name": "LayoutModel",
       "_view_count": null,
       "_view_module": "@jupyter-widgets/base",
       "_view_module_version": "1.2.0",
       "_view_name": "LayoutView",
       "align_content": null,
       "align_items": null,
       "align_self": null,
       "border": null,
       "bottom": null,
       "display": null,
       "flex": null,
       "flex_flow": null,
       "grid_area": null,
       "grid_auto_columns": null,
       "grid_auto_flow": null,
       "grid_auto_rows": null,
       "grid_column": null,
       "grid_gap": null,
       "grid_row": null,
       "grid_template_areas": null,
       "grid_template_columns": null,
       "grid_template_rows": null,
       "height": null,
       "justify_content": null,
       "justify_items": null,
       "left": null,
       "margin": null,
       "max_height": null,
       "max_width": null,
       "min_height": null,
       "min_width": null,
       "object_fit": null,
       "object_position": null,
       "order": null,
       "overflow": null,
       "overflow_x": null,
       "overflow_y": null,
       "padding": null,
       "right": null,
       "top": null,
       "visibility": null,
       "width": null
      }
     },
     "9642e40219534c9393bb5b1962d1a16a": {
      "model_module": "@jupyter-widgets/controls",
      "model_module_version": "1.5.0",
      "model_name": "DescriptionStyleModel",
      "state": {
       "_model_module": "@jupyter-widgets/controls",
       "_model_module_version": "1.5.0",
       "_model_name": "DescriptionStyleModel",
       "_view_count": null,
       "_view_module": "@jupyter-widgets/base",
       "_view_module_version": "1.2.0",
       "_view_name": "StyleView",
       "description_width": ""
      }
     },
     "a08f6ba584124127956c1a236503295d": {
      "model_module": "@jupyter-widgets/controls",
      "model_module_version": "1.5.0",
      "model_name": "ProgressStyleModel",
      "state": {
       "_model_module": "@jupyter-widgets/controls",
       "_model_module_version": "1.5.0",
       "_model_name": "ProgressStyleModel",
       "_view_count": null,
       "_view_module": "@jupyter-widgets/base",
       "_view_module_version": "1.2.0",
       "_view_name": "StyleView",
       "bar_color": null,
       "description_width": ""
      }
     },
     "a97a510e456b489cbf1118ea2bfe94d9": {
      "model_module": "@jupyter-widgets/base",
      "model_module_version": "1.2.0",
      "model_name": "LayoutModel",
      "state": {
       "_model_module": "@jupyter-widgets/base",
       "_model_module_version": "1.2.0",
       "_model_name": "LayoutModel",
       "_view_count": null,
       "_view_module": "@jupyter-widgets/base",
       "_view_module_version": "1.2.0",
       "_view_name": "LayoutView",
       "align_content": null,
       "align_items": null,
       "align_self": null,
       "border": null,
       "bottom": null,
       "display": null,
       "flex": null,
       "flex_flow": null,
       "grid_area": null,
       "grid_auto_columns": null,
       "grid_auto_flow": null,
       "grid_auto_rows": null,
       "grid_column": null,
       "grid_gap": null,
       "grid_row": null,
       "grid_template_areas": null,
       "grid_template_columns": null,
       "grid_template_rows": null,
       "height": null,
       "justify_content": null,
       "justify_items": null,
       "left": null,
       "margin": null,
       "max_height": null,
       "max_width": null,
       "min_height": null,
       "min_width": null,
       "object_fit": null,
       "object_position": null,
       "order": null,
       "overflow": null,
       "overflow_x": null,
       "overflow_y": null,
       "padding": null,
       "right": null,
       "top": null,
       "visibility": null,
       "width": null
      }
     },
     "ab439ec1e7264f1bb536905988f234cb": {
      "model_module": "@jupyter-widgets/base",
      "model_module_version": "1.2.0",
      "model_name": "LayoutModel",
      "state": {
       "_model_module": "@jupyter-widgets/base",
       "_model_module_version": "1.2.0",
       "_model_name": "LayoutModel",
       "_view_count": null,
       "_view_module": "@jupyter-widgets/base",
       "_view_module_version": "1.2.0",
       "_view_name": "LayoutView",
       "align_content": null,
       "align_items": null,
       "align_self": null,
       "border": null,
       "bottom": null,
       "display": null,
       "flex": null,
       "flex_flow": null,
       "grid_area": null,
       "grid_auto_columns": null,
       "grid_auto_flow": null,
       "grid_auto_rows": null,
       "grid_column": null,
       "grid_gap": null,
       "grid_row": null,
       "grid_template_areas": null,
       "grid_template_columns": null,
       "grid_template_rows": null,
       "height": null,
       "justify_content": null,
       "justify_items": null,
       "left": null,
       "margin": null,
       "max_height": null,
       "max_width": null,
       "min_height": null,
       "min_width": null,
       "object_fit": null,
       "object_position": null,
       "order": null,
       "overflow": null,
       "overflow_x": null,
       "overflow_y": null,
       "padding": null,
       "right": null,
       "top": null,
       "visibility": null,
       "width": null
      }
     },
     "bd8ebb98734c45bf9ed0f9b7f4f53e0b": {
      "model_module": "@jupyter-widgets/base",
      "model_module_version": "1.2.0",
      "model_name": "LayoutModel",
      "state": {
       "_model_module": "@jupyter-widgets/base",
       "_model_module_version": "1.2.0",
       "_model_name": "LayoutModel",
       "_view_count": null,
       "_view_module": "@jupyter-widgets/base",
       "_view_module_version": "1.2.0",
       "_view_name": "LayoutView",
       "align_content": null,
       "align_items": null,
       "align_self": null,
       "border": null,
       "bottom": null,
       "display": null,
       "flex": null,
       "flex_flow": null,
       "grid_area": null,
       "grid_auto_columns": null,
       "grid_auto_flow": null,
       "grid_auto_rows": null,
       "grid_column": null,
       "grid_gap": null,
       "grid_row": null,
       "grid_template_areas": null,
       "grid_template_columns": null,
       "grid_template_rows": null,
       "height": null,
       "justify_content": null,
       "justify_items": null,
       "left": null,
       "margin": null,
       "max_height": null,
       "max_width": null,
       "min_height": null,
       "min_width": null,
       "object_fit": null,
       "object_position": null,
       "order": null,
       "overflow": null,
       "overflow_x": null,
       "overflow_y": null,
       "padding": null,
       "right": null,
       "top": null,
       "visibility": null,
       "width": null
      }
     },
     "bf7c8bb1c212489f958c683db09a7326": {
      "model_module": "@jupyter-widgets/base",
      "model_module_version": "1.2.0",
      "model_name": "LayoutModel",
      "state": {
       "_model_module": "@jupyter-widgets/base",
       "_model_module_version": "1.2.0",
       "_model_name": "LayoutModel",
       "_view_count": null,
       "_view_module": "@jupyter-widgets/base",
       "_view_module_version": "1.2.0",
       "_view_name": "LayoutView",
       "align_content": null,
       "align_items": null,
       "align_self": null,
       "border": null,
       "bottom": null,
       "display": null,
       "flex": null,
       "flex_flow": null,
       "grid_area": null,
       "grid_auto_columns": null,
       "grid_auto_flow": null,
       "grid_auto_rows": null,
       "grid_column": null,
       "grid_gap": null,
       "grid_row": null,
       "grid_template_areas": null,
       "grid_template_columns": null,
       "grid_template_rows": null,
       "height": null,
       "justify_content": null,
       "justify_items": null,
       "left": null,
       "margin": null,
       "max_height": null,
       "max_width": null,
       "min_height": null,
       "min_width": null,
       "object_fit": null,
       "object_position": null,
       "order": null,
       "overflow": null,
       "overflow_x": null,
       "overflow_y": null,
       "padding": null,
       "right": null,
       "top": null,
       "visibility": null,
       "width": null
      }
     },
     "cc367064b4bd4b0fb4e43f9272d04197": {
      "model_module": "@jupyter-widgets/controls",
      "model_module_version": "1.5.0",
      "model_name": "DescriptionStyleModel",
      "state": {
       "_model_module": "@jupyter-widgets/controls",
       "_model_module_version": "1.5.0",
       "_model_name": "DescriptionStyleModel",
       "_view_count": null,
       "_view_module": "@jupyter-widgets/base",
       "_view_module_version": "1.2.0",
       "_view_name": "StyleView",
       "description_width": ""
      }
     },
     "d95268fd465d4049bc2f4beb270985c8": {
      "model_module": "@jupyter-widgets/base",
      "model_module_version": "1.2.0",
      "model_name": "LayoutModel",
      "state": {
       "_model_module": "@jupyter-widgets/base",
       "_model_module_version": "1.2.0",
       "_model_name": "LayoutModel",
       "_view_count": null,
       "_view_module": "@jupyter-widgets/base",
       "_view_module_version": "1.2.0",
       "_view_name": "LayoutView",
       "align_content": null,
       "align_items": null,
       "align_self": null,
       "border": null,
       "bottom": null,
       "display": null,
       "flex": null,
       "flex_flow": null,
       "grid_area": null,
       "grid_auto_columns": null,
       "grid_auto_flow": null,
       "grid_auto_rows": null,
       "grid_column": null,
       "grid_gap": null,
       "grid_row": null,
       "grid_template_areas": null,
       "grid_template_columns": null,
       "grid_template_rows": null,
       "height": null,
       "justify_content": null,
       "justify_items": null,
       "left": null,
       "margin": null,
       "max_height": null,
       "max_width": null,
       "min_height": null,
       "min_width": null,
       "object_fit": null,
       "object_position": null,
       "order": null,
       "overflow": null,
       "overflow_x": null,
       "overflow_y": null,
       "padding": null,
       "right": null,
       "top": null,
       "visibility": null,
       "width": null
      }
     },
     "e0c73e5956e64549988ac597677fbd66": {
      "model_module": "@jupyter-widgets/controls",
      "model_module_version": "1.5.0",
      "model_name": "HTMLModel",
      "state": {
       "_dom_classes": [],
       "_model_module": "@jupyter-widgets/controls",
       "_model_module_version": "1.5.0",
       "_model_name": "HTMLModel",
       "_view_count": null,
       "_view_module": "@jupyter-widgets/controls",
       "_view_module_version": "1.5.0",
       "_view_name": "HTMLView",
       "description": "",
       "description_tooltip": null,
       "layout": "IPY_MODEL_8ca09b0ecdb34ac891fa2a560f81219c",
       "placeholder": "​",
       "style": "IPY_MODEL_f0772d6ca4c64c3a9f9627ae9fdf4638",
       "value": " 625/625 [00:00&lt;00:00, 31.7kB/s]"
      }
     },
     "ebdfc136fdf042a1936272434d9a30cc": {
      "model_module": "@jupyter-widgets/base",
      "model_module_version": "1.2.0",
      "model_name": "LayoutModel",
      "state": {
       "_model_module": "@jupyter-widgets/base",
       "_model_module_version": "1.2.0",
       "_model_name": "LayoutModel",
       "_view_count": null,
       "_view_module": "@jupyter-widgets/base",
       "_view_module_version": "1.2.0",
       "_view_name": "LayoutView",
       "align_content": null,
       "align_items": null,
       "align_self": null,
       "border": null,
       "bottom": null,
       "display": null,
       "flex": null,
       "flex_flow": null,
       "grid_area": null,
       "grid_auto_columns": null,
       "grid_auto_flow": null,
       "grid_auto_rows": null,
       "grid_column": null,
       "grid_gap": null,
       "grid_row": null,
       "grid_template_areas": null,
       "grid_template_columns": null,
       "grid_template_rows": null,
       "height": null,
       "justify_content": null,
       "justify_items": null,
       "left": null,
       "margin": null,
       "max_height": null,
       "max_width": null,
       "min_height": null,
       "min_width": null,
       "object_fit": null,
       "object_position": null,
       "order": null,
       "overflow": null,
       "overflow_x": null,
       "overflow_y": null,
       "padding": null,
       "right": null,
       "top": null,
       "visibility": null,
       "width": null
      }
     },
     "ede00f46f2964b1197cdf9785a61232e": {
      "model_module": "@jupyter-widgets/controls",
      "model_module_version": "1.5.0",
      "model_name": "HTMLModel",
      "state": {
       "_dom_classes": [],
       "_model_module": "@jupyter-widgets/controls",
       "_model_module_version": "1.5.0",
       "_model_name": "HTMLModel",
       "_view_count": null,
       "_view_module": "@jupyter-widgets/controls",
       "_view_module_version": "1.5.0",
       "_view_name": "HTMLView",
       "description": "",
       "description_tooltip": null,
       "layout": "IPY_MODEL_bd8ebb98734c45bf9ed0f9b7f4f53e0b",
       "placeholder": "​",
       "style": "IPY_MODEL_9642e40219534c9393bb5b1962d1a16a",
       "value": " 714M/714M [00:03&lt;00:00, 236MB/s]"
      }
     },
     "eec843d150434da884d508caa5d70b69": {
      "model_module": "@jupyter-widgets/base",
      "model_module_version": "1.2.0",
      "model_name": "LayoutModel",
      "state": {
       "_model_module": "@jupyter-widgets/base",
       "_model_module_version": "1.2.0",
       "_model_name": "LayoutModel",
       "_view_count": null,
       "_view_module": "@jupyter-widgets/base",
       "_view_module_version": "1.2.0",
       "_view_name": "LayoutView",
       "align_content": null,
       "align_items": null,
       "align_self": null,
       "border": null,
       "bottom": null,
       "display": null,
       "flex": null,
       "flex_flow": null,
       "grid_area": null,
       "grid_auto_columns": null,
       "grid_auto_flow": null,
       "grid_auto_rows": null,
       "grid_column": null,
       "grid_gap": null,
       "grid_row": null,
       "grid_template_areas": null,
       "grid_template_columns": null,
       "grid_template_rows": null,
       "height": null,
       "justify_content": null,
       "justify_items": null,
       "left": null,
       "margin": null,
       "max_height": null,
       "max_width": null,
       "min_height": null,
       "min_width": null,
       "object_fit": null,
       "object_position": null,
       "order": null,
       "overflow": null,
       "overflow_x": null,
       "overflow_y": null,
       "padding": null,
       "right": null,
       "top": null,
       "visibility": null,
       "width": null
      }
     },
     "f0772d6ca4c64c3a9f9627ae9fdf4638": {
      "model_module": "@jupyter-widgets/controls",
      "model_module_version": "1.5.0",
      "model_name": "DescriptionStyleModel",
      "state": {
       "_model_module": "@jupyter-widgets/controls",
       "_model_module_version": "1.5.0",
       "_model_name": "DescriptionStyleModel",
       "_view_count": null,
       "_view_module": "@jupyter-widgets/base",
       "_view_module_version": "1.2.0",
       "_view_name": "StyleView",
       "description_width": ""
      }
     },
     "f3d0da1c42164f60b1281bb86bdc59a5": {
      "model_module": "@jupyter-widgets/base",
      "model_module_version": "1.2.0",
      "model_name": "LayoutModel",
      "state": {
       "_model_module": "@jupyter-widgets/base",
       "_model_module_version": "1.2.0",
       "_model_name": "LayoutModel",
       "_view_count": null,
       "_view_module": "@jupyter-widgets/base",
       "_view_module_version": "1.2.0",
       "_view_name": "LayoutView",
       "align_content": null,
       "align_items": null,
       "align_self": null,
       "border": null,
       "bottom": null,
       "display": null,
       "flex": null,
       "flex_flow": null,
       "grid_area": null,
       "grid_auto_columns": null,
       "grid_auto_flow": null,
       "grid_auto_rows": null,
       "grid_column": null,
       "grid_gap": null,
       "grid_row": null,
       "grid_template_areas": null,
       "grid_template_columns": null,
       "grid_template_rows": null,
       "height": null,
       "justify_content": null,
       "justify_items": null,
       "left": null,
       "margin": null,
       "max_height": null,
       "max_width": null,
       "min_height": null,
       "min_width": null,
       "object_fit": null,
       "object_position": null,
       "order": null,
       "overflow": null,
       "overflow_x": null,
       "overflow_y": null,
       "padding": null,
       "right": null,
       "top": null,
       "visibility": null,
       "width": null
      }
     },
     "f408beb51dc14695b989292a4b0eb99c": {
      "model_module": "@jupyter-widgets/controls",
      "model_module_version": "1.5.0",
      "model_name": "ProgressStyleModel",
      "state": {
       "_model_module": "@jupyter-widgets/controls",
       "_model_module_version": "1.5.0",
       "_model_name": "ProgressStyleModel",
       "_view_count": null,
       "_view_module": "@jupyter-widgets/base",
       "_view_module_version": "1.2.0",
       "_view_name": "StyleView",
       "bar_color": null,
       "description_width": ""
      }
     },
     "f82f09e0915d4b7d86e7eef59692d254": {
      "model_module": "@jupyter-widgets/controls",
      "model_module_version": "1.5.0",
      "model_name": "ProgressStyleModel",
      "state": {
       "_model_module": "@jupyter-widgets/controls",
       "_model_module_version": "1.5.0",
       "_model_name": "ProgressStyleModel",
       "_view_count": null,
       "_view_module": "@jupyter-widgets/base",
       "_view_module_version": "1.2.0",
       "_view_name": "StyleView",
       "bar_color": null,
       "description_width": ""
      }
     }
    },
    "version_major": 2,
    "version_minor": 0
   }
  }
 },
 "nbformat": 4,
 "nbformat_minor": 5
}
