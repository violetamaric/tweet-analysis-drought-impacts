{
 "cells": [
  {
   "cell_type": "code",
   "execution_count": 1,
   "id": "b3268615",
   "metadata": {
    "execution": {
     "iopub.execute_input": "2023-06-09T17:59:30.092489Z",
     "iopub.status.busy": "2023-06-09T17:59:30.091324Z",
     "iopub.status.idle": "2023-06-09T18:00:00.405350Z",
     "shell.execute_reply": "2023-06-09T18:00:00.403343Z"
    },
    "papermill": {
     "duration": 30.329193,
     "end_time": "2023-06-09T18:00:00.408920",
     "exception": false,
     "start_time": "2023-06-09T17:59:30.079727",
     "status": "completed"
    },
    "tags": []
   },
   "outputs": [
    {
     "name": "stdout",
     "output_type": "stream",
     "text": [
      "Collecting torchsummary\r\n",
      "  Downloading torchsummary-1.5.1-py3-none-any.whl (2.8 kB)\r\n",
      "Installing collected packages: torchsummary\r\n",
      "Successfully installed torchsummary-1.5.1\r\n",
      "\u001b[33mWARNING: Running pip as the 'root' user can result in broken permissions and conflicting behaviour with the system package manager. It is recommended to use a virtual environment instead: https://pip.pypa.io/warnings/venv\u001b[0m\u001b[33m\r\n",
      "\u001b[0mRequirement already satisfied: Unidecode in /opt/conda/lib/python3.7/site-packages (1.3.6)\r\n",
      "\u001b[33mWARNING: Running pip as the 'root' user can result in broken permissions and conflicting behaviour with the system package manager. It is recommended to use a virtual environment instead: https://pip.pypa.io/warnings/venv\u001b[0m\u001b[33m\r\n",
      "\u001b[0m"
     ]
    }
   ],
   "source": [
    "!pip install torchsummary\n",
    "!pip install Unidecode"
   ]
  },
  {
   "cell_type": "code",
   "execution_count": 2,
   "id": "989362f3",
   "metadata": {
    "_cell_guid": "b1076dfc-b9ad-4769-8c92-a6c4dae69d19",
    "_uuid": "8f2839f25d086af736a60e9eeb907d3b93b6e0e5",
    "execution": {
     "iopub.execute_input": "2023-06-09T18:00:00.430672Z",
     "iopub.status.busy": "2023-06-09T18:00:00.430136Z",
     "iopub.status.idle": "2023-06-09T18:00:17.893496Z",
     "shell.execute_reply": "2023-06-09T18:00:17.891804Z"
    },
    "papermill": {
     "duration": 17.477912,
     "end_time": "2023-06-09T18:00:17.896828",
     "exception": false,
     "start_time": "2023-06-09T18:00:00.418916",
     "status": "completed"
    },
    "tags": []
   },
   "outputs": [],
   "source": [
    "import os\n",
    "import numpy as np\n",
    "import pandas as pd\n",
    "import re\n",
    "import csv\n",
    "from bs4 import BeautifulSoup\n",
    "import unicodedata\n",
    "import nltk\n",
    "from nltk.tokenize.toktok import ToktokTokenizer\n",
    "from tensorflow.keras.preprocessing import sequence\n",
    "from tensorflow.keras.preprocessing.text import Tokenizer\n",
    "from tqdm import tqdm\n",
    "import codecs\n",
    "import matplotlib.pyplot as plt\n",
    "import torch\n",
    "import torch.nn as nn\n",
    "import torch.nn.functional as F\n",
    "from torch.utils.data import DataLoader, TensorDataset, RandomSampler, SequentialSampler, random_split\n",
    "from torchsummary import summary\n",
    "from transformers import BertTokenizer\n",
    "from transformers import BertModel\n",
    "from transformers import AdamW, get_linear_schedule_with_warmup\n",
    "import matplotlib.pyplot as plt\n",
    "from sklearn import metrics\n",
    "import random\n",
    "import time\n",
    "from collections import Counter\n",
    "from wordcloud import WordCloud, STOPWORDS, ImageColorGenerator\n",
    "from unidecode import unidecode"
   ]
  },
  {
   "cell_type": "code",
   "execution_count": 3,
   "id": "c142553d",
   "metadata": {
    "execution": {
     "iopub.execute_input": "2023-06-09T18:00:17.917842Z",
     "iopub.status.busy": "2023-06-09T18:00:17.917330Z",
     "iopub.status.idle": "2023-06-09T18:00:17.948805Z",
     "shell.execute_reply": "2023-06-09T18:00:17.947827Z"
    },
    "papermill": {
     "duration": 0.045839,
     "end_time": "2023-06-09T18:00:17.951827",
     "exception": false,
     "start_time": "2023-06-09T18:00:17.905988",
     "status": "completed"
    },
    "tags": []
   },
   "outputs": [],
   "source": [
    "def remove_html_tags(text):\n",
    "    soup = BeautifulSoup(text, \"html.parser\")\n",
    "    [s.extract() for s in soup(['iframe','script'])]\n",
    "    stripped_text = soup.get_text()\n",
    "    stripped_text = re.sub(r'[\"\\|\\n|\\r|\\n\\r]+',' ', stripped_text)\n",
    "    return stripped_text\n",
    "\n",
    "def remove_html(text):\n",
    "    text = re.sub(r'https?:\\/\\/\\S*', ' ', str(text), flags=re.MULTILINE)\n",
    "    return text\n",
    "\n",
    "def remove_accented_chars(text):\n",
    "    text = unicodedata.normalize('NFKD', text).encode('ascii','ignore').decode('utf-8','ignore')\n",
    "    return text\n",
    "\n",
    "def remove_special_characters(text):\n",
    "    text = re.sub(r'[^ \\nA-Za-z0-9À-ÖØ-öø-ÿ/]+',' ',text)\n",
    "    return text\n",
    "\n",
    "def remove_stopwords_1(text):\n",
    "    \n",
    "    stop_file_path = '/kaggle/input/offline-libs/stop-words-2018.7.23/stop-words-2018.7.23/stop_words/stop-words/italian.txt'\n",
    "   \n",
    "    with open(stop_file_path, 'r', encoding=\"utf-8\") as f:\n",
    "        stopwords = f.readlines()\n",
    "        stop_set = set(m.strip() for m in stopwords)\n",
    "        stopword_list = list(frozenset(stop_set))\n",
    "        stopword_list.append('rt')\n",
    "        stopword_list.append('cè')\n",
    "        stopword_list.append('via')\n",
    "        stopword_list.append('d')\n",
    "    \n",
    "    tokenizer = ToktokTokenizer()\n",
    "    tokens = tokenizer.tokenize(text)\n",
    "    tokens = [token.strip() for token in tokens]\n",
    "    filtered_tokens = [token for token in tokens if token not in stopword_list]\n",
    "    filtered_text = ' '.join(filtered_tokens)    \n",
    "    \n",
    "    return filtered_text\n",
    "\n",
    "def remove_stopwords_2(text):\n",
    "    \n",
    "    stop_file_path = '/kaggle/input/stopword-lists-for-19-languages/italianST.txt' \n",
    "    with open(stop_file_path, 'r', encoding=\"utf-8\") as f:\n",
    "        stopwords = f.readlines()\n",
    "        stop_set = set(m.strip() for m in stopwords)\n",
    "        stopword_list = list(frozenset(stop_set))\n",
    "\n",
    "    \n",
    "    tokenizer = ToktokTokenizer() \n",
    "    tokens = tokenizer.tokenize(text)\n",
    "    tokens = [token.strip() for token in tokens]\n",
    "    filtered_tokens = [token for token in tokens if token not in stopword_list]\n",
    "    filtered_text = ' '.join(filtered_tokens)    \n",
    "    \n",
    "    return filtered_text\n",
    "\n",
    "def remove_mentions(text):\n",
    "    processed_text = re.sub(r\"(?:\\@|http?\\://|https?\\://|www)\\S+\", ' ', text)\n",
    "    processed_text = ' '.join(processed_text.split())\n",
    "    return processed_text\n",
    "def remove_accents(text):\n",
    "    processed_text = unidecode(text)\n",
    "    return processed_text\n",
    "\n",
    "def preprocessing_text(text_arr):\n",
    "    preprocessed_text = []\n",
    "    idx = 0\n",
    "    for text in text_arr:\n",
    "        text = remove_html(text)\n",
    "        text = remove_html_tags(text) \n",
    "        text = remove_mentions(text)\n",
    "        text = remove_special_characters(text) \n",
    "        text = text.lower() \n",
    "        text = remove_stopwords_1(text) \n",
    "        text = remove_stopwords_2(text)\n",
    "        text = remove_accents(text)\n",
    "        preprocessed_text.append(text)\n",
    "        idx+=1\n",
    "    print('Data Preprocessing finished.')\n",
    "    return preprocessed_text"
   ]
  },
  {
   "cell_type": "code",
   "execution_count": 4,
   "id": "e33abb63",
   "metadata": {
    "execution": {
     "iopub.execute_input": "2023-06-09T18:00:17.972539Z",
     "iopub.status.busy": "2023-06-09T18:00:17.971304Z",
     "iopub.status.idle": "2023-06-09T18:00:18.028120Z",
     "shell.execute_reply": "2023-06-09T18:00:18.026620Z"
    },
    "papermill": {
     "duration": 0.070616,
     "end_time": "2023-06-09T18:00:18.031491",
     "exception": false,
     "start_time": "2023-06-09T18:00:17.960875",
     "status": "completed"
    },
    "tags": []
   },
   "outputs": [],
   "source": [
    "data_binary='/kaggle/input/tweets-binary-v2/tweets-for-binary-class.csv'\n",
    "df_binary=pd.read_csv(data_binary, index_col=0, encoding='ISO 8859-1')\n",
    "titles=df_binary.loc[:,\"text\"].values\n",
    "labels = df_binary.iloc[:,8:9].values"
   ]
  },
  {
   "cell_type": "code",
   "execution_count": 5,
   "id": "aac4bddf",
   "metadata": {
    "execution": {
     "iopub.execute_input": "2023-06-09T18:00:18.052314Z",
     "iopub.status.busy": "2023-06-09T18:00:18.051813Z",
     "iopub.status.idle": "2023-06-09T18:00:22.531748Z",
     "shell.execute_reply": "2023-06-09T18:00:22.530642Z"
    },
    "papermill": {
     "duration": 4.493821,
     "end_time": "2023-06-09T18:00:22.534705",
     "exception": false,
     "start_time": "2023-06-09T18:00:18.040884",
     "status": "completed"
    },
    "tags": []
   },
   "outputs": [
    {
     "name": "stderr",
     "output_type": "stream",
     "text": [
      "/opt/conda/lib/python3.7/site-packages/bs4/__init__.py:439: MarkupResemblesLocatorWarning: The input looks more like a filename than markup. You may want to open this file and pass the filehandle into Beautiful Soup.\n",
      "  MarkupResemblesLocatorWarning\n"
     ]
    },
    {
     "name": "stdout",
     "output_type": "stream",
     "text": [
      "Data Preprocessing finished.\n"
     ]
    }
   ],
   "source": [
    "text_cleaned = preprocessing_text(titles)\n",
    "df_text_cleaned = pd.DataFrame({\"cleaned_text\": text_cleaned})"
   ]
  },
  {
   "cell_type": "code",
   "execution_count": 6,
   "id": "8ee3fd46",
   "metadata": {
    "execution": {
     "iopub.execute_input": "2023-06-09T18:00:22.556156Z",
     "iopub.status.busy": "2023-06-09T18:00:22.554888Z",
     "iopub.status.idle": "2023-06-09T18:00:24.258847Z",
     "shell.execute_reply": "2023-06-09T18:00:24.257581Z"
    },
    "papermill": {
     "duration": 1.718252,
     "end_time": "2023-06-09T18:00:24.262240",
     "exception": false,
     "start_time": "2023-06-09T18:00:22.543988",
     "status": "completed"
    },
    "tags": []
   },
   "outputs": [
    {
     "data": {
      "application/vnd.jupyter.widget-view+json": {
       "model_id": "3ce974fbb5fc44d68f3e968248d81521",
       "version_major": 2,
       "version_minor": 0
      },
      "text/plain": [
       "Downloading (…)solve/main/vocab.txt:   0%|          | 0.00/996k [00:00<?, ?B/s]"
      ]
     },
     "metadata": {},
     "output_type": "display_data"
    },
    {
     "data": {
      "application/vnd.jupyter.widget-view+json": {
       "model_id": "27c21b942262422595908cf925f4f2c1",
       "version_major": 2,
       "version_minor": 0
      },
      "text/plain": [
       "Downloading (…)okenizer_config.json:   0%|          | 0.00/29.0 [00:00<?, ?B/s]"
      ]
     },
     "metadata": {},
     "output_type": "display_data"
    },
    {
     "data": {
      "application/vnd.jupyter.widget-view+json": {
       "model_id": "caedf73486984d1aa21b511e5698c998",
       "version_major": 2,
       "version_minor": 0
      },
      "text/plain": [
       "Downloading (…)lve/main/config.json:   0%|          | 0.00/625 [00:00<?, ?B/s]"
      ]
     },
     "metadata": {},
     "output_type": "display_data"
    }
   ],
   "source": [
    "tokenizer = BertTokenizer.from_pretrained('bert-base-multilingual-cased', do_lower_case=True)"
   ]
  },
  {
   "cell_type": "code",
   "execution_count": 7,
   "id": "a93f5b47",
   "metadata": {
    "execution": {
     "iopub.execute_input": "2023-06-09T18:00:24.284170Z",
     "iopub.status.busy": "2023-06-09T18:00:24.283731Z",
     "iopub.status.idle": "2023-06-09T18:00:26.212210Z",
     "shell.execute_reply": "2023-06-09T18:00:26.210559Z"
    },
    "papermill": {
     "duration": 1.942795,
     "end_time": "2023-06-09T18:00:26.215029",
     "exception": false,
     "start_time": "2023-06-09T18:00:24.272234",
     "status": "completed"
    },
    "tags": []
   },
   "outputs": [
    {
     "name": "stdout",
     "output_type": "stream",
     "text": [
      "Max sentence length:  73\n"
     ]
    }
   ],
   "source": [
    "max_length = 0\n",
    "\n",
    "for sentence in text_cleaned:\n",
    "\n",
    "    input_ids = tokenizer.encode(sentence, add_special_tokens=True)\n",
    "    max_length = max(max_length, len(input_ids))\n",
    "\n",
    "print('Max sentence length: ', max_length)"
   ]
  },
  {
   "cell_type": "code",
   "execution_count": 8,
   "id": "9b7cdbe7",
   "metadata": {
    "execution": {
     "iopub.execute_input": "2023-06-09T18:00:26.236978Z",
     "iopub.status.busy": "2023-06-09T18:00:26.236542Z",
     "iopub.status.idle": "2023-06-09T18:00:26.243768Z",
     "shell.execute_reply": "2023-06-09T18:00:26.242587Z"
    },
    "papermill": {
     "duration": 0.021278,
     "end_time": "2023-06-09T18:00:26.246539",
     "exception": false,
     "start_time": "2023-06-09T18:00:26.225261",
     "status": "completed"
    },
    "tags": []
   },
   "outputs": [],
   "source": [
    "input_ids = []\n",
    "attention_masks = []"
   ]
  },
  {
   "cell_type": "code",
   "execution_count": 9,
   "id": "dd40fa9d",
   "metadata": {
    "execution": {
     "iopub.execute_input": "2023-06-09T18:00:26.268356Z",
     "iopub.status.busy": "2023-06-09T18:00:26.267908Z",
     "iopub.status.idle": "2023-06-09T18:00:29.931879Z",
     "shell.execute_reply": "2023-06-09T18:00:29.930493Z"
    },
    "papermill": {
     "duration": 3.678387,
     "end_time": "2023-06-09T18:00:29.934871",
     "exception": false,
     "start_time": "2023-06-09T18:00:26.256484",
     "status": "completed"
    },
    "tags": []
   },
   "outputs": [],
   "source": [
    "for sentence in titles:\n",
    "    inputs = tokenizer.encode_plus(\n",
    "        sentence,  # sequence to be encoded\n",
    "        add_special_tokens=True,  # to encode the sequences with the special tokens\n",
    "        padding='max_length',  # activates and controls padding\n",
    "        truncation=True,  # activates and controls truncation\n",
    "        max_length=max_length,  # controls the maximum length to use       \n",
    "        return_attention_mask=True,  # whether to return the attention mask\n",
    "        return_tensors='pt'  # to return PyTorch torch.Tensor objects        \n",
    "    )\n",
    "    #list of token ids to be fed to a model.\n",
    "    input_ids.append(inputs['input_ids'])\n",
    "    # list of indices specifying which tokens should be considered to by the model \n",
    "    attention_masks.append(inputs['attention_mask'])"
   ]
  },
  {
   "cell_type": "code",
   "execution_count": 10,
   "id": "8fa53aba",
   "metadata": {
    "execution": {
     "iopub.execute_input": "2023-06-09T18:00:29.957350Z",
     "iopub.status.busy": "2023-06-09T18:00:29.956864Z",
     "iopub.status.idle": "2023-06-09T18:00:30.007872Z",
     "shell.execute_reply": "2023-06-09T18:00:30.006696Z"
    },
    "papermill": {
     "duration": 0.066476,
     "end_time": "2023-06-09T18:00:30.011204",
     "exception": false,
     "start_time": "2023-06-09T18:00:29.944728",
     "status": "completed"
    },
    "tags": []
   },
   "outputs": [],
   "source": [
    "# Convert the lists into tensors.\n",
    "input_ids = torch.cat(input_ids, dim=0)\n",
    "attention_masks = torch.cat(attention_masks, dim=0)\n",
    "labels = torch.tensor(labels)"
   ]
  },
  {
   "cell_type": "code",
   "execution_count": 11,
   "id": "9ab4a9fa",
   "metadata": {
    "execution": {
     "iopub.execute_input": "2023-06-09T18:00:30.033355Z",
     "iopub.status.busy": "2023-06-09T18:00:30.032908Z",
     "iopub.status.idle": "2023-06-09T18:00:30.038805Z",
     "shell.execute_reply": "2023-06-09T18:00:30.037312Z"
    },
    "papermill": {
     "duration": 0.020505,
     "end_time": "2023-06-09T18:00:30.041821",
     "exception": false,
     "start_time": "2023-06-09T18:00:30.021316",
     "status": "completed"
    },
    "tags": []
   },
   "outputs": [],
   "source": [
    "# For fine-tuning BERT on a specific task, the authors recommend a batch size of 16 or 32.\n",
    "batch_size = 16"
   ]
  },
  {
   "cell_type": "code",
   "execution_count": 12,
   "id": "64a814d3",
   "metadata": {
    "execution": {
     "iopub.execute_input": "2023-06-09T18:00:30.063743Z",
     "iopub.status.busy": "2023-06-09T18:00:30.063273Z",
     "iopub.status.idle": "2023-06-09T18:00:30.079542Z",
     "shell.execute_reply": "2023-06-09T18:00:30.078157Z"
    },
    "papermill": {
     "duration": 0.031023,
     "end_time": "2023-06-09T18:00:30.082769",
     "exception": false,
     "start_time": "2023-06-09T18:00:30.051746",
     "status": "completed"
    },
    "tags": []
   },
   "outputs": [],
   "source": [
    "dataset = TensorDataset(input_ids, attention_masks, labels)\n",
    "\n",
    "# 80% training set 10% validation set 10% testing set\n",
    "train_size = int(0.8 * len(dataset))\n",
    "validation_size = int(0.1 * len(dataset))\n",
    "test_size = len(dataset) - train_size - validation_size\n",
    "\n",
    "train_dataset, validation_dataset, test_dataset = random_split(dataset, [train_size, validation_size, test_size])"
   ]
  },
  {
   "cell_type": "code",
   "execution_count": 13,
   "id": "94aa4f3d",
   "metadata": {
    "execution": {
     "iopub.execute_input": "2023-06-09T18:00:30.106493Z",
     "iopub.status.busy": "2023-06-09T18:00:30.105408Z",
     "iopub.status.idle": "2023-06-09T18:00:30.113757Z",
     "shell.execute_reply": "2023-06-09T18:00:30.112381Z"
    },
    "papermill": {
     "duration": 0.023642,
     "end_time": "2023-06-09T18:00:30.116980",
     "exception": false,
     "start_time": "2023-06-09T18:00:30.093338",
     "status": "completed"
    },
    "tags": []
   },
   "outputs": [],
   "source": [
    "train_dataloader = DataLoader(\n",
    "            train_dataset,\n",
    "            sampler = RandomSampler(train_dataset),\n",
    "            batch_size = batch_size\n",
    "        )\n",
    "\n",
    "validation_dataloader = DataLoader(\n",
    "            validation_dataset,\n",
    "            sampler = SequentialSampler(validation_dataset),\n",
    "            batch_size = batch_size\n",
    "        )\n",
    "test_dataloader = DataLoader(\n",
    "            test_dataset,\n",
    "            sampler = SequentialSampler(test_dataset),\n",
    "            batch_size = batch_size\n",
    "        )"
   ]
  },
  {
   "cell_type": "code",
   "execution_count": 14,
   "id": "4cf5242f",
   "metadata": {
    "execution": {
     "iopub.execute_input": "2023-06-09T18:00:30.138730Z",
     "iopub.status.busy": "2023-06-09T18:00:30.138228Z",
     "iopub.status.idle": "2023-06-09T18:00:30.143842Z",
     "shell.execute_reply": "2023-06-09T18:00:30.142424Z"
    },
    "papermill": {
     "duration": 0.019869,
     "end_time": "2023-06-09T18:00:30.146755",
     "exception": false,
     "start_time": "2023-06-09T18:00:30.126886",
     "status": "completed"
    },
    "tags": []
   },
   "outputs": [],
   "source": [
    "loss_fn = nn.BCELoss()"
   ]
  },
  {
   "cell_type": "code",
   "execution_count": 15,
   "id": "df557e12",
   "metadata": {
    "execution": {
     "iopub.execute_input": "2023-06-09T18:00:30.169240Z",
     "iopub.status.busy": "2023-06-09T18:00:30.168812Z",
     "iopub.status.idle": "2023-06-09T18:00:30.180045Z",
     "shell.execute_reply": "2023-06-09T18:00:30.178665Z"
    },
    "papermill": {
     "duration": 0.025424,
     "end_time": "2023-06-09T18:00:30.182935",
     "exception": false,
     "start_time": "2023-06-09T18:00:30.157511",
     "status": "completed"
    },
    "tags": []
   },
   "outputs": [],
   "source": [
    "class BertClassifier(nn.Module):\n",
    "\n",
    "    def __init__(self, freeze_bert=True):\n",
    "\n",
    "        super(BertClassifier, self).__init__()\n",
    "        \n",
    "        D_in, D_out = 768, 1\n",
    "\n",
    "       \n",
    "        self.bert = BertModel.from_pretrained('bert-base-multilingual-cased')\n",
    "       \n",
    "        self.classifier = nn.Sequential(\n",
    "            nn.Dropout(),\n",
    "            nn.Linear(D_in, D_out),\n",
    "            nn.Sigmoid()\n",
    "        )\n",
    "\n",
    "        # freeze parameters\n",
    "        if freeze_bert:\n",
    "            for param in self.bert.parameters():\n",
    "                param.requires_grad = False\n",
    "\n",
    "    def forward(self, input_ids, attention_mask):\n",
    "\n",
    "        # feed input to BERT\n",
    "        outputs = self.bert(input_ids=input_ids,\n",
    "                            attention_mask=attention_mask)\n",
    "\n",
    "        # extract the last hidden state for classification task\n",
    "        pooled_output = torch.mean(outputs.last_hidden_state,1)\n",
    "\n",
    "        # feed input to classifier\n",
    "        logits = self.classifier(pooled_output)        \n",
    "\n",
    "        return logits"
   ]
  },
  {
   "cell_type": "code",
   "execution_count": 16,
   "id": "7c3a3ffe",
   "metadata": {
    "execution": {
     "iopub.execute_input": "2023-06-09T18:00:30.204570Z",
     "iopub.status.busy": "2023-06-09T18:00:30.204129Z",
     "iopub.status.idle": "2023-06-09T18:00:30.210469Z",
     "shell.execute_reply": "2023-06-09T18:00:30.209113Z"
    },
    "papermill": {
     "duration": 0.020421,
     "end_time": "2023-06-09T18:00:30.213262",
     "exception": false,
     "start_time": "2023-06-09T18:00:30.192841",
     "status": "completed"
    },
    "tags": []
   },
   "outputs": [],
   "source": [
    "def set_seed(seed_value=42):\n",
    "\n",
    "    random.seed(seed_value)\n",
    "    np.random.seed(seed_value)\n",
    "    torch.manual_seed(seed_value)\n",
    "    torch.cuda.manual_seed_all(seed_value)"
   ]
  },
  {
   "cell_type": "code",
   "execution_count": 17,
   "id": "2a1fee42",
   "metadata": {
    "execution": {
     "iopub.execute_input": "2023-06-09T18:00:30.235773Z",
     "iopub.status.busy": "2023-06-09T18:00:30.235290Z",
     "iopub.status.idle": "2023-06-09T18:00:30.245674Z",
     "shell.execute_reply": "2023-06-09T18:00:30.244626Z"
    },
    "papermill": {
     "duration": 0.025,
     "end_time": "2023-06-09T18:00:30.248189",
     "exception": false,
     "start_time": "2023-06-09T18:00:30.223189",
     "status": "completed"
    },
    "tags": []
   },
   "outputs": [],
   "source": [
    "def initialize_model(epochs):\n",
    "\n",
    "    bert_classifier = BertClassifier(freeze_bert=True)    \n",
    "    bert_classifier\n",
    "\n",
    "\n",
    "    optimizer = AdamW(bert_classifier.parameters(),\n",
    "                      lr=1e-4,    # learning rate\n",
    "                      eps=1e-8    # epsilon value\n",
    "                      )\n",
    "\n",
    "    # total number of training steps\n",
    "    total_steps = len(train_dataloader) * epochs\n",
    "\n",
    "    # set up the learning rate scheduler\n",
    "    scheduler = get_linear_schedule_with_warmup(optimizer, num_warmup_steps=0, num_training_steps=total_steps)\n",
    "    return bert_classifier, optimizer, scheduler"
   ]
  },
  {
   "cell_type": "code",
   "execution_count": 18,
   "id": "c7797135",
   "metadata": {
    "execution": {
     "iopub.execute_input": "2023-06-09T18:00:30.271370Z",
     "iopub.status.busy": "2023-06-09T18:00:30.270000Z",
     "iopub.status.idle": "2023-06-09T18:00:30.277355Z",
     "shell.execute_reply": "2023-06-09T18:00:30.276307Z"
    },
    "papermill": {
     "duration": 0.021983,
     "end_time": "2023-06-09T18:00:30.280278",
     "exception": false,
     "start_time": "2023-06-09T18:00:30.258295",
     "status": "completed"
    },
    "tags": []
   },
   "outputs": [],
   "source": [
    "def calculate_metrics(pred, target):\n",
    "    return {'precision': metrics.precision_score(y_true=target, y_pred=pred),\n",
    "\n",
    "            'recall': metrics.recall_score(y_true=target, y_pred=pred),\n",
    "\n",
    "            'f1': metrics.f1_score(y_true=target, y_pred=pred)          \n",
    "\n",
    "            }\n"
   ]
  },
  {
   "cell_type": "code",
   "execution_count": 19,
   "id": "7635246f",
   "metadata": {
    "execution": {
     "iopub.execute_input": "2023-06-09T18:00:30.303184Z",
     "iopub.status.busy": "2023-06-09T18:00:30.302719Z",
     "iopub.status.idle": "2023-06-09T18:00:30.323820Z",
     "shell.execute_reply": "2023-06-09T18:00:30.322106Z"
    },
    "papermill": {
     "duration": 0.036916,
     "end_time": "2023-06-09T18:00:30.327434",
     "exception": false,
     "start_time": "2023-06-09T18:00:30.290518",
     "status": "completed"
    },
    "tags": []
   },
   "outputs": [],
   "source": [
    "def train(model, train_dataloader, validation_dataloader=None, epochs=5, evaluation=True):\n",
    "\n",
    "    print(\"Start training...\\n\")\n",
    "    for epoch_i in range(epochs):\n",
    "\n",
    "        print(\n",
    "            f\"{'Epoch':^7} | {'Batch':^7} | {'Train Loss':^12} | {'Val Loss':^10} | {'Val Precision':^9} | {'Val Recall':^9} | {'Val F1':^9} | {'Elapsed':^9}\")\n",
    "        print(\"-\" * 100)\n",
    "\n",
    "        # Measure the elapsed time of each epoch\n",
    "        t0_epoch, t0_batch = time.time(), time.time()\n",
    "\n",
    "        # Reset tracking variables at the beginning of each epoch\n",
    "        total_loss, batch_loss, batch_counts = 0, 0, 0\n",
    "\n",
    "        # Put the model into the training mode\n",
    "        model.train()\n",
    "\n",
    "        # For each batch of training data...\n",
    "        for step, batch in enumerate(train_dataloader):\n",
    "            batch_counts += 1\n",
    "            # Load batch to GPU\n",
    "            b_input_ids, b_attn_mask, b_labels = tuple(t for t in batch)\n",
    "\n",
    "            # Zero out any previously calculated gradients\n",
    "            model.zero_grad()\n",
    "\n",
    "            # Perform a forward pass. This will return logits.\n",
    "            logits = model(b_input_ids, b_attn_mask)\n",
    "\n",
    "            loss=loss_fn(logits, b_labels.type(torch.float))\n",
    "            # accumulate the loss values\n",
    "            batch_loss += loss.item()\n",
    "            total_loss += loss.item()\n",
    "            # Perform a backward pass to calculate gradients\n",
    "            loss.backward()\n",
    "\n",
    "            # Clip the norm of the gradients to 1.0 to prevent \"exploding gradients\"\n",
    "            torch.nn.utils.clip_grad_norm_(model.parameters(), 1.0)\n",
    "\n",
    "            # Update parameters and the learning rate\n",
    "            optimizer.step()\n",
    "            scheduler.step()\n",
    "\n",
    "            # Print the loss values and time elapsed for every 20 batches\n",
    "            if (step % 20 == 0 and step != 0) or (step == len(train_dataloader) - 1):\n",
    "                # Calculate time elapsed for 20 batches\n",
    "                time_elapsed = time.time() - t0_batch\n",
    "\n",
    "                # Print training results\n",
    "                print(\n",
    "                    f\"{epoch_i + 1:^7} | {step:^7} | {batch_loss / batch_counts:^12f} | {'-':^10} | {'-':^13} | {'-':^10} | {'-':^9} | {time_elapsed:^9f}\")\n",
    "\n",
    "                # Reset batch tracking variables\n",
    "                batch_loss, batch_counts = 0, 0\n",
    "                t0_batch = time.time()\n",
    "\n",
    "        # Calculate the average loss over the entire training data\n",
    "        avg_train_loss = total_loss / len(train_dataloader)\n",
    "\n",
    "        print(\"-\" * 100)\n",
    "\n",
    "        if evaluation == True:\n",
    "            # After the completion of each training epoch, measure the model's performance\n",
    "            # on our validation set.\n",
    "            val_loss, val_precision, val_recall, val_f1 = evaluate(model, validation_dataloader)\n",
    "\n",
    "            # Print performance over the entire training data\n",
    "            time_elapsed = time.time() - t0_epoch\n",
    "\n",
    "            # Print the header of the result table\n",
    "\n",
    "            print(\"-\" * 100)\n",
    "            print(\n",
    "                f\"{epoch_i + 1:^7} | {'-':^7} | {avg_train_loss:^12.6f} | {val_loss:^10.6f} | {val_precision:^13f} | {val_recall:^10.2f} | {val_f1:^9.2f} | {time_elapsed:^9.2f}\")\n",
    "            print(\"-\" * 100)\n",
    "        print(\"\\n\")\n",
    "\n",
    "    print(\"Training complete!\")\n",
    "\n",
    "    # saving the model\n",
    "    output_dir = '/kaggle/working/'\n",
    "\n",
    "    # Create output directory if needed\n",
    "    if not os.path.exists(output_dir):\n",
    "      os.makedirs(output_dir)\n",
    "\n",
    "    print(\"Saving model to %s\" % output_dir)\n",
    "\n",
    "    model.bert.save_pretrained(output_dir)"
   ]
  },
  {
   "cell_type": "code",
   "execution_count": 20,
   "id": "094cde9c",
   "metadata": {
    "execution": {
     "iopub.execute_input": "2023-06-09T18:00:30.350399Z",
     "iopub.status.busy": "2023-06-09T18:00:30.349884Z",
     "iopub.status.idle": "2023-06-09T18:00:30.363809Z",
     "shell.execute_reply": "2023-06-09T18:00:30.362375Z"
    },
    "papermill": {
     "duration": 0.028517,
     "end_time": "2023-06-09T18:00:30.366493",
     "exception": false,
     "start_time": "2023-06-09T18:00:30.337976",
     "status": "completed"
    },
    "tags": []
   },
   "outputs": [],
   "source": [
    "def evaluate(model, val_dataloader):\n",
    "\n",
    "    model.eval()\n",
    "\n",
    "    # Tracking variables\n",
    "    val_precision = []\n",
    "    val_recall = []\n",
    "    val_f1 = []\n",
    "    val_loss = []\n",
    "\n",
    "    # For each batch in our validation set...\n",
    "    for batch in val_dataloader:\n",
    "        # Load batch to GPU\n",
    "        b_input_ids, b_attn_mask, b_labels = tuple(t for t in batch)\n",
    "\n",
    "        # Compute logits\n",
    "        with torch.no_grad():\n",
    "            logits = model(b_input_ids, b_attn_mask)\n",
    "\n",
    "        # Compute loss\n",
    "        loss = loss_fn(logits, b_labels.type(torch.float))\n",
    "        val_loss.append(loss.item())\n",
    "\n",
    "        # Get the predictions\n",
    "        logits_arr = logits.cpu().numpy()\n",
    "        logits_arr[logits_arr >= 0.5] = 1\n",
    "        logits_arr[logits_arr < 0.5] = 0\n",
    "\n",
    "        b_labels_arr = b_labels.cpu().numpy()\n",
    "        # Calculate the accuracy rate\n",
    "        precision_micro = metrics.precision_score(y_true=b_labels_arr, y_pred=logits_arr, average='micro')\n",
    "        val_precision.append(precision_micro)\n",
    "        recall_micro = metrics.recall_score(y_true=b_labels_arr, y_pred=logits_arr, average='micro')\n",
    "        val_recall.append(recall_micro)\n",
    "        f1_micro = metrics.f1_score(y_true=b_labels_arr, y_pred=logits_arr, average='micro')\n",
    "        val_f1.append(f1_micro)\n",
    "\n",
    "    # Compute the average accuracy and loss over the validation set.\n",
    "    val_loss = np.mean(val_loss)\n",
    "    val_precision = np.mean(precision_micro)\n",
    "    val_recall = np.mean(recall_micro)\n",
    "    val_f1 = np.mean(f1_micro)\n",
    "\n",
    "    return val_loss, val_precision, val_recall, val_f1\n"
   ]
  },
  {
   "cell_type": "code",
   "execution_count": 21,
   "id": "abff10be",
   "metadata": {
    "execution": {
     "iopub.execute_input": "2023-06-09T18:00:30.389671Z",
     "iopub.status.busy": "2023-06-09T18:00:30.389089Z",
     "iopub.status.idle": "2023-06-09T18:00:30.398950Z",
     "shell.execute_reply": "2023-06-09T18:00:30.397337Z"
    },
    "papermill": {
     "duration": 0.025079,
     "end_time": "2023-06-09T18:00:30.401966",
     "exception": false,
     "start_time": "2023-06-09T18:00:30.376887",
     "status": "completed"
    },
    "tags": []
   },
   "outputs": [],
   "source": [
    "def bert_predict(model, test_dataloader):\n",
    "\n",
    "    model.eval()\n",
    "\n",
    "    all_logits = []\n",
    "\n",
    "    # For each batch in test set...\n",
    "    for batch in test_dataloader:\n",
    "        # Load batch to GPU\n",
    "        b_input_ids, b_attn_mask = tuple(t for t in batch)[:2]\n",
    "\n",
    "        # Compute logits\n",
    "        with torch.no_grad():\n",
    "            logits = model(b_input_ids, b_attn_mask)\n",
    "        all_logits.append(logits.type(torch.float))\n",
    "    \n",
    "    # Concatenate logits from each batch\n",
    "    all_logits = torch.cat(all_logits, dim=0)\n",
    "\n",
    "    # Apply softmax to calculate probabilities\n",
    "    probs = all_logits.cpu().numpy()\n",
    "\n",
    "    return probs"
   ]
  },
  {
   "cell_type": "code",
   "execution_count": 22,
   "id": "5fb41ed6",
   "metadata": {
    "execution": {
     "iopub.execute_input": "2023-06-09T18:00:30.425534Z",
     "iopub.status.busy": "2023-06-09T18:00:30.425015Z",
     "iopub.status.idle": "2023-06-09T18:16:53.469457Z",
     "shell.execute_reply": "2023-06-09T18:16:53.468108Z"
    },
    "papermill": {
     "duration": 983.060211,
     "end_time": "2023-06-09T18:16:53.472846",
     "exception": false,
     "start_time": "2023-06-09T18:00:30.412635",
     "status": "completed"
    },
    "tags": []
   },
   "outputs": [
    {
     "data": {
      "application/vnd.jupyter.widget-view+json": {
       "model_id": "c7ab7184b6e644a096c2ed45ae895769",
       "version_major": 2,
       "version_minor": 0
      },
      "text/plain": [
       "Downloading pytorch_model.bin:   0%|          | 0.00/714M [00:00<?, ?B/s]"
      ]
     },
     "metadata": {},
     "output_type": "display_data"
    },
    {
     "name": "stderr",
     "output_type": "stream",
     "text": [
      "Some weights of the model checkpoint at bert-base-multilingual-cased were not used when initializing BertModel: ['cls.predictions.transform.LayerNorm.bias', 'cls.seq_relationship.bias', 'cls.seq_relationship.weight', 'cls.predictions.transform.LayerNorm.weight', 'cls.predictions.decoder.weight', 'cls.predictions.transform.dense.bias', 'cls.predictions.transform.dense.weight', 'cls.predictions.bias']\n",
      "- This IS expected if you are initializing BertModel from the checkpoint of a model trained on another task or with another architecture (e.g. initializing a BertForSequenceClassification model from a BertForPreTraining model).\n",
      "- This IS NOT expected if you are initializing BertModel from the checkpoint of a model that you expect to be exactly identical (initializing a BertForSequenceClassification model from a BertForSequenceClassification model).\n",
      "/opt/conda/lib/python3.7/site-packages/transformers/optimization.py:395: FutureWarning: This implementation of AdamW is deprecated and will be removed in a future version. Use the PyTorch implementation torch.optim.AdamW instead, or set `no_deprecation_warning=True` to disable this warning\n",
      "  FutureWarning,\n"
     ]
    },
    {
     "name": "stdout",
     "output_type": "stream",
     "text": [
      "Start training...\n",
      "\n",
      " Epoch  |  Batch  |  Train Loss  |  Val Loss  | Val Precision | Val Recall |  Val F1   |  Elapsed \n",
      "----------------------------------------------------------------------------------------------------\n",
      "   1    |   20    |   0.701060   |     -      |       -       |     -      |     -     | 38.671972\n",
      "   1    |   40    |   0.708277   |     -      |       -       |     -      |     -     | 36.344991\n",
      "   1    |   60    |   0.691409   |     -      |       -       |     -      |     -     | 36.564831\n",
      "   1    |   80    |   0.687338   |     -      |       -       |     -      |     -     | 36.164650\n",
      "   1    |   94    |   0.678710   |     -      |       -       |     -      |     -     | 25.094631\n",
      "----------------------------------------------------------------------------------------------------\n",
      "----------------------------------------------------------------------------------------------------\n",
      "   1    |    -    |   0.694365   |  0.681098  |   0.692308    |    0.69    |   0.69    |  193.78  \n",
      "----------------------------------------------------------------------------------------------------\n",
      "\n",
      "\n",
      " Epoch  |  Batch  |  Train Loss  |  Val Loss  | Val Precision | Val Recall |  Val F1   |  Elapsed \n",
      "----------------------------------------------------------------------------------------------------\n",
      "   2    |   20    |   0.685497   |     -      |       -       |     -      |     -     | 37.746202\n",
      "   2    |   40    |   0.697919   |     -      |       -       |     -      |     -     | 35.913673\n",
      "   2    |   60    |   0.680592   |     -      |       -       |     -      |     -     | 35.870696\n",
      "   2    |   80    |   0.676825   |     -      |       -       |     -      |     -     | 36.519709\n",
      "   2    |   94    |   0.672004   |     -      |       -       |     -      |     -     | 24.520625\n",
      "----------------------------------------------------------------------------------------------------\n",
      "----------------------------------------------------------------------------------------------------\n",
      "   2    |    -    |   0.683265   |  0.673848  |   0.692308    |    0.69    |   0.69    |  191.54  \n",
      "----------------------------------------------------------------------------------------------------\n",
      "\n",
      "\n",
      " Epoch  |  Batch  |  Train Loss  |  Val Loss  | Val Precision | Val Recall |  Val F1   |  Elapsed \n",
      "----------------------------------------------------------------------------------------------------\n",
      "   3    |   20    |   0.670902   |     -      |       -       |     -      |     -     | 37.807774\n",
      "   3    |   40    |   0.675300   |     -      |       -       |     -      |     -     | 36.014775\n",
      "   3    |   60    |   0.678390   |     -      |       -       |     -      |     -     | 36.667542\n",
      "   3    |   80    |   0.671827   |     -      |       -       |     -      |     -     | 35.878764\n",
      "   3    |   94    |   0.670195   |     -      |       -       |     -      |     -     | 24.448762\n",
      "----------------------------------------------------------------------------------------------------\n",
      "----------------------------------------------------------------------------------------------------\n",
      "   3    |    -    |   0.673495   |  0.668973  |   0.769231    |    0.77    |   0.77    |  191.71  \n",
      "----------------------------------------------------------------------------------------------------\n",
      "\n",
      "\n",
      " Epoch  |  Batch  |  Train Loss  |  Val Loss  | Val Precision | Val Recall |  Val F1   |  Elapsed \n",
      "----------------------------------------------------------------------------------------------------\n",
      "   4    |   20    |   0.677362   |     -      |       -       |     -      |     -     | 37.553876\n",
      "   4    |   40    |   0.660872   |     -      |       -       |     -      |     -     | 35.996672\n",
      "   4    |   60    |   0.672580   |     -      |       -       |     -      |     -     | 36.435294\n",
      "   4    |   80    |   0.675428   |     -      |       -       |     -      |     -     | 35.893618\n",
      "   4    |   94    |   0.668612   |     -      |       -       |     -      |     -     | 25.120458\n",
      "----------------------------------------------------------------------------------------------------\n",
      "----------------------------------------------------------------------------------------------------\n",
      "   4    |    -    |   0.671187   |  0.666284  |   0.769231    |    0.77    |   0.77    |  191.38  \n",
      "----------------------------------------------------------------------------------------------------\n",
      "\n",
      "\n",
      " Epoch  |  Batch  |  Train Loss  |  Val Loss  | Val Precision | Val Recall |  Val F1   |  Elapsed \n",
      "----------------------------------------------------------------------------------------------------\n",
      "   5    |   20    |   0.659174   |     -      |       -       |     -      |     -     | 37.652877\n",
      "   5    |   40    |   0.674536   |     -      |       -       |     -      |     -     | 36.305516\n",
      "   5    |   60    |   0.653676   |     -      |       -       |     -      |     -     | 35.997973\n",
      "   5    |   80    |   0.671121   |     -      |       -       |     -      |     -     | 36.188668\n",
      "   5    |   94    |   0.668207   |     -      |       -       |     -      |     -     | 25.411496\n",
      "----------------------------------------------------------------------------------------------------\n",
      "----------------------------------------------------------------------------------------------------\n",
      "   5    |    -    |   0.665097   |  0.665364  |   0.769231    |    0.77    |   0.77    |  192.07  \n",
      "----------------------------------------------------------------------------------------------------\n",
      "\n",
      "\n",
      "Training complete!\n",
      "Saving model to /kaggle/working/\n"
     ]
    }
   ],
   "source": [
    "set_seed(42)\n",
    "bert_classifier, optimizer, scheduler = initialize_model(epochs=5)\n",
    "train(bert_classifier, train_dataloader, validation_dataloader, epochs=5, evaluation=True)"
   ]
  },
  {
   "cell_type": "code",
   "execution_count": 23,
   "id": "aaf046ba",
   "metadata": {
    "execution": {
     "iopub.execute_input": "2023-06-09T18:16:53.503733Z",
     "iopub.status.busy": "2023-06-09T18:16:53.503261Z",
     "iopub.status.idle": "2023-06-09T18:16:53.519449Z",
     "shell.execute_reply": "2023-06-09T18:16:53.518145Z"
    },
    "papermill": {
     "duration": 0.035125,
     "end_time": "2023-06-09T18:16:53.522489",
     "exception": false,
     "start_time": "2023-06-09T18:16:53.487364",
     "status": "completed"
    },
    "tags": []
   },
   "outputs": [
    {
     "data": {
      "text/plain": [
       "(191, 1)"
      ]
     },
     "execution_count": 23,
     "metadata": {},
     "output_type": "execute_result"
    }
   ],
   "source": [
    "test_labels = np.array([])\n",
    "for i, data in enumerate(test_dataloader):\n",
    "    test_labels = np.append(test_labels, data[2].numpy())\n",
    "test_labels = test_labels.reshape(191,1)\n",
    "test_labels.shape"
   ]
  },
  {
   "cell_type": "code",
   "execution_count": 24,
   "id": "4c84497d",
   "metadata": {
    "execution": {
     "iopub.execute_input": "2023-06-09T18:16:53.554298Z",
     "iopub.status.busy": "2023-06-09T18:16:53.553592Z",
     "iopub.status.idle": "2023-06-09T18:17:15.012558Z",
     "shell.execute_reply": "2023-06-09T18:17:15.011134Z"
    },
    "papermill": {
     "duration": 21.479134,
     "end_time": "2023-06-09T18:17:15.016456",
     "exception": false,
     "start_time": "2023-06-09T18:16:53.537322",
     "status": "completed"
    },
    "tags": []
   },
   "outputs": [
    {
     "name": "stdout",
     "output_type": "stream",
     "text": [
      "Precision: 0.7215\n",
      "Recall: 0.5588\n",
      "F1: 0.6298\n"
     ]
    }
   ],
   "source": [
    "probs = bert_predict(bert_classifier, test_dataloader)\n",
    "\n",
    "# Get predictions from the probabilities\n",
    "threshold = 0.5\n",
    "preds = np.where(probs > threshold, 1, 0)\n",
    "\n",
    "results = calculate_metrics(pred = preds,target = test_labels.astype(\"int\"))\n",
    "print(f'Precision: {results[\"precision\"]:.4f}')\n",
    "print(f'Recall: {results[\"recall\"]:.4f}')\n",
    "print(f'F1: {results[\"f1\"]:.4f}')\n",
    "\n",
    "\n",
    "csvFile = open('tweets-binary-prediction-results-v3.csv', 'w')\n",
    "csvWriter = csv.writer(csvFile)\n",
    "for i in preds:\n",
    "    csvWriter.writerow(i)\n",
    "csvFile.close()\n"
   ]
  }
 ],
 "metadata": {
  "kernelspec": {
   "display_name": "Python 3",
   "language": "python",
   "name": "python3"
  },
  "language_info": {
   "codemirror_mode": {
    "name": "ipython",
    "version": 3
   },
   "file_extension": ".py",
   "mimetype": "text/x-python",
   "name": "python",
   "nbconvert_exporter": "python",
   "pygments_lexer": "ipython3",
   "version": "3.7.12"
  },
  "papermill": {
   "default_parameters": {},
   "duration": 1083.413257,
   "end_time": "2023-06-09T18:17:18.315048",
   "environment_variables": {},
   "exception": null,
   "input_path": "__notebook__.ipynb",
   "output_path": "__notebook__.ipynb",
   "parameters": {},
   "start_time": "2023-06-09T17:59:14.901791",
   "version": "2.4.0"
  },
  "widgets": {
   "application/vnd.jupyter.widget-state+json": {
    "state": {
     "0b15e16bb3c7485a9e0241632193929b": {
      "model_module": "@jupyter-widgets/base",
      "model_module_version": "1.2.0",
      "model_name": "LayoutModel",
      "state": {
       "_model_module": "@jupyter-widgets/base",
       "_model_module_version": "1.2.0",
       "_model_name": "LayoutModel",
       "_view_count": null,
       "_view_module": "@jupyter-widgets/base",
       "_view_module_version": "1.2.0",
       "_view_name": "LayoutView",
       "align_content": null,
       "align_items": null,
       "align_self": null,
       "border": null,
       "bottom": null,
       "display": null,
       "flex": null,
       "flex_flow": null,
       "grid_area": null,
       "grid_auto_columns": null,
       "grid_auto_flow": null,
       "grid_auto_rows": null,
       "grid_column": null,
       "grid_gap": null,
       "grid_row": null,
       "grid_template_areas": null,
       "grid_template_columns": null,
       "grid_template_rows": null,
       "height": null,
       "justify_content": null,
       "justify_items": null,
       "left": null,
       "margin": null,
       "max_height": null,
       "max_width": null,
       "min_height": null,
       "min_width": null,
       "object_fit": null,
       "object_position": null,
       "order": null,
       "overflow": null,
       "overflow_x": null,
       "overflow_y": null,
       "padding": null,
       "right": null,
       "top": null,
       "visibility": null,
       "width": null
      }
     },
     "0e6e205d95d047e4b3d50b12d030ff92": {
      "model_module": "@jupyter-widgets/controls",
      "model_module_version": "1.5.0",
      "model_name": "DescriptionStyleModel",
      "state": {
       "_model_module": "@jupyter-widgets/controls",
       "_model_module_version": "1.5.0",
       "_model_name": "DescriptionStyleModel",
       "_view_count": null,
       "_view_module": "@jupyter-widgets/base",
       "_view_module_version": "1.2.0",
       "_view_name": "StyleView",
       "description_width": ""
      }
     },
     "126e093ee6aa4291985cdeaf494cdc94": {
      "model_module": "@jupyter-widgets/controls",
      "model_module_version": "1.5.0",
      "model_name": "DescriptionStyleModel",
      "state": {
       "_model_module": "@jupyter-widgets/controls",
       "_model_module_version": "1.5.0",
       "_model_name": "DescriptionStyleModel",
       "_view_count": null,
       "_view_module": "@jupyter-widgets/base",
       "_view_module_version": "1.2.0",
       "_view_name": "StyleView",
       "description_width": ""
      }
     },
     "14b19ed827c049d3b358adc9d456405d": {
      "model_module": "@jupyter-widgets/controls",
      "model_module_version": "1.5.0",
      "model_name": "HTMLModel",
      "state": {
       "_dom_classes": [],
       "_model_module": "@jupyter-widgets/controls",
       "_model_module_version": "1.5.0",
       "_model_name": "HTMLModel",
       "_view_count": null,
       "_view_module": "@jupyter-widgets/controls",
       "_view_module_version": "1.5.0",
       "_view_name": "HTMLView",
       "description": "",
       "description_tooltip": null,
       "layout": "IPY_MODEL_d4a33595bb414705b3c11edc1a9c391d",
       "placeholder": "​",
       "style": "IPY_MODEL_a0ff38bcfa6b45b89e9417a523caf978",
       "value": " 29.0/29.0 [00:00&lt;00:00, 1.14kB/s]"
      }
     },
     "1f26405a7a4747ab87d4cb6b959a526a": {
      "model_module": "@jupyter-widgets/base",
      "model_module_version": "1.2.0",
      "model_name": "LayoutModel",
      "state": {
       "_model_module": "@jupyter-widgets/base",
       "_model_module_version": "1.2.0",
       "_model_name": "LayoutModel",
       "_view_count": null,
       "_view_module": "@jupyter-widgets/base",
       "_view_module_version": "1.2.0",
       "_view_name": "LayoutView",
       "align_content": null,
       "align_items": null,
       "align_self": null,
       "border": null,
       "bottom": null,
       "display": null,
       "flex": null,
       "flex_flow": null,
       "grid_area": null,
       "grid_auto_columns": null,
       "grid_auto_flow": null,
       "grid_auto_rows": null,
       "grid_column": null,
       "grid_gap": null,
       "grid_row": null,
       "grid_template_areas": null,
       "grid_template_columns": null,
       "grid_template_rows": null,
       "height": null,
       "justify_content": null,
       "justify_items": null,
       "left": null,
       "margin": null,
       "max_height": null,
       "max_width": null,
       "min_height": null,
       "min_width": null,
       "object_fit": null,
       "object_position": null,
       "order": null,
       "overflow": null,
       "overflow_x": null,
       "overflow_y": null,
       "padding": null,
       "right": null,
       "top": null,
       "visibility": null,
       "width": null
      }
     },
     "21ae3ede24584c2aafed4270054384a0": {
      "model_module": "@jupyter-widgets/controls",
      "model_module_version": "1.5.0",
      "model_name": "HTMLModel",
      "state": {
       "_dom_classes": [],
       "_model_module": "@jupyter-widgets/controls",
       "_model_module_version": "1.5.0",
       "_model_name": "HTMLModel",
       "_view_count": null,
       "_view_module": "@jupyter-widgets/controls",
       "_view_module_version": "1.5.0",
       "_view_name": "HTMLView",
       "description": "",
       "description_tooltip": null,
       "layout": "IPY_MODEL_69ea665ad4a04dddb659e6b2e4902e82",
       "placeholder": "​",
       "style": "IPY_MODEL_fcfa7375ceff430cb60ebcb6ecc8eb7a",
       "value": "Downloading (…)lve/main/config.json: 100%"
      }
     },
     "227332ef3dc8405e8427e7346c30ed5d": {
      "model_module": "@jupyter-widgets/controls",
      "model_module_version": "1.5.0",
      "model_name": "FloatProgressModel",
      "state": {
       "_dom_classes": [],
       "_model_module": "@jupyter-widgets/controls",
       "_model_module_version": "1.5.0",
       "_model_name": "FloatProgressModel",
       "_view_count": null,
       "_view_module": "@jupyter-widgets/controls",
       "_view_module_version": "1.5.0",
       "_view_name": "ProgressView",
       "bar_style": "success",
       "description": "",
       "description_tooltip": null,
       "layout": "IPY_MODEL_1f26405a7a4747ab87d4cb6b959a526a",
       "max": 714314041.0,
       "min": 0.0,
       "orientation": "horizontal",
       "style": "IPY_MODEL_55b82e600a4e4a6d9d80503328d1b2df",
       "value": 714314041.0
      }
     },
     "27c21b942262422595908cf925f4f2c1": {
      "model_module": "@jupyter-widgets/controls",
      "model_module_version": "1.5.0",
      "model_name": "HBoxModel",
      "state": {
       "_dom_classes": [],
       "_model_module": "@jupyter-widgets/controls",
       "_model_module_version": "1.5.0",
       "_model_name": "HBoxModel",
       "_view_count": null,
       "_view_module": "@jupyter-widgets/controls",
       "_view_module_version": "1.5.0",
       "_view_name": "HBoxView",
       "box_style": "",
       "children": [
        "IPY_MODEL_989d67bb82c14a2d827fee73c71b9636",
        "IPY_MODEL_a06879e871614e5f98789f72566be144",
        "IPY_MODEL_14b19ed827c049d3b358adc9d456405d"
       ],
       "layout": "IPY_MODEL_47b3e22b91f944918ef3add626bc1b75"
      }
     },
     "2b2c80de4e114376998777081b0bbdf6": {
      "model_module": "@jupyter-widgets/controls",
      "model_module_version": "1.5.0",
      "model_name": "ProgressStyleModel",
      "state": {
       "_model_module": "@jupyter-widgets/controls",
       "_model_module_version": "1.5.0",
       "_model_name": "ProgressStyleModel",
       "_view_count": null,
       "_view_module": "@jupyter-widgets/base",
       "_view_module_version": "1.2.0",
       "_view_name": "StyleView",
       "bar_color": null,
       "description_width": ""
      }
     },
     "2eb15d75aeda41ccb809b497a031ef36": {
      "model_module": "@jupyter-widgets/base",
      "model_module_version": "1.2.0",
      "model_name": "LayoutModel",
      "state": {
       "_model_module": "@jupyter-widgets/base",
       "_model_module_version": "1.2.0",
       "_model_name": "LayoutModel",
       "_view_count": null,
       "_view_module": "@jupyter-widgets/base",
       "_view_module_version": "1.2.0",
       "_view_name": "LayoutView",
       "align_content": null,
       "align_items": null,
       "align_self": null,
       "border": null,
       "bottom": null,
       "display": null,
       "flex": null,
       "flex_flow": null,
       "grid_area": null,
       "grid_auto_columns": null,
       "grid_auto_flow": null,
       "grid_auto_rows": null,
       "grid_column": null,
       "grid_gap": null,
       "grid_row": null,
       "grid_template_areas": null,
       "grid_template_columns": null,
       "grid_template_rows": null,
       "height": null,
       "justify_content": null,
       "justify_items": null,
       "left": null,
       "margin": null,
       "max_height": null,
       "max_width": null,
       "min_height": null,
       "min_width": null,
       "object_fit": null,
       "object_position": null,
       "order": null,
       "overflow": null,
       "overflow_x": null,
       "overflow_y": null,
       "padding": null,
       "right": null,
       "top": null,
       "visibility": null,
       "width": null
      }
     },
     "3023d62a27464f7ca531ac77b7576473": {
      "model_module": "@jupyter-widgets/controls",
      "model_module_version": "1.5.0",
      "model_name": "HTMLModel",
      "state": {
       "_dom_classes": [],
       "_model_module": "@jupyter-widgets/controls",
       "_model_module_version": "1.5.0",
       "_model_name": "HTMLModel",
       "_view_count": null,
       "_view_module": "@jupyter-widgets/controls",
       "_view_module_version": "1.5.0",
       "_view_name": "HTMLView",
       "description": "",
       "description_tooltip": null,
       "layout": "IPY_MODEL_539eeb093ad34cd591f18e21f261dcbf",
       "placeholder": "​",
       "style": "IPY_MODEL_618f25eb49e548fdb5e146391eb9753a",
       "value": "Downloading pytorch_model.bin: 100%"
      }
     },
     "3ce974fbb5fc44d68f3e968248d81521": {
      "model_module": "@jupyter-widgets/controls",
      "model_module_version": "1.5.0",
      "model_name": "HBoxModel",
      "state": {
       "_dom_classes": [],
       "_model_module": "@jupyter-widgets/controls",
       "_model_module_version": "1.5.0",
       "_model_name": "HBoxModel",
       "_view_count": null,
       "_view_module": "@jupyter-widgets/controls",
       "_view_module_version": "1.5.0",
       "_view_name": "HBoxView",
       "box_style": "",
       "children": [
        "IPY_MODEL_fffb440f965244d1bc066225b90545a2",
        "IPY_MODEL_b22d9b28602a43e089ff8fc09d101739",
        "IPY_MODEL_fd96f2779e634352a4afc7ac04664cbb"
       ],
       "layout": "IPY_MODEL_df2154d11e45442998f37662d85c88c4"
      }
     },
     "3f95d10235234c8b9035bc2be012408a": {
      "model_module": "@jupyter-widgets/base",
      "model_module_version": "1.2.0",
      "model_name": "LayoutModel",
      "state": {
       "_model_module": "@jupyter-widgets/base",
       "_model_module_version": "1.2.0",
       "_model_name": "LayoutModel",
       "_view_count": null,
       "_view_module": "@jupyter-widgets/base",
       "_view_module_version": "1.2.0",
       "_view_name": "LayoutView",
       "align_content": null,
       "align_items": null,
       "align_self": null,
       "border": null,
       "bottom": null,
       "display": null,
       "flex": null,
       "flex_flow": null,
       "grid_area": null,
       "grid_auto_columns": null,
       "grid_auto_flow": null,
       "grid_auto_rows": null,
       "grid_column": null,
       "grid_gap": null,
       "grid_row": null,
       "grid_template_areas": null,
       "grid_template_columns": null,
       "grid_template_rows": null,
       "height": null,
       "justify_content": null,
       "justify_items": null,
       "left": null,
       "margin": null,
       "max_height": null,
       "max_width": null,
       "min_height": null,
       "min_width": null,
       "object_fit": null,
       "object_position": null,
       "order": null,
       "overflow": null,
       "overflow_x": null,
       "overflow_y": null,
       "padding": null,
       "right": null,
       "top": null,
       "visibility": null,
       "width": null
      }
     },
     "4339b47d2a8542a6a5dc31ab97b86370": {
      "model_module": "@jupyter-widgets/base",
      "model_module_version": "1.2.0",
      "model_name": "LayoutModel",
      "state": {
       "_model_module": "@jupyter-widgets/base",
       "_model_module_version": "1.2.0",
       "_model_name": "LayoutModel",
       "_view_count": null,
       "_view_module": "@jupyter-widgets/base",
       "_view_module_version": "1.2.0",
       "_view_name": "LayoutView",
       "align_content": null,
       "align_items": null,
       "align_self": null,
       "border": null,
       "bottom": null,
       "display": null,
       "flex": null,
       "flex_flow": null,
       "grid_area": null,
       "grid_auto_columns": null,
       "grid_auto_flow": null,
       "grid_auto_rows": null,
       "grid_column": null,
       "grid_gap": null,
       "grid_row": null,
       "grid_template_areas": null,
       "grid_template_columns": null,
       "grid_template_rows": null,
       "height": null,
       "justify_content": null,
       "justify_items": null,
       "left": null,
       "margin": null,
       "max_height": null,
       "max_width": null,
       "min_height": null,
       "min_width": null,
       "object_fit": null,
       "object_position": null,
       "order": null,
       "overflow": null,
       "overflow_x": null,
       "overflow_y": null,
       "padding": null,
       "right": null,
       "top": null,
       "visibility": null,
       "width": null
      }
     },
     "47b3e22b91f944918ef3add626bc1b75": {
      "model_module": "@jupyter-widgets/base",
      "model_module_version": "1.2.0",
      "model_name": "LayoutModel",
      "state": {
       "_model_module": "@jupyter-widgets/base",
       "_model_module_version": "1.2.0",
       "_model_name": "LayoutModel",
       "_view_count": null,
       "_view_module": "@jupyter-widgets/base",
       "_view_module_version": "1.2.0",
       "_view_name": "LayoutView",
       "align_content": null,
       "align_items": null,
       "align_self": null,
       "border": null,
       "bottom": null,
       "display": null,
       "flex": null,
       "flex_flow": null,
       "grid_area": null,
       "grid_auto_columns": null,
       "grid_auto_flow": null,
       "grid_auto_rows": null,
       "grid_column": null,
       "grid_gap": null,
       "grid_row": null,
       "grid_template_areas": null,
       "grid_template_columns": null,
       "grid_template_rows": null,
       "height": null,
       "justify_content": null,
       "justify_items": null,
       "left": null,
       "margin": null,
       "max_height": null,
       "max_width": null,
       "min_height": null,
       "min_width": null,
       "object_fit": null,
       "object_position": null,
       "order": null,
       "overflow": null,
       "overflow_x": null,
       "overflow_y": null,
       "padding": null,
       "right": null,
       "top": null,
       "visibility": null,
       "width": null
      }
     },
     "492f470073de4ec7b72a978591bf6976": {
      "model_module": "@jupyter-widgets/base",
      "model_module_version": "1.2.0",
      "model_name": "LayoutModel",
      "state": {
       "_model_module": "@jupyter-widgets/base",
       "_model_module_version": "1.2.0",
       "_model_name": "LayoutModel",
       "_view_count": null,
       "_view_module": "@jupyter-widgets/base",
       "_view_module_version": "1.2.0",
       "_view_name": "LayoutView",
       "align_content": null,
       "align_items": null,
       "align_self": null,
       "border": null,
       "bottom": null,
       "display": null,
       "flex": null,
       "flex_flow": null,
       "grid_area": null,
       "grid_auto_columns": null,
       "grid_auto_flow": null,
       "grid_auto_rows": null,
       "grid_column": null,
       "grid_gap": null,
       "grid_row": null,
       "grid_template_areas": null,
       "grid_template_columns": null,
       "grid_template_rows": null,
       "height": null,
       "justify_content": null,
       "justify_items": null,
       "left": null,
       "margin": null,
       "max_height": null,
       "max_width": null,
       "min_height": null,
       "min_width": null,
       "object_fit": null,
       "object_position": null,
       "order": null,
       "overflow": null,
       "overflow_x": null,
       "overflow_y": null,
       "padding": null,
       "right": null,
       "top": null,
       "visibility": null,
       "width": null
      }
     },
     "49c7ad1b1d2e4973befad7ea333a2952": {
      "model_module": "@jupyter-widgets/controls",
      "model_module_version": "1.5.0",
      "model_name": "DescriptionStyleModel",
      "state": {
       "_model_module": "@jupyter-widgets/controls",
       "_model_module_version": "1.5.0",
       "_model_name": "DescriptionStyleModel",
       "_view_count": null,
       "_view_module": "@jupyter-widgets/base",
       "_view_module_version": "1.2.0",
       "_view_name": "StyleView",
       "description_width": ""
      }
     },
     "539eeb093ad34cd591f18e21f261dcbf": {
      "model_module": "@jupyter-widgets/base",
      "model_module_version": "1.2.0",
      "model_name": "LayoutModel",
      "state": {
       "_model_module": "@jupyter-widgets/base",
       "_model_module_version": "1.2.0",
       "_model_name": "LayoutModel",
       "_view_count": null,
       "_view_module": "@jupyter-widgets/base",
       "_view_module_version": "1.2.0",
       "_view_name": "LayoutView",
       "align_content": null,
       "align_items": null,
       "align_self": null,
       "border": null,
       "bottom": null,
       "display": null,
       "flex": null,
       "flex_flow": null,
       "grid_area": null,
       "grid_auto_columns": null,
       "grid_auto_flow": null,
       "grid_auto_rows": null,
       "grid_column": null,
       "grid_gap": null,
       "grid_row": null,
       "grid_template_areas": null,
       "grid_template_columns": null,
       "grid_template_rows": null,
       "height": null,
       "justify_content": null,
       "justify_items": null,
       "left": null,
       "margin": null,
       "max_height": null,
       "max_width": null,
       "min_height": null,
       "min_width": null,
       "object_fit": null,
       "object_position": null,
       "order": null,
       "overflow": null,
       "overflow_x": null,
       "overflow_y": null,
       "padding": null,
       "right": null,
       "top": null,
       "visibility": null,
       "width": null
      }
     },
     "55b82e600a4e4a6d9d80503328d1b2df": {
      "model_module": "@jupyter-widgets/controls",
      "model_module_version": "1.5.0",
      "model_name": "ProgressStyleModel",
      "state": {
       "_model_module": "@jupyter-widgets/controls",
       "_model_module_version": "1.5.0",
       "_model_name": "ProgressStyleModel",
       "_view_count": null,
       "_view_module": "@jupyter-widgets/base",
       "_view_module_version": "1.2.0",
       "_view_name": "StyleView",
       "bar_color": null,
       "description_width": ""
      }
     },
     "618f25eb49e548fdb5e146391eb9753a": {
      "model_module": "@jupyter-widgets/controls",
      "model_module_version": "1.5.0",
      "model_name": "DescriptionStyleModel",
      "state": {
       "_model_module": "@jupyter-widgets/controls",
       "_model_module_version": "1.5.0",
       "_model_name": "DescriptionStyleModel",
       "_view_count": null,
       "_view_module": "@jupyter-widgets/base",
       "_view_module_version": "1.2.0",
       "_view_name": "StyleView",
       "description_width": ""
      }
     },
     "69ea665ad4a04dddb659e6b2e4902e82": {
      "model_module": "@jupyter-widgets/base",
      "model_module_version": "1.2.0",
      "model_name": "LayoutModel",
      "state": {
       "_model_module": "@jupyter-widgets/base",
       "_model_module_version": "1.2.0",
       "_model_name": "LayoutModel",
       "_view_count": null,
       "_view_module": "@jupyter-widgets/base",
       "_view_module_version": "1.2.0",
       "_view_name": "LayoutView",
       "align_content": null,
       "align_items": null,
       "align_self": null,
       "border": null,
       "bottom": null,
       "display": null,
       "flex": null,
       "flex_flow": null,
       "grid_area": null,
       "grid_auto_columns": null,
       "grid_auto_flow": null,
       "grid_auto_rows": null,
       "grid_column": null,
       "grid_gap": null,
       "grid_row": null,
       "grid_template_areas": null,
       "grid_template_columns": null,
       "grid_template_rows": null,
       "height": null,
       "justify_content": null,
       "justify_items": null,
       "left": null,
       "margin": null,
       "max_height": null,
       "max_width": null,
       "min_height": null,
       "min_width": null,
       "object_fit": null,
       "object_position": null,
       "order": null,
       "overflow": null,
       "overflow_x": null,
       "overflow_y": null,
       "padding": null,
       "right": null,
       "top": null,
       "visibility": null,
       "width": null
      }
     },
     "6c4dcb9bb4ab46b7834d15f91be551cc": {
      "model_module": "@jupyter-widgets/controls",
      "model_module_version": "1.5.0",
      "model_name": "DescriptionStyleModel",
      "state": {
       "_model_module": "@jupyter-widgets/controls",
       "_model_module_version": "1.5.0",
       "_model_name": "DescriptionStyleModel",
       "_view_count": null,
       "_view_module": "@jupyter-widgets/base",
       "_view_module_version": "1.2.0",
       "_view_name": "StyleView",
       "description_width": ""
      }
     },
     "6e003fa7ca754cf09b8ac67e7c4add05": {
      "model_module": "@jupyter-widgets/controls",
      "model_module_version": "1.5.0",
      "model_name": "DescriptionStyleModel",
      "state": {
       "_model_module": "@jupyter-widgets/controls",
       "_model_module_version": "1.5.0",
       "_model_name": "DescriptionStyleModel",
       "_view_count": null,
       "_view_module": "@jupyter-widgets/base",
       "_view_module_version": "1.2.0",
       "_view_name": "StyleView",
       "description_width": ""
      }
     },
     "6e0113b17a614bfeaf5a7bef403f2072": {
      "model_module": "@jupyter-widgets/controls",
      "model_module_version": "1.5.0",
      "model_name": "HTMLModel",
      "state": {
       "_dom_classes": [],
       "_model_module": "@jupyter-widgets/controls",
       "_model_module_version": "1.5.0",
       "_model_name": "HTMLModel",
       "_view_count": null,
       "_view_module": "@jupyter-widgets/controls",
       "_view_module_version": "1.5.0",
       "_view_name": "HTMLView",
       "description": "",
       "description_tooltip": null,
       "layout": "IPY_MODEL_a7b054e01cc8472ca85603ec5ee2b56f",
       "placeholder": "​",
       "style": "IPY_MODEL_49c7ad1b1d2e4973befad7ea333a2952",
       "value": " 625/625 [00:00&lt;00:00, 28.1kB/s]"
      }
     },
     "7680b9c745d142ce8d976a0fc747b015": {
      "model_module": "@jupyter-widgets/controls",
      "model_module_version": "1.5.0",
      "model_name": "ProgressStyleModel",
      "state": {
       "_model_module": "@jupyter-widgets/controls",
       "_model_module_version": "1.5.0",
       "_model_name": "ProgressStyleModel",
       "_view_count": null,
       "_view_module": "@jupyter-widgets/base",
       "_view_module_version": "1.2.0",
       "_view_name": "StyleView",
       "bar_color": null,
       "description_width": ""
      }
     },
     "7b9443da257642e28b8ea25092a3f0bd": {
      "model_module": "@jupyter-widgets/controls",
      "model_module_version": "1.5.0",
      "model_name": "HTMLModel",
      "state": {
       "_dom_classes": [],
       "_model_module": "@jupyter-widgets/controls",
       "_model_module_version": "1.5.0",
       "_model_name": "HTMLModel",
       "_view_count": null,
       "_view_module": "@jupyter-widgets/controls",
       "_view_module_version": "1.5.0",
       "_view_name": "HTMLView",
       "description": "",
       "description_tooltip": null,
       "layout": "IPY_MODEL_f9c0f6f31fdf43c7a07289ff1b200349",
       "placeholder": "​",
       "style": "IPY_MODEL_6e003fa7ca754cf09b8ac67e7c4add05",
       "value": " 714M/714M [00:17&lt;00:00, 36.3MB/s]"
      }
     },
     "903196af569b4a6e8222b777c4a3655d": {
      "model_module": "@jupyter-widgets/controls",
      "model_module_version": "1.5.0",
      "model_name": "FloatProgressModel",
      "state": {
       "_dom_classes": [],
       "_model_module": "@jupyter-widgets/controls",
       "_model_module_version": "1.5.0",
       "_model_name": "FloatProgressModel",
       "_view_count": null,
       "_view_module": "@jupyter-widgets/controls",
       "_view_module_version": "1.5.0",
       "_view_name": "ProgressView",
       "bar_style": "success",
       "description": "",
       "description_tooltip": null,
       "layout": "IPY_MODEL_3f95d10235234c8b9035bc2be012408a",
       "max": 625.0,
       "min": 0.0,
       "orientation": "horizontal",
       "style": "IPY_MODEL_2b2c80de4e114376998777081b0bbdf6",
       "value": 625.0
      }
     },
     "989d67bb82c14a2d827fee73c71b9636": {
      "model_module": "@jupyter-widgets/controls",
      "model_module_version": "1.5.0",
      "model_name": "HTMLModel",
      "state": {
       "_dom_classes": [],
       "_model_module": "@jupyter-widgets/controls",
       "_model_module_version": "1.5.0",
       "_model_name": "HTMLModel",
       "_view_count": null,
       "_view_module": "@jupyter-widgets/controls",
       "_view_module_version": "1.5.0",
       "_view_name": "HTMLView",
       "description": "",
       "description_tooltip": null,
       "layout": "IPY_MODEL_0b15e16bb3c7485a9e0241632193929b",
       "placeholder": "​",
       "style": "IPY_MODEL_126e093ee6aa4291985cdeaf494cdc94",
       "value": "Downloading (…)okenizer_config.json: 100%"
      }
     },
     "a06879e871614e5f98789f72566be144": {
      "model_module": "@jupyter-widgets/controls",
      "model_module_version": "1.5.0",
      "model_name": "FloatProgressModel",
      "state": {
       "_dom_classes": [],
       "_model_module": "@jupyter-widgets/controls",
       "_model_module_version": "1.5.0",
       "_model_name": "FloatProgressModel",
       "_view_count": null,
       "_view_module": "@jupyter-widgets/controls",
       "_view_module_version": "1.5.0",
       "_view_name": "ProgressView",
       "bar_style": "success",
       "description": "",
       "description_tooltip": null,
       "layout": "IPY_MODEL_b7b803c575bb4df39fa56c50824221af",
       "max": 29.0,
       "min": 0.0,
       "orientation": "horizontal",
       "style": "IPY_MODEL_7680b9c745d142ce8d976a0fc747b015",
       "value": 29.0
      }
     },
     "a0ff38bcfa6b45b89e9417a523caf978": {
      "model_module": "@jupyter-widgets/controls",
      "model_module_version": "1.5.0",
      "model_name": "DescriptionStyleModel",
      "state": {
       "_model_module": "@jupyter-widgets/controls",
       "_model_module_version": "1.5.0",
       "_model_name": "DescriptionStyleModel",
       "_view_count": null,
       "_view_module": "@jupyter-widgets/base",
       "_view_module_version": "1.2.0",
       "_view_name": "StyleView",
       "description_width": ""
      }
     },
     "a245d5bd129e4e2cacdb44a5768a5c91": {
      "model_module": "@jupyter-widgets/base",
      "model_module_version": "1.2.0",
      "model_name": "LayoutModel",
      "state": {
       "_model_module": "@jupyter-widgets/base",
       "_model_module_version": "1.2.0",
       "_model_name": "LayoutModel",
       "_view_count": null,
       "_view_module": "@jupyter-widgets/base",
       "_view_module_version": "1.2.0",
       "_view_name": "LayoutView",
       "align_content": null,
       "align_items": null,
       "align_self": null,
       "border": null,
       "bottom": null,
       "display": null,
       "flex": null,
       "flex_flow": null,
       "grid_area": null,
       "grid_auto_columns": null,
       "grid_auto_flow": null,
       "grid_auto_rows": null,
       "grid_column": null,
       "grid_gap": null,
       "grid_row": null,
       "grid_template_areas": null,
       "grid_template_columns": null,
       "grid_template_rows": null,
       "height": null,
       "justify_content": null,
       "justify_items": null,
       "left": null,
       "margin": null,
       "max_height": null,
       "max_width": null,
       "min_height": null,
       "min_width": null,
       "object_fit": null,
       "object_position": null,
       "order": null,
       "overflow": null,
       "overflow_x": null,
       "overflow_y": null,
       "padding": null,
       "right": null,
       "top": null,
       "visibility": null,
       "width": null
      }
     },
     "a4a7f40eb8e44caeb20076658982fd74": {
      "model_module": "@jupyter-widgets/controls",
      "model_module_version": "1.5.0",
      "model_name": "ProgressStyleModel",
      "state": {
       "_model_module": "@jupyter-widgets/controls",
       "_model_module_version": "1.5.0",
       "_model_name": "ProgressStyleModel",
       "_view_count": null,
       "_view_module": "@jupyter-widgets/base",
       "_view_module_version": "1.2.0",
       "_view_name": "StyleView",
       "bar_color": null,
       "description_width": ""
      }
     },
     "a7b054e01cc8472ca85603ec5ee2b56f": {
      "model_module": "@jupyter-widgets/base",
      "model_module_version": "1.2.0",
      "model_name": "LayoutModel",
      "state": {
       "_model_module": "@jupyter-widgets/base",
       "_model_module_version": "1.2.0",
       "_model_name": "LayoutModel",
       "_view_count": null,
       "_view_module": "@jupyter-widgets/base",
       "_view_module_version": "1.2.0",
       "_view_name": "LayoutView",
       "align_content": null,
       "align_items": null,
       "align_self": null,
       "border": null,
       "bottom": null,
       "display": null,
       "flex": null,
       "flex_flow": null,
       "grid_area": null,
       "grid_auto_columns": null,
       "grid_auto_flow": null,
       "grid_auto_rows": null,
       "grid_column": null,
       "grid_gap": null,
       "grid_row": null,
       "grid_template_areas": null,
       "grid_template_columns": null,
       "grid_template_rows": null,
       "height": null,
       "justify_content": null,
       "justify_items": null,
       "left": null,
       "margin": null,
       "max_height": null,
       "max_width": null,
       "min_height": null,
       "min_width": null,
       "object_fit": null,
       "object_position": null,
       "order": null,
       "overflow": null,
       "overflow_x": null,
       "overflow_y": null,
       "padding": null,
       "right": null,
       "top": null,
       "visibility": null,
       "width": null
      }
     },
     "b22d9b28602a43e089ff8fc09d101739": {
      "model_module": "@jupyter-widgets/controls",
      "model_module_version": "1.5.0",
      "model_name": "FloatProgressModel",
      "state": {
       "_dom_classes": [],
       "_model_module": "@jupyter-widgets/controls",
       "_model_module_version": "1.5.0",
       "_model_name": "FloatProgressModel",
       "_view_count": null,
       "_view_module": "@jupyter-widgets/controls",
       "_view_module_version": "1.5.0",
       "_view_name": "ProgressView",
       "bar_style": "success",
       "description": "",
       "description_tooltip": null,
       "layout": "IPY_MODEL_4339b47d2a8542a6a5dc31ab97b86370",
       "max": 995526.0,
       "min": 0.0,
       "orientation": "horizontal",
       "style": "IPY_MODEL_a4a7f40eb8e44caeb20076658982fd74",
       "value": 995526.0
      }
     },
     "b7b803c575bb4df39fa56c50824221af": {
      "model_module": "@jupyter-widgets/base",
      "model_module_version": "1.2.0",
      "model_name": "LayoutModel",
      "state": {
       "_model_module": "@jupyter-widgets/base",
       "_model_module_version": "1.2.0",
       "_model_name": "LayoutModel",
       "_view_count": null,
       "_view_module": "@jupyter-widgets/base",
       "_view_module_version": "1.2.0",
       "_view_name": "LayoutView",
       "align_content": null,
       "align_items": null,
       "align_self": null,
       "border": null,
       "bottom": null,
       "display": null,
       "flex": null,
       "flex_flow": null,
       "grid_area": null,
       "grid_auto_columns": null,
       "grid_auto_flow": null,
       "grid_auto_rows": null,
       "grid_column": null,
       "grid_gap": null,
       "grid_row": null,
       "grid_template_areas": null,
       "grid_template_columns": null,
       "grid_template_rows": null,
       "height": null,
       "justify_content": null,
       "justify_items": null,
       "left": null,
       "margin": null,
       "max_height": null,
       "max_width": null,
       "min_height": null,
       "min_width": null,
       "object_fit": null,
       "object_position": null,
       "order": null,
       "overflow": null,
       "overflow_x": null,
       "overflow_y": null,
       "padding": null,
       "right": null,
       "top": null,
       "visibility": null,
       "width": null
      }
     },
     "c7ab7184b6e644a096c2ed45ae895769": {
      "model_module": "@jupyter-widgets/controls",
      "model_module_version": "1.5.0",
      "model_name": "HBoxModel",
      "state": {
       "_dom_classes": [],
       "_model_module": "@jupyter-widgets/controls",
       "_model_module_version": "1.5.0",
       "_model_name": "HBoxModel",
       "_view_count": null,
       "_view_module": "@jupyter-widgets/controls",
       "_view_module_version": "1.5.0",
       "_view_name": "HBoxView",
       "box_style": "",
       "children": [
        "IPY_MODEL_3023d62a27464f7ca531ac77b7576473",
        "IPY_MODEL_227332ef3dc8405e8427e7346c30ed5d",
        "IPY_MODEL_7b9443da257642e28b8ea25092a3f0bd"
       ],
       "layout": "IPY_MODEL_2eb15d75aeda41ccb809b497a031ef36"
      }
     },
     "caedf73486984d1aa21b511e5698c998": {
      "model_module": "@jupyter-widgets/controls",
      "model_module_version": "1.5.0",
      "model_name": "HBoxModel",
      "state": {
       "_dom_classes": [],
       "_model_module": "@jupyter-widgets/controls",
       "_model_module_version": "1.5.0",
       "_model_name": "HBoxModel",
       "_view_count": null,
       "_view_module": "@jupyter-widgets/controls",
       "_view_module_version": "1.5.0",
       "_view_name": "HBoxView",
       "box_style": "",
       "children": [
        "IPY_MODEL_21ae3ede24584c2aafed4270054384a0",
        "IPY_MODEL_903196af569b4a6e8222b777c4a3655d",
        "IPY_MODEL_6e0113b17a614bfeaf5a7bef403f2072"
       ],
       "layout": "IPY_MODEL_a245d5bd129e4e2cacdb44a5768a5c91"
      }
     },
     "d4a33595bb414705b3c11edc1a9c391d": {
      "model_module": "@jupyter-widgets/base",
      "model_module_version": "1.2.0",
      "model_name": "LayoutModel",
      "state": {
       "_model_module": "@jupyter-widgets/base",
       "_model_module_version": "1.2.0",
       "_model_name": "LayoutModel",
       "_view_count": null,
       "_view_module": "@jupyter-widgets/base",
       "_view_module_version": "1.2.0",
       "_view_name": "LayoutView",
       "align_content": null,
       "align_items": null,
       "align_self": null,
       "border": null,
       "bottom": null,
       "display": null,
       "flex": null,
       "flex_flow": null,
       "grid_area": null,
       "grid_auto_columns": null,
       "grid_auto_flow": null,
       "grid_auto_rows": null,
       "grid_column": null,
       "grid_gap": null,
       "grid_row": null,
       "grid_template_areas": null,
       "grid_template_columns": null,
       "grid_template_rows": null,
       "height": null,
       "justify_content": null,
       "justify_items": null,
       "left": null,
       "margin": null,
       "max_height": null,
       "max_width": null,
       "min_height": null,
       "min_width": null,
       "object_fit": null,
       "object_position": null,
       "order": null,
       "overflow": null,
       "overflow_x": null,
       "overflow_y": null,
       "padding": null,
       "right": null,
       "top": null,
       "visibility": null,
       "width": null
      }
     },
     "df2154d11e45442998f37662d85c88c4": {
      "model_module": "@jupyter-widgets/base",
      "model_module_version": "1.2.0",
      "model_name": "LayoutModel",
      "state": {
       "_model_module": "@jupyter-widgets/base",
       "_model_module_version": "1.2.0",
       "_model_name": "LayoutModel",
       "_view_count": null,
       "_view_module": "@jupyter-widgets/base",
       "_view_module_version": "1.2.0",
       "_view_name": "LayoutView",
       "align_content": null,
       "align_items": null,
       "align_self": null,
       "border": null,
       "bottom": null,
       "display": null,
       "flex": null,
       "flex_flow": null,
       "grid_area": null,
       "grid_auto_columns": null,
       "grid_auto_flow": null,
       "grid_auto_rows": null,
       "grid_column": null,
       "grid_gap": null,
       "grid_row": null,
       "grid_template_areas": null,
       "grid_template_columns": null,
       "grid_template_rows": null,
       "height": null,
       "justify_content": null,
       "justify_items": null,
       "left": null,
       "margin": null,
       "max_height": null,
       "max_width": null,
       "min_height": null,
       "min_width": null,
       "object_fit": null,
       "object_position": null,
       "order": null,
       "overflow": null,
       "overflow_x": null,
       "overflow_y": null,
       "padding": null,
       "right": null,
       "top": null,
       "visibility": null,
       "width": null
      }
     },
     "e44347be1e0a4b608ea7f6fce0ac2481": {
      "model_module": "@jupyter-widgets/base",
      "model_module_version": "1.2.0",
      "model_name": "LayoutModel",
      "state": {
       "_model_module": "@jupyter-widgets/base",
       "_model_module_version": "1.2.0",
       "_model_name": "LayoutModel",
       "_view_count": null,
       "_view_module": "@jupyter-widgets/base",
       "_view_module_version": "1.2.0",
       "_view_name": "LayoutView",
       "align_content": null,
       "align_items": null,
       "align_self": null,
       "border": null,
       "bottom": null,
       "display": null,
       "flex": null,
       "flex_flow": null,
       "grid_area": null,
       "grid_auto_columns": null,
       "grid_auto_flow": null,
       "grid_auto_rows": null,
       "grid_column": null,
       "grid_gap": null,
       "grid_row": null,
       "grid_template_areas": null,
       "grid_template_columns": null,
       "grid_template_rows": null,
       "height": null,
       "justify_content": null,
       "justify_items": null,
       "left": null,
       "margin": null,
       "max_height": null,
       "max_width": null,
       "min_height": null,
       "min_width": null,
       "object_fit": null,
       "object_position": null,
       "order": null,
       "overflow": null,
       "overflow_x": null,
       "overflow_y": null,
       "padding": null,
       "right": null,
       "top": null,
       "visibility": null,
       "width": null
      }
     },
     "f9c0f6f31fdf43c7a07289ff1b200349": {
      "model_module": "@jupyter-widgets/base",
      "model_module_version": "1.2.0",
      "model_name": "LayoutModel",
      "state": {
       "_model_module": "@jupyter-widgets/base",
       "_model_module_version": "1.2.0",
       "_model_name": "LayoutModel",
       "_view_count": null,
       "_view_module": "@jupyter-widgets/base",
       "_view_module_version": "1.2.0",
       "_view_name": "LayoutView",
       "align_content": null,
       "align_items": null,
       "align_self": null,
       "border": null,
       "bottom": null,
       "display": null,
       "flex": null,
       "flex_flow": null,
       "grid_area": null,
       "grid_auto_columns": null,
       "grid_auto_flow": null,
       "grid_auto_rows": null,
       "grid_column": null,
       "grid_gap": null,
       "grid_row": null,
       "grid_template_areas": null,
       "grid_template_columns": null,
       "grid_template_rows": null,
       "height": null,
       "justify_content": null,
       "justify_items": null,
       "left": null,
       "margin": null,
       "max_height": null,
       "max_width": null,
       "min_height": null,
       "min_width": null,
       "object_fit": null,
       "object_position": null,
       "order": null,
       "overflow": null,
       "overflow_x": null,
       "overflow_y": null,
       "padding": null,
       "right": null,
       "top": null,
       "visibility": null,
       "width": null
      }
     },
     "fcfa7375ceff430cb60ebcb6ecc8eb7a": {
      "model_module": "@jupyter-widgets/controls",
      "model_module_version": "1.5.0",
      "model_name": "DescriptionStyleModel",
      "state": {
       "_model_module": "@jupyter-widgets/controls",
       "_model_module_version": "1.5.0",
       "_model_name": "DescriptionStyleModel",
       "_view_count": null,
       "_view_module": "@jupyter-widgets/base",
       "_view_module_version": "1.2.0",
       "_view_name": "StyleView",
       "description_width": ""
      }
     },
     "fd96f2779e634352a4afc7ac04664cbb": {
      "model_module": "@jupyter-widgets/controls",
      "model_module_version": "1.5.0",
      "model_name": "HTMLModel",
      "state": {
       "_dom_classes": [],
       "_model_module": "@jupyter-widgets/controls",
       "_model_module_version": "1.5.0",
       "_model_name": "HTMLModel",
       "_view_count": null,
       "_view_module": "@jupyter-widgets/controls",
       "_view_module_version": "1.5.0",
       "_view_name": "HTMLView",
       "description": "",
       "description_tooltip": null,
       "layout": "IPY_MODEL_e44347be1e0a4b608ea7f6fce0ac2481",
       "placeholder": "​",
       "style": "IPY_MODEL_0e6e205d95d047e4b3d50b12d030ff92",
       "value": " 996k/996k [00:00&lt;00:00, 11.0MB/s]"
      }
     },
     "fffb440f965244d1bc066225b90545a2": {
      "model_module": "@jupyter-widgets/controls",
      "model_module_version": "1.5.0",
      "model_name": "HTMLModel",
      "state": {
       "_dom_classes": [],
       "_model_module": "@jupyter-widgets/controls",
       "_model_module_version": "1.5.0",
       "_model_name": "HTMLModel",
       "_view_count": null,
       "_view_module": "@jupyter-widgets/controls",
       "_view_module_version": "1.5.0",
       "_view_name": "HTMLView",
       "description": "",
       "description_tooltip": null,
       "layout": "IPY_MODEL_492f470073de4ec7b72a978591bf6976",
       "placeholder": "​",
       "style": "IPY_MODEL_6c4dcb9bb4ab46b7834d15f91be551cc",
       "value": "Downloading (…)solve/main/vocab.txt: 100%"
      }
     }
    },
    "version_major": 2,
    "version_minor": 0
   }
  }
 },
 "nbformat": 4,
 "nbformat_minor": 5
}
