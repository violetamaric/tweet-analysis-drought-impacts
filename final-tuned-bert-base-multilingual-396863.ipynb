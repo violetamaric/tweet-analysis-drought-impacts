{
 "cells": [
  {
   "cell_type": "code",
   "execution_count": 1,
   "id": "c5c351d1",
   "metadata": {
    "execution": {
     "iopub.execute_input": "2023-06-09T06:55:28.826391Z",
     "iopub.status.busy": "2023-06-09T06:55:28.825973Z",
     "iopub.status.idle": "2023-06-09T06:55:39.419973Z",
     "shell.execute_reply": "2023-06-09T06:55:39.418419Z"
    },
    "papermill": {
     "duration": 10.603833,
     "end_time": "2023-06-09T06:55:39.422487",
     "exception": false,
     "start_time": "2023-06-09T06:55:28.818654",
     "status": "completed"
    },
    "tags": []
   },
   "outputs": [
    {
     "name": "stdout",
     "output_type": "stream",
     "text": [
      "Collecting torchsummary\r\n",
      "  Downloading torchsummary-1.5.1-py3-none-any.whl (2.8 kB)\r\n",
      "Installing collected packages: torchsummary\r\n",
      "Successfully installed torchsummary-1.5.1\r\n",
      "\u001b[33mWARNING: Running pip as the 'root' user can result in broken permissions and conflicting behaviour with the system package manager. It is recommended to use a virtual environment instead: https://pip.pypa.io/warnings/venv\u001b[0m\u001b[33m\r\n",
      "\u001b[0m"
     ]
    }
   ],
   "source": [
    "!pip install torchsummary"
   ]
  },
  {
   "cell_type": "code",
   "execution_count": 2,
   "id": "cb1c7d71",
   "metadata": {
    "_cell_guid": "b1076dfc-b9ad-4769-8c92-a6c4dae69d19",
    "_uuid": "8f2839f25d086af736a60e9eeb907d3b93b6e0e5",
    "execution": {
     "iopub.execute_input": "2023-06-09T06:55:39.435514Z",
     "iopub.status.busy": "2023-06-09T06:55:39.435118Z",
     "iopub.status.idle": "2023-06-09T06:55:53.461843Z",
     "shell.execute_reply": "2023-06-09T06:55:53.460493Z"
    },
    "papermill": {
     "duration": 14.035769,
     "end_time": "2023-06-09T06:55:53.464171",
     "exception": false,
     "start_time": "2023-06-09T06:55:39.428402",
     "status": "completed"
    },
    "tags": []
   },
   "outputs": [
    {
     "name": "stderr",
     "output_type": "stream",
     "text": [
      "/opt/conda/lib/python3.10/site-packages/scipy/__init__.py:146: UserWarning: A NumPy version >=1.16.5 and <1.23.0 is required for this version of SciPy (detected version 1.23.5\n",
      "  warnings.warn(f\"A NumPy version >={np_minversion} and <{np_maxversion}\"\n"
     ]
    }
   ],
   "source": [
    "import os\n",
    "import numpy as np\n",
    "import pandas as pd\n",
    "import tensorflow as tf\n",
    "import torch\n",
    "import torch.nn as nn\n",
    "from torch.utils.data import TensorDataset, random_split\n",
    "from torch.utils.data import DataLoader, RandomSampler, SequentialSampler\n",
    "from transformers import BertModel\n",
    "from transformers import BertTokenizer\n",
    "from torchsummary import summary\n",
    "from transformers import AdamW, get_linear_schedule_with_warmup\n",
    "from sklearn import metrics\n",
    "import random\n",
    "import time"
   ]
  },
  {
   "cell_type": "markdown",
   "id": "c36fbf49",
   "metadata": {
    "papermill": {
     "duration": 0.005478,
     "end_time": "2023-06-09T06:55:53.475473",
     "exception": false,
     "start_time": "2023-06-09T06:55:53.469995",
     "status": "completed"
    },
    "tags": []
   },
   "source": [
    "data for training"
   ]
  },
  {
   "cell_type": "code",
   "execution_count": 3,
   "id": "f721cc5b",
   "metadata": {
    "execution": {
     "iopub.execute_input": "2023-06-09T06:55:53.488544Z",
     "iopub.status.busy": "2023-06-09T06:55:53.487962Z",
     "iopub.status.idle": "2023-06-09T06:55:53.908091Z",
     "shell.execute_reply": "2023-06-09T06:55:53.906830Z"
    },
    "papermill": {
     "duration": 0.429167,
     "end_time": "2023-06-09T06:55:53.910259",
     "exception": false,
     "start_time": "2023-06-09T06:55:53.481092",
     "status": "completed"
    },
    "tags": []
   },
   "outputs": [],
   "source": [
    "data_to_train = '/kaggle/input/dir-processed/DIR_processed.csv'\n",
    "df_dir = pd.read_csv(data_to_train)\n",
    "\n",
    "titles = df_dir.processed_title.values\n",
    "categories = df_dir.columns.values[-9:-2]\n",
    "labels = df_dir.iloc[:,-9:-2].values"
   ]
  },
  {
   "cell_type": "markdown",
   "id": "c7bebb72",
   "metadata": {
    "papermill": {
     "duration": 0.005246,
     "end_time": "2023-06-09T06:55:53.921244",
     "exception": false,
     "start_time": "2023-06-09T06:55:53.915998",
     "status": "completed"
    },
    "tags": []
   },
   "source": [
    "data for classification task"
   ]
  },
  {
   "cell_type": "code",
   "execution_count": 4,
   "id": "1843ec06",
   "metadata": {
    "execution": {
     "iopub.execute_input": "2023-06-09T06:55:53.933202Z",
     "iopub.status.busy": "2023-06-09T06:55:53.932898Z",
     "iopub.status.idle": "2023-06-09T06:55:54.015153Z",
     "shell.execute_reply": "2023-06-09T06:55:54.013607Z"
    },
    "papermill": {
     "duration": 0.091067,
     "end_time": "2023-06-09T06:55:54.017652",
     "exception": false,
     "start_time": "2023-06-09T06:55:53.926585",
     "status": "completed"
    },
    "tags": []
   },
   "outputs": [],
   "source": [
    "data_to_classify = '/kaggle/input/output-relevant-tweets/tweets-22-v3.csv'\n",
    "#data_to_classify = '/kaggle/input/tweets-binary-v2/tweets-for-binary-class.csv'\n",
    "\n",
    "df = pd.read_csv(data_to_classify, index_col=0, encoding='ISO 8859-1')\n",
    "text_cleaned = df.loc[:,\"text\"].values\n",
    "\n",
    "text_cleaned = [x for x in text_cleaned if str(x) != 'nan']\n",
    "df_text_cleaned = pd.DataFrame({\"cleaned_text\": text_cleaned})\n",
    "df_text_cleaned.cleaned_text.replace('', np.nan, inplace=True)\n",
    "df_text_cleaned = df_text_cleaned.drop_duplicates().dropna().reset_index(drop=True)\n",
    "text_cleaned = df_text_cleaned.cleaned_text.values"
   ]
  },
  {
   "cell_type": "code",
   "execution_count": 5,
   "id": "406af6ae",
   "metadata": {
    "execution": {
     "iopub.execute_input": "2023-06-09T06:55:54.031770Z",
     "iopub.status.busy": "2023-06-09T06:55:54.031427Z",
     "iopub.status.idle": "2023-06-09T06:55:55.796168Z",
     "shell.execute_reply": "2023-06-09T06:55:55.795528Z"
    },
    "papermill": {
     "duration": 1.774047,
     "end_time": "2023-06-09T06:55:55.798054",
     "exception": false,
     "start_time": "2023-06-09T06:55:54.024007",
     "status": "completed"
    },
    "tags": []
   },
   "outputs": [
    {
     "data": {
      "application/vnd.jupyter.widget-view+json": {
       "model_id": "40632207bc1f4ddb9b344091e94d5a05",
       "version_major": 2,
       "version_minor": 0
      },
      "text/plain": [
       "Downloading (…)solve/main/vocab.txt:   0%|          | 0.00/996k [00:00<?, ?B/s]"
      ]
     },
     "metadata": {},
     "output_type": "display_data"
    },
    {
     "data": {
      "application/vnd.jupyter.widget-view+json": {
       "model_id": "b2e5b43eb6aa49c68009c4c7e2f31341",
       "version_major": 2,
       "version_minor": 0
      },
      "text/plain": [
       "Downloading (…)okenizer_config.json:   0%|          | 0.00/29.0 [00:00<?, ?B/s]"
      ]
     },
     "metadata": {},
     "output_type": "display_data"
    },
    {
     "data": {
      "application/vnd.jupyter.widget-view+json": {
       "model_id": "f3542f5a25984bb086827e87ee594bce",
       "version_major": 2,
       "version_minor": 0
      },
      "text/plain": [
       "Downloading (…)lve/main/config.json:   0%|          | 0.00/625 [00:00<?, ?B/s]"
      ]
     },
     "metadata": {},
     "output_type": "display_data"
    }
   ],
   "source": [
    "tokenizer = BertTokenizer.from_pretrained('bert-base-multilingual-cased', do_lower_case=True)"
   ]
  },
  {
   "cell_type": "markdown",
   "id": "fc5110c3",
   "metadata": {
    "papermill": {
     "duration": 0.005532,
     "end_time": "2023-06-09T06:55:55.809436",
     "exception": false,
     "start_time": "2023-06-09T06:55:55.803904",
     "status": "completed"
    },
    "tags": []
   },
   "source": [
    "maximum length of first data source for training"
   ]
  },
  {
   "cell_type": "code",
   "execution_count": 6,
   "id": "70d1b90c",
   "metadata": {
    "execution": {
     "iopub.execute_input": "2023-06-09T06:55:55.823253Z",
     "iopub.status.busy": "2023-06-09T06:55:55.822061Z",
     "iopub.status.idle": "2023-06-09T06:56:01.413508Z",
     "shell.execute_reply": "2023-06-09T06:56:01.412423Z"
    },
    "papermill": {
     "duration": 5.600699,
     "end_time": "2023-06-09T06:56:01.415853",
     "exception": false,
     "start_time": "2023-06-09T06:55:55.815154",
     "status": "completed"
    },
    "tags": []
   },
   "outputs": [
    {
     "name": "stdout",
     "output_type": "stream",
     "text": [
      "Max sentence length:  49\n"
     ]
    }
   ],
   "source": [
    "#finding max length\n",
    "max_length = 0\n",
    "for sentence in titles:\n",
    "\n",
    "    input_ids = tokenizer.encode(sentence, add_special_tokens=True)\n",
    "    max_length = max(max_length, len(input_ids))\n",
    "\n",
    "print('Max sentence length: ', max_length)"
   ]
  },
  {
   "cell_type": "markdown",
   "id": "7629cfcf",
   "metadata": {
    "papermill": {
     "duration": 0.005956,
     "end_time": "2023-06-09T06:56:01.428077",
     "exception": false,
     "start_time": "2023-06-09T06:56:01.422121",
     "status": "completed"
    },
    "tags": []
   },
   "source": [
    "maximum length overall"
   ]
  },
  {
   "cell_type": "code",
   "execution_count": 7,
   "id": "66d878ec",
   "metadata": {
    "execution": {
     "iopub.execute_input": "2023-06-09T06:56:01.441508Z",
     "iopub.status.busy": "2023-06-09T06:56:01.441117Z",
     "iopub.status.idle": "2023-06-09T06:56:13.694739Z",
     "shell.execute_reply": "2023-06-09T06:56:13.693591Z"
    },
    "papermill": {
     "duration": 12.26324,
     "end_time": "2023-06-09T06:56:13.697237",
     "exception": false,
     "start_time": "2023-06-09T06:56:01.433997",
     "status": "completed"
    },
    "tags": []
   },
   "outputs": [
    {
     "name": "stdout",
     "output_type": "stream",
     "text": [
      "Max sentence length:  79\n"
     ]
    }
   ],
   "source": [
    "for sentence in text_cleaned:\n",
    "\n",
    "    input_ids = tokenizer.encode(sentence, add_special_tokens=True)\n",
    "    max_length = max(max_length, len(input_ids))\n",
    "\n",
    "print('Max sentence length: ', max_length)"
   ]
  },
  {
   "cell_type": "code",
   "execution_count": 8,
   "id": "0a73d9e6",
   "metadata": {
    "execution": {
     "iopub.execute_input": "2023-06-09T06:56:13.711962Z",
     "iopub.status.busy": "2023-06-09T06:56:13.711594Z",
     "iopub.status.idle": "2023-06-09T06:56:13.716557Z",
     "shell.execute_reply": "2023-06-09T06:56:13.715288Z"
    },
    "papermill": {
     "duration": 0.014961,
     "end_time": "2023-06-09T06:56:13.718890",
     "exception": false,
     "start_time": "2023-06-09T06:56:13.703929",
     "status": "completed"
    },
    "tags": []
   },
   "outputs": [],
   "source": [
    "input_ids = []\n",
    "attention_masks = []"
   ]
  },
  {
   "cell_type": "code",
   "execution_count": 9,
   "id": "9627a79c",
   "metadata": {
    "execution": {
     "iopub.execute_input": "2023-06-09T06:56:13.733078Z",
     "iopub.status.busy": "2023-06-09T06:56:13.732728Z",
     "iopub.status.idle": "2023-06-09T06:56:20.952790Z",
     "shell.execute_reply": "2023-06-09T06:56:20.951844Z"
    },
    "papermill": {
     "duration": 7.229461,
     "end_time": "2023-06-09T06:56:20.954900",
     "exception": false,
     "start_time": "2023-06-09T06:56:13.725439",
     "status": "completed"
    },
    "tags": []
   },
   "outputs": [],
   "source": [
    "for sentence in titles:\n",
    "    inputs = tokenizer.encode_plus(\n",
    "        sentence,  # sequence to be encoded\n",
    "        add_special_tokens=True,  # to encode the sequences with the special tokens\n",
    "        padding='max_length',  # activates and controls padding\n",
    "        truncation=True,  # activates and controls truncation\n",
    "        max_length=max_length,  # controls the maximum length to use       \n",
    "        return_attention_mask=True,  # whether to return the attention mask\n",
    "        return_tensors='pt'  # to return PyTorch torch.Tensor objects        \n",
    "    )\n",
    "    #list of token ids to be fed to a model.\n",
    "    input_ids.append(inputs['input_ids'])\n",
    "    # list of indices specifying which tokens should be considered to by the model \n",
    "    attention_masks.append(inputs['attention_mask'])"
   ]
  },
  {
   "cell_type": "code",
   "execution_count": 10,
   "id": "e1c1e292",
   "metadata": {
    "execution": {
     "iopub.execute_input": "2023-06-09T06:56:20.969053Z",
     "iopub.status.busy": "2023-06-09T06:56:20.968708Z",
     "iopub.status.idle": "2023-06-09T06:56:20.972604Z",
     "shell.execute_reply": "2023-06-09T06:56:20.971844Z"
    },
    "papermill": {
     "duration": 0.012888,
     "end_time": "2023-06-09T06:56:20.974372",
     "exception": false,
     "start_time": "2023-06-09T06:56:20.961484",
     "status": "completed"
    },
    "tags": []
   },
   "outputs": [],
   "source": [
    "input_ids_test = []\n",
    "attention_masks_test = []"
   ]
  },
  {
   "cell_type": "code",
   "execution_count": 11,
   "id": "9fa27970",
   "metadata": {
    "execution": {
     "iopub.execute_input": "2023-06-09T06:56:20.988111Z",
     "iopub.status.busy": "2023-06-09T06:56:20.987749Z",
     "iopub.status.idle": "2023-06-09T06:56:34.723927Z",
     "shell.execute_reply": "2023-06-09T06:56:34.722377Z"
    },
    "papermill": {
     "duration": 13.745635,
     "end_time": "2023-06-09T06:56:34.726219",
     "exception": false,
     "start_time": "2023-06-09T06:56:20.980584",
     "status": "completed"
    },
    "tags": []
   },
   "outputs": [],
   "source": [
    "for sentence in text_cleaned:\n",
    "    inputs = tokenizer.encode_plus(\n",
    "        sentence,  # sequence to be encoded\n",
    "        add_special_tokens=True,  # to encode the sequences with the special tokens\n",
    "        padding='max_length',  # activates and controls padding\n",
    "        truncation=True,  # activates and controls truncation\n",
    "        max_length=max_length,  # controls the maximum length to use       \n",
    "        return_attention_mask=True,  # whether to return the attention mask\n",
    "        return_tensors='pt'  # to return PyTorch torch.Tensor objects        \n",
    "    )\n",
    "    #list of token ids to be fed to a model.\n",
    "    input_ids_test.append(inputs['input_ids'])\n",
    "    # list of indices specifying which tokens should be considered to by the model \n",
    "    attention_masks_test.append(inputs['attention_mask'])"
   ]
  },
  {
   "cell_type": "code",
   "execution_count": 12,
   "id": "7bab21ba",
   "metadata": {
    "execution": {
     "iopub.execute_input": "2023-06-09T06:56:34.741026Z",
     "iopub.status.busy": "2023-06-09T06:56:34.740670Z",
     "iopub.status.idle": "2023-06-09T06:56:34.875026Z",
     "shell.execute_reply": "2023-06-09T06:56:34.873686Z"
    },
    "papermill": {
     "duration": 0.144469,
     "end_time": "2023-06-09T06:56:34.877592",
     "exception": false,
     "start_time": "2023-06-09T06:56:34.733123",
     "status": "completed"
    },
    "tags": []
   },
   "outputs": [],
   "source": [
    "input_ids = torch.cat(input_ids, dim=0)\n",
    "attention_masks = torch.cat(attention_masks, dim=0)\n",
    "labels = torch.tensor(labels)\n",
    "\n",
    "input_ids_test = torch.cat(input_ids_test, dim=0)\n",
    "attention_masks_test = torch.cat(attention_masks_test, dim=0)"
   ]
  },
  {
   "cell_type": "code",
   "execution_count": 13,
   "id": "2be96398",
   "metadata": {
    "execution": {
     "iopub.execute_input": "2023-06-09T06:56:34.892533Z",
     "iopub.status.busy": "2023-06-09T06:56:34.892152Z",
     "iopub.status.idle": "2023-06-09T06:56:34.896303Z",
     "shell.execute_reply": "2023-06-09T06:56:34.895460Z"
    },
    "papermill": {
     "duration": 0.01422,
     "end_time": "2023-06-09T06:56:34.898642",
     "exception": false,
     "start_time": "2023-06-09T06:56:34.884422",
     "status": "completed"
    },
    "tags": []
   },
   "outputs": [],
   "source": [
    "#the batches recommended from the authors are: 16 and 32\n",
    "batch_size = 16"
   ]
  },
  {
   "cell_type": "code",
   "execution_count": 14,
   "id": "4c80ca11",
   "metadata": {
    "execution": {
     "iopub.execute_input": "2023-06-09T06:56:34.914631Z",
     "iopub.status.busy": "2023-06-09T06:56:34.914225Z",
     "iopub.status.idle": "2023-06-09T06:56:34.928847Z",
     "shell.execute_reply": "2023-06-09T06:56:34.927858Z"
    },
    "papermill": {
     "duration": 0.025413,
     "end_time": "2023-06-09T06:56:34.931245",
     "exception": false,
     "start_time": "2023-06-09T06:56:34.905832",
     "status": "completed"
    },
    "tags": []
   },
   "outputs": [],
   "source": [
    "# dataset for training\n",
    "dataset = TensorDataset(input_ids, attention_masks, labels)\n",
    "\n",
    "# 80% training set 20% validation set\n",
    "train_size = int(0.8 * len(dataset))\n",
    "validation_size = len(dataset) - train_size\n",
    "\n",
    "train_dataset, validation_dataset = random_split(dataset, [train_size, validation_size])"
   ]
  },
  {
   "cell_type": "code",
   "execution_count": 15,
   "id": "fcdb8acf",
   "metadata": {
    "execution": {
     "iopub.execute_input": "2023-06-09T06:56:34.947789Z",
     "iopub.status.busy": "2023-06-09T06:56:34.947173Z",
     "iopub.status.idle": "2023-06-09T06:56:34.951455Z",
     "shell.execute_reply": "2023-06-09T06:56:34.950793Z"
    },
    "papermill": {
     "duration": 0.015498,
     "end_time": "2023-06-09T06:56:34.953733",
     "exception": false,
     "start_time": "2023-06-09T06:56:34.938235",
     "status": "completed"
    },
    "tags": []
   },
   "outputs": [],
   "source": [
    "train_dataloader = DataLoader(\n",
    "            train_dataset,\n",
    "            sampler = RandomSampler(train_dataset),\n",
    "            batch_size = batch_size\n",
    "        )\n",
    "\n",
    "validation_dataloader = DataLoader(\n",
    "            validation_dataset,\n",
    "            sampler = SequentialSampler(validation_dataset),\n",
    "            batch_size = batch_size\n",
    "        )\n"
   ]
  },
  {
   "cell_type": "code",
   "execution_count": 16,
   "id": "f39756f7",
   "metadata": {
    "execution": {
     "iopub.execute_input": "2023-06-09T06:56:34.969480Z",
     "iopub.status.busy": "2023-06-09T06:56:34.968018Z",
     "iopub.status.idle": "2023-06-09T06:56:34.973347Z",
     "shell.execute_reply": "2023-06-09T06:56:34.972675Z"
    },
    "papermill": {
     "duration": 0.014902,
     "end_time": "2023-06-09T06:56:34.975542",
     "exception": false,
     "start_time": "2023-06-09T06:56:34.960640",
     "status": "completed"
    },
    "tags": []
   },
   "outputs": [],
   "source": [
    "dataset = TensorDataset(input_ids_test, attention_masks_test)\n",
    "test_dataloader = DataLoader(\n",
    "            dataset,\n",
    "            sampler = RandomSampler(dataset),\n",
    "            batch_size = batch_size\n",
    "        )"
   ]
  },
  {
   "cell_type": "code",
   "execution_count": 17,
   "id": "8fef3330",
   "metadata": {
    "execution": {
     "iopub.execute_input": "2023-06-09T06:56:34.990642Z",
     "iopub.status.busy": "2023-06-09T06:56:34.989940Z",
     "iopub.status.idle": "2023-06-09T06:56:34.994544Z",
     "shell.execute_reply": "2023-06-09T06:56:34.993402Z"
    },
    "papermill": {
     "duration": 0.01454,
     "end_time": "2023-06-09T06:56:34.996953",
     "exception": false,
     "start_time": "2023-06-09T06:56:34.982413",
     "status": "completed"
    },
    "tags": []
   },
   "outputs": [],
   "source": [
    "loss_fn = nn.BCELoss()"
   ]
  },
  {
   "cell_type": "code",
   "execution_count": 18,
   "id": "1ff00ddd",
   "metadata": {
    "execution": {
     "iopub.execute_input": "2023-06-09T06:56:35.011974Z",
     "iopub.status.busy": "2023-06-09T06:56:35.011586Z",
     "iopub.status.idle": "2023-06-09T06:56:35.018491Z",
     "shell.execute_reply": "2023-06-09T06:56:35.017828Z"
    },
    "papermill": {
     "duration": 0.016059,
     "end_time": "2023-06-09T06:56:35.020011",
     "exception": false,
     "start_time": "2023-06-09T06:56:35.003952",
     "status": "completed"
    },
    "tags": []
   },
   "outputs": [],
   "source": [
    "class BertClassifier(nn.Module):\n",
    "    def __init__(self, freeze_bert=False):\n",
    "\n",
    "        super(BertClassifier, self).__init__()\n",
    "        # Specify hidden size of BERT, hidden size of the classifier, and number of labels\n",
    "        D_in, D_out = 768, 7\n",
    "        H = 64\n",
    "       \n",
    "        self.bert = BertModel.from_pretrained('bert-base-multilingual-cased')\n",
    "       \n",
    "        self.classifier = nn.Sequential(\n",
    "            nn.Dropout(0.2),\n",
    "            nn.Linear(D_in, H),\n",
    "            nn.ReLU(),\n",
    "            nn.Dropout(0.2),\n",
    "            nn.Linear(H, D_out),\n",
    "            nn.Sigmoid()\n",
    "        )\n",
    "\n",
    "        # Freeze the BERT model\n",
    "        if freeze_bert:\n",
    "            for param in self.bert.parameters():\n",
    "                param.requires_grad = False\n",
    "\n",
    "    def forward(self, input_ids, attention_mask):\n",
    "\n",
    "        # Feed input to BERT\n",
    "        outputs = self.bert(input_ids=input_ids,\n",
    "                            attention_mask=attention_mask)\n",
    "\n",
    "        # Extract the last hidden state of the token `[CLS]` \n",
    "        pooled_output = torch.mean(outputs.last_hidden_state,1)\n",
    "\n",
    "        # Feed input to classifier\n",
    "        logits = self.classifier(pooled_output)        \n",
    "\n",
    "        return logits"
   ]
  },
  {
   "cell_type": "code",
   "execution_count": 19,
   "id": "88df590d",
   "metadata": {
    "execution": {
     "iopub.execute_input": "2023-06-09T06:56:35.035169Z",
     "iopub.status.busy": "2023-06-09T06:56:35.034204Z",
     "iopub.status.idle": "2023-06-09T06:56:35.038968Z",
     "shell.execute_reply": "2023-06-09T06:56:35.038376Z"
    },
    "papermill": {
     "duration": 0.013731,
     "end_time": "2023-06-09T06:56:35.040511",
     "exception": false,
     "start_time": "2023-06-09T06:56:35.026780",
     "status": "completed"
    },
    "tags": []
   },
   "outputs": [],
   "source": [
    "def set_seed(seed_value=42):\n",
    "\n",
    "    random.seed(seed_value)\n",
    "    np.random.seed(seed_value)\n",
    "    torch.manual_seed(seed_value)\n",
    "    torch.cuda.manual_seed_all(seed_value)"
   ]
  },
  {
   "cell_type": "code",
   "execution_count": 20,
   "id": "125dad40",
   "metadata": {
    "execution": {
     "iopub.execute_input": "2023-06-09T06:56:35.055060Z",
     "iopub.status.busy": "2023-06-09T06:56:35.054458Z",
     "iopub.status.idle": "2023-06-09T06:56:35.060226Z",
     "shell.execute_reply": "2023-06-09T06:56:35.059398Z"
    },
    "papermill": {
     "duration": 0.014935,
     "end_time": "2023-06-09T06:56:35.061907",
     "exception": false,
     "start_time": "2023-06-09T06:56:35.046972",
     "status": "completed"
    },
    "tags": []
   },
   "outputs": [],
   "source": [
    "def initialize_model(epochs=5):\n",
    "\n",
    "    # Instantiate Bert Classifier\n",
    "    bert_classifier = BertClassifier(freeze_bert=False)\n",
    "\n",
    "    \n",
    "    bert_classifier\n",
    "\n",
    "    # Create the optimizer\n",
    "    optimizer = AdamW(bert_classifier.parameters(),\n",
    "                      lr=3e-5,    # Default learning rate\n",
    "                      eps=1e-8    # Default epsilon value\n",
    "                      )\n",
    "\n",
    "    # Total number of training steps\n",
    "    total_steps = len(train_dataloader) * epochs\n",
    "\n",
    "    # Set up the learning rate scheduler\n",
    "    scheduler = get_linear_schedule_with_warmup(optimizer,\n",
    "                                                num_warmup_steps=0, # Default value\n",
    "                                                num_training_steps=total_steps)\n",
    "    return bert_classifier, optimizer, scheduler"
   ]
  },
  {
   "cell_type": "code",
   "execution_count": 21,
   "id": "93ac82bc",
   "metadata": {
    "execution": {
     "iopub.execute_input": "2023-06-09T06:56:35.076518Z",
     "iopub.status.busy": "2023-06-09T06:56:35.076158Z",
     "iopub.status.idle": "2023-06-09T06:56:35.082838Z",
     "shell.execute_reply": "2023-06-09T06:56:35.081920Z"
    },
    "papermill": {
     "duration": 0.015823,
     "end_time": "2023-06-09T06:56:35.084538",
     "exception": false,
     "start_time": "2023-06-09T06:56:35.068715",
     "status": "completed"
    },
    "tags": []
   },
   "outputs": [],
   "source": [
    "def calculate_metrics(pred, target):\n",
    "    return {'micro/precision': metrics.precision_score(y_true=target, y_pred=pred, average='micro'),\n",
    "\n",
    "            'micro/recall': metrics.recall_score(y_true=target, y_pred=pred, average='micro'),\n",
    "\n",
    "            'micro/f1': metrics.f1_score(y_true=target, y_pred=pred, average='micro'),\n",
    "\n",
    "            'macro/precision': metrics.precision_score(y_true=target, y_pred=pred, average='macro'),\n",
    "\n",
    "            'macro/recall': metrics.recall_score(y_true=target, y_pred=pred, average='macro'),\n",
    "\n",
    "            'macro/f1': metrics.f1_score(y_true=target, y_pred=pred, average='macro'),\n",
    "\n",
    "            'samples/precision': metrics.precision_score(y_true=target, y_pred=pred, average='samples'),\n",
    "\n",
    "            'samples/recall': metrics.recall_score(y_true=target, y_pred=pred, average='samples'),\n",
    "\n",
    "            'samples/f1': metrics.f1_score(y_true=target, y_pred=pred, average='samples')\n",
    "            }"
   ]
  },
  {
   "cell_type": "code",
   "execution_count": 22,
   "id": "a7215c53",
   "metadata": {
    "execution": {
     "iopub.execute_input": "2023-06-09T06:56:35.100204Z",
     "iopub.status.busy": "2023-06-09T06:56:35.099022Z",
     "iopub.status.idle": "2023-06-09T06:56:35.112439Z",
     "shell.execute_reply": "2023-06-09T06:56:35.111374Z"
    },
    "papermill": {
     "duration": 0.023721,
     "end_time": "2023-06-09T06:56:35.114928",
     "exception": false,
     "start_time": "2023-06-09T06:56:35.091207",
     "status": "completed"
    },
    "tags": []
   },
   "outputs": [],
   "source": [
    "def train(model, train_dataloader, validation_dataloader=None, epochs=5, evaluation=True):\n",
    "\n",
    "    # Start training loop\n",
    "    print(\"Start training...\\n\")\n",
    "    for epoch_i in range(epochs):\n",
    "        # =======================================\n",
    "        #               Training\n",
    "        # =======================================\n",
    "        # Print the header of the result table\n",
    "        print(\n",
    "            f\"{'Epoch':^7} | {'Batch':^7} | {'Train Loss':^12} | {'Val Loss':^10} | {'Val Precision':^9} | {'Val Recall':^9} | {'Val F1':^9} | {'Elapsed':^9}\")\n",
    "        print(\"-\" * 100)\n",
    "\n",
    "        # Measure the elapsed time of each epoch\n",
    "        t0_epoch, t0_batch = time.time(), time.time()\n",
    "\n",
    "        # Reset tracking variables at the beginning of each epoch\n",
    "        total_loss, batch_loss, batch_counts = 0, 0, 0\n",
    "\n",
    "        # Put the model into the training mode\n",
    "        model.train()\n",
    "\n",
    "        # For each batch of training data...\n",
    "        for step, batch in enumerate(train_dataloader):\n",
    "            batch_counts += 1\n",
    "            # Load batch to GPU\n",
    "            b_input_ids, b_attn_mask, b_labels = tuple(t for t in batch)\n",
    "\n",
    "            # Zero out any previously calculated gradients\n",
    "            model.zero_grad()\n",
    "\n",
    "            # Perform a forward pass. This will return logits.\n",
    "            logits = model(b_input_ids, b_attn_mask)\n",
    "\n",
    "            loss=loss_fn(logits, b_labels.type(torch.float))\n",
    "            # accumulate the loss values\n",
    "            batch_loss += loss.item()\n",
    "            total_loss += loss.item()\n",
    "            # print(loss,logits.shape)\n",
    "            # Perform a backward pass to calculate gradients\n",
    "            loss.backward()\n",
    "\n",
    "            # Clip the norm of the gradients to 1.0 to prevent \"exploding gradients\"\n",
    "            torch.nn.utils.clip_grad_norm_(model.parameters(), 1.0)\n",
    "\n",
    "            # Update parameters and the learning rate\n",
    "            optimizer.step()\n",
    "            scheduler.step()\n",
    "\n",
    "            # Print the loss values and time elapsed for every 20 batches\n",
    "            if (step % 20 == 0 and step != 0) or (step == len(train_dataloader) - 1):\n",
    "                # Calculate time elapsed for 20 batches\n",
    "                time_elapsed = time.time() - t0_batch\n",
    "\n",
    "                # Print training results\n",
    "                print(\n",
    "                    f\"{epoch_i + 1:^7} | {step:^7} | {batch_loss / batch_counts:^12f} | {'-':^10} | {'-':^13} | {'-':^10} | {'-':^9} | {time_elapsed:^9f}\")\n",
    "\n",
    "                # Reset batch tracking variables\n",
    "                batch_loss, batch_counts = 0, 0\n",
    "                t0_batch = time.time()\n",
    "\n",
    "        # Calculate the average loss over the entire training data\n",
    "        avg_train_loss = total_loss / len(train_dataloader)\n",
    "\n",
    "        print(\"-\" * 100)\n",
    "        # =======================================\n",
    "        #               Evaluation\n",
    "        # =======================================\n",
    "        if evaluation == True:\n",
    "            # After the completion of each training epoch, measure the model's performance\n",
    "            # on our validation set.\n",
    "            val_loss, val_precision, val_recall, val_f1 = evaluate(model, validation_dataloader)\n",
    "\n",
    "            # Print performance over the entire training data\n",
    "            time_elapsed = time.time() - t0_epoch\n",
    "\n",
    "            # Print the header of the result table\n",
    "\n",
    "            print(\"-\" * 100)\n",
    "            print(\n",
    "                f\"{epoch_i + 1:^7} | {'-':^7} | {avg_train_loss:^12.6f} | {val_loss:^10.6f} | {val_precision:^13f} | {val_recall:^10.2f} | {val_f1:^9.2f} | {time_elapsed:^9.2f}\")\n",
    "            print(\"-\" * 100)\n",
    "        print(\"\\n\")\n",
    "\n",
    "    print(\"Training complete!\")\n",
    "\n",
    "    # saving the model\n",
    "    # Saving best-practices: if you use defaults names for the model, you can reload it using from_pretrained()\n",
    "    output_dir = '/kaggle/working/'\n",
    "\n",
    "    # Create output directory if needed\n",
    "    if not os.path.exists(output_dir):\n",
    "      os.makedirs(output_dir)\n",
    "\n",
    "    print(\"Saving model to %s\" % output_dir)\n",
    "\n",
    "    model.bert.save_pretrained(output_dir)"
   ]
  },
  {
   "cell_type": "code",
   "execution_count": 23,
   "id": "d1c36f00",
   "metadata": {
    "execution": {
     "iopub.execute_input": "2023-06-09T06:56:35.130245Z",
     "iopub.status.busy": "2023-06-09T06:56:35.129865Z",
     "iopub.status.idle": "2023-06-09T06:56:35.138208Z",
     "shell.execute_reply": "2023-06-09T06:56:35.137442Z"
    },
    "papermill": {
     "duration": 0.018738,
     "end_time": "2023-06-09T06:56:35.140568",
     "exception": false,
     "start_time": "2023-06-09T06:56:35.121830",
     "status": "completed"
    },
    "tags": []
   },
   "outputs": [],
   "source": [
    "def evaluate(model, validation_dataloader):\n",
    "\n",
    "    # Put the model into the evaluation mode. The dropout layers are disabled during\n",
    "    # the test time.\n",
    "    model.eval()\n",
    "\n",
    "    # Tracking variables\n",
    "    val_precision = []\n",
    "    val_recall = []\n",
    "    val_f1 = []\n",
    "    val_loss = []\n",
    "\n",
    "    # For each batch in our validation set...\n",
    "    for batch in validation_dataloader:\n",
    "        # Load batch to GPU\n",
    "        b_input_ids, b_attn_mask, b_labels = tuple(t for t in batch)\n",
    "\n",
    "        # Compute logits\n",
    "        with torch.no_grad():\n",
    "            logits = model(b_input_ids, b_attn_mask)\n",
    "\n",
    "        # Compute loss\n",
    "        loss = loss_fn(logits, b_labels.type(torch.float))\n",
    "        val_loss.append(loss.item())\n",
    "\n",
    "        # Get the predictions\n",
    "        logits_arr = logits.cpu().numpy()\n",
    "        logits_arr[logits_arr >= 0.5] = 1\n",
    "        logits_arr[logits_arr < 0.5] = 0\n",
    "\n",
    "        b_labels_arr = b_labels.cpu().numpy()\n",
    "        # Calculate the accuracy rate\n",
    "        precision_micro = metrics.precision_score(y_true=b_labels_arr, y_pred=logits_arr, average='micro')\n",
    "        val_precision.append(precision_micro)\n",
    "        recall_micro = metrics.recall_score(y_true=b_labels_arr, y_pred=logits_arr, average='micro')\n",
    "        val_recall.append(recall_micro)\n",
    "        f1_micro = metrics.f1_score(y_true=b_labels_arr, y_pred=logits_arr, average='micro')\n",
    "        val_f1.append(f1_micro)\n",
    "\n",
    "    # Compute the average accuracy and loss over the validation set.\n",
    "    val_loss = np.mean(val_loss)\n",
    "    val_precision = np.mean(precision_micro)\n",
    "    val_recall = np.mean(recall_micro)\n",
    "    val_f1 = np.mean(f1_micro)\n",
    "\n",
    "    return val_loss, val_precision, val_recall, val_f1"
   ]
  },
  {
   "cell_type": "code",
   "execution_count": 24,
   "id": "0bb24351",
   "metadata": {
    "execution": {
     "iopub.execute_input": "2023-06-09T06:56:35.156411Z",
     "iopub.status.busy": "2023-06-09T06:56:35.155995Z",
     "iopub.status.idle": "2023-06-09T06:56:35.162839Z",
     "shell.execute_reply": "2023-06-09T06:56:35.161478Z"
    },
    "papermill": {
     "duration": 0.017619,
     "end_time": "2023-06-09T06:56:35.165457",
     "exception": false,
     "start_time": "2023-06-09T06:56:35.147838",
     "status": "completed"
    },
    "tags": []
   },
   "outputs": [],
   "source": [
    "def bert_predict(model, test_dataloader):\n",
    "\n",
    "    model.eval()\n",
    "\n",
    "    all_logits = []\n",
    "\n",
    "\n",
    "    for batch in test_dataloader:\n",
    "        b_input_ids, b_attn_mask = tuple(t for t in batch)[:2]\n",
    "\n",
    "        # Compute logits\n",
    "        with torch.no_grad():\n",
    "            logits = model(b_input_ids, b_attn_mask)\n",
    "        all_logits.append(logits.type(torch.float))\n",
    "    \n",
    "    # Concatenate logits from each batch\n",
    "    all_logits = torch.cat(all_logits, dim=0)\n",
    "\n",
    "    probs = all_logits.cpu().numpy()\n",
    "\n",
    "    return probs"
   ]
  },
  {
   "cell_type": "code",
   "execution_count": 25,
   "id": "f7cf38d9",
   "metadata": {
    "execution": {
     "iopub.execute_input": "2023-06-09T06:56:35.181100Z",
     "iopub.status.busy": "2023-06-09T06:56:35.180763Z",
     "iopub.status.idle": "2023-06-09T10:57:41.277868Z",
     "shell.execute_reply": "2023-06-09T10:57:41.276817Z"
    },
    "papermill": {
     "duration": 14466.107811,
     "end_time": "2023-06-09T10:57:41.280357",
     "exception": false,
     "start_time": "2023-06-09T06:56:35.172546",
     "status": "completed"
    },
    "tags": []
   },
   "outputs": [
    {
     "data": {
      "application/vnd.jupyter.widget-view+json": {
       "model_id": "643f3a11246940388dc8ad3045d40dcc",
       "version_major": 2,
       "version_minor": 0
      },
      "text/plain": [
       "Downloading pytorch_model.bin:   0%|          | 0.00/714M [00:00<?, ?B/s]"
      ]
     },
     "metadata": {},
     "output_type": "display_data"
    },
    {
     "name": "stderr",
     "output_type": "stream",
     "text": [
      "Some weights of the model checkpoint at bert-base-multilingual-cased were not used when initializing BertModel: ['cls.seq_relationship.bias', 'cls.predictions.decoder.weight', 'cls.predictions.transform.dense.weight', 'cls.seq_relationship.weight', 'cls.predictions.transform.LayerNorm.weight', 'cls.predictions.transform.LayerNorm.bias', 'cls.predictions.bias', 'cls.predictions.transform.dense.bias']\n",
      "- This IS expected if you are initializing BertModel from the checkpoint of a model trained on another task or with another architecture (e.g. initializing a BertForSequenceClassification model from a BertForPreTraining model).\n",
      "- This IS NOT expected if you are initializing BertModel from the checkpoint of a model that you expect to be exactly identical (initializing a BertForSequenceClassification model from a BertForSequenceClassification model).\n",
      "/opt/conda/lib/python3.10/site-packages/transformers/optimization.py:391: FutureWarning: This implementation of AdamW is deprecated and will be removed in a future version. Use the PyTorch implementation torch.optim.AdamW instead, or set `no_deprecation_warning=True` to disable this warning\n",
      "  warnings.warn(\n"
     ]
    },
    {
     "name": "stdout",
     "output_type": "stream",
     "text": [
      "Start training...\n",
      "\n",
      " Epoch  |  Batch  |  Train Loss  |  Val Loss  | Val Precision | Val Recall |  Val F1   |  Elapsed \n",
      "----------------------------------------------------------------------------------------------------\n",
      "   1    |   20    |   0.602283   |     -      |       -       |     -      |     -     | 101.208975\n",
      "   1    |   40    |   0.530255   |     -      |       -       |     -      |     -     | 95.080346\n",
      "   1    |   60    |   0.498560   |     -      |       -       |     -      |     -     | 95.405088\n",
      "   1    |   80    |   0.478063   |     -      |       -       |     -      |     -     | 95.414924\n",
      "   1    |   100   |   0.423561   |     -      |       -       |     -      |     -     | 95.147550\n",
      "   1    |   120   |   0.427446   |     -      |       -       |     -      |     -     | 95.066925\n",
      "   1    |   140   |   0.422562   |     -      |       -       |     -      |     -     | 94.834182\n",
      "   1    |   160   |   0.399509   |     -      |       -       |     -      |     -     | 94.947007\n",
      "   1    |   180   |   0.393993   |     -      |       -       |     -      |     -     | 95.105352\n",
      "   1    |   200   |   0.378550   |     -      |       -       |     -      |     -     | 94.914455\n",
      "   1    |   220   |   0.343494   |     -      |       -       |     -      |     -     | 94.863009\n",
      "   1    |   240   |   0.372954   |     -      |       -       |     -      |     -     | 94.805675\n",
      "   1    |   260   |   0.347664   |     -      |       -       |     -      |     -     | 94.856432\n",
      "   1    |   280   |   0.332076   |     -      |       -       |     -      |     -     | 94.802451\n",
      "   1    |   300   |   0.361722   |     -      |       -       |     -      |     -     | 95.194635\n",
      "   1    |   320   |   0.363217   |     -      |       -       |     -      |     -     | 95.277573\n",
      "   1    |   340   |   0.338237   |     -      |       -       |     -      |     -     | 95.157069\n",
      "   1    |   360   |   0.347806   |     -      |       -       |     -      |     -     | 95.264248\n",
      "   1    |   380   |   0.346871   |     -      |       -       |     -      |     -     | 95.100409\n",
      "   1    |   400   |   0.338782   |     -      |       -       |     -      |     -     | 95.054088\n",
      "   1    |   420   |   0.338620   |     -      |       -       |     -      |     -     | 95.220490\n",
      "   1    |   440   |   0.323342   |     -      |       -       |     -      |     -     | 95.591565\n",
      "   1    |   460   |   0.321275   |     -      |       -       |     -      |     -     | 95.312841\n",
      "   1    |   480   |   0.309381   |     -      |       -       |     -      |     -     | 94.907231\n",
      "   1    |   500   |   0.326236   |     -      |       -       |     -      |     -     | 95.109190\n",
      "   1    |   520   |   0.340368   |     -      |       -       |     -      |     -     | 95.130406\n",
      "   1    |   540   |   0.298758   |     -      |       -       |     -      |     -     | 94.964321\n",
      "   1    |   560   |   0.325947   |     -      |       -       |     -      |     -     | 94.873539\n",
      "   1    |   580   |   0.292776   |     -      |       -       |     -      |     -     | 95.318815\n",
      "   1    |   600   |   0.298288   |     -      |       -       |     -      |     -     | 94.866264\n",
      "   1    |   620   |   0.311374   |     -      |       -       |     -      |     -     | 95.414348\n",
      "   1    |   640   |   0.295944   |     -      |       -       |     -      |     -     | 95.093913\n",
      "   1    |   660   |   0.302403   |     -      |       -       |     -      |     -     | 94.814792\n",
      "   1    |   680   |   0.307624   |     -      |       -       |     -      |     -     | 95.070744\n",
      "   1    |   700   |   0.298662   |     -      |       -       |     -      |     -     | 95.048884\n",
      "   1    |   708   |   0.284536   |     -      |       -       |     -      |     -     | 37.687787\n",
      "----------------------------------------------------------------------------------------------------\n",
      "----------------------------------------------------------------------------------------------------\n",
      "   1    |    -    |   0.363400   |  0.277311  |   1.000000    |    0.57    |   0.73    |  3617.30 \n",
      "----------------------------------------------------------------------------------------------------\n",
      "\n",
      "\n",
      " Epoch  |  Batch  |  Train Loss  |  Val Loss  | Val Precision | Val Recall |  Val F1   |  Elapsed \n",
      "----------------------------------------------------------------------------------------------------\n",
      "   2    |   20    |   0.287736   |     -      |       -       |     -      |     -     | 100.128096\n",
      "   2    |   40    |   0.282141   |     -      |       -       |     -      |     -     | 95.159626\n",
      "   2    |   60    |   0.270147   |     -      |       -       |     -      |     -     | 95.169633\n",
      "   2    |   80    |   0.270289   |     -      |       -       |     -      |     -     | 95.795901\n",
      "   2    |   100   |   0.286244   |     -      |       -       |     -      |     -     | 95.005088\n",
      "   2    |   120   |   0.279815   |     -      |       -       |     -      |     -     | 95.019699\n",
      "   2    |   140   |   0.293996   |     -      |       -       |     -      |     -     | 95.055719\n",
      "   2    |   160   |   0.249996   |     -      |       -       |     -      |     -     | 94.927471\n",
      "   2    |   180   |   0.256458   |     -      |       -       |     -      |     -     | 94.930710\n",
      "   2    |   200   |   0.262580   |     -      |       -       |     -      |     -     | 94.932467\n",
      "   2    |   220   |   0.280783   |     -      |       -       |     -      |     -     | 94.986161\n",
      "   2    |   240   |   0.279861   |     -      |       -       |     -      |     -     | 95.098644\n",
      "   2    |   260   |   0.273582   |     -      |       -       |     -      |     -     | 94.649236\n",
      "   2    |   280   |   0.267617   |     -      |       -       |     -      |     -     | 95.003340\n",
      "   2    |   300   |   0.248981   |     -      |       -       |     -      |     -     | 95.151374\n",
      "   2    |   320   |   0.259951   |     -      |       -       |     -      |     -     | 94.988360\n",
      "   2    |   340   |   0.296504   |     -      |       -       |     -      |     -     | 95.073095\n",
      "   2    |   360   |   0.257536   |     -      |       -       |     -      |     -     | 95.067794\n",
      "   2    |   380   |   0.266049   |     -      |       -       |     -      |     -     | 94.977261\n",
      "   2    |   400   |   0.293342   |     -      |       -       |     -      |     -     | 95.252423\n",
      "   2    |   420   |   0.277224   |     -      |       -       |     -      |     -     | 95.440875\n",
      "   2    |   440   |   0.274439   |     -      |       -       |     -      |     -     | 95.502854\n",
      "   2    |   460   |   0.269094   |     -      |       -       |     -      |     -     | 95.333431\n",
      "   2    |   480   |   0.255809   |     -      |       -       |     -      |     -     | 94.992967\n",
      "   2    |   500   |   0.269802   |     -      |       -       |     -      |     -     | 95.389933\n",
      "   2    |   520   |   0.255623   |     -      |       -       |     -      |     -     | 95.029470\n",
      "   2    |   540   |   0.256103   |     -      |       -       |     -      |     -     | 95.214478\n",
      "   2    |   560   |   0.255445   |     -      |       -       |     -      |     -     | 95.390288\n",
      "   2    |   580   |   0.263323   |     -      |       -       |     -      |     -     | 95.092473\n",
      "   2    |   600   |   0.245626   |     -      |       -       |     -      |     -     | 94.894911\n",
      "   2    |   620   |   0.277505   |     -      |       -       |     -      |     -     | 95.102499\n",
      "   2    |   640   |   0.267277   |     -      |       -       |     -      |     -     | 95.193497\n",
      "   2    |   660   |   0.253294   |     -      |       -       |     -      |     -     | 95.246897\n",
      "   2    |   680   |   0.266443   |     -      |       -       |     -      |     -     | 94.831814\n",
      "   2    |   700   |   0.237054   |     -      |       -       |     -      |     -     | 95.086202\n",
      "   2    |   708   |   0.274260   |     -      |       -       |     -      |     -     | 37.500944\n",
      "----------------------------------------------------------------------------------------------------\n",
      "----------------------------------------------------------------------------------------------------\n",
      "   2    |    -    |   0.268315   |  0.252561  |   1.000000    |    0.71    |   0.83    |  3616.55 \n",
      "----------------------------------------------------------------------------------------------------\n",
      "\n",
      "\n",
      " Epoch  |  Batch  |  Train Loss  |  Val Loss  | Val Precision | Val Recall |  Val F1   |  Elapsed \n",
      "----------------------------------------------------------------------------------------------------\n",
      "   3    |   20    |   0.245828   |     -      |       -       |     -      |     -     | 99.616302\n",
      "   3    |   40    |   0.223048   |     -      |       -       |     -      |     -     | 95.311804\n",
      "   3    |   60    |   0.234722   |     -      |       -       |     -      |     -     | 95.410473\n",
      "   3    |   80    |   0.224095   |     -      |       -       |     -      |     -     | 95.302113\n",
      "   3    |   100   |   0.213100   |     -      |       -       |     -      |     -     | 95.040767\n",
      "   3    |   120   |   0.229460   |     -      |       -       |     -      |     -     | 95.034323\n",
      "   3    |   140   |   0.251883   |     -      |       -       |     -      |     -     | 95.559969\n",
      "   3    |   160   |   0.222550   |     -      |       -       |     -      |     -     | 95.237978\n",
      "   3    |   180   |   0.242343   |     -      |       -       |     -      |     -     | 94.925416\n",
      "   3    |   200   |   0.220396   |     -      |       -       |     -      |     -     | 95.337713\n",
      "   3    |   220   |   0.238059   |     -      |       -       |     -      |     -     | 95.947552\n",
      "   3    |   240   |   0.220039   |     -      |       -       |     -      |     -     | 95.716018\n",
      "   3    |   260   |   0.230514   |     -      |       -       |     -      |     -     | 94.933643\n",
      "   3    |   280   |   0.231778   |     -      |       -       |     -      |     -     | 95.215839\n",
      "   3    |   300   |   0.237211   |     -      |       -       |     -      |     -     | 95.011977\n",
      "   3    |   320   |   0.220730   |     -      |       -       |     -      |     -     | 94.864570\n",
      "   3    |   340   |   0.204186   |     -      |       -       |     -      |     -     | 95.294787\n",
      "   3    |   360   |   0.206331   |     -      |       -       |     -      |     -     | 95.056397\n",
      "   3    |   380   |   0.235949   |     -      |       -       |     -      |     -     | 95.073616\n",
      "   3    |   400   |   0.218046   |     -      |       -       |     -      |     -     | 95.256780\n",
      "   3    |   420   |   0.213888   |     -      |       -       |     -      |     -     | 95.554271\n",
      "   3    |   440   |   0.254512   |     -      |       -       |     -      |     -     | 95.139796\n",
      "   3    |   460   |   0.233278   |     -      |       -       |     -      |     -     | 94.985490\n",
      "   3    |   480   |   0.215228   |     -      |       -       |     -      |     -     | 95.279578\n",
      "   3    |   500   |   0.240764   |     -      |       -       |     -      |     -     | 94.969514\n",
      "   3    |   520   |   0.240012   |     -      |       -       |     -      |     -     | 94.925926\n",
      "   3    |   540   |   0.209538   |     -      |       -       |     -      |     -     | 95.495372\n",
      "   3    |   560   |   0.225928   |     -      |       -       |     -      |     -     | 94.799897\n",
      "   3    |   580   |   0.229570   |     -      |       -       |     -      |     -     | 94.894680\n",
      "   3    |   600   |   0.222578   |     -      |       -       |     -      |     -     | 94.876713\n",
      "   3    |   620   |   0.245864   |     -      |       -       |     -      |     -     | 95.268550\n",
      "   3    |   640   |   0.212476   |     -      |       -       |     -      |     -     | 94.766090\n",
      "   3    |   660   |   0.235688   |     -      |       -       |     -      |     -     | 95.019423\n",
      "   3    |   680   |   0.228919   |     -      |       -       |     -      |     -     | 95.271568\n",
      "   3    |   700   |   0.216411   |     -      |       -       |     -      |     -     | 94.700213\n",
      "   3    |   708   |   0.203118   |     -      |       -       |     -      |     -     | 37.286837\n",
      "----------------------------------------------------------------------------------------------------\n",
      "----------------------------------------------------------------------------------------------------\n",
      "   3    |    -    |   0.227601   |  0.241026  |   1.000000    |    0.71    |   0.83    |  3617.69 \n",
      "----------------------------------------------------------------------------------------------------\n",
      "\n",
      "\n",
      " Epoch  |  Batch  |  Train Loss  |  Val Loss  | Val Precision | Val Recall |  Val F1   |  Elapsed \n",
      "----------------------------------------------------------------------------------------------------\n",
      "   4    |   20    |   0.193102   |     -      |       -       |     -      |     -     | 99.717903\n",
      "   4    |   40    |   0.198088   |     -      |       -       |     -      |     -     | 95.154720\n",
      "   4    |   60    |   0.196826   |     -      |       -       |     -      |     -     | 94.904823\n",
      "   4    |   80    |   0.195216   |     -      |       -       |     -      |     -     | 94.741019\n",
      "   4    |   100   |   0.192724   |     -      |       -       |     -      |     -     | 94.672966\n",
      "   4    |   120   |   0.196757   |     -      |       -       |     -      |     -     | 94.843012\n",
      "   4    |   140   |   0.201424   |     -      |       -       |     -      |     -     | 94.741464\n",
      "   4    |   160   |   0.189851   |     -      |       -       |     -      |     -     | 95.509158\n",
      "   4    |   180   |   0.220691   |     -      |       -       |     -      |     -     | 94.937849\n",
      "   4    |   200   |   0.220820   |     -      |       -       |     -      |     -     | 94.948193\n",
      "   4    |   220   |   0.198024   |     -      |       -       |     -      |     -     | 95.013988\n",
      "   4    |   240   |   0.210099   |     -      |       -       |     -      |     -     | 94.825196\n",
      "   4    |   260   |   0.189433   |     -      |       -       |     -      |     -     | 94.961146\n",
      "   4    |   280   |   0.213316   |     -      |       -       |     -      |     -     | 95.011028\n",
      "   4    |   300   |   0.191797   |     -      |       -       |     -      |     -     | 94.741388\n",
      "   4    |   320   |   0.177290   |     -      |       -       |     -      |     -     | 94.880281\n",
      "   4    |   340   |   0.190002   |     -      |       -       |     -      |     -     | 94.867067\n",
      "   4    |   360   |   0.189447   |     -      |       -       |     -      |     -     | 94.674303\n",
      "   4    |   380   |   0.186655   |     -      |       -       |     -      |     -     | 94.834268\n",
      "   4    |   400   |   0.196875   |     -      |       -       |     -      |     -     | 95.084188\n",
      "   4    |   420   |   0.203232   |     -      |       -       |     -      |     -     | 94.888066\n",
      "   4    |   440   |   0.216030   |     -      |       -       |     -      |     -     | 94.913733\n",
      "   4    |   460   |   0.205140   |     -      |       -       |     -      |     -     | 94.626341\n",
      "   4    |   480   |   0.200613   |     -      |       -       |     -      |     -     | 94.652334\n",
      "   4    |   500   |   0.206189   |     -      |       -       |     -      |     -     | 94.610995\n",
      "   4    |   520   |   0.189983   |     -      |       -       |     -      |     -     | 94.702876\n",
      "   4    |   540   |   0.204644   |     -      |       -       |     -      |     -     | 95.867479\n",
      "   4    |   560   |   0.196418   |     -      |       -       |     -      |     -     | 94.890895\n",
      "   4    |   580   |   0.220556   |     -      |       -       |     -      |     -     | 94.688251\n",
      "   4    |   600   |   0.183634   |     -      |       -       |     -      |     -     | 95.294786\n",
      "   4    |   620   |   0.187166   |     -      |       -       |     -      |     -     | 94.820586\n",
      "   4    |   640   |   0.188824   |     -      |       -       |     -      |     -     | 94.967844\n",
      "   4    |   660   |   0.196641   |     -      |       -       |     -      |     -     | 94.841924\n",
      "   4    |   680   |   0.191184   |     -      |       -       |     -      |     -     | 95.072815\n",
      "   4    |   700   |   0.185924   |     -      |       -       |     -      |     -     | 94.948050\n",
      "   4    |   708   |   0.224641   |     -      |       -       |     -      |     -     | 37.315594\n",
      "----------------------------------------------------------------------------------------------------\n",
      "----------------------------------------------------------------------------------------------------\n",
      "   4    |    -    |   0.198142   |  0.242230  |   1.000000    |    0.71    |   0.83    |  3609.76 \n",
      "----------------------------------------------------------------------------------------------------\n",
      "\n",
      "\n",
      "Training complete!\n",
      "Saving model to /kaggle/working/\n"
     ]
    }
   ],
   "source": [
    "set_seed(42)\n",
    "bert_classifier, optimizer, scheduler = initialize_model(epochs=4)\n",
    "train(bert_classifier, train_dataloader, validation_dataloader, epochs=4, evaluation=True)"
   ]
  },
  {
   "cell_type": "code",
   "execution_count": 26,
   "id": "e7d60e6f",
   "metadata": {
    "execution": {
     "iopub.execute_input": "2023-06-09T10:57:41.314138Z",
     "iopub.status.busy": "2023-06-09T10:57:41.313796Z",
     "iopub.status.idle": "2023-06-09T11:23:00.607623Z",
     "shell.execute_reply": "2023-06-09T11:23:00.606796Z"
    },
    "papermill": {
     "duration": 1519.313011,
     "end_time": "2023-06-09T11:23:00.609840",
     "exception": false,
     "start_time": "2023-06-09T10:57:41.296829",
     "status": "completed"
    },
    "tags": []
   },
   "outputs": [],
   "source": [
    "probs = bert_predict(bert_classifier, test_dataloader)\n",
    "\n",
    "# Get predictions from the probabilities\n",
    "threshold = 0.5\n",
    "preds = np.where(probs > threshold, 1, 0)\n",
    "\n",
    "df_text_cleaned['0'] = preds[:,0]\n",
    "df_text_cleaned['1'] = preds[:,1]\n",
    "df_text_cleaned['2'] = preds[:,2]\n",
    "df_text_cleaned['3'] = preds[:,3]\n",
    "df_text_cleaned['4'] = preds[:,4]\n",
    "df_text_cleaned['5'] = preds[:,5]\n",
    "df_text_cleaned['6'] = preds[:,6]\n",
    "df_text_cleaned.to_excel('tweets-predictions-multiclass.xlsx')"
   ]
  }
 ],
 "metadata": {
  "kernelspec": {
   "display_name": "Python 3",
   "language": "python",
   "name": "python3"
  },
  "language_info": {
   "codemirror_mode": {
    "name": "ipython",
    "version": 3
   },
   "file_extension": ".py",
   "mimetype": "text/x-python",
   "name": "python",
   "nbconvert_exporter": "python",
   "pygments_lexer": "ipython3",
   "version": "3.10.10"
  },
  "papermill": {
   "default_parameters": {},
   "duration": 16065.258216,
   "end_time": "2023-06-09T11:23:04.177225",
   "environment_variables": {},
   "exception": null,
   "input_path": "__notebook__.ipynb",
   "output_path": "__notebook__.ipynb",
   "parameters": {},
   "start_time": "2023-06-09T06:55:18.919009",
   "version": "2.4.0"
  },
  "widgets": {
   "application/vnd.jupyter.widget-state+json": {
    "state": {
     "02aaf891d7ed44639c01ef7a5228a823": {
      "model_module": "@jupyter-widgets/controls",
      "model_module_version": "1.5.0",
      "model_name": "ProgressStyleModel",
      "state": {
       "_model_module": "@jupyter-widgets/controls",
       "_model_module_version": "1.5.0",
       "_model_name": "ProgressStyleModel",
       "_view_count": null,
       "_view_module": "@jupyter-widgets/base",
       "_view_module_version": "1.2.0",
       "_view_name": "StyleView",
       "bar_color": null,
       "description_width": ""
      }
     },
     "060e73a7456d46e1b800e40e3e1892ef": {
      "model_module": "@jupyter-widgets/base",
      "model_module_version": "1.2.0",
      "model_name": "LayoutModel",
      "state": {
       "_model_module": "@jupyter-widgets/base",
       "_model_module_version": "1.2.0",
       "_model_name": "LayoutModel",
       "_view_count": null,
       "_view_module": "@jupyter-widgets/base",
       "_view_module_version": "1.2.0",
       "_view_name": "LayoutView",
       "align_content": null,
       "align_items": null,
       "align_self": null,
       "border": null,
       "bottom": null,
       "display": null,
       "flex": null,
       "flex_flow": null,
       "grid_area": null,
       "grid_auto_columns": null,
       "grid_auto_flow": null,
       "grid_auto_rows": null,
       "grid_column": null,
       "grid_gap": null,
       "grid_row": null,
       "grid_template_areas": null,
       "grid_template_columns": null,
       "grid_template_rows": null,
       "height": null,
       "justify_content": null,
       "justify_items": null,
       "left": null,
       "margin": null,
       "max_height": null,
       "max_width": null,
       "min_height": null,
       "min_width": null,
       "object_fit": null,
       "object_position": null,
       "order": null,
       "overflow": null,
       "overflow_x": null,
       "overflow_y": null,
       "padding": null,
       "right": null,
       "top": null,
       "visibility": null,
       "width": null
      }
     },
     "13bbcd151b94472eace391a60cb4dce9": {
      "model_module": "@jupyter-widgets/controls",
      "model_module_version": "1.5.0",
      "model_name": "DescriptionStyleModel",
      "state": {
       "_model_module": "@jupyter-widgets/controls",
       "_model_module_version": "1.5.0",
       "_model_name": "DescriptionStyleModel",
       "_view_count": null,
       "_view_module": "@jupyter-widgets/base",
       "_view_module_version": "1.2.0",
       "_view_name": "StyleView",
       "description_width": ""
      }
     },
     "15af4bb9733c4575ab9d1759ab3b6849": {
      "model_module": "@jupyter-widgets/base",
      "model_module_version": "1.2.0",
      "model_name": "LayoutModel",
      "state": {
       "_model_module": "@jupyter-widgets/base",
       "_model_module_version": "1.2.0",
       "_model_name": "LayoutModel",
       "_view_count": null,
       "_view_module": "@jupyter-widgets/base",
       "_view_module_version": "1.2.0",
       "_view_name": "LayoutView",
       "align_content": null,
       "align_items": null,
       "align_self": null,
       "border": null,
       "bottom": null,
       "display": null,
       "flex": null,
       "flex_flow": null,
       "grid_area": null,
       "grid_auto_columns": null,
       "grid_auto_flow": null,
       "grid_auto_rows": null,
       "grid_column": null,
       "grid_gap": null,
       "grid_row": null,
       "grid_template_areas": null,
       "grid_template_columns": null,
       "grid_template_rows": null,
       "height": null,
       "justify_content": null,
       "justify_items": null,
       "left": null,
       "margin": null,
       "max_height": null,
       "max_width": null,
       "min_height": null,
       "min_width": null,
       "object_fit": null,
       "object_position": null,
       "order": null,
       "overflow": null,
       "overflow_x": null,
       "overflow_y": null,
       "padding": null,
       "right": null,
       "top": null,
       "visibility": null,
       "width": null
      }
     },
     "16a8f75e5f77483d9b6162212889ebb5": {
      "model_module": "@jupyter-widgets/base",
      "model_module_version": "1.2.0",
      "model_name": "LayoutModel",
      "state": {
       "_model_module": "@jupyter-widgets/base",
       "_model_module_version": "1.2.0",
       "_model_name": "LayoutModel",
       "_view_count": null,
       "_view_module": "@jupyter-widgets/base",
       "_view_module_version": "1.2.0",
       "_view_name": "LayoutView",
       "align_content": null,
       "align_items": null,
       "align_self": null,
       "border": null,
       "bottom": null,
       "display": null,
       "flex": null,
       "flex_flow": null,
       "grid_area": null,
       "grid_auto_columns": null,
       "grid_auto_flow": null,
       "grid_auto_rows": null,
       "grid_column": null,
       "grid_gap": null,
       "grid_row": null,
       "grid_template_areas": null,
       "grid_template_columns": null,
       "grid_template_rows": null,
       "height": null,
       "justify_content": null,
       "justify_items": null,
       "left": null,
       "margin": null,
       "max_height": null,
       "max_width": null,
       "min_height": null,
       "min_width": null,
       "object_fit": null,
       "object_position": null,
       "order": null,
       "overflow": null,
       "overflow_x": null,
       "overflow_y": null,
       "padding": null,
       "right": null,
       "top": null,
       "visibility": null,
       "width": null
      }
     },
     "1adf85af683441658d98218a1468bb2d": {
      "model_module": "@jupyter-widgets/base",
      "model_module_version": "1.2.0",
      "model_name": "LayoutModel",
      "state": {
       "_model_module": "@jupyter-widgets/base",
       "_model_module_version": "1.2.0",
       "_model_name": "LayoutModel",
       "_view_count": null,
       "_view_module": "@jupyter-widgets/base",
       "_view_module_version": "1.2.0",
       "_view_name": "LayoutView",
       "align_content": null,
       "align_items": null,
       "align_self": null,
       "border": null,
       "bottom": null,
       "display": null,
       "flex": null,
       "flex_flow": null,
       "grid_area": null,
       "grid_auto_columns": null,
       "grid_auto_flow": null,
       "grid_auto_rows": null,
       "grid_column": null,
       "grid_gap": null,
       "grid_row": null,
       "grid_template_areas": null,
       "grid_template_columns": null,
       "grid_template_rows": null,
       "height": null,
       "justify_content": null,
       "justify_items": null,
       "left": null,
       "margin": null,
       "max_height": null,
       "max_width": null,
       "min_height": null,
       "min_width": null,
       "object_fit": null,
       "object_position": null,
       "order": null,
       "overflow": null,
       "overflow_x": null,
       "overflow_y": null,
       "padding": null,
       "right": null,
       "top": null,
       "visibility": null,
       "width": null
      }
     },
     "23915670cbd244acb039bcb95dcbf2ce": {
      "model_module": "@jupyter-widgets/base",
      "model_module_version": "1.2.0",
      "model_name": "LayoutModel",
      "state": {
       "_model_module": "@jupyter-widgets/base",
       "_model_module_version": "1.2.0",
       "_model_name": "LayoutModel",
       "_view_count": null,
       "_view_module": "@jupyter-widgets/base",
       "_view_module_version": "1.2.0",
       "_view_name": "LayoutView",
       "align_content": null,
       "align_items": null,
       "align_self": null,
       "border": null,
       "bottom": null,
       "display": null,
       "flex": null,
       "flex_flow": null,
       "grid_area": null,
       "grid_auto_columns": null,
       "grid_auto_flow": null,
       "grid_auto_rows": null,
       "grid_column": null,
       "grid_gap": null,
       "grid_row": null,
       "grid_template_areas": null,
       "grid_template_columns": null,
       "grid_template_rows": null,
       "height": null,
       "justify_content": null,
       "justify_items": null,
       "left": null,
       "margin": null,
       "max_height": null,
       "max_width": null,
       "min_height": null,
       "min_width": null,
       "object_fit": null,
       "object_position": null,
       "order": null,
       "overflow": null,
       "overflow_x": null,
       "overflow_y": null,
       "padding": null,
       "right": null,
       "top": null,
       "visibility": null,
       "width": null
      }
     },
     "2eadd682bd914c8ba1c63c27a64ac04f": {
      "model_module": "@jupyter-widgets/controls",
      "model_module_version": "1.5.0",
      "model_name": "HTMLModel",
      "state": {
       "_dom_classes": [],
       "_model_module": "@jupyter-widgets/controls",
       "_model_module_version": "1.5.0",
       "_model_name": "HTMLModel",
       "_view_count": null,
       "_view_module": "@jupyter-widgets/controls",
       "_view_module_version": "1.5.0",
       "_view_name": "HTMLView",
       "description": "",
       "description_tooltip": null,
       "layout": "IPY_MODEL_d8a3f13384174a41bb718a5a0b618ab4",
       "placeholder": "​",
       "style": "IPY_MODEL_420fb51da48145a6b61b70c56ad5fe2d",
       "value": " 996k/996k [00:00&lt;00:00, 3.07MB/s]"
      }
     },
     "37578fe3bd2f4fb0a263a22b2f0afd83": {
      "model_module": "@jupyter-widgets/base",
      "model_module_version": "1.2.0",
      "model_name": "LayoutModel",
      "state": {
       "_model_module": "@jupyter-widgets/base",
       "_model_module_version": "1.2.0",
       "_model_name": "LayoutModel",
       "_view_count": null,
       "_view_module": "@jupyter-widgets/base",
       "_view_module_version": "1.2.0",
       "_view_name": "LayoutView",
       "align_content": null,
       "align_items": null,
       "align_self": null,
       "border": null,
       "bottom": null,
       "display": null,
       "flex": null,
       "flex_flow": null,
       "grid_area": null,
       "grid_auto_columns": null,
       "grid_auto_flow": null,
       "grid_auto_rows": null,
       "grid_column": null,
       "grid_gap": null,
       "grid_row": null,
       "grid_template_areas": null,
       "grid_template_columns": null,
       "grid_template_rows": null,
       "height": null,
       "justify_content": null,
       "justify_items": null,
       "left": null,
       "margin": null,
       "max_height": null,
       "max_width": null,
       "min_height": null,
       "min_width": null,
       "object_fit": null,
       "object_position": null,
       "order": null,
       "overflow": null,
       "overflow_x": null,
       "overflow_y": null,
       "padding": null,
       "right": null,
       "top": null,
       "visibility": null,
       "width": null
      }
     },
     "39c9221de593415a8e4d861ef723a6a7": {
      "model_module": "@jupyter-widgets/base",
      "model_module_version": "1.2.0",
      "model_name": "LayoutModel",
      "state": {
       "_model_module": "@jupyter-widgets/base",
       "_model_module_version": "1.2.0",
       "_model_name": "LayoutModel",
       "_view_count": null,
       "_view_module": "@jupyter-widgets/base",
       "_view_module_version": "1.2.0",
       "_view_name": "LayoutView",
       "align_content": null,
       "align_items": null,
       "align_self": null,
       "border": null,
       "bottom": null,
       "display": null,
       "flex": null,
       "flex_flow": null,
       "grid_area": null,
       "grid_auto_columns": null,
       "grid_auto_flow": null,
       "grid_auto_rows": null,
       "grid_column": null,
       "grid_gap": null,
       "grid_row": null,
       "grid_template_areas": null,
       "grid_template_columns": null,
       "grid_template_rows": null,
       "height": null,
       "justify_content": null,
       "justify_items": null,
       "left": null,
       "margin": null,
       "max_height": null,
       "max_width": null,
       "min_height": null,
       "min_width": null,
       "object_fit": null,
       "object_position": null,
       "order": null,
       "overflow": null,
       "overflow_x": null,
       "overflow_y": null,
       "padding": null,
       "right": null,
       "top": null,
       "visibility": null,
       "width": null
      }
     },
     "3d7a6755d21e4cdda566a287bf9c7427": {
      "model_module": "@jupyter-widgets/controls",
      "model_module_version": "1.5.0",
      "model_name": "ProgressStyleModel",
      "state": {
       "_model_module": "@jupyter-widgets/controls",
       "_model_module_version": "1.5.0",
       "_model_name": "ProgressStyleModel",
       "_view_count": null,
       "_view_module": "@jupyter-widgets/base",
       "_view_module_version": "1.2.0",
       "_view_name": "StyleView",
       "bar_color": null,
       "description_width": ""
      }
     },
     "40632207bc1f4ddb9b344091e94d5a05": {
      "model_module": "@jupyter-widgets/controls",
      "model_module_version": "1.5.0",
      "model_name": "HBoxModel",
      "state": {
       "_dom_classes": [],
       "_model_module": "@jupyter-widgets/controls",
       "_model_module_version": "1.5.0",
       "_model_name": "HBoxModel",
       "_view_count": null,
       "_view_module": "@jupyter-widgets/controls",
       "_view_module_version": "1.5.0",
       "_view_name": "HBoxView",
       "box_style": "",
       "children": [
        "IPY_MODEL_8ab5c6fa4d7542e6a0a3c469e524efcf",
        "IPY_MODEL_7164a641618b4fffb672658c972b7be8",
        "IPY_MODEL_2eadd682bd914c8ba1c63c27a64ac04f"
       ],
       "layout": "IPY_MODEL_1adf85af683441658d98218a1468bb2d"
      }
     },
     "40e1d3ea551946d6bc233182ad2a3655": {
      "model_module": "@jupyter-widgets/controls",
      "model_module_version": "1.5.0",
      "model_name": "DescriptionStyleModel",
      "state": {
       "_model_module": "@jupyter-widgets/controls",
       "_model_module_version": "1.5.0",
       "_model_name": "DescriptionStyleModel",
       "_view_count": null,
       "_view_module": "@jupyter-widgets/base",
       "_view_module_version": "1.2.0",
       "_view_name": "StyleView",
       "description_width": ""
      }
     },
     "420fb51da48145a6b61b70c56ad5fe2d": {
      "model_module": "@jupyter-widgets/controls",
      "model_module_version": "1.5.0",
      "model_name": "DescriptionStyleModel",
      "state": {
       "_model_module": "@jupyter-widgets/controls",
       "_model_module_version": "1.5.0",
       "_model_name": "DescriptionStyleModel",
       "_view_count": null,
       "_view_module": "@jupyter-widgets/base",
       "_view_module_version": "1.2.0",
       "_view_name": "StyleView",
       "description_width": ""
      }
     },
     "4380299d15114ec9818206ce9edcbe53": {
      "model_module": "@jupyter-widgets/base",
      "model_module_version": "1.2.0",
      "model_name": "LayoutModel",
      "state": {
       "_model_module": "@jupyter-widgets/base",
       "_model_module_version": "1.2.0",
       "_model_name": "LayoutModel",
       "_view_count": null,
       "_view_module": "@jupyter-widgets/base",
       "_view_module_version": "1.2.0",
       "_view_name": "LayoutView",
       "align_content": null,
       "align_items": null,
       "align_self": null,
       "border": null,
       "bottom": null,
       "display": null,
       "flex": null,
       "flex_flow": null,
       "grid_area": null,
       "grid_auto_columns": null,
       "grid_auto_flow": null,
       "grid_auto_rows": null,
       "grid_column": null,
       "grid_gap": null,
       "grid_row": null,
       "grid_template_areas": null,
       "grid_template_columns": null,
       "grid_template_rows": null,
       "height": null,
       "justify_content": null,
       "justify_items": null,
       "left": null,
       "margin": null,
       "max_height": null,
       "max_width": null,
       "min_height": null,
       "min_width": null,
       "object_fit": null,
       "object_position": null,
       "order": null,
       "overflow": null,
       "overflow_x": null,
       "overflow_y": null,
       "padding": null,
       "right": null,
       "top": null,
       "visibility": null,
       "width": null
      }
     },
     "4c0d34af41aa4cd6b8786ad3ceb7a599": {
      "model_module": "@jupyter-widgets/controls",
      "model_module_version": "1.5.0",
      "model_name": "HTMLModel",
      "state": {
       "_dom_classes": [],
       "_model_module": "@jupyter-widgets/controls",
       "_model_module_version": "1.5.0",
       "_model_name": "HTMLModel",
       "_view_count": null,
       "_view_module": "@jupyter-widgets/controls",
       "_view_module_version": "1.5.0",
       "_view_name": "HTMLView",
       "description": "",
       "description_tooltip": null,
       "layout": "IPY_MODEL_e6a97bf0c1174956add3c4b3ed498881",
       "placeholder": "​",
       "style": "IPY_MODEL_5c16a36131e9482abb715453d889d85a",
       "value": "Downloading (…)okenizer_config.json: 100%"
      }
     },
     "55aae3027ef34010b81cf5389efbaf69": {
      "model_module": "@jupyter-widgets/controls",
      "model_module_version": "1.5.0",
      "model_name": "HTMLModel",
      "state": {
       "_dom_classes": [],
       "_model_module": "@jupyter-widgets/controls",
       "_model_module_version": "1.5.0",
       "_model_name": "HTMLModel",
       "_view_count": null,
       "_view_module": "@jupyter-widgets/controls",
       "_view_module_version": "1.5.0",
       "_view_name": "HTMLView",
       "description": "",
       "description_tooltip": null,
       "layout": "IPY_MODEL_060e73a7456d46e1b800e40e3e1892ef",
       "placeholder": "​",
       "style": "IPY_MODEL_b54b797504de48919c0c6c9728c735e7",
       "value": "Downloading pytorch_model.bin: 100%"
      }
     },
     "5c16a36131e9482abb715453d889d85a": {
      "model_module": "@jupyter-widgets/controls",
      "model_module_version": "1.5.0",
      "model_name": "DescriptionStyleModel",
      "state": {
       "_model_module": "@jupyter-widgets/controls",
       "_model_module_version": "1.5.0",
       "_model_name": "DescriptionStyleModel",
       "_view_count": null,
       "_view_module": "@jupyter-widgets/base",
       "_view_module_version": "1.2.0",
       "_view_name": "StyleView",
       "description_width": ""
      }
     },
     "5fa06c20e8a84684ae8790791a506480": {
      "model_module": "@jupyter-widgets/controls",
      "model_module_version": "1.5.0",
      "model_name": "HTMLModel",
      "state": {
       "_dom_classes": [],
       "_model_module": "@jupyter-widgets/controls",
       "_model_module_version": "1.5.0",
       "_model_name": "HTMLModel",
       "_view_count": null,
       "_view_module": "@jupyter-widgets/controls",
       "_view_module_version": "1.5.0",
       "_view_name": "HTMLView",
       "description": "",
       "description_tooltip": null,
       "layout": "IPY_MODEL_e581676b657849d2bf327e16e9042344",
       "placeholder": "​",
       "style": "IPY_MODEL_aa18a37352624265a8b36b05a9a7544c",
       "value": " 714M/714M [00:01&lt;00:00, 388MB/s]"
      }
     },
     "643f3a11246940388dc8ad3045d40dcc": {
      "model_module": "@jupyter-widgets/controls",
      "model_module_version": "1.5.0",
      "model_name": "HBoxModel",
      "state": {
       "_dom_classes": [],
       "_model_module": "@jupyter-widgets/controls",
       "_model_module_version": "1.5.0",
       "_model_name": "HBoxModel",
       "_view_count": null,
       "_view_module": "@jupyter-widgets/controls",
       "_view_module_version": "1.5.0",
       "_view_name": "HBoxView",
       "box_style": "",
       "children": [
        "IPY_MODEL_55aae3027ef34010b81cf5389efbaf69",
        "IPY_MODEL_f39dedd89c6d4712b95e338cdc9bc9f3",
        "IPY_MODEL_5fa06c20e8a84684ae8790791a506480"
       ],
       "layout": "IPY_MODEL_a313102dadde466c9dac4d4dfb4d08ca"
      }
     },
     "66d854d110e444e590e043e4a0e82595": {
      "model_module": "@jupyter-widgets/controls",
      "model_module_version": "1.5.0",
      "model_name": "ProgressStyleModel",
      "state": {
       "_model_module": "@jupyter-widgets/controls",
       "_model_module_version": "1.5.0",
       "_model_name": "ProgressStyleModel",
       "_view_count": null,
       "_view_module": "@jupyter-widgets/base",
       "_view_module_version": "1.2.0",
       "_view_name": "StyleView",
       "bar_color": null,
       "description_width": ""
      }
     },
     "6942e219666c44d8b3096de84dce3282": {
      "model_module": "@jupyter-widgets/controls",
      "model_module_version": "1.5.0",
      "model_name": "FloatProgressModel",
      "state": {
       "_dom_classes": [],
       "_model_module": "@jupyter-widgets/controls",
       "_model_module_version": "1.5.0",
       "_model_name": "FloatProgressModel",
       "_view_count": null,
       "_view_module": "@jupyter-widgets/controls",
       "_view_module_version": "1.5.0",
       "_view_name": "ProgressView",
       "bar_style": "success",
       "description": "",
       "description_tooltip": null,
       "layout": "IPY_MODEL_891d90674a4f4eb5b8a7244ca9a76fa2",
       "max": 29.0,
       "min": 0.0,
       "orientation": "horizontal",
       "style": "IPY_MODEL_66d854d110e444e590e043e4a0e82595",
       "value": 29.0
      }
     },
     "7164a641618b4fffb672658c972b7be8": {
      "model_module": "@jupyter-widgets/controls",
      "model_module_version": "1.5.0",
      "model_name": "FloatProgressModel",
      "state": {
       "_dom_classes": [],
       "_model_module": "@jupyter-widgets/controls",
       "_model_module_version": "1.5.0",
       "_model_name": "FloatProgressModel",
       "_view_count": null,
       "_view_module": "@jupyter-widgets/controls",
       "_view_module_version": "1.5.0",
       "_view_name": "ProgressView",
       "bar_style": "success",
       "description": "",
       "description_tooltip": null,
       "layout": "IPY_MODEL_39c9221de593415a8e4d861ef723a6a7",
       "max": 995526.0,
       "min": 0.0,
       "orientation": "horizontal",
       "style": "IPY_MODEL_ef16cdb851b4471285617e379b53d655",
       "value": 995526.0
      }
     },
     "77661cf879504cf9aa601a376b0b8e07": {
      "model_module": "@jupyter-widgets/base",
      "model_module_version": "1.2.0",
      "model_name": "LayoutModel",
      "state": {
       "_model_module": "@jupyter-widgets/base",
       "_model_module_version": "1.2.0",
       "_model_name": "LayoutModel",
       "_view_count": null,
       "_view_module": "@jupyter-widgets/base",
       "_view_module_version": "1.2.0",
       "_view_name": "LayoutView",
       "align_content": null,
       "align_items": null,
       "align_self": null,
       "border": null,
       "bottom": null,
       "display": null,
       "flex": null,
       "flex_flow": null,
       "grid_area": null,
       "grid_auto_columns": null,
       "grid_auto_flow": null,
       "grid_auto_rows": null,
       "grid_column": null,
       "grid_gap": null,
       "grid_row": null,
       "grid_template_areas": null,
       "grid_template_columns": null,
       "grid_template_rows": null,
       "height": null,
       "justify_content": null,
       "justify_items": null,
       "left": null,
       "margin": null,
       "max_height": null,
       "max_width": null,
       "min_height": null,
       "min_width": null,
       "object_fit": null,
       "object_position": null,
       "order": null,
       "overflow": null,
       "overflow_x": null,
       "overflow_y": null,
       "padding": null,
       "right": null,
       "top": null,
       "visibility": null,
       "width": null
      }
     },
     "7c60f30f2b6d4c2680590901ddfb0b38": {
      "model_module": "@jupyter-widgets/base",
      "model_module_version": "1.2.0",
      "model_name": "LayoutModel",
      "state": {
       "_model_module": "@jupyter-widgets/base",
       "_model_module_version": "1.2.0",
       "_model_name": "LayoutModel",
       "_view_count": null,
       "_view_module": "@jupyter-widgets/base",
       "_view_module_version": "1.2.0",
       "_view_name": "LayoutView",
       "align_content": null,
       "align_items": null,
       "align_self": null,
       "border": null,
       "bottom": null,
       "display": null,
       "flex": null,
       "flex_flow": null,
       "grid_area": null,
       "grid_auto_columns": null,
       "grid_auto_flow": null,
       "grid_auto_rows": null,
       "grid_column": null,
       "grid_gap": null,
       "grid_row": null,
       "grid_template_areas": null,
       "grid_template_columns": null,
       "grid_template_rows": null,
       "height": null,
       "justify_content": null,
       "justify_items": null,
       "left": null,
       "margin": null,
       "max_height": null,
       "max_width": null,
       "min_height": null,
       "min_width": null,
       "object_fit": null,
       "object_position": null,
       "order": null,
       "overflow": null,
       "overflow_x": null,
       "overflow_y": null,
       "padding": null,
       "right": null,
       "top": null,
       "visibility": null,
       "width": null
      }
     },
     "7c8e623613194b87a0b70620e70b21fa": {
      "model_module": "@jupyter-widgets/base",
      "model_module_version": "1.2.0",
      "model_name": "LayoutModel",
      "state": {
       "_model_module": "@jupyter-widgets/base",
       "_model_module_version": "1.2.0",
       "_model_name": "LayoutModel",
       "_view_count": null,
       "_view_module": "@jupyter-widgets/base",
       "_view_module_version": "1.2.0",
       "_view_name": "LayoutView",
       "align_content": null,
       "align_items": null,
       "align_self": null,
       "border": null,
       "bottom": null,
       "display": null,
       "flex": null,
       "flex_flow": null,
       "grid_area": null,
       "grid_auto_columns": null,
       "grid_auto_flow": null,
       "grid_auto_rows": null,
       "grid_column": null,
       "grid_gap": null,
       "grid_row": null,
       "grid_template_areas": null,
       "grid_template_columns": null,
       "grid_template_rows": null,
       "height": null,
       "justify_content": null,
       "justify_items": null,
       "left": null,
       "margin": null,
       "max_height": null,
       "max_width": null,
       "min_height": null,
       "min_width": null,
       "object_fit": null,
       "object_position": null,
       "order": null,
       "overflow": null,
       "overflow_x": null,
       "overflow_y": null,
       "padding": null,
       "right": null,
       "top": null,
       "visibility": null,
       "width": null
      }
     },
     "7e30b8fbc12545d08a5567bf38eb5aa4": {
      "model_module": "@jupyter-widgets/controls",
      "model_module_version": "1.5.0",
      "model_name": "HTMLModel",
      "state": {
       "_dom_classes": [],
       "_model_module": "@jupyter-widgets/controls",
       "_model_module_version": "1.5.0",
       "_model_name": "HTMLModel",
       "_view_count": null,
       "_view_module": "@jupyter-widgets/controls",
       "_view_module_version": "1.5.0",
       "_view_name": "HTMLView",
       "description": "",
       "description_tooltip": null,
       "layout": "IPY_MODEL_4380299d15114ec9818206ce9edcbe53",
       "placeholder": "​",
       "style": "IPY_MODEL_40e1d3ea551946d6bc233182ad2a3655",
       "value": " 625/625 [00:00&lt;00:00, 48.2kB/s]"
      }
     },
     "87c49402e2c3493fb6f492e13e561811": {
      "model_module": "@jupyter-widgets/controls",
      "model_module_version": "1.5.0",
      "model_name": "DescriptionStyleModel",
      "state": {
       "_model_module": "@jupyter-widgets/controls",
       "_model_module_version": "1.5.0",
       "_model_name": "DescriptionStyleModel",
       "_view_count": null,
       "_view_module": "@jupyter-widgets/base",
       "_view_module_version": "1.2.0",
       "_view_name": "StyleView",
       "description_width": ""
      }
     },
     "891d90674a4f4eb5b8a7244ca9a76fa2": {
      "model_module": "@jupyter-widgets/base",
      "model_module_version": "1.2.0",
      "model_name": "LayoutModel",
      "state": {
       "_model_module": "@jupyter-widgets/base",
       "_model_module_version": "1.2.0",
       "_model_name": "LayoutModel",
       "_view_count": null,
       "_view_module": "@jupyter-widgets/base",
       "_view_module_version": "1.2.0",
       "_view_name": "LayoutView",
       "align_content": null,
       "align_items": null,
       "align_self": null,
       "border": null,
       "bottom": null,
       "display": null,
       "flex": null,
       "flex_flow": null,
       "grid_area": null,
       "grid_auto_columns": null,
       "grid_auto_flow": null,
       "grid_auto_rows": null,
       "grid_column": null,
       "grid_gap": null,
       "grid_row": null,
       "grid_template_areas": null,
       "grid_template_columns": null,
       "grid_template_rows": null,
       "height": null,
       "justify_content": null,
       "justify_items": null,
       "left": null,
       "margin": null,
       "max_height": null,
       "max_width": null,
       "min_height": null,
       "min_width": null,
       "object_fit": null,
       "object_position": null,
       "order": null,
       "overflow": null,
       "overflow_x": null,
       "overflow_y": null,
       "padding": null,
       "right": null,
       "top": null,
       "visibility": null,
       "width": null
      }
     },
     "8ab5c6fa4d7542e6a0a3c469e524efcf": {
      "model_module": "@jupyter-widgets/controls",
      "model_module_version": "1.5.0",
      "model_name": "HTMLModel",
      "state": {
       "_dom_classes": [],
       "_model_module": "@jupyter-widgets/controls",
       "_model_module_version": "1.5.0",
       "_model_name": "HTMLModel",
       "_view_count": null,
       "_view_module": "@jupyter-widgets/controls",
       "_view_module_version": "1.5.0",
       "_view_name": "HTMLView",
       "description": "",
       "description_tooltip": null,
       "layout": "IPY_MODEL_15af4bb9733c4575ab9d1759ab3b6849",
       "placeholder": "​",
       "style": "IPY_MODEL_97b8a3db86894c91b98e09b1bc3e5143",
       "value": "Downloading (…)solve/main/vocab.txt: 100%"
      }
     },
     "97b8a3db86894c91b98e09b1bc3e5143": {
      "model_module": "@jupyter-widgets/controls",
      "model_module_version": "1.5.0",
      "model_name": "DescriptionStyleModel",
      "state": {
       "_model_module": "@jupyter-widgets/controls",
       "_model_module_version": "1.5.0",
       "_model_name": "DescriptionStyleModel",
       "_view_count": null,
       "_view_module": "@jupyter-widgets/base",
       "_view_module_version": "1.2.0",
       "_view_name": "StyleView",
       "description_width": ""
      }
     },
     "a313102dadde466c9dac4d4dfb4d08ca": {
      "model_module": "@jupyter-widgets/base",
      "model_module_version": "1.2.0",
      "model_name": "LayoutModel",
      "state": {
       "_model_module": "@jupyter-widgets/base",
       "_model_module_version": "1.2.0",
       "_model_name": "LayoutModel",
       "_view_count": null,
       "_view_module": "@jupyter-widgets/base",
       "_view_module_version": "1.2.0",
       "_view_name": "LayoutView",
       "align_content": null,
       "align_items": null,
       "align_self": null,
       "border": null,
       "bottom": null,
       "display": null,
       "flex": null,
       "flex_flow": null,
       "grid_area": null,
       "grid_auto_columns": null,
       "grid_auto_flow": null,
       "grid_auto_rows": null,
       "grid_column": null,
       "grid_gap": null,
       "grid_row": null,
       "grid_template_areas": null,
       "grid_template_columns": null,
       "grid_template_rows": null,
       "height": null,
       "justify_content": null,
       "justify_items": null,
       "left": null,
       "margin": null,
       "max_height": null,
       "max_width": null,
       "min_height": null,
       "min_width": null,
       "object_fit": null,
       "object_position": null,
       "order": null,
       "overflow": null,
       "overflow_x": null,
       "overflow_y": null,
       "padding": null,
       "right": null,
       "top": null,
       "visibility": null,
       "width": null
      }
     },
     "a63bcd42dcaf475998b782b3bf95c3c8": {
      "model_module": "@jupyter-widgets/controls",
      "model_module_version": "1.5.0",
      "model_name": "HTMLModel",
      "state": {
       "_dom_classes": [],
       "_model_module": "@jupyter-widgets/controls",
       "_model_module_version": "1.5.0",
       "_model_name": "HTMLModel",
       "_view_count": null,
       "_view_module": "@jupyter-widgets/controls",
       "_view_module_version": "1.5.0",
       "_view_name": "HTMLView",
       "description": "",
       "description_tooltip": null,
       "layout": "IPY_MODEL_37578fe3bd2f4fb0a263a22b2f0afd83",
       "placeholder": "​",
       "style": "IPY_MODEL_13bbcd151b94472eace391a60cb4dce9",
       "value": " 29.0/29.0 [00:00&lt;00:00, 2.56kB/s]"
      }
     },
     "aa18a37352624265a8b36b05a9a7544c": {
      "model_module": "@jupyter-widgets/controls",
      "model_module_version": "1.5.0",
      "model_name": "DescriptionStyleModel",
      "state": {
       "_model_module": "@jupyter-widgets/controls",
       "_model_module_version": "1.5.0",
       "_model_name": "DescriptionStyleModel",
       "_view_count": null,
       "_view_module": "@jupyter-widgets/base",
       "_view_module_version": "1.2.0",
       "_view_name": "StyleView",
       "description_width": ""
      }
     },
     "acdbc9468a454b86bfe3f0cac0bc9c5b": {
      "model_module": "@jupyter-widgets/controls",
      "model_module_version": "1.5.0",
      "model_name": "HTMLModel",
      "state": {
       "_dom_classes": [],
       "_model_module": "@jupyter-widgets/controls",
       "_model_module_version": "1.5.0",
       "_model_name": "HTMLModel",
       "_view_count": null,
       "_view_module": "@jupyter-widgets/controls",
       "_view_module_version": "1.5.0",
       "_view_name": "HTMLView",
       "description": "",
       "description_tooltip": null,
       "layout": "IPY_MODEL_23915670cbd244acb039bcb95dcbf2ce",
       "placeholder": "​",
       "style": "IPY_MODEL_87c49402e2c3493fb6f492e13e561811",
       "value": "Downloading (…)lve/main/config.json: 100%"
      }
     },
     "b2e5b43eb6aa49c68009c4c7e2f31341": {
      "model_module": "@jupyter-widgets/controls",
      "model_module_version": "1.5.0",
      "model_name": "HBoxModel",
      "state": {
       "_dom_classes": [],
       "_model_module": "@jupyter-widgets/controls",
       "_model_module_version": "1.5.0",
       "_model_name": "HBoxModel",
       "_view_count": null,
       "_view_module": "@jupyter-widgets/controls",
       "_view_module_version": "1.5.0",
       "_view_name": "HBoxView",
       "box_style": "",
       "children": [
        "IPY_MODEL_4c0d34af41aa4cd6b8786ad3ceb7a599",
        "IPY_MODEL_6942e219666c44d8b3096de84dce3282",
        "IPY_MODEL_a63bcd42dcaf475998b782b3bf95c3c8"
       ],
       "layout": "IPY_MODEL_7c8e623613194b87a0b70620e70b21fa"
      }
     },
     "b54b797504de48919c0c6c9728c735e7": {
      "model_module": "@jupyter-widgets/controls",
      "model_module_version": "1.5.0",
      "model_name": "DescriptionStyleModel",
      "state": {
       "_model_module": "@jupyter-widgets/controls",
       "_model_module_version": "1.5.0",
       "_model_name": "DescriptionStyleModel",
       "_view_count": null,
       "_view_module": "@jupyter-widgets/base",
       "_view_module_version": "1.2.0",
       "_view_name": "StyleView",
       "description_width": ""
      }
     },
     "d8a3f13384174a41bb718a5a0b618ab4": {
      "model_module": "@jupyter-widgets/base",
      "model_module_version": "1.2.0",
      "model_name": "LayoutModel",
      "state": {
       "_model_module": "@jupyter-widgets/base",
       "_model_module_version": "1.2.0",
       "_model_name": "LayoutModel",
       "_view_count": null,
       "_view_module": "@jupyter-widgets/base",
       "_view_module_version": "1.2.0",
       "_view_name": "LayoutView",
       "align_content": null,
       "align_items": null,
       "align_self": null,
       "border": null,
       "bottom": null,
       "display": null,
       "flex": null,
       "flex_flow": null,
       "grid_area": null,
       "grid_auto_columns": null,
       "grid_auto_flow": null,
       "grid_auto_rows": null,
       "grid_column": null,
       "grid_gap": null,
       "grid_row": null,
       "grid_template_areas": null,
       "grid_template_columns": null,
       "grid_template_rows": null,
       "height": null,
       "justify_content": null,
       "justify_items": null,
       "left": null,
       "margin": null,
       "max_height": null,
       "max_width": null,
       "min_height": null,
       "min_width": null,
       "object_fit": null,
       "object_position": null,
       "order": null,
       "overflow": null,
       "overflow_x": null,
       "overflow_y": null,
       "padding": null,
       "right": null,
       "top": null,
       "visibility": null,
       "width": null
      }
     },
     "e581676b657849d2bf327e16e9042344": {
      "model_module": "@jupyter-widgets/base",
      "model_module_version": "1.2.0",
      "model_name": "LayoutModel",
      "state": {
       "_model_module": "@jupyter-widgets/base",
       "_model_module_version": "1.2.0",
       "_model_name": "LayoutModel",
       "_view_count": null,
       "_view_module": "@jupyter-widgets/base",
       "_view_module_version": "1.2.0",
       "_view_name": "LayoutView",
       "align_content": null,
       "align_items": null,
       "align_self": null,
       "border": null,
       "bottom": null,
       "display": null,
       "flex": null,
       "flex_flow": null,
       "grid_area": null,
       "grid_auto_columns": null,
       "grid_auto_flow": null,
       "grid_auto_rows": null,
       "grid_column": null,
       "grid_gap": null,
       "grid_row": null,
       "grid_template_areas": null,
       "grid_template_columns": null,
       "grid_template_rows": null,
       "height": null,
       "justify_content": null,
       "justify_items": null,
       "left": null,
       "margin": null,
       "max_height": null,
       "max_width": null,
       "min_height": null,
       "min_width": null,
       "object_fit": null,
       "object_position": null,
       "order": null,
       "overflow": null,
       "overflow_x": null,
       "overflow_y": null,
       "padding": null,
       "right": null,
       "top": null,
       "visibility": null,
       "width": null
      }
     },
     "e6a97bf0c1174956add3c4b3ed498881": {
      "model_module": "@jupyter-widgets/base",
      "model_module_version": "1.2.0",
      "model_name": "LayoutModel",
      "state": {
       "_model_module": "@jupyter-widgets/base",
       "_model_module_version": "1.2.0",
       "_model_name": "LayoutModel",
       "_view_count": null,
       "_view_module": "@jupyter-widgets/base",
       "_view_module_version": "1.2.0",
       "_view_name": "LayoutView",
       "align_content": null,
       "align_items": null,
       "align_self": null,
       "border": null,
       "bottom": null,
       "display": null,
       "flex": null,
       "flex_flow": null,
       "grid_area": null,
       "grid_auto_columns": null,
       "grid_auto_flow": null,
       "grid_auto_rows": null,
       "grid_column": null,
       "grid_gap": null,
       "grid_row": null,
       "grid_template_areas": null,
       "grid_template_columns": null,
       "grid_template_rows": null,
       "height": null,
       "justify_content": null,
       "justify_items": null,
       "left": null,
       "margin": null,
       "max_height": null,
       "max_width": null,
       "min_height": null,
       "min_width": null,
       "object_fit": null,
       "object_position": null,
       "order": null,
       "overflow": null,
       "overflow_x": null,
       "overflow_y": null,
       "padding": null,
       "right": null,
       "top": null,
       "visibility": null,
       "width": null
      }
     },
     "ef16cdb851b4471285617e379b53d655": {
      "model_module": "@jupyter-widgets/controls",
      "model_module_version": "1.5.0",
      "model_name": "ProgressStyleModel",
      "state": {
       "_model_module": "@jupyter-widgets/controls",
       "_model_module_version": "1.5.0",
       "_model_name": "ProgressStyleModel",
       "_view_count": null,
       "_view_module": "@jupyter-widgets/base",
       "_view_module_version": "1.2.0",
       "_view_name": "StyleView",
       "bar_color": null,
       "description_width": ""
      }
     },
     "f3542f5a25984bb086827e87ee594bce": {
      "model_module": "@jupyter-widgets/controls",
      "model_module_version": "1.5.0",
      "model_name": "HBoxModel",
      "state": {
       "_dom_classes": [],
       "_model_module": "@jupyter-widgets/controls",
       "_model_module_version": "1.5.0",
       "_model_name": "HBoxModel",
       "_view_count": null,
       "_view_module": "@jupyter-widgets/controls",
       "_view_module_version": "1.5.0",
       "_view_name": "HBoxView",
       "box_style": "",
       "children": [
        "IPY_MODEL_acdbc9468a454b86bfe3f0cac0bc9c5b",
        "IPY_MODEL_f53622c73d4b46dba7a6fe51cb2e8fd6",
        "IPY_MODEL_7e30b8fbc12545d08a5567bf38eb5aa4"
       ],
       "layout": "IPY_MODEL_77661cf879504cf9aa601a376b0b8e07"
      }
     },
     "f39dedd89c6d4712b95e338cdc9bc9f3": {
      "model_module": "@jupyter-widgets/controls",
      "model_module_version": "1.5.0",
      "model_name": "FloatProgressModel",
      "state": {
       "_dom_classes": [],
       "_model_module": "@jupyter-widgets/controls",
       "_model_module_version": "1.5.0",
       "_model_name": "FloatProgressModel",
       "_view_count": null,
       "_view_module": "@jupyter-widgets/controls",
       "_view_module_version": "1.5.0",
       "_view_name": "ProgressView",
       "bar_style": "success",
       "description": "",
       "description_tooltip": null,
       "layout": "IPY_MODEL_7c60f30f2b6d4c2680590901ddfb0b38",
       "max": 714314041.0,
       "min": 0.0,
       "orientation": "horizontal",
       "style": "IPY_MODEL_3d7a6755d21e4cdda566a287bf9c7427",
       "value": 714314041.0
      }
     },
     "f53622c73d4b46dba7a6fe51cb2e8fd6": {
      "model_module": "@jupyter-widgets/controls",
      "model_module_version": "1.5.0",
      "model_name": "FloatProgressModel",
      "state": {
       "_dom_classes": [],
       "_model_module": "@jupyter-widgets/controls",
       "_model_module_version": "1.5.0",
       "_model_name": "FloatProgressModel",
       "_view_count": null,
       "_view_module": "@jupyter-widgets/controls",
       "_view_module_version": "1.5.0",
       "_view_name": "ProgressView",
       "bar_style": "success",
       "description": "",
       "description_tooltip": null,
       "layout": "IPY_MODEL_16a8f75e5f77483d9b6162212889ebb5",
       "max": 625.0,
       "min": 0.0,
       "orientation": "horizontal",
       "style": "IPY_MODEL_02aaf891d7ed44639c01ef7a5228a823",
       "value": 625.0
      }
     }
    },
    "version_major": 2,
    "version_minor": 0
   }
  }
 },
 "nbformat": 4,
 "nbformat_minor": 5
}
