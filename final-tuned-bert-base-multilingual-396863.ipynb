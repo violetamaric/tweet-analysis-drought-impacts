{
 "cells": [
  {
   "cell_type": "code",
   "execution_count": 1,
   "id": "17692075",
   "metadata": {
    "execution": {
     "iopub.execute_input": "2023-06-09T20:33:35.995934Z",
     "iopub.status.busy": "2023-06-09T20:33:35.995435Z",
     "iopub.status.idle": "2023-06-09T20:33:48.006312Z",
     "shell.execute_reply": "2023-06-09T20:33:48.004610Z"
    },
    "papermill": {
     "duration": 12.021665,
     "end_time": "2023-06-09T20:33:48.009105",
     "exception": false,
     "start_time": "2023-06-09T20:33:35.987440",
     "status": "completed"
    },
    "tags": []
   },
   "outputs": [
    {
     "name": "stdout",
     "output_type": "stream",
     "text": [
      "Collecting torchsummary\r\n",
      "  Downloading torchsummary-1.5.1-py3-none-any.whl (2.8 kB)\r\n",
      "Installing collected packages: torchsummary\r\n",
      "Successfully installed torchsummary-1.5.1\r\n",
      "\u001b[33mWARNING: Running pip as the 'root' user can result in broken permissions and conflicting behaviour with the system package manager. It is recommended to use a virtual environment instead: https://pip.pypa.io/warnings/venv\u001b[0m\u001b[33m\r\n",
      "\u001b[0m"
     ]
    }
   ],
   "source": [
    "!pip install torchsummary"
   ]
  },
  {
   "cell_type": "code",
   "execution_count": 2,
   "id": "17ac2065",
   "metadata": {
    "_cell_guid": "b1076dfc-b9ad-4769-8c92-a6c4dae69d19",
    "_uuid": "8f2839f25d086af736a60e9eeb907d3b93b6e0e5",
    "execution": {
     "iopub.execute_input": "2023-06-09T20:33:48.023526Z",
     "iopub.status.busy": "2023-06-09T20:33:48.023134Z",
     "iopub.status.idle": "2023-06-09T20:34:01.316874Z",
     "shell.execute_reply": "2023-06-09T20:34:01.315764Z"
    },
    "papermill": {
     "duration": 13.303991,
     "end_time": "2023-06-09T20:34:01.319458",
     "exception": false,
     "start_time": "2023-06-09T20:33:48.015467",
     "status": "completed"
    },
    "tags": []
   },
   "outputs": [
    {
     "name": "stderr",
     "output_type": "stream",
     "text": [
      "/opt/conda/lib/python3.10/site-packages/scipy/__init__.py:146: UserWarning: A NumPy version >=1.16.5 and <1.23.0 is required for this version of SciPy (detected version 1.23.5\n",
      "  warnings.warn(f\"A NumPy version >={np_minversion} and <{np_maxversion}\"\n"
     ]
    }
   ],
   "source": [
    "import os\n",
    "import numpy as np\n",
    "import pandas as pd\n",
    "import tensorflow as tf\n",
    "import torch\n",
    "import torch.nn as nn\n",
    "from torch.utils.data import TensorDataset, random_split\n",
    "from torch.utils.data import DataLoader, RandomSampler, SequentialSampler\n",
    "from transformers import BertModel\n",
    "from transformers import BertTokenizer\n",
    "from torchsummary import summary\n",
    "from transformers import AdamW, get_linear_schedule_with_warmup\n",
    "from sklearn import metrics\n",
    "import random\n",
    "import time"
   ]
  },
  {
   "cell_type": "markdown",
   "id": "cb95df13",
   "metadata": {
    "papermill": {
     "duration": 0.005682,
     "end_time": "2023-06-09T20:34:01.331548",
     "exception": false,
     "start_time": "2023-06-09T20:34:01.325866",
     "status": "completed"
    },
    "tags": []
   },
   "source": [
    "data for training"
   ]
  },
  {
   "cell_type": "code",
   "execution_count": 3,
   "id": "f9c8c418",
   "metadata": {
    "execution": {
     "iopub.execute_input": "2023-06-09T20:34:01.344882Z",
     "iopub.status.busy": "2023-06-09T20:34:01.344474Z",
     "iopub.status.idle": "2023-06-09T20:34:01.937005Z",
     "shell.execute_reply": "2023-06-09T20:34:01.935852Z"
    },
    "papermill": {
     "duration": 0.602168,
     "end_time": "2023-06-09T20:34:01.939539",
     "exception": false,
     "start_time": "2023-06-09T20:34:01.337371",
     "status": "completed"
    },
    "tags": []
   },
   "outputs": [],
   "source": [
    "data_to_train = '/kaggle/input/dir-processed/DIR_processed.csv'\n",
    "df_dir = pd.read_csv(data_to_train)\n",
    "\n",
    "titles = df_dir.processed_title.values\n",
    "categories = df_dir.columns.values[-9:-2]\n",
    "labels = df_dir.iloc[:,-9:-2].values"
   ]
  },
  {
   "cell_type": "markdown",
   "id": "8b983a38",
   "metadata": {
    "papermill": {
     "duration": 0.005705,
     "end_time": "2023-06-09T20:34:01.951291",
     "exception": false,
     "start_time": "2023-06-09T20:34:01.945586",
     "status": "completed"
    },
    "tags": []
   },
   "source": [
    "data for classification task"
   ]
  },
  {
   "cell_type": "code",
   "execution_count": 4,
   "id": "c4092ef6",
   "metadata": {
    "execution": {
     "iopub.execute_input": "2023-06-09T20:34:01.965131Z",
     "iopub.status.busy": "2023-06-09T20:34:01.964410Z",
     "iopub.status.idle": "2023-06-09T20:34:02.074089Z",
     "shell.execute_reply": "2023-06-09T20:34:02.072762Z"
    },
    "papermill": {
     "duration": 0.121897,
     "end_time": "2023-06-09T20:34:02.079059",
     "exception": false,
     "start_time": "2023-06-09T20:34:01.957162",
     "status": "completed"
    },
    "tags": []
   },
   "outputs": [],
   "source": [
    "data_to_classify = '/kaggle/input/output-relevant-tweets/tweets-22-v3.csv'\n",
    "#data_to_classify = '/kaggle/input/tweets-binary-v2/tweets-for-binary-class.csv'\n",
    "\n",
    "df = pd.read_csv(data_to_classify, index_col=0, encoding='ISO 8859-1')\n",
    "text_cleaned = df.loc[:,\"text\"].values\n",
    "\n",
    "text_cleaned = [x for x in text_cleaned if str(x) != 'nan']\n",
    "df_text_cleaned = pd.DataFrame({\"cleaned_text\": text_cleaned})\n",
    "df_text_cleaned.cleaned_text.replace('', np.nan, inplace=True)\n",
    "df_text_cleaned = df_text_cleaned.drop_duplicates().dropna().reset_index(drop=True)\n",
    "text_cleaned = df_text_cleaned.cleaned_text.values"
   ]
  },
  {
   "cell_type": "code",
   "execution_count": 5,
   "id": "30f33b56",
   "metadata": {
    "execution": {
     "iopub.execute_input": "2023-06-09T20:34:02.094022Z",
     "iopub.status.busy": "2023-06-09T20:34:02.093278Z",
     "iopub.status.idle": "2023-06-09T20:34:07.464074Z",
     "shell.execute_reply": "2023-06-09T20:34:07.463047Z"
    },
    "papermill": {
     "duration": 5.380782,
     "end_time": "2023-06-09T20:34:07.466399",
     "exception": false,
     "start_time": "2023-06-09T20:34:02.085617",
     "status": "completed"
    },
    "tags": []
   },
   "outputs": [
    {
     "data": {
      "application/vnd.jupyter.widget-view+json": {
       "model_id": "f06ff1e1033c402ca9bc35497d776e68",
       "version_major": 2,
       "version_minor": 0
      },
      "text/plain": [
       "Downloading (…)solve/main/vocab.txt:   0%|          | 0.00/996k [00:00<?, ?B/s]"
      ]
     },
     "metadata": {},
     "output_type": "display_data"
    },
    {
     "data": {
      "application/vnd.jupyter.widget-view+json": {
       "model_id": "17b2e6e90d5c433099c9371bef34620e",
       "version_major": 2,
       "version_minor": 0
      },
      "text/plain": [
       "Downloading (…)okenizer_config.json:   0%|          | 0.00/29.0 [00:00<?, ?B/s]"
      ]
     },
     "metadata": {},
     "output_type": "display_data"
    },
    {
     "data": {
      "application/vnd.jupyter.widget-view+json": {
       "model_id": "79cfe59e70684e239633c5250d057cbe",
       "version_major": 2,
       "version_minor": 0
      },
      "text/plain": [
       "Downloading (…)lve/main/config.json:   0%|          | 0.00/625 [00:00<?, ?B/s]"
      ]
     },
     "metadata": {},
     "output_type": "display_data"
    }
   ],
   "source": [
    "tokenizer = BertTokenizer.from_pretrained('bert-base-multilingual-cased', do_lower_case=True)"
   ]
  },
  {
   "cell_type": "markdown",
   "id": "177b6a5a",
   "metadata": {
    "papermill": {
     "duration": 0.006327,
     "end_time": "2023-06-09T20:34:07.479407",
     "exception": false,
     "start_time": "2023-06-09T20:34:07.473080",
     "status": "completed"
    },
    "tags": []
   },
   "source": [
    "maximum length of first data source for training"
   ]
  },
  {
   "cell_type": "code",
   "execution_count": 6,
   "id": "8936d977",
   "metadata": {
    "execution": {
     "iopub.execute_input": "2023-06-09T20:34:07.493565Z",
     "iopub.status.busy": "2023-06-09T20:34:07.493221Z",
     "iopub.status.idle": "2023-06-09T20:34:13.823689Z",
     "shell.execute_reply": "2023-06-09T20:34:13.822244Z"
    },
    "papermill": {
     "duration": 6.340412,
     "end_time": "2023-06-09T20:34:13.826102",
     "exception": false,
     "start_time": "2023-06-09T20:34:07.485690",
     "status": "completed"
    },
    "tags": []
   },
   "outputs": [
    {
     "name": "stdout",
     "output_type": "stream",
     "text": [
      "Max sentence length:  49\n"
     ]
    }
   ],
   "source": [
    "#finding max length\n",
    "max_length = 0\n",
    "for sentence in titles:\n",
    "\n",
    "    input_ids = tokenizer.encode(sentence, add_special_tokens=True)\n",
    "    max_length = max(max_length, len(input_ids))\n",
    "\n",
    "print('Max sentence length: ', max_length)"
   ]
  },
  {
   "cell_type": "markdown",
   "id": "c4b70dc8",
   "metadata": {
    "papermill": {
     "duration": 0.006461,
     "end_time": "2023-06-09T20:34:13.839750",
     "exception": false,
     "start_time": "2023-06-09T20:34:13.833289",
     "status": "completed"
    },
    "tags": []
   },
   "source": [
    "maximum length overall"
   ]
  },
  {
   "cell_type": "code",
   "execution_count": 7,
   "id": "d7286078",
   "metadata": {
    "execution": {
     "iopub.execute_input": "2023-06-09T20:34:13.854073Z",
     "iopub.status.busy": "2023-06-09T20:34:13.853692Z",
     "iopub.status.idle": "2023-06-09T20:34:27.452772Z",
     "shell.execute_reply": "2023-06-09T20:34:27.451770Z"
    },
    "papermill": {
     "duration": 13.608915,
     "end_time": "2023-06-09T20:34:27.455079",
     "exception": false,
     "start_time": "2023-06-09T20:34:13.846164",
     "status": "completed"
    },
    "tags": []
   },
   "outputs": [
    {
     "name": "stdout",
     "output_type": "stream",
     "text": [
      "Max sentence length:  79\n"
     ]
    }
   ],
   "source": [
    "for sentence in text_cleaned:\n",
    "\n",
    "    input_ids = tokenizer.encode(sentence, add_special_tokens=True)\n",
    "    max_length = max(max_length, len(input_ids))\n",
    "\n",
    "print('Max sentence length: ', max_length)"
   ]
  },
  {
   "cell_type": "code",
   "execution_count": 8,
   "id": "a3111df4",
   "metadata": {
    "execution": {
     "iopub.execute_input": "2023-06-09T20:34:27.470948Z",
     "iopub.status.busy": "2023-06-09T20:34:27.470237Z",
     "iopub.status.idle": "2023-06-09T20:34:27.474642Z",
     "shell.execute_reply": "2023-06-09T20:34:27.473674Z"
    },
    "papermill": {
     "duration": 0.014443,
     "end_time": "2023-06-09T20:34:27.476657",
     "exception": false,
     "start_time": "2023-06-09T20:34:27.462214",
     "status": "completed"
    },
    "tags": []
   },
   "outputs": [],
   "source": [
    "input_ids = []\n",
    "attention_masks = []"
   ]
  },
  {
   "cell_type": "code",
   "execution_count": 9,
   "id": "a5045452",
   "metadata": {
    "execution": {
     "iopub.execute_input": "2023-06-09T20:34:27.492202Z",
     "iopub.status.busy": "2023-06-09T20:34:27.491406Z",
     "iopub.status.idle": "2023-06-09T20:34:35.388409Z",
     "shell.execute_reply": "2023-06-09T20:34:35.387605Z"
    },
    "papermill": {
     "duration": 7.90723,
     "end_time": "2023-06-09T20:34:35.390734",
     "exception": false,
     "start_time": "2023-06-09T20:34:27.483504",
     "status": "completed"
    },
    "tags": []
   },
   "outputs": [],
   "source": [
    "for sentence in titles:\n",
    "    inputs = tokenizer.encode_plus(\n",
    "        sentence,  # sequence to be encoded\n",
    "        add_special_tokens=True,  # to encode the sequences with the special tokens\n",
    "        padding='max_length',  # activates and controls padding\n",
    "        truncation=True,  # activates and controls truncation\n",
    "        max_length=max_length,  # controls the maximum length to use       \n",
    "        return_attention_mask=True,  # whether to return the attention mask\n",
    "        return_tensors='pt'  # to return PyTorch torch.Tensor objects        \n",
    "    )\n",
    "    #list of token ids to be fed to a model.\n",
    "    input_ids.append(inputs['input_ids'])\n",
    "    # list of indices specifying which tokens should be considered to by the model \n",
    "    attention_masks.append(inputs['attention_mask'])"
   ]
  },
  {
   "cell_type": "code",
   "execution_count": 10,
   "id": "38a805e6",
   "metadata": {
    "execution": {
     "iopub.execute_input": "2023-06-09T20:34:35.406896Z",
     "iopub.status.busy": "2023-06-09T20:34:35.406026Z",
     "iopub.status.idle": "2023-06-09T20:34:35.410146Z",
     "shell.execute_reply": "2023-06-09T20:34:35.409270Z"
    },
    "papermill": {
     "duration": 0.014605,
     "end_time": "2023-06-09T20:34:35.412545",
     "exception": false,
     "start_time": "2023-06-09T20:34:35.397940",
     "status": "completed"
    },
    "tags": []
   },
   "outputs": [],
   "source": [
    "input_ids_test = []\n",
    "attention_masks_test = []"
   ]
  },
  {
   "cell_type": "code",
   "execution_count": 11,
   "id": "c7266def",
   "metadata": {
    "execution": {
     "iopub.execute_input": "2023-06-09T20:34:35.427586Z",
     "iopub.status.busy": "2023-06-09T20:34:35.427233Z",
     "iopub.status.idle": "2023-06-09T20:34:50.955835Z",
     "shell.execute_reply": "2023-06-09T20:34:50.954994Z"
    },
    "papermill": {
     "duration": 15.538595,
     "end_time": "2023-06-09T20:34:50.958067",
     "exception": false,
     "start_time": "2023-06-09T20:34:35.419472",
     "status": "completed"
    },
    "tags": []
   },
   "outputs": [],
   "source": [
    "for sentence in text_cleaned:\n",
    "    inputs = tokenizer.encode_plus(\n",
    "        sentence,  # sequence to be encoded\n",
    "        add_special_tokens=True,  # to encode the sequences with the special tokens\n",
    "        padding='max_length',  # activates and controls padding\n",
    "        truncation=True,  # activates and controls truncation\n",
    "        max_length=max_length,  # controls the maximum length to use       \n",
    "        return_attention_mask=True,  # whether to return the attention mask\n",
    "        return_tensors='pt'  # to return PyTorch torch.Tensor objects        \n",
    "    )\n",
    "    #list of token ids to be fed to a model.\n",
    "    input_ids_test.append(inputs['input_ids'])\n",
    "    # list of indices specifying which tokens should be considered to by the model \n",
    "    attention_masks_test.append(inputs['attention_mask'])"
   ]
  },
  {
   "cell_type": "code",
   "execution_count": 12,
   "id": "e7f848a4",
   "metadata": {
    "execution": {
     "iopub.execute_input": "2023-06-09T20:34:50.974895Z",
     "iopub.status.busy": "2023-06-09T20:34:50.974106Z",
     "iopub.status.idle": "2023-06-09T20:34:51.162091Z",
     "shell.execute_reply": "2023-06-09T20:34:51.161209Z"
    },
    "papermill": {
     "duration": 0.198657,
     "end_time": "2023-06-09T20:34:51.164538",
     "exception": false,
     "start_time": "2023-06-09T20:34:50.965881",
     "status": "completed"
    },
    "tags": []
   },
   "outputs": [],
   "source": [
    "input_ids = torch.cat(input_ids, dim=0)\n",
    "attention_masks = torch.cat(attention_masks, dim=0)\n",
    "labels = torch.tensor(labels)\n",
    "\n",
    "input_ids_test = torch.cat(input_ids_test, dim=0)\n",
    "attention_masks_test = torch.cat(attention_masks_test, dim=0)"
   ]
  },
  {
   "cell_type": "code",
   "execution_count": 13,
   "id": "5bf1d460",
   "metadata": {
    "execution": {
     "iopub.execute_input": "2023-06-09T20:34:51.180381Z",
     "iopub.status.busy": "2023-06-09T20:34:51.180004Z",
     "iopub.status.idle": "2023-06-09T20:34:51.185647Z",
     "shell.execute_reply": "2023-06-09T20:34:51.184880Z"
    },
    "papermill": {
     "duration": 0.015839,
     "end_time": "2023-06-09T20:34:51.187599",
     "exception": false,
     "start_time": "2023-06-09T20:34:51.171760",
     "status": "completed"
    },
    "tags": []
   },
   "outputs": [],
   "source": [
    "#the batches recommended from the authors are: 16 and 32\n",
    "batch_size = 16"
   ]
  },
  {
   "cell_type": "code",
   "execution_count": 14,
   "id": "f66cf098",
   "metadata": {
    "execution": {
     "iopub.execute_input": "2023-06-09T20:34:51.203206Z",
     "iopub.status.busy": "2023-06-09T20:34:51.202882Z",
     "iopub.status.idle": "2023-06-09T20:34:51.216338Z",
     "shell.execute_reply": "2023-06-09T20:34:51.215521Z"
    },
    "papermill": {
     "duration": 0.023523,
     "end_time": "2023-06-09T20:34:51.218375",
     "exception": false,
     "start_time": "2023-06-09T20:34:51.194852",
     "status": "completed"
    },
    "tags": []
   },
   "outputs": [],
   "source": [
    "# dataset for training\n",
    "dataset = TensorDataset(input_ids, attention_masks, labels)\n",
    "\n",
    "# 80% training set 20% validation set\n",
    "train_size = int(0.8 * len(dataset))\n",
    "validation_size = len(dataset) - train_size\n",
    "\n",
    "train_dataset, validation_dataset = random_split(dataset, [train_size, validation_size])"
   ]
  },
  {
   "cell_type": "code",
   "execution_count": 15,
   "id": "5a15b96c",
   "metadata": {
    "execution": {
     "iopub.execute_input": "2023-06-09T20:34:51.233669Z",
     "iopub.status.busy": "2023-06-09T20:34:51.233324Z",
     "iopub.status.idle": "2023-06-09T20:34:51.238359Z",
     "shell.execute_reply": "2023-06-09T20:34:51.237537Z"
    },
    "papermill": {
     "duration": 0.014914,
     "end_time": "2023-06-09T20:34:51.240263",
     "exception": false,
     "start_time": "2023-06-09T20:34:51.225349",
     "status": "completed"
    },
    "tags": []
   },
   "outputs": [],
   "source": [
    "train_dataloader = DataLoader(\n",
    "            train_dataset,\n",
    "            sampler = RandomSampler(train_dataset),\n",
    "            batch_size = batch_size\n",
    "        )\n",
    "\n",
    "validation_dataloader = DataLoader(\n",
    "            validation_dataset,\n",
    "            sampler = SequentialSampler(validation_dataset),\n",
    "            batch_size = batch_size\n",
    "        )\n"
   ]
  },
  {
   "cell_type": "code",
   "execution_count": 16,
   "id": "038e57ac",
   "metadata": {
    "execution": {
     "iopub.execute_input": "2023-06-09T20:34:51.255953Z",
     "iopub.status.busy": "2023-06-09T20:34:51.255052Z",
     "iopub.status.idle": "2023-06-09T20:34:51.260168Z",
     "shell.execute_reply": "2023-06-09T20:34:51.259466Z"
    },
    "papermill": {
     "duration": 0.0148,
     "end_time": "2023-06-09T20:34:51.262077",
     "exception": false,
     "start_time": "2023-06-09T20:34:51.247277",
     "status": "completed"
    },
    "tags": []
   },
   "outputs": [],
   "source": [
    "dataset = TensorDataset(input_ids_test, attention_masks_test)\n",
    "test_dataloader = DataLoader(\n",
    "            dataset,\n",
    "            sampler = RandomSampler(dataset),\n",
    "            batch_size = batch_size\n",
    "        )"
   ]
  },
  {
   "cell_type": "code",
   "execution_count": 17,
   "id": "fe14676f",
   "metadata": {
    "execution": {
     "iopub.execute_input": "2023-06-09T20:34:51.277910Z",
     "iopub.status.busy": "2023-06-09T20:34:51.277062Z",
     "iopub.status.idle": "2023-06-09T20:34:51.281650Z",
     "shell.execute_reply": "2023-06-09T20:34:51.280743Z"
    },
    "papermill": {
     "duration": 0.014555,
     "end_time": "2023-06-09T20:34:51.283613",
     "exception": false,
     "start_time": "2023-06-09T20:34:51.269058",
     "status": "completed"
    },
    "tags": []
   },
   "outputs": [],
   "source": [
    "loss_fn = nn.BCELoss()"
   ]
  },
  {
   "cell_type": "code",
   "execution_count": 18,
   "id": "d3975ebc",
   "metadata": {
    "execution": {
     "iopub.execute_input": "2023-06-09T20:34:51.299406Z",
     "iopub.status.busy": "2023-06-09T20:34:51.299040Z",
     "iopub.status.idle": "2023-06-09T20:34:51.306576Z",
     "shell.execute_reply": "2023-06-09T20:34:51.305658Z"
    },
    "papermill": {
     "duration": 0.017693,
     "end_time": "2023-06-09T20:34:51.308497",
     "exception": false,
     "start_time": "2023-06-09T20:34:51.290804",
     "status": "completed"
    },
    "tags": []
   },
   "outputs": [],
   "source": [
    "class BertClassifier(nn.Module):\n",
    "    def __init__(self, freeze_bert=False):\n",
    "\n",
    "        super(BertClassifier, self).__init__()\n",
    "        # Specify hidden size of BERT, hidden size of the classifier, and number of labels\n",
    "        D_in, D_out = 768, 7\n",
    "        H = 64\n",
    "       \n",
    "        self.bert = BertModel.from_pretrained('bert-base-multilingual-cased')\n",
    "       \n",
    "        self.classifier = nn.Sequential(\n",
    "            nn.Dropout(0.2),\n",
    "            nn.Linear(D_in, H),\n",
    "            nn.ReLU(),\n",
    "            nn.Dropout(0.2),\n",
    "            nn.Linear(H, D_out),\n",
    "            nn.Sigmoid()\n",
    "        )\n",
    "\n",
    "        # Freeze the BERT model\n",
    "        if freeze_bert:\n",
    "            for param in self.bert.parameters():\n",
    "                param.requires_grad = False\n",
    "\n",
    "    def forward(self, input_ids, attention_mask):\n",
    "\n",
    "        # Feed input to BERT\n",
    "        outputs = self.bert(input_ids=input_ids,\n",
    "                            attention_mask=attention_mask)\n",
    "\n",
    "        # Extract the last hidden state of the token `[CLS]` \n",
    "        pooled_output = torch.mean(outputs.last_hidden_state,1)\n",
    "\n",
    "        # Feed input to classifier\n",
    "        logits = self.classifier(pooled_output)        \n",
    "\n",
    "        return logits"
   ]
  },
  {
   "cell_type": "code",
   "execution_count": 19,
   "id": "66dad73f",
   "metadata": {
    "execution": {
     "iopub.execute_input": "2023-06-09T20:34:51.324365Z",
     "iopub.status.busy": "2023-06-09T20:34:51.324005Z",
     "iopub.status.idle": "2023-06-09T20:34:51.328926Z",
     "shell.execute_reply": "2023-06-09T20:34:51.327997Z"
    },
    "papermill": {
     "duration": 0.015199,
     "end_time": "2023-06-09T20:34:51.330812",
     "exception": false,
     "start_time": "2023-06-09T20:34:51.315613",
     "status": "completed"
    },
    "tags": []
   },
   "outputs": [],
   "source": [
    "def set_seed(seed_value=42):\n",
    "\n",
    "    random.seed(seed_value)\n",
    "    np.random.seed(seed_value)\n",
    "    torch.manual_seed(seed_value)\n",
    "    torch.cuda.manual_seed_all(seed_value)"
   ]
  },
  {
   "cell_type": "code",
   "execution_count": 20,
   "id": "803d087c",
   "metadata": {
    "execution": {
     "iopub.execute_input": "2023-06-09T20:34:51.346562Z",
     "iopub.status.busy": "2023-06-09T20:34:51.346256Z",
     "iopub.status.idle": "2023-06-09T20:34:51.351758Z",
     "shell.execute_reply": "2023-06-09T20:34:51.350836Z"
    },
    "papermill": {
     "duration": 0.015529,
     "end_time": "2023-06-09T20:34:51.353595",
     "exception": false,
     "start_time": "2023-06-09T20:34:51.338066",
     "status": "completed"
    },
    "tags": []
   },
   "outputs": [],
   "source": [
    "def initialize_model(epochs=5):\n",
    "\n",
    "    # Instantiate Bert Classifier\n",
    "    bert_classifier = BertClassifier(freeze_bert=False)\n",
    "\n",
    "    \n",
    "    bert_classifier\n",
    "\n",
    "    # Create the optimizer\n",
    "    optimizer = AdamW(bert_classifier.parameters(),\n",
    "                      lr=3e-5,    # Default learning rate\n",
    "                      eps=1e-8    # Default epsilon value\n",
    "                      )\n",
    "\n",
    "    # Total number of training steps\n",
    "    total_steps = len(train_dataloader) * epochs\n",
    "\n",
    "    # Set up the learning rate scheduler\n",
    "    scheduler = get_linear_schedule_with_warmup(optimizer,\n",
    "                                                num_warmup_steps=0, # Default value\n",
    "                                                num_training_steps=total_steps)\n",
    "    return bert_classifier, optimizer, scheduler"
   ]
  },
  {
   "cell_type": "code",
   "execution_count": 21,
   "id": "5a2800ce",
   "metadata": {
    "execution": {
     "iopub.execute_input": "2023-06-09T20:34:51.369306Z",
     "iopub.status.busy": "2023-06-09T20:34:51.368973Z",
     "iopub.status.idle": "2023-06-09T20:34:51.375936Z",
     "shell.execute_reply": "2023-06-09T20:34:51.374990Z"
    },
    "papermill": {
     "duration": 0.01709,
     "end_time": "2023-06-09T20:34:51.378034",
     "exception": false,
     "start_time": "2023-06-09T20:34:51.360944",
     "status": "completed"
    },
    "tags": []
   },
   "outputs": [],
   "source": [
    "def calculate_metrics(pred, target):\n",
    "    return {'micro/precision': metrics.precision_score(y_true=target, y_pred=pred, average='micro'),\n",
    "\n",
    "            'micro/recall': metrics.recall_score(y_true=target, y_pred=pred, average='micro'),\n",
    "\n",
    "            'micro/f1': metrics.f1_score(y_true=target, y_pred=pred, average='micro'),\n",
    "\n",
    "            'macro/precision': metrics.precision_score(y_true=target, y_pred=pred, average='macro'),\n",
    "\n",
    "            'macro/recall': metrics.recall_score(y_true=target, y_pred=pred, average='macro'),\n",
    "\n",
    "            'macro/f1': metrics.f1_score(y_true=target, y_pred=pred, average='macro'),\n",
    "\n",
    "            'samples/precision': metrics.precision_score(y_true=target, y_pred=pred, average='samples'),\n",
    "\n",
    "            'samples/recall': metrics.recall_score(y_true=target, y_pred=pred, average='samples'),\n",
    "\n",
    "            'samples/f1': metrics.f1_score(y_true=target, y_pred=pred, average='samples')\n",
    "            }"
   ]
  },
  {
   "cell_type": "code",
   "execution_count": 22,
   "id": "fb118b74",
   "metadata": {
    "execution": {
     "iopub.execute_input": "2023-06-09T20:34:51.394480Z",
     "iopub.status.busy": "2023-06-09T20:34:51.393824Z",
     "iopub.status.idle": "2023-06-09T20:34:51.406557Z",
     "shell.execute_reply": "2023-06-09T20:34:51.405880Z"
    },
    "papermill": {
     "duration": 0.023433,
     "end_time": "2023-06-09T20:34:51.408655",
     "exception": false,
     "start_time": "2023-06-09T20:34:51.385222",
     "status": "completed"
    },
    "tags": []
   },
   "outputs": [],
   "source": [
    "def train(model, train_dataloader, validation_dataloader=None, epochs=5, evaluation=True):\n",
    "\n",
    "    # Start training loop\n",
    "    print(\"Start training...\\n\")\n",
    "    for epoch_i in range(epochs):\n",
    "        # =======================================\n",
    "        #               Training\n",
    "        # =======================================\n",
    "        # Print the header of the result table\n",
    "        print(\n",
    "            f\"{'Epoch':^7} | {'Batch':^7} | {'Train Loss':^12} | {'Val Loss':^10} | {'Val Precision':^9} | {'Val Recall':^9} | {'Val F1':^9} | {'Elapsed':^9}\")\n",
    "        print(\"-\" * 100)\n",
    "\n",
    "        # Measure the elapsed time of each epoch\n",
    "        t0_epoch, t0_batch = time.time(), time.time()\n",
    "\n",
    "        # Reset tracking variables at the beginning of each epoch\n",
    "        total_loss, batch_loss, batch_counts = 0, 0, 0\n",
    "\n",
    "        # Put the model into the training mode\n",
    "        model.train()\n",
    "\n",
    "        # For each batch of training data...\n",
    "        for step, batch in enumerate(train_dataloader):\n",
    "            batch_counts += 1\n",
    "            # Load batch to GPU\n",
    "            b_input_ids, b_attn_mask, b_labels = tuple(t for t in batch)\n",
    "\n",
    "            # Zero out any previously calculated gradients\n",
    "            model.zero_grad()\n",
    "\n",
    "            # Perform a forward pass. This will return logits.\n",
    "            logits = model(b_input_ids, b_attn_mask)\n",
    "\n",
    "            loss=loss_fn(logits, b_labels.type(torch.float))\n",
    "            # accumulate the loss values\n",
    "            batch_loss += loss.item()\n",
    "            total_loss += loss.item()\n",
    "            # print(loss,logits.shape)\n",
    "            # Perform a backward pass to calculate gradients\n",
    "            loss.backward()\n",
    "\n",
    "            # Clip the norm of the gradients to 1.0 to prevent \"exploding gradients\"\n",
    "            torch.nn.utils.clip_grad_norm_(model.parameters(), 1.0)\n",
    "\n",
    "            # Update parameters and the learning rate\n",
    "            optimizer.step()\n",
    "            scheduler.step()\n",
    "\n",
    "            # Print the loss values and time elapsed for every 20 batches\n",
    "            if (step % 20 == 0 and step != 0) or (step == len(train_dataloader) - 1):\n",
    "                # Calculate time elapsed for 20 batches\n",
    "                time_elapsed = time.time() - t0_batch\n",
    "\n",
    "                # Print training results\n",
    "                print(\n",
    "                    f\"{epoch_i + 1:^7} | {step:^7} | {batch_loss / batch_counts:^12f} | {'-':^10} | {'-':^13} | {'-':^10} | {'-':^9} | {time_elapsed:^9f}\")\n",
    "\n",
    "                # Reset batch tracking variables\n",
    "                batch_loss, batch_counts = 0, 0\n",
    "                t0_batch = time.time()\n",
    "\n",
    "        # Calculate the average loss over the entire training data\n",
    "        avg_train_loss = total_loss / len(train_dataloader)\n",
    "\n",
    "        print(\"-\" * 100)\n",
    "        # =======================================\n",
    "        #               Evaluation\n",
    "        # =======================================\n",
    "        if evaluation == True:\n",
    "            # After the completion of each training epoch, measure the model's performance\n",
    "            # on our validation set.\n",
    "            val_loss, val_precision, val_recall, val_f1 = evaluate(model, validation_dataloader)\n",
    "\n",
    "            # Print performance over the entire training data\n",
    "            time_elapsed = time.time() - t0_epoch\n",
    "\n",
    "            # Print the header of the result table\n",
    "\n",
    "            print(\"-\" * 100)\n",
    "            print(\n",
    "                f\"{epoch_i + 1:^7} | {'-':^7} | {avg_train_loss:^12.6f} | {val_loss:^10.6f} | {val_precision:^13f} | {val_recall:^10.2f} | {val_f1:^9.2f} | {time_elapsed:^9.2f}\")\n",
    "            print(\"-\" * 100)\n",
    "        print(\"\\n\")\n",
    "\n",
    "    print(\"Training complete!\")\n",
    "\n",
    "    # saving the model\n",
    "    # Saving best-practices: if you use defaults names for the model, you can reload it using from_pretrained()\n",
    "    output_dir = '/kaggle/working/'\n",
    "\n",
    "    # Create output directory if needed\n",
    "    if not os.path.exists(output_dir):\n",
    "      os.makedirs(output_dir)\n",
    "\n",
    "    print(\"Saving model to %s\" % output_dir)\n",
    "\n",
    "    model.bert.save_pretrained(output_dir)"
   ]
  },
  {
   "cell_type": "code",
   "execution_count": 23,
   "id": "c3f0e522",
   "metadata": {
    "execution": {
     "iopub.execute_input": "2023-06-09T20:34:51.424926Z",
     "iopub.status.busy": "2023-06-09T20:34:51.424371Z",
     "iopub.status.idle": "2023-06-09T20:34:51.433240Z",
     "shell.execute_reply": "2023-06-09T20:34:51.432579Z"
    },
    "papermill": {
     "duration": 0.01913,
     "end_time": "2023-06-09T20:34:51.435209",
     "exception": false,
     "start_time": "2023-06-09T20:34:51.416079",
     "status": "completed"
    },
    "tags": []
   },
   "outputs": [],
   "source": [
    "def evaluate(model, validation_dataloader):\n",
    "\n",
    "    # Put the model into the evaluation mode. The dropout layers are disabled during\n",
    "    # the test time.\n",
    "    model.eval()\n",
    "\n",
    "    # Tracking variables\n",
    "    val_precision = []\n",
    "    val_recall = []\n",
    "    val_f1 = []\n",
    "    val_loss = []\n",
    "\n",
    "    # For each batch in our validation set...\n",
    "    for batch in validation_dataloader:\n",
    "        # Load batch to GPU\n",
    "        b_input_ids, b_attn_mask, b_labels = tuple(t for t in batch)\n",
    "\n",
    "        # Compute logits\n",
    "        with torch.no_grad():\n",
    "            logits = model(b_input_ids, b_attn_mask)\n",
    "\n",
    "        # Compute loss\n",
    "        loss = loss_fn(logits, b_labels.type(torch.float))\n",
    "        val_loss.append(loss.item())\n",
    "\n",
    "        # Get the predictions\n",
    "        logits_arr = logits.cpu().numpy()\n",
    "        logits_arr[logits_arr >= 0.5] = 1\n",
    "        logits_arr[logits_arr < 0.5] = 0\n",
    "\n",
    "        b_labels_arr = b_labels.cpu().numpy()\n",
    "        # Calculate the accuracy rate\n",
    "        precision_micro = metrics.precision_score(y_true=b_labels_arr, y_pred=logits_arr, average='micro')\n",
    "        val_precision.append(precision_micro)\n",
    "        recall_micro = metrics.recall_score(y_true=b_labels_arr, y_pred=logits_arr, average='micro')\n",
    "        val_recall.append(recall_micro)\n",
    "        f1_micro = metrics.f1_score(y_true=b_labels_arr, y_pred=logits_arr, average='micro')\n",
    "        val_f1.append(f1_micro)\n",
    "\n",
    "    # Compute the average accuracy and loss over the validation set.\n",
    "    val_loss = np.mean(val_loss)\n",
    "    val_precision = np.mean(precision_micro)\n",
    "    val_recall = np.mean(recall_micro)\n",
    "    val_f1 = np.mean(f1_micro)\n",
    "\n",
    "    return val_loss, val_precision, val_recall, val_f1"
   ]
  },
  {
   "cell_type": "code",
   "execution_count": 24,
   "id": "68f699ea",
   "metadata": {
    "execution": {
     "iopub.execute_input": "2023-06-09T20:34:51.451901Z",
     "iopub.status.busy": "2023-06-09T20:34:51.451509Z",
     "iopub.status.idle": "2023-06-09T20:34:51.457467Z",
     "shell.execute_reply": "2023-06-09T20:34:51.456461Z"
    },
    "papermill": {
     "duration": 0.016922,
     "end_time": "2023-06-09T20:34:51.459518",
     "exception": false,
     "start_time": "2023-06-09T20:34:51.442596",
     "status": "completed"
    },
    "tags": []
   },
   "outputs": [],
   "source": [
    "def bert_predict(model, test_dataloader):\n",
    "\n",
    "    model.eval()\n",
    "\n",
    "    all_logits = []\n",
    "\n",
    "\n",
    "    for batch in test_dataloader:\n",
    "        b_input_ids, b_attn_mask = tuple(t for t in batch)[:2]\n",
    "\n",
    "        # Compute logits\n",
    "        with torch.no_grad():\n",
    "            logits = model(b_input_ids, b_attn_mask)\n",
    "        all_logits.append(logits.type(torch.float))\n",
    "    \n",
    "    # Concatenate logits from each batch\n",
    "    all_logits = torch.cat(all_logits, dim=0)\n",
    "\n",
    "    probs = all_logits.cpu().numpy()\n",
    "\n",
    "    return probs"
   ]
  },
  {
   "cell_type": "code",
   "execution_count": 25,
   "id": "12058f02",
   "metadata": {
    "execution": {
     "iopub.execute_input": "2023-06-09T20:34:51.476073Z",
     "iopub.status.busy": "2023-06-09T20:34:51.475440Z",
     "iopub.status.idle": "2023-06-10T01:30:37.151718Z",
     "shell.execute_reply": "2023-06-10T01:30:37.150536Z"
    },
    "papermill": {
     "duration": 17745.687448,
     "end_time": "2023-06-10T01:30:37.154304",
     "exception": false,
     "start_time": "2023-06-09T20:34:51.466856",
     "status": "completed"
    },
    "tags": []
   },
   "outputs": [
    {
     "data": {
      "application/vnd.jupyter.widget-view+json": {
       "model_id": "93b1749217154f6b9c4bc4f36d4e3377",
       "version_major": 2,
       "version_minor": 0
      },
      "text/plain": [
       "Downloading pytorch_model.bin:   0%|          | 0.00/714M [00:00<?, ?B/s]"
      ]
     },
     "metadata": {},
     "output_type": "display_data"
    },
    {
     "name": "stderr",
     "output_type": "stream",
     "text": [
      "Some weights of the model checkpoint at bert-base-multilingual-cased were not used when initializing BertModel: ['cls.predictions.transform.LayerNorm.weight', 'cls.predictions.transform.dense.weight', 'cls.predictions.transform.dense.bias', 'cls.predictions.decoder.weight', 'cls.seq_relationship.bias', 'cls.predictions.transform.LayerNorm.bias', 'cls.predictions.bias', 'cls.seq_relationship.weight']\n",
      "- This IS expected if you are initializing BertModel from the checkpoint of a model trained on another task or with another architecture (e.g. initializing a BertForSequenceClassification model from a BertForPreTraining model).\n",
      "- This IS NOT expected if you are initializing BertModel from the checkpoint of a model that you expect to be exactly identical (initializing a BertForSequenceClassification model from a BertForSequenceClassification model).\n",
      "/opt/conda/lib/python3.10/site-packages/transformers/optimization.py:391: FutureWarning: This implementation of AdamW is deprecated and will be removed in a future version. Use the PyTorch implementation torch.optim.AdamW instead, or set `no_deprecation_warning=True` to disable this warning\n",
      "  warnings.warn(\n"
     ]
    },
    {
     "name": "stdout",
     "output_type": "stream",
     "text": [
      "Start training...\n",
      "\n",
      " Epoch  |  Batch  |  Train Loss  |  Val Loss  | Val Precision | Val Recall |  Val F1   |  Elapsed \n",
      "----------------------------------------------------------------------------------------------------\n",
      "   1    |   20    |   0.629210   |     -      |       -       |     -      |     -     | 124.232486\n",
      "   1    |   40    |   0.554600   |     -      |       -       |     -      |     -     | 116.646772\n",
      "   1    |   60    |   0.502615   |     -      |       -       |     -      |     -     | 116.634254\n",
      "   1    |   80    |   0.452462   |     -      |       -       |     -      |     -     | 116.742714\n",
      "   1    |   100   |   0.409353   |     -      |       -       |     -      |     -     | 116.001536\n",
      "   1    |   120   |   0.411271   |     -      |       -       |     -      |     -     | 116.753007\n",
      "   1    |   140   |   0.392934   |     -      |       -       |     -      |     -     | 116.672369\n",
      "   1    |   160   |   0.383660   |     -      |       -       |     -      |     -     | 115.778192\n",
      "   1    |   180   |   0.395285   |     -      |       -       |     -      |     -     | 116.540045\n",
      "   1    |   200   |   0.384704   |     -      |       -       |     -      |     -     | 116.855231\n",
      "   1    |   220   |   0.377959   |     -      |       -       |     -      |     -     | 115.962377\n",
      "   1    |   240   |   0.362790   |     -      |       -       |     -      |     -     | 116.451307\n",
      "   1    |   260   |   0.360198   |     -      |       -       |     -      |     -     | 116.729745\n",
      "   1    |   280   |   0.357917   |     -      |       -       |     -      |     -     | 116.651780\n",
      "   1    |   300   |   0.353243   |     -      |       -       |     -      |     -     | 116.173886\n",
      "   1    |   320   |   0.356392   |     -      |       -       |     -      |     -     | 116.844903\n",
      "   1    |   340   |   0.348666   |     -      |       -       |     -      |     -     | 116.820535\n",
      "   1    |   360   |   0.332268   |     -      |       -       |     -      |     -     | 116.223813\n",
      "   1    |   380   |   0.342457   |     -      |       -       |     -      |     -     | 116.574233\n",
      "   1    |   400   |   0.297750   |     -      |       -       |     -      |     -     | 116.791345\n",
      "   1    |   420   |   0.335540   |     -      |       -       |     -      |     -     | 115.812543\n",
      "   1    |   440   |   0.310840   |     -      |       -       |     -      |     -     | 116.748799\n",
      "   1    |   460   |   0.303129   |     -      |       -       |     -      |     -     | 116.455993\n",
      "   1    |   480   |   0.335417   |     -      |       -       |     -      |     -     | 116.701597\n",
      "   1    |   500   |   0.294561   |     -      |       -       |     -      |     -     | 115.798368\n",
      "   1    |   520   |   0.328024   |     -      |       -       |     -      |     -     | 116.702336\n",
      "   1    |   540   |   0.309320   |     -      |       -       |     -      |     -     | 116.416451\n",
      "   1    |   560   |   0.290037   |     -      |       -       |     -      |     -     | 116.121517\n",
      "   1    |   580   |   0.301144   |     -      |       -       |     -      |     -     | 116.627623\n",
      "   1    |   600   |   0.289772   |     -      |       -       |     -      |     -     | 116.969931\n",
      "   1    |   620   |   0.306600   |     -      |       -       |     -      |     -     | 116.260998\n",
      "   1    |   640   |   0.284990   |     -      |       -       |     -      |     -     | 116.309038\n",
      "   1    |   660   |   0.304936   |     -      |       -       |     -      |     -     | 116.478441\n",
      "   1    |   680   |   0.314454   |     -      |       -       |     -      |     -     | 116.530241\n",
      "   1    |   700   |   0.291207   |     -      |       -       |     -      |     -     | 115.974935\n",
      "   1    |   708   |   0.297883   |     -      |       -       |     -      |     -     | 46.369567\n",
      "----------------------------------------------------------------------------------------------------\n",
      "----------------------------------------------------------------------------------------------------\n",
      "   1    |    -    |   0.359840   |  0.280011  |   0.428571    |    0.43    |   0.43    |  4421.76 \n",
      "----------------------------------------------------------------------------------------------------\n",
      "\n",
      "\n",
      " Epoch  |  Batch  |  Train Loss  |  Val Loss  | Val Precision | Val Recall |  Val F1   |  Elapsed \n",
      "----------------------------------------------------------------------------------------------------\n",
      "   2    |   20    |   0.279883   |     -      |       -       |     -      |     -     | 122.566642\n",
      "   2    |   40    |   0.285336   |     -      |       -       |     -      |     -     | 116.538793\n",
      "   2    |   60    |   0.265349   |     -      |       -       |     -      |     -     | 116.198979\n",
      "   2    |   80    |   0.275748   |     -      |       -       |     -      |     -     | 117.294330\n",
      "   2    |   100   |   0.264256   |     -      |       -       |     -      |     -     | 116.947094\n",
      "   2    |   120   |   0.283923   |     -      |       -       |     -      |     -     | 116.932803\n",
      "   2    |   140   |   0.270436   |     -      |       -       |     -      |     -     | 116.980647\n",
      "   2    |   160   |   0.264347   |     -      |       -       |     -      |     -     | 116.704380\n",
      "   2    |   180   |   0.274116   |     -      |       -       |     -      |     -     | 116.835067\n",
      "   2    |   200   |   0.255105   |     -      |       -       |     -      |     -     | 116.811691\n",
      "   2    |   220   |   0.278717   |     -      |       -       |     -      |     -     | 117.551225\n",
      "   2    |   240   |   0.254301   |     -      |       -       |     -      |     -     | 117.017128\n",
      "   2    |   260   |   0.288932   |     -      |       -       |     -      |     -     | 116.326090\n",
      "   2    |   280   |   0.275651   |     -      |       -       |     -      |     -     | 116.932944\n",
      "   2    |   300   |   0.265371   |     -      |       -       |     -      |     -     | 116.777452\n",
      "   2    |   320   |   0.269040   |     -      |       -       |     -      |     -     | 116.596870\n",
      "   2    |   340   |   0.265788   |     -      |       -       |     -      |     -     | 116.554018\n",
      "   2    |   360   |   0.246228   |     -      |       -       |     -      |     -     | 116.664721\n",
      "   2    |   380   |   0.262847   |     -      |       -       |     -      |     -     | 116.857220\n",
      "   2    |   400   |   0.284974   |     -      |       -       |     -      |     -     | 116.287571\n",
      "   2    |   420   |   0.269991   |     -      |       -       |     -      |     -     | 116.733867\n",
      "   2    |   440   |   0.269082   |     -      |       -       |     -      |     -     | 116.828462\n",
      "   2    |   460   |   0.258872   |     -      |       -       |     -      |     -     | 116.078081\n",
      "   2    |   480   |   0.256930   |     -      |       -       |     -      |     -     | 116.893678\n",
      "   2    |   500   |   0.262574   |     -      |       -       |     -      |     -     | 116.604885\n",
      "   2    |   520   |   0.255551   |     -      |       -       |     -      |     -     | 116.682482\n",
      "   2    |   540   |   0.296044   |     -      |       -       |     -      |     -     | 116.142179\n",
      "   2    |   560   |   0.257010   |     -      |       -       |     -      |     -     | 116.632464\n",
      "   2    |   580   |   0.259759   |     -      |       -       |     -      |     -     | 116.579351\n",
      "   2    |   600   |   0.286217   |     -      |       -       |     -      |     -     | 116.380261\n",
      "   2    |   620   |   0.235816   |     -      |       -       |     -      |     -     | 116.524179\n",
      "   2    |   640   |   0.242526   |     -      |       -       |     -      |     -     | 116.727742\n",
      "   2    |   660   |   0.250914   |     -      |       -       |     -      |     -     | 116.372683\n",
      "   2    |   680   |   0.258161   |     -      |       -       |     -      |     -     | 116.584968\n",
      "   2    |   700   |   0.256369   |     -      |       -       |     -      |     -     | 116.455100\n",
      "   2    |   708   |   0.239041   |     -      |       -       |     -      |     -     | 45.802253\n",
      "----------------------------------------------------------------------------------------------------\n",
      "----------------------------------------------------------------------------------------------------\n",
      "   2    |    -    |   0.266171   |  0.254420  |   0.625000    |    0.71    |   0.67    |  4427.72 \n",
      "----------------------------------------------------------------------------------------------------\n",
      "\n",
      "\n",
      " Epoch  |  Batch  |  Train Loss  |  Val Loss  | Val Precision | Val Recall |  Val F1   |  Elapsed \n",
      "----------------------------------------------------------------------------------------------------\n",
      "   3    |   20    |   0.237648   |     -      |       -       |     -      |     -     | 122.513977\n",
      "   3    |   40    |   0.234491   |     -      |       -       |     -      |     -     | 116.511277\n",
      "   3    |   60    |   0.231325   |     -      |       -       |     -      |     -     | 116.867505\n",
      "   3    |   80    |   0.230064   |     -      |       -       |     -      |     -     | 116.519719\n",
      "   3    |   100   |   0.201005   |     -      |       -       |     -      |     -     | 116.409732\n",
      "   3    |   120   |   0.221026   |     -      |       -       |     -      |     -     | 116.508281\n",
      "   3    |   140   |   0.237505   |     -      |       -       |     -      |     -     | 116.695192\n",
      "   3    |   160   |   0.247989   |     -      |       -       |     -      |     -     | 116.198422\n",
      "   3    |   180   |   0.214322   |     -      |       -       |     -      |     -     | 116.754801\n",
      "   3    |   200   |   0.214281   |     -      |       -       |     -      |     -     | 116.677993\n",
      "   3    |   220   |   0.221495   |     -      |       -       |     -      |     -     | 116.743360\n",
      "   3    |   240   |   0.232307   |     -      |       -       |     -      |     -     | 116.168988\n",
      "   3    |   260   |   0.226046   |     -      |       -       |     -      |     -     | 116.791598\n",
      "   3    |   280   |   0.218741   |     -      |       -       |     -      |     -     | 116.584627\n",
      "   3    |   300   |   0.243425   |     -      |       -       |     -      |     -     | 116.148571\n",
      "   3    |   320   |   0.226341   |     -      |       -       |     -      |     -     | 116.583942\n",
      "   3    |   340   |   0.247942   |     -      |       -       |     -      |     -     | 117.397774\n",
      "   3    |   360   |   0.232897   |     -      |       -       |     -      |     -     | 116.235336\n",
      "   3    |   380   |   0.230179   |     -      |       -       |     -      |     -     | 116.485883\n",
      "   3    |   400   |   0.226891   |     -      |       -       |     -      |     -     | 116.679984\n",
      "   3    |   420   |   0.219689   |     -      |       -       |     -      |     -     | 116.671244\n",
      "   3    |   440   |   0.224492   |     -      |       -       |     -      |     -     | 116.073919\n",
      "   3    |   460   |   0.227999   |     -      |       -       |     -      |     -     | 116.856744\n",
      "   3    |   480   |   0.218296   |     -      |       -       |     -      |     -     | 117.024824\n",
      "   3    |   500   |   0.226383   |     -      |       -       |     -      |     -     | 116.479124\n",
      "   3    |   520   |   0.226422   |     -      |       -       |     -      |     -     | 116.727859\n",
      "   3    |   540   |   0.211285   |     -      |       -       |     -      |     -     | 116.936169\n",
      "   3    |   560   |   0.223710   |     -      |       -       |     -      |     -     | 116.548804\n",
      "   3    |   580   |   0.212813   |     -      |       -       |     -      |     -     | 116.861683\n",
      "   3    |   600   |   0.223264   |     -      |       -       |     -      |     -     | 116.650831\n",
      "   3    |   620   |   0.222897   |     -      |       -       |     -      |     -     | 116.673479\n",
      "   3    |   640   |   0.196240   |     -      |       -       |     -      |     -     | 116.818632\n",
      "   3    |   660   |   0.227164   |     -      |       -       |     -      |     -     | 116.838005\n",
      "   3    |   680   |   0.228848   |     -      |       -       |     -      |     -     | 116.874637\n",
      "   3    |   700   |   0.252291   |     -      |       -       |     -      |     -     | 116.284482\n",
      "   3    |   708   |   0.207972   |     -      |       -       |     -      |     -     | 46.794686\n",
      "----------------------------------------------------------------------------------------------------\n",
      "----------------------------------------------------------------------------------------------------\n",
      "   3    |    -    |   0.226031   |  0.243907  |   0.714286    |    0.71    |   0.71    |  4427.36 \n",
      "----------------------------------------------------------------------------------------------------\n",
      "\n",
      "\n",
      " Epoch  |  Batch  |  Train Loss  |  Val Loss  | Val Precision | Val Recall |  Val F1   |  Elapsed \n",
      "----------------------------------------------------------------------------------------------------\n",
      "   4    |   20    |   0.212994   |     -      |       -       |     -      |     -     | 122.620906\n",
      "   4    |   40    |   0.181057   |     -      |       -       |     -      |     -     | 116.953433\n",
      "   4    |   60    |   0.195280   |     -      |       -       |     -      |     -     | 116.834882\n",
      "   4    |   80    |   0.210336   |     -      |       -       |     -      |     -     | 116.353126\n",
      "   4    |   100   |   0.194480   |     -      |       -       |     -      |     -     | 116.811278\n",
      "   4    |   120   |   0.186290   |     -      |       -       |     -      |     -     | 116.562437\n",
      "   4    |   140   |   0.195462   |     -      |       -       |     -      |     -     | 116.178337\n",
      "   4    |   160   |   0.226525   |     -      |       -       |     -      |     -     | 116.667909\n",
      "   4    |   180   |   0.200290   |     -      |       -       |     -      |     -     | 116.762594\n",
      "   4    |   200   |   0.192934   |     -      |       -       |     -      |     -     | 117.176435\n",
      "   4    |   220   |   0.186449   |     -      |       -       |     -      |     -     | 116.759631\n",
      "   4    |   240   |   0.212762   |     -      |       -       |     -      |     -     | 116.850500\n",
      "   4    |   260   |   0.210772   |     -      |       -       |     -      |     -     | 117.517255\n",
      "   4    |   280   |   0.208131   |     -      |       -       |     -      |     -     | 116.600256\n",
      "   4    |   300   |   0.199545   |     -      |       -       |     -      |     -     | 116.664895\n",
      "   4    |   320   |   0.188494   |     -      |       -       |     -      |     -     | 117.289986\n",
      "   4    |   340   |   0.203131   |     -      |       -       |     -      |     -     | 116.441875\n",
      "   4    |   360   |   0.187970   |     -      |       -       |     -      |     -     | 116.964634\n",
      "   4    |   380   |   0.196042   |     -      |       -       |     -      |     -     | 116.728637\n",
      "   4    |   400   |   0.200822   |     -      |       -       |     -      |     -     | 117.060236\n",
      "   4    |   420   |   0.208386   |     -      |       -       |     -      |     -     | 116.310510\n",
      "   4    |   440   |   0.195344   |     -      |       -       |     -      |     -     | 116.894510\n",
      "   4    |   460   |   0.191563   |     -      |       -       |     -      |     -     | 116.756545\n",
      "   4    |   480   |   0.186589   |     -      |       -       |     -      |     -     | 116.463848\n",
      "   4    |   500   |   0.189562   |     -      |       -       |     -      |     -     | 117.108121\n",
      "   4    |   520   |   0.207283   |     -      |       -       |     -      |     -     | 116.799559\n",
      "   4    |   540   |   0.186439   |     -      |       -       |     -      |     -     | 116.814536\n",
      "   4    |   560   |   0.195889   |     -      |       -       |     -      |     -     | 116.546256\n",
      "   4    |   580   |   0.190145   |     -      |       -       |     -      |     -     | 116.698117\n",
      "   4    |   600   |   0.197660   |     -      |       -       |     -      |     -     | 116.732795\n",
      "   4    |   620   |   0.207592   |     -      |       -       |     -      |     -     | 116.364401\n",
      "   4    |   640   |   0.196992   |     -      |       -       |     -      |     -     | 116.783848\n",
      "   4    |   660   |   0.206058   |     -      |       -       |     -      |     -     | 116.849358\n",
      "   4    |   680   |   0.209501   |     -      |       -       |     -      |     -     | 116.269200\n",
      "   4    |   700   |   0.173108   |     -      |       -       |     -      |     -     | 116.906749\n",
      "   4    |   708   |   0.200662   |     -      |       -       |     -      |     -     | 46.383185\n",
      "----------------------------------------------------------------------------------------------------\n",
      "----------------------------------------------------------------------------------------------------\n",
      "   4    |    -    |   0.198104   |  0.240627  |   0.714286    |    0.71    |   0.71    |  4431.21 \n",
      "----------------------------------------------------------------------------------------------------\n",
      "\n",
      "\n",
      "Training complete!\n",
      "Saving model to /kaggle/working/\n"
     ]
    }
   ],
   "source": [
    "set_seed(42)\n",
    "bert_classifier, optimizer, scheduler = initialize_model(epochs=4)\n",
    "train(bert_classifier, train_dataloader, validation_dataloader, epochs=4, evaluation=True)"
   ]
  },
  {
   "cell_type": "code",
   "execution_count": 26,
   "id": "a95ca4ad",
   "metadata": {
    "execution": {
     "iopub.execute_input": "2023-06-10T01:30:37.190769Z",
     "iopub.status.busy": "2023-06-10T01:30:37.190371Z",
     "iopub.status.idle": "2023-06-10T02:00:51.059471Z",
     "shell.execute_reply": "2023-06-10T02:00:51.058496Z"
    },
    "papermill": {
     "duration": 1813.890495,
     "end_time": "2023-06-10T02:00:51.062242",
     "exception": false,
     "start_time": "2023-06-10T01:30:37.171747",
     "status": "completed"
    },
    "tags": []
   },
   "outputs": [],
   "source": [
    "probs = bert_predict(bert_classifier, test_dataloader)\n",
    "\n",
    "# Get predictions from the probabilities\n",
    "threshold = 0.5\n",
    "preds = np.where(probs > threshold, 1, 0)\n",
    "\n",
    "df_text_cleaned['0'] = preds[:,0]\n",
    "df_text_cleaned['1'] = preds[:,1]\n",
    "df_text_cleaned['2'] = preds[:,2]\n",
    "df_text_cleaned['3'] = preds[:,3]\n",
    "df_text_cleaned['4'] = preds[:,4]\n",
    "df_text_cleaned['5'] = preds[:,5]\n",
    "df_text_cleaned['6'] = preds[:,6]\n",
    "df_text_cleaned.to_excel('tweets-predictions-multiclass-v3.xlsx')"
   ]
  }
 ],
 "metadata": {
  "kernelspec": {
   "display_name": "Python 3",
   "language": "python",
   "name": "python3"
  },
  "language_info": {
   "codemirror_mode": {
    "name": "ipython",
    "version": 3
   },
   "file_extension": ".py",
   "mimetype": "text/x-python",
   "name": "python",
   "nbconvert_exporter": "python",
   "pygments_lexer": "ipython3",
   "version": "3.10.10"
  },
  "papermill": {
   "default_parameters": {},
   "duration": 19648.89055,
   "end_time": "2023-06-10T02:00:54.701216",
   "environment_variables": {},
   "exception": null,
   "input_path": "__notebook__.ipynb",
   "output_path": "__notebook__.ipynb",
   "parameters": {},
   "start_time": "2023-06-09T20:33:25.810666",
   "version": "2.4.0"
  },
  "widgets": {
   "application/vnd.jupyter.widget-state+json": {
    "state": {
     "0184e3c4de2348e38b958e72fe29c221": {
      "model_module": "@jupyter-widgets/controls",
      "model_module_version": "1.5.0",
      "model_name": "HTMLModel",
      "state": {
       "_dom_classes": [],
       "_model_module": "@jupyter-widgets/controls",
       "_model_module_version": "1.5.0",
       "_model_name": "HTMLModel",
       "_view_count": null,
       "_view_module": "@jupyter-widgets/controls",
       "_view_module_version": "1.5.0",
       "_view_name": "HTMLView",
       "description": "",
       "description_tooltip": null,
       "layout": "IPY_MODEL_7c023e2a3e9a43cfb254be6baf3ed0ff",
       "placeholder": "​",
       "style": "IPY_MODEL_a0a6d0ee9139457c9599a8c03ea1c5c2",
       "value": "Downloading (…)lve/main/config.json: 100%"
      }
     },
     "044c5209b44d4334932a278f7a316ec5": {
      "model_module": "@jupyter-widgets/controls",
      "model_module_version": "1.5.0",
      "model_name": "DescriptionStyleModel",
      "state": {
       "_model_module": "@jupyter-widgets/controls",
       "_model_module_version": "1.5.0",
       "_model_name": "DescriptionStyleModel",
       "_view_count": null,
       "_view_module": "@jupyter-widgets/base",
       "_view_module_version": "1.2.0",
       "_view_name": "StyleView",
       "description_width": ""
      }
     },
     "17b2e6e90d5c433099c9371bef34620e": {
      "model_module": "@jupyter-widgets/controls",
      "model_module_version": "1.5.0",
      "model_name": "HBoxModel",
      "state": {
       "_dom_classes": [],
       "_model_module": "@jupyter-widgets/controls",
       "_model_module_version": "1.5.0",
       "_model_name": "HBoxModel",
       "_view_count": null,
       "_view_module": "@jupyter-widgets/controls",
       "_view_module_version": "1.5.0",
       "_view_name": "HBoxView",
       "box_style": "",
       "children": [
        "IPY_MODEL_9e84d9c710264f009e9916a544fe982e",
        "IPY_MODEL_55346d1cd75245b0b4c178a746b7317a",
        "IPY_MODEL_50fea0aca6a34249b32c89c24f27167f"
       ],
       "layout": "IPY_MODEL_643a4e8cb3ca457dba367e38700cedcb"
      }
     },
     "19d8fe737a4245c393836c030fab5f6a": {
      "model_module": "@jupyter-widgets/base",
      "model_module_version": "1.2.0",
      "model_name": "LayoutModel",
      "state": {
       "_model_module": "@jupyter-widgets/base",
       "_model_module_version": "1.2.0",
       "_model_name": "LayoutModel",
       "_view_count": null,
       "_view_module": "@jupyter-widgets/base",
       "_view_module_version": "1.2.0",
       "_view_name": "LayoutView",
       "align_content": null,
       "align_items": null,
       "align_self": null,
       "border": null,
       "bottom": null,
       "display": null,
       "flex": null,
       "flex_flow": null,
       "grid_area": null,
       "grid_auto_columns": null,
       "grid_auto_flow": null,
       "grid_auto_rows": null,
       "grid_column": null,
       "grid_gap": null,
       "grid_row": null,
       "grid_template_areas": null,
       "grid_template_columns": null,
       "grid_template_rows": null,
       "height": null,
       "justify_content": null,
       "justify_items": null,
       "left": null,
       "margin": null,
       "max_height": null,
       "max_width": null,
       "min_height": null,
       "min_width": null,
       "object_fit": null,
       "object_position": null,
       "order": null,
       "overflow": null,
       "overflow_x": null,
       "overflow_y": null,
       "padding": null,
       "right": null,
       "top": null,
       "visibility": null,
       "width": null
      }
     },
     "2623f857d6ec414cbbfe0e0ce3ee29df": {
      "model_module": "@jupyter-widgets/controls",
      "model_module_version": "1.5.0",
      "model_name": "DescriptionStyleModel",
      "state": {
       "_model_module": "@jupyter-widgets/controls",
       "_model_module_version": "1.5.0",
       "_model_name": "DescriptionStyleModel",
       "_view_count": null,
       "_view_module": "@jupyter-widgets/base",
       "_view_module_version": "1.2.0",
       "_view_name": "StyleView",
       "description_width": ""
      }
     },
     "2f33974224b1439e8f70f083df04d83b": {
      "model_module": "@jupyter-widgets/controls",
      "model_module_version": "1.5.0",
      "model_name": "FloatProgressModel",
      "state": {
       "_dom_classes": [],
       "_model_module": "@jupyter-widgets/controls",
       "_model_module_version": "1.5.0",
       "_model_name": "FloatProgressModel",
       "_view_count": null,
       "_view_module": "@jupyter-widgets/controls",
       "_view_module_version": "1.5.0",
       "_view_name": "ProgressView",
       "bar_style": "success",
       "description": "",
       "description_tooltip": null,
       "layout": "IPY_MODEL_47b2630a8855448093add5245cf5a52f",
       "max": 995526.0,
       "min": 0.0,
       "orientation": "horizontal",
       "style": "IPY_MODEL_50d57641a4a649afbb42dd64c506147e",
       "value": 995526.0
      }
     },
     "3d80283525e14f56964844e407108a0a": {
      "model_module": "@jupyter-widgets/base",
      "model_module_version": "1.2.0",
      "model_name": "LayoutModel",
      "state": {
       "_model_module": "@jupyter-widgets/base",
       "_model_module_version": "1.2.0",
       "_model_name": "LayoutModel",
       "_view_count": null,
       "_view_module": "@jupyter-widgets/base",
       "_view_module_version": "1.2.0",
       "_view_name": "LayoutView",
       "align_content": null,
       "align_items": null,
       "align_self": null,
       "border": null,
       "bottom": null,
       "display": null,
       "flex": null,
       "flex_flow": null,
       "grid_area": null,
       "grid_auto_columns": null,
       "grid_auto_flow": null,
       "grid_auto_rows": null,
       "grid_column": null,
       "grid_gap": null,
       "grid_row": null,
       "grid_template_areas": null,
       "grid_template_columns": null,
       "grid_template_rows": null,
       "height": null,
       "justify_content": null,
       "justify_items": null,
       "left": null,
       "margin": null,
       "max_height": null,
       "max_width": null,
       "min_height": null,
       "min_width": null,
       "object_fit": null,
       "object_position": null,
       "order": null,
       "overflow": null,
       "overflow_x": null,
       "overflow_y": null,
       "padding": null,
       "right": null,
       "top": null,
       "visibility": null,
       "width": null
      }
     },
     "4706dcd901224bf8bad671ce5a7a724f": {
      "model_module": "@jupyter-widgets/controls",
      "model_module_version": "1.5.0",
      "model_name": "FloatProgressModel",
      "state": {
       "_dom_classes": [],
       "_model_module": "@jupyter-widgets/controls",
       "_model_module_version": "1.5.0",
       "_model_name": "FloatProgressModel",
       "_view_count": null,
       "_view_module": "@jupyter-widgets/controls",
       "_view_module_version": "1.5.0",
       "_view_name": "ProgressView",
       "bar_style": "success",
       "description": "",
       "description_tooltip": null,
       "layout": "IPY_MODEL_19d8fe737a4245c393836c030fab5f6a",
       "max": 714314041.0,
       "min": 0.0,
       "orientation": "horizontal",
       "style": "IPY_MODEL_988b2191105f478a8075ab11ef14a8fc",
       "value": 714314041.0
      }
     },
     "47b2630a8855448093add5245cf5a52f": {
      "model_module": "@jupyter-widgets/base",
      "model_module_version": "1.2.0",
      "model_name": "LayoutModel",
      "state": {
       "_model_module": "@jupyter-widgets/base",
       "_model_module_version": "1.2.0",
       "_model_name": "LayoutModel",
       "_view_count": null,
       "_view_module": "@jupyter-widgets/base",
       "_view_module_version": "1.2.0",
       "_view_name": "LayoutView",
       "align_content": null,
       "align_items": null,
       "align_self": null,
       "border": null,
       "bottom": null,
       "display": null,
       "flex": null,
       "flex_flow": null,
       "grid_area": null,
       "grid_auto_columns": null,
       "grid_auto_flow": null,
       "grid_auto_rows": null,
       "grid_column": null,
       "grid_gap": null,
       "grid_row": null,
       "grid_template_areas": null,
       "grid_template_columns": null,
       "grid_template_rows": null,
       "height": null,
       "justify_content": null,
       "justify_items": null,
       "left": null,
       "margin": null,
       "max_height": null,
       "max_width": null,
       "min_height": null,
       "min_width": null,
       "object_fit": null,
       "object_position": null,
       "order": null,
       "overflow": null,
       "overflow_x": null,
       "overflow_y": null,
       "padding": null,
       "right": null,
       "top": null,
       "visibility": null,
       "width": null
      }
     },
     "4d28ebc4a7544de196e7e88613258568": {
      "model_module": "@jupyter-widgets/base",
      "model_module_version": "1.2.0",
      "model_name": "LayoutModel",
      "state": {
       "_model_module": "@jupyter-widgets/base",
       "_model_module_version": "1.2.0",
       "_model_name": "LayoutModel",
       "_view_count": null,
       "_view_module": "@jupyter-widgets/base",
       "_view_module_version": "1.2.0",
       "_view_name": "LayoutView",
       "align_content": null,
       "align_items": null,
       "align_self": null,
       "border": null,
       "bottom": null,
       "display": null,
       "flex": null,
       "flex_flow": null,
       "grid_area": null,
       "grid_auto_columns": null,
       "grid_auto_flow": null,
       "grid_auto_rows": null,
       "grid_column": null,
       "grid_gap": null,
       "grid_row": null,
       "grid_template_areas": null,
       "grid_template_columns": null,
       "grid_template_rows": null,
       "height": null,
       "justify_content": null,
       "justify_items": null,
       "left": null,
       "margin": null,
       "max_height": null,
       "max_width": null,
       "min_height": null,
       "min_width": null,
       "object_fit": null,
       "object_position": null,
       "order": null,
       "overflow": null,
       "overflow_x": null,
       "overflow_y": null,
       "padding": null,
       "right": null,
       "top": null,
       "visibility": null,
       "width": null
      }
     },
     "50d57641a4a649afbb42dd64c506147e": {
      "model_module": "@jupyter-widgets/controls",
      "model_module_version": "1.5.0",
      "model_name": "ProgressStyleModel",
      "state": {
       "_model_module": "@jupyter-widgets/controls",
       "_model_module_version": "1.5.0",
       "_model_name": "ProgressStyleModel",
       "_view_count": null,
       "_view_module": "@jupyter-widgets/base",
       "_view_module_version": "1.2.0",
       "_view_name": "StyleView",
       "bar_color": null,
       "description_width": ""
      }
     },
     "50fea0aca6a34249b32c89c24f27167f": {
      "model_module": "@jupyter-widgets/controls",
      "model_module_version": "1.5.0",
      "model_name": "HTMLModel",
      "state": {
       "_dom_classes": [],
       "_model_module": "@jupyter-widgets/controls",
       "_model_module_version": "1.5.0",
       "_model_name": "HTMLModel",
       "_view_count": null,
       "_view_module": "@jupyter-widgets/controls",
       "_view_module_version": "1.5.0",
       "_view_name": "HTMLView",
       "description": "",
       "description_tooltip": null,
       "layout": "IPY_MODEL_feb82a9ed26a491393ef9c2ba5301121",
       "placeholder": "​",
       "style": "IPY_MODEL_044c5209b44d4334932a278f7a316ec5",
       "value": " 29.0/29.0 [00:00&lt;00:00, 2.10kB/s]"
      }
     },
     "55346d1cd75245b0b4c178a746b7317a": {
      "model_module": "@jupyter-widgets/controls",
      "model_module_version": "1.5.0",
      "model_name": "FloatProgressModel",
      "state": {
       "_dom_classes": [],
       "_model_module": "@jupyter-widgets/controls",
       "_model_module_version": "1.5.0",
       "_model_name": "FloatProgressModel",
       "_view_count": null,
       "_view_module": "@jupyter-widgets/controls",
       "_view_module_version": "1.5.0",
       "_view_name": "ProgressView",
       "bar_style": "success",
       "description": "",
       "description_tooltip": null,
       "layout": "IPY_MODEL_652a9cc23c1f4ac99579bf0a31d3da0b",
       "max": 29.0,
       "min": 0.0,
       "orientation": "horizontal",
       "style": "IPY_MODEL_6f6d289345a94d63969afc5cba7fc3b8",
       "value": 29.0
      }
     },
     "5644548d97b746f7913f7395dc200783": {
      "model_module": "@jupyter-widgets/controls",
      "model_module_version": "1.5.0",
      "model_name": "DescriptionStyleModel",
      "state": {
       "_model_module": "@jupyter-widgets/controls",
       "_model_module_version": "1.5.0",
       "_model_name": "DescriptionStyleModel",
       "_view_count": null,
       "_view_module": "@jupyter-widgets/base",
       "_view_module_version": "1.2.0",
       "_view_name": "StyleView",
       "description_width": ""
      }
     },
     "5980ab5a2e1a4939a70f08060b7dee98": {
      "model_module": "@jupyter-widgets/controls",
      "model_module_version": "1.5.0",
      "model_name": "DescriptionStyleModel",
      "state": {
       "_model_module": "@jupyter-widgets/controls",
       "_model_module_version": "1.5.0",
       "_model_name": "DescriptionStyleModel",
       "_view_count": null,
       "_view_module": "@jupyter-widgets/base",
       "_view_module_version": "1.2.0",
       "_view_name": "StyleView",
       "description_width": ""
      }
     },
     "5f0f0824fd164b57887c3a02d618c4b2": {
      "model_module": "@jupyter-widgets/base",
      "model_module_version": "1.2.0",
      "model_name": "LayoutModel",
      "state": {
       "_model_module": "@jupyter-widgets/base",
       "_model_module_version": "1.2.0",
       "_model_name": "LayoutModel",
       "_view_count": null,
       "_view_module": "@jupyter-widgets/base",
       "_view_module_version": "1.2.0",
       "_view_name": "LayoutView",
       "align_content": null,
       "align_items": null,
       "align_self": null,
       "border": null,
       "bottom": null,
       "display": null,
       "flex": null,
       "flex_flow": null,
       "grid_area": null,
       "grid_auto_columns": null,
       "grid_auto_flow": null,
       "grid_auto_rows": null,
       "grid_column": null,
       "grid_gap": null,
       "grid_row": null,
       "grid_template_areas": null,
       "grid_template_columns": null,
       "grid_template_rows": null,
       "height": null,
       "justify_content": null,
       "justify_items": null,
       "left": null,
       "margin": null,
       "max_height": null,
       "max_width": null,
       "min_height": null,
       "min_width": null,
       "object_fit": null,
       "object_position": null,
       "order": null,
       "overflow": null,
       "overflow_x": null,
       "overflow_y": null,
       "padding": null,
       "right": null,
       "top": null,
       "visibility": null,
       "width": null
      }
     },
     "63056dbd6c1c45eda405c6d0f2d784f0": {
      "model_module": "@jupyter-widgets/base",
      "model_module_version": "1.2.0",
      "model_name": "LayoutModel",
      "state": {
       "_model_module": "@jupyter-widgets/base",
       "_model_module_version": "1.2.0",
       "_model_name": "LayoutModel",
       "_view_count": null,
       "_view_module": "@jupyter-widgets/base",
       "_view_module_version": "1.2.0",
       "_view_name": "LayoutView",
       "align_content": null,
       "align_items": null,
       "align_self": null,
       "border": null,
       "bottom": null,
       "display": null,
       "flex": null,
       "flex_flow": null,
       "grid_area": null,
       "grid_auto_columns": null,
       "grid_auto_flow": null,
       "grid_auto_rows": null,
       "grid_column": null,
       "grid_gap": null,
       "grid_row": null,
       "grid_template_areas": null,
       "grid_template_columns": null,
       "grid_template_rows": null,
       "height": null,
       "justify_content": null,
       "justify_items": null,
       "left": null,
       "margin": null,
       "max_height": null,
       "max_width": null,
       "min_height": null,
       "min_width": null,
       "object_fit": null,
       "object_position": null,
       "order": null,
       "overflow": null,
       "overflow_x": null,
       "overflow_y": null,
       "padding": null,
       "right": null,
       "top": null,
       "visibility": null,
       "width": null
      }
     },
     "643a4e8cb3ca457dba367e38700cedcb": {
      "model_module": "@jupyter-widgets/base",
      "model_module_version": "1.2.0",
      "model_name": "LayoutModel",
      "state": {
       "_model_module": "@jupyter-widgets/base",
       "_model_module_version": "1.2.0",
       "_model_name": "LayoutModel",
       "_view_count": null,
       "_view_module": "@jupyter-widgets/base",
       "_view_module_version": "1.2.0",
       "_view_name": "LayoutView",
       "align_content": null,
       "align_items": null,
       "align_self": null,
       "border": null,
       "bottom": null,
       "display": null,
       "flex": null,
       "flex_flow": null,
       "grid_area": null,
       "grid_auto_columns": null,
       "grid_auto_flow": null,
       "grid_auto_rows": null,
       "grid_column": null,
       "grid_gap": null,
       "grid_row": null,
       "grid_template_areas": null,
       "grid_template_columns": null,
       "grid_template_rows": null,
       "height": null,
       "justify_content": null,
       "justify_items": null,
       "left": null,
       "margin": null,
       "max_height": null,
       "max_width": null,
       "min_height": null,
       "min_width": null,
       "object_fit": null,
       "object_position": null,
       "order": null,
       "overflow": null,
       "overflow_x": null,
       "overflow_y": null,
       "padding": null,
       "right": null,
       "top": null,
       "visibility": null,
       "width": null
      }
     },
     "652a9cc23c1f4ac99579bf0a31d3da0b": {
      "model_module": "@jupyter-widgets/base",
      "model_module_version": "1.2.0",
      "model_name": "LayoutModel",
      "state": {
       "_model_module": "@jupyter-widgets/base",
       "_model_module_version": "1.2.0",
       "_model_name": "LayoutModel",
       "_view_count": null,
       "_view_module": "@jupyter-widgets/base",
       "_view_module_version": "1.2.0",
       "_view_name": "LayoutView",
       "align_content": null,
       "align_items": null,
       "align_self": null,
       "border": null,
       "bottom": null,
       "display": null,
       "flex": null,
       "flex_flow": null,
       "grid_area": null,
       "grid_auto_columns": null,
       "grid_auto_flow": null,
       "grid_auto_rows": null,
       "grid_column": null,
       "grid_gap": null,
       "grid_row": null,
       "grid_template_areas": null,
       "grid_template_columns": null,
       "grid_template_rows": null,
       "height": null,
       "justify_content": null,
       "justify_items": null,
       "left": null,
       "margin": null,
       "max_height": null,
       "max_width": null,
       "min_height": null,
       "min_width": null,
       "object_fit": null,
       "object_position": null,
       "order": null,
       "overflow": null,
       "overflow_x": null,
       "overflow_y": null,
       "padding": null,
       "right": null,
       "top": null,
       "visibility": null,
       "width": null
      }
     },
     "6be48152b32e4762800eeec26261d42a": {
      "model_module": "@jupyter-widgets/controls",
      "model_module_version": "1.5.0",
      "model_name": "DescriptionStyleModel",
      "state": {
       "_model_module": "@jupyter-widgets/controls",
       "_model_module_version": "1.5.0",
       "_model_name": "DescriptionStyleModel",
       "_view_count": null,
       "_view_module": "@jupyter-widgets/base",
       "_view_module_version": "1.2.0",
       "_view_name": "StyleView",
       "description_width": ""
      }
     },
     "6f6d289345a94d63969afc5cba7fc3b8": {
      "model_module": "@jupyter-widgets/controls",
      "model_module_version": "1.5.0",
      "model_name": "ProgressStyleModel",
      "state": {
       "_model_module": "@jupyter-widgets/controls",
       "_model_module_version": "1.5.0",
       "_model_name": "ProgressStyleModel",
       "_view_count": null,
       "_view_module": "@jupyter-widgets/base",
       "_view_module_version": "1.2.0",
       "_view_name": "StyleView",
       "bar_color": null,
       "description_width": ""
      }
     },
     "74a047a2b6ea41d3a193dcd24ba6eb67": {
      "model_module": "@jupyter-widgets/controls",
      "model_module_version": "1.5.0",
      "model_name": "HTMLModel",
      "state": {
       "_dom_classes": [],
       "_model_module": "@jupyter-widgets/controls",
       "_model_module_version": "1.5.0",
       "_model_name": "HTMLModel",
       "_view_count": null,
       "_view_module": "@jupyter-widgets/controls",
       "_view_module_version": "1.5.0",
       "_view_name": "HTMLView",
       "description": "",
       "description_tooltip": null,
       "layout": "IPY_MODEL_63056dbd6c1c45eda405c6d0f2d784f0",
       "placeholder": "​",
       "style": "IPY_MODEL_2623f857d6ec414cbbfe0e0ce3ee29df",
       "value": "Downloading pytorch_model.bin: 100%"
      }
     },
     "79cfe59e70684e239633c5250d057cbe": {
      "model_module": "@jupyter-widgets/controls",
      "model_module_version": "1.5.0",
      "model_name": "HBoxModel",
      "state": {
       "_dom_classes": [],
       "_model_module": "@jupyter-widgets/controls",
       "_model_module_version": "1.5.0",
       "_model_name": "HBoxModel",
       "_view_count": null,
       "_view_module": "@jupyter-widgets/controls",
       "_view_module_version": "1.5.0",
       "_view_name": "HBoxView",
       "box_style": "",
       "children": [
        "IPY_MODEL_0184e3c4de2348e38b958e72fe29c221",
        "IPY_MODEL_8272e28fbedd415cbd65db4afab73ca8",
        "IPY_MODEL_aa0430859d084c42a6d2a0a8f811b2dc"
       ],
       "layout": "IPY_MODEL_5f0f0824fd164b57887c3a02d618c4b2"
      }
     },
     "7c023e2a3e9a43cfb254be6baf3ed0ff": {
      "model_module": "@jupyter-widgets/base",
      "model_module_version": "1.2.0",
      "model_name": "LayoutModel",
      "state": {
       "_model_module": "@jupyter-widgets/base",
       "_model_module_version": "1.2.0",
       "_model_name": "LayoutModel",
       "_view_count": null,
       "_view_module": "@jupyter-widgets/base",
       "_view_module_version": "1.2.0",
       "_view_name": "LayoutView",
       "align_content": null,
       "align_items": null,
       "align_self": null,
       "border": null,
       "bottom": null,
       "display": null,
       "flex": null,
       "flex_flow": null,
       "grid_area": null,
       "grid_auto_columns": null,
       "grid_auto_flow": null,
       "grid_auto_rows": null,
       "grid_column": null,
       "grid_gap": null,
       "grid_row": null,
       "grid_template_areas": null,
       "grid_template_columns": null,
       "grid_template_rows": null,
       "height": null,
       "justify_content": null,
       "justify_items": null,
       "left": null,
       "margin": null,
       "max_height": null,
       "max_width": null,
       "min_height": null,
       "min_width": null,
       "object_fit": null,
       "object_position": null,
       "order": null,
       "overflow": null,
       "overflow_x": null,
       "overflow_y": null,
       "padding": null,
       "right": null,
       "top": null,
       "visibility": null,
       "width": null
      }
     },
     "8209d674aeec4fcd943af00b31c1f684": {
      "model_module": "@jupyter-widgets/base",
      "model_module_version": "1.2.0",
      "model_name": "LayoutModel",
      "state": {
       "_model_module": "@jupyter-widgets/base",
       "_model_module_version": "1.2.0",
       "_model_name": "LayoutModel",
       "_view_count": null,
       "_view_module": "@jupyter-widgets/base",
       "_view_module_version": "1.2.0",
       "_view_name": "LayoutView",
       "align_content": null,
       "align_items": null,
       "align_self": null,
       "border": null,
       "bottom": null,
       "display": null,
       "flex": null,
       "flex_flow": null,
       "grid_area": null,
       "grid_auto_columns": null,
       "grid_auto_flow": null,
       "grid_auto_rows": null,
       "grid_column": null,
       "grid_gap": null,
       "grid_row": null,
       "grid_template_areas": null,
       "grid_template_columns": null,
       "grid_template_rows": null,
       "height": null,
       "justify_content": null,
       "justify_items": null,
       "left": null,
       "margin": null,
       "max_height": null,
       "max_width": null,
       "min_height": null,
       "min_width": null,
       "object_fit": null,
       "object_position": null,
       "order": null,
       "overflow": null,
       "overflow_x": null,
       "overflow_y": null,
       "padding": null,
       "right": null,
       "top": null,
       "visibility": null,
       "width": null
      }
     },
     "8272e28fbedd415cbd65db4afab73ca8": {
      "model_module": "@jupyter-widgets/controls",
      "model_module_version": "1.5.0",
      "model_name": "FloatProgressModel",
      "state": {
       "_dom_classes": [],
       "_model_module": "@jupyter-widgets/controls",
       "_model_module_version": "1.5.0",
       "_model_name": "FloatProgressModel",
       "_view_count": null,
       "_view_module": "@jupyter-widgets/controls",
       "_view_module_version": "1.5.0",
       "_view_name": "ProgressView",
       "bar_style": "success",
       "description": "",
       "description_tooltip": null,
       "layout": "IPY_MODEL_ca7b3a52182f45f5bcb113304076da59",
       "max": 625.0,
       "min": 0.0,
       "orientation": "horizontal",
       "style": "IPY_MODEL_959aca3c4c944fe6837c5a57dde988c3",
       "value": 625.0
      }
     },
     "930189b7590a4b5788e4570f542af35f": {
      "model_module": "@jupyter-widgets/controls",
      "model_module_version": "1.5.0",
      "model_name": "HTMLModel",
      "state": {
       "_dom_classes": [],
       "_model_module": "@jupyter-widgets/controls",
       "_model_module_version": "1.5.0",
       "_model_name": "HTMLModel",
       "_view_count": null,
       "_view_module": "@jupyter-widgets/controls",
       "_view_module_version": "1.5.0",
       "_view_name": "HTMLView",
       "description": "",
       "description_tooltip": null,
       "layout": "IPY_MODEL_3d80283525e14f56964844e407108a0a",
       "placeholder": "​",
       "style": "IPY_MODEL_5644548d97b746f7913f7395dc200783",
       "value": " 714M/714M [00:32&lt;00:00, 23.5MB/s]"
      }
     },
     "93b1749217154f6b9c4bc4f36d4e3377": {
      "model_module": "@jupyter-widgets/controls",
      "model_module_version": "1.5.0",
      "model_name": "HBoxModel",
      "state": {
       "_dom_classes": [],
       "_model_module": "@jupyter-widgets/controls",
       "_model_module_version": "1.5.0",
       "_model_name": "HBoxModel",
       "_view_count": null,
       "_view_module": "@jupyter-widgets/controls",
       "_view_module_version": "1.5.0",
       "_view_name": "HBoxView",
       "box_style": "",
       "children": [
        "IPY_MODEL_74a047a2b6ea41d3a193dcd24ba6eb67",
        "IPY_MODEL_4706dcd901224bf8bad671ce5a7a724f",
        "IPY_MODEL_930189b7590a4b5788e4570f542af35f"
       ],
       "layout": "IPY_MODEL_4d28ebc4a7544de196e7e88613258568"
      }
     },
     "959aca3c4c944fe6837c5a57dde988c3": {
      "model_module": "@jupyter-widgets/controls",
      "model_module_version": "1.5.0",
      "model_name": "ProgressStyleModel",
      "state": {
       "_model_module": "@jupyter-widgets/controls",
       "_model_module_version": "1.5.0",
       "_model_name": "ProgressStyleModel",
       "_view_count": null,
       "_view_module": "@jupyter-widgets/base",
       "_view_module_version": "1.2.0",
       "_view_name": "StyleView",
       "bar_color": null,
       "description_width": ""
      }
     },
     "988b2191105f478a8075ab11ef14a8fc": {
      "model_module": "@jupyter-widgets/controls",
      "model_module_version": "1.5.0",
      "model_name": "ProgressStyleModel",
      "state": {
       "_model_module": "@jupyter-widgets/controls",
       "_model_module_version": "1.5.0",
       "_model_name": "ProgressStyleModel",
       "_view_count": null,
       "_view_module": "@jupyter-widgets/base",
       "_view_module_version": "1.2.0",
       "_view_name": "StyleView",
       "bar_color": null,
       "description_width": ""
      }
     },
     "9e84d9c710264f009e9916a544fe982e": {
      "model_module": "@jupyter-widgets/controls",
      "model_module_version": "1.5.0",
      "model_name": "HTMLModel",
      "state": {
       "_dom_classes": [],
       "_model_module": "@jupyter-widgets/controls",
       "_model_module_version": "1.5.0",
       "_model_name": "HTMLModel",
       "_view_count": null,
       "_view_module": "@jupyter-widgets/controls",
       "_view_module_version": "1.5.0",
       "_view_name": "HTMLView",
       "description": "",
       "description_tooltip": null,
       "layout": "IPY_MODEL_8209d674aeec4fcd943af00b31c1f684",
       "placeholder": "​",
       "style": "IPY_MODEL_5980ab5a2e1a4939a70f08060b7dee98",
       "value": "Downloading (…)okenizer_config.json: 100%"
      }
     },
     "a0a6d0ee9139457c9599a8c03ea1c5c2": {
      "model_module": "@jupyter-widgets/controls",
      "model_module_version": "1.5.0",
      "model_name": "DescriptionStyleModel",
      "state": {
       "_model_module": "@jupyter-widgets/controls",
       "_model_module_version": "1.5.0",
       "_model_name": "DescriptionStyleModel",
       "_view_count": null,
       "_view_module": "@jupyter-widgets/base",
       "_view_module_version": "1.2.0",
       "_view_name": "StyleView",
       "description_width": ""
      }
     },
     "a504166d22bc4a67b01497b444a2fe63": {
      "model_module": "@jupyter-widgets/controls",
      "model_module_version": "1.5.0",
      "model_name": "HTMLModel",
      "state": {
       "_dom_classes": [],
       "_model_module": "@jupyter-widgets/controls",
       "_model_module_version": "1.5.0",
       "_model_name": "HTMLModel",
       "_view_count": null,
       "_view_module": "@jupyter-widgets/controls",
       "_view_module_version": "1.5.0",
       "_view_name": "HTMLView",
       "description": "",
       "description_tooltip": null,
       "layout": "IPY_MODEL_ddda88d50d36453ba9b6c179629f283e",
       "placeholder": "​",
       "style": "IPY_MODEL_ec256a6abac24311953ab0116cd77ce2",
       "value": "Downloading (…)solve/main/vocab.txt: 100%"
      }
     },
     "a6723d55c9764b4a9c6f5585fd743369": {
      "model_module": "@jupyter-widgets/controls",
      "model_module_version": "1.5.0",
      "model_name": "HTMLModel",
      "state": {
       "_dom_classes": [],
       "_model_module": "@jupyter-widgets/controls",
       "_model_module_version": "1.5.0",
       "_model_name": "HTMLModel",
       "_view_count": null,
       "_view_module": "@jupyter-widgets/controls",
       "_view_module_version": "1.5.0",
       "_view_name": "HTMLView",
       "description": "",
       "description_tooltip": null,
       "layout": "IPY_MODEL_e2451272491c4790a077f36248c73466",
       "placeholder": "​",
       "style": "IPY_MODEL_6be48152b32e4762800eeec26261d42a",
       "value": " 996k/996k [00:00&lt;00:00, 1.43MB/s]"
      }
     },
     "aa0430859d084c42a6d2a0a8f811b2dc": {
      "model_module": "@jupyter-widgets/controls",
      "model_module_version": "1.5.0",
      "model_name": "HTMLModel",
      "state": {
       "_dom_classes": [],
       "_model_module": "@jupyter-widgets/controls",
       "_model_module_version": "1.5.0",
       "_model_name": "HTMLModel",
       "_view_count": null,
       "_view_module": "@jupyter-widgets/controls",
       "_view_module_version": "1.5.0",
       "_view_name": "HTMLView",
       "description": "",
       "description_tooltip": null,
       "layout": "IPY_MODEL_caa044b3b5554ba8a7ff966024947877",
       "placeholder": "​",
       "style": "IPY_MODEL_f8afe961b4fe41bb93caffaecc36103b",
       "value": " 625/625 [00:00&lt;00:00, 42.2kB/s]"
      }
     },
     "c21b08f5e94547b7858464eab5632199": {
      "model_module": "@jupyter-widgets/base",
      "model_module_version": "1.2.0",
      "model_name": "LayoutModel",
      "state": {
       "_model_module": "@jupyter-widgets/base",
       "_model_module_version": "1.2.0",
       "_model_name": "LayoutModel",
       "_view_count": null,
       "_view_module": "@jupyter-widgets/base",
       "_view_module_version": "1.2.0",
       "_view_name": "LayoutView",
       "align_content": null,
       "align_items": null,
       "align_self": null,
       "border": null,
       "bottom": null,
       "display": null,
       "flex": null,
       "flex_flow": null,
       "grid_area": null,
       "grid_auto_columns": null,
       "grid_auto_flow": null,
       "grid_auto_rows": null,
       "grid_column": null,
       "grid_gap": null,
       "grid_row": null,
       "grid_template_areas": null,
       "grid_template_columns": null,
       "grid_template_rows": null,
       "height": null,
       "justify_content": null,
       "justify_items": null,
       "left": null,
       "margin": null,
       "max_height": null,
       "max_width": null,
       "min_height": null,
       "min_width": null,
       "object_fit": null,
       "object_position": null,
       "order": null,
       "overflow": null,
       "overflow_x": null,
       "overflow_y": null,
       "padding": null,
       "right": null,
       "top": null,
       "visibility": null,
       "width": null
      }
     },
     "ca7b3a52182f45f5bcb113304076da59": {
      "model_module": "@jupyter-widgets/base",
      "model_module_version": "1.2.0",
      "model_name": "LayoutModel",
      "state": {
       "_model_module": "@jupyter-widgets/base",
       "_model_module_version": "1.2.0",
       "_model_name": "LayoutModel",
       "_view_count": null,
       "_view_module": "@jupyter-widgets/base",
       "_view_module_version": "1.2.0",
       "_view_name": "LayoutView",
       "align_content": null,
       "align_items": null,
       "align_self": null,
       "border": null,
       "bottom": null,
       "display": null,
       "flex": null,
       "flex_flow": null,
       "grid_area": null,
       "grid_auto_columns": null,
       "grid_auto_flow": null,
       "grid_auto_rows": null,
       "grid_column": null,
       "grid_gap": null,
       "grid_row": null,
       "grid_template_areas": null,
       "grid_template_columns": null,
       "grid_template_rows": null,
       "height": null,
       "justify_content": null,
       "justify_items": null,
       "left": null,
       "margin": null,
       "max_height": null,
       "max_width": null,
       "min_height": null,
       "min_width": null,
       "object_fit": null,
       "object_position": null,
       "order": null,
       "overflow": null,
       "overflow_x": null,
       "overflow_y": null,
       "padding": null,
       "right": null,
       "top": null,
       "visibility": null,
       "width": null
      }
     },
     "caa044b3b5554ba8a7ff966024947877": {
      "model_module": "@jupyter-widgets/base",
      "model_module_version": "1.2.0",
      "model_name": "LayoutModel",
      "state": {
       "_model_module": "@jupyter-widgets/base",
       "_model_module_version": "1.2.0",
       "_model_name": "LayoutModel",
       "_view_count": null,
       "_view_module": "@jupyter-widgets/base",
       "_view_module_version": "1.2.0",
       "_view_name": "LayoutView",
       "align_content": null,
       "align_items": null,
       "align_self": null,
       "border": null,
       "bottom": null,
       "display": null,
       "flex": null,
       "flex_flow": null,
       "grid_area": null,
       "grid_auto_columns": null,
       "grid_auto_flow": null,
       "grid_auto_rows": null,
       "grid_column": null,
       "grid_gap": null,
       "grid_row": null,
       "grid_template_areas": null,
       "grid_template_columns": null,
       "grid_template_rows": null,
       "height": null,
       "justify_content": null,
       "justify_items": null,
       "left": null,
       "margin": null,
       "max_height": null,
       "max_width": null,
       "min_height": null,
       "min_width": null,
       "object_fit": null,
       "object_position": null,
       "order": null,
       "overflow": null,
       "overflow_x": null,
       "overflow_y": null,
       "padding": null,
       "right": null,
       "top": null,
       "visibility": null,
       "width": null
      }
     },
     "ddda88d50d36453ba9b6c179629f283e": {
      "model_module": "@jupyter-widgets/base",
      "model_module_version": "1.2.0",
      "model_name": "LayoutModel",
      "state": {
       "_model_module": "@jupyter-widgets/base",
       "_model_module_version": "1.2.0",
       "_model_name": "LayoutModel",
       "_view_count": null,
       "_view_module": "@jupyter-widgets/base",
       "_view_module_version": "1.2.0",
       "_view_name": "LayoutView",
       "align_content": null,
       "align_items": null,
       "align_self": null,
       "border": null,
       "bottom": null,
       "display": null,
       "flex": null,
       "flex_flow": null,
       "grid_area": null,
       "grid_auto_columns": null,
       "grid_auto_flow": null,
       "grid_auto_rows": null,
       "grid_column": null,
       "grid_gap": null,
       "grid_row": null,
       "grid_template_areas": null,
       "grid_template_columns": null,
       "grid_template_rows": null,
       "height": null,
       "justify_content": null,
       "justify_items": null,
       "left": null,
       "margin": null,
       "max_height": null,
       "max_width": null,
       "min_height": null,
       "min_width": null,
       "object_fit": null,
       "object_position": null,
       "order": null,
       "overflow": null,
       "overflow_x": null,
       "overflow_y": null,
       "padding": null,
       "right": null,
       "top": null,
       "visibility": null,
       "width": null
      }
     },
     "e2451272491c4790a077f36248c73466": {
      "model_module": "@jupyter-widgets/base",
      "model_module_version": "1.2.0",
      "model_name": "LayoutModel",
      "state": {
       "_model_module": "@jupyter-widgets/base",
       "_model_module_version": "1.2.0",
       "_model_name": "LayoutModel",
       "_view_count": null,
       "_view_module": "@jupyter-widgets/base",
       "_view_module_version": "1.2.0",
       "_view_name": "LayoutView",
       "align_content": null,
       "align_items": null,
       "align_self": null,
       "border": null,
       "bottom": null,
       "display": null,
       "flex": null,
       "flex_flow": null,
       "grid_area": null,
       "grid_auto_columns": null,
       "grid_auto_flow": null,
       "grid_auto_rows": null,
       "grid_column": null,
       "grid_gap": null,
       "grid_row": null,
       "grid_template_areas": null,
       "grid_template_columns": null,
       "grid_template_rows": null,
       "height": null,
       "justify_content": null,
       "justify_items": null,
       "left": null,
       "margin": null,
       "max_height": null,
       "max_width": null,
       "min_height": null,
       "min_width": null,
       "object_fit": null,
       "object_position": null,
       "order": null,
       "overflow": null,
       "overflow_x": null,
       "overflow_y": null,
       "padding": null,
       "right": null,
       "top": null,
       "visibility": null,
       "width": null
      }
     },
     "ec256a6abac24311953ab0116cd77ce2": {
      "model_module": "@jupyter-widgets/controls",
      "model_module_version": "1.5.0",
      "model_name": "DescriptionStyleModel",
      "state": {
       "_model_module": "@jupyter-widgets/controls",
       "_model_module_version": "1.5.0",
       "_model_name": "DescriptionStyleModel",
       "_view_count": null,
       "_view_module": "@jupyter-widgets/base",
       "_view_module_version": "1.2.0",
       "_view_name": "StyleView",
       "description_width": ""
      }
     },
     "f06ff1e1033c402ca9bc35497d776e68": {
      "model_module": "@jupyter-widgets/controls",
      "model_module_version": "1.5.0",
      "model_name": "HBoxModel",
      "state": {
       "_dom_classes": [],
       "_model_module": "@jupyter-widgets/controls",
       "_model_module_version": "1.5.0",
       "_model_name": "HBoxModel",
       "_view_count": null,
       "_view_module": "@jupyter-widgets/controls",
       "_view_module_version": "1.5.0",
       "_view_name": "HBoxView",
       "box_style": "",
       "children": [
        "IPY_MODEL_a504166d22bc4a67b01497b444a2fe63",
        "IPY_MODEL_2f33974224b1439e8f70f083df04d83b",
        "IPY_MODEL_a6723d55c9764b4a9c6f5585fd743369"
       ],
       "layout": "IPY_MODEL_c21b08f5e94547b7858464eab5632199"
      }
     },
     "f8afe961b4fe41bb93caffaecc36103b": {
      "model_module": "@jupyter-widgets/controls",
      "model_module_version": "1.5.0",
      "model_name": "DescriptionStyleModel",
      "state": {
       "_model_module": "@jupyter-widgets/controls",
       "_model_module_version": "1.5.0",
       "_model_name": "DescriptionStyleModel",
       "_view_count": null,
       "_view_module": "@jupyter-widgets/base",
       "_view_module_version": "1.2.0",
       "_view_name": "StyleView",
       "description_width": ""
      }
     },
     "feb82a9ed26a491393ef9c2ba5301121": {
      "model_module": "@jupyter-widgets/base",
      "model_module_version": "1.2.0",
      "model_name": "LayoutModel",
      "state": {
       "_model_module": "@jupyter-widgets/base",
       "_model_module_version": "1.2.0",
       "_model_name": "LayoutModel",
       "_view_count": null,
       "_view_module": "@jupyter-widgets/base",
       "_view_module_version": "1.2.0",
       "_view_name": "LayoutView",
       "align_content": null,
       "align_items": null,
       "align_self": null,
       "border": null,
       "bottom": null,
       "display": null,
       "flex": null,
       "flex_flow": null,
       "grid_area": null,
       "grid_auto_columns": null,
       "grid_auto_flow": null,
       "grid_auto_rows": null,
       "grid_column": null,
       "grid_gap": null,
       "grid_row": null,
       "grid_template_areas": null,
       "grid_template_columns": null,
       "grid_template_rows": null,
       "height": null,
       "justify_content": null,
       "justify_items": null,
       "left": null,
       "margin": null,
       "max_height": null,
       "max_width": null,
       "min_height": null,
       "min_width": null,
       "object_fit": null,
       "object_position": null,
       "order": null,
       "overflow": null,
       "overflow_x": null,
       "overflow_y": null,
       "padding": null,
       "right": null,
       "top": null,
       "visibility": null,
       "width": null
      }
     }
    },
    "version_major": 2,
    "version_minor": 0
   }
  }
 },
 "nbformat": 4,
 "nbformat_minor": 5
}
