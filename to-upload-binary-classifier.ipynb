{
 "cells": [
  {
   "cell_type": "code",
   "execution_count": 1,
   "id": "34a8b74d",
   "metadata": {
    "execution": {
     "iopub.execute_input": "2023-06-07T11:35:06.608455Z",
     "iopub.status.busy": "2023-06-07T11:35:06.607709Z",
     "iopub.status.idle": "2023-06-07T11:35:38.671393Z",
     "shell.execute_reply": "2023-06-07T11:35:38.668586Z"
    },
    "papermill": {
     "duration": 32.080481,
     "end_time": "2023-06-07T11:35:38.675586",
     "exception": false,
     "start_time": "2023-06-07T11:35:06.595105",
     "status": "completed"
    },
    "tags": []
   },
   "outputs": [
    {
     "name": "stdout",
     "output_type": "stream",
     "text": [
      "Collecting torchsummary\r\n",
      "  Downloading torchsummary-1.5.1-py3-none-any.whl (2.8 kB)\r\n",
      "Installing collected packages: torchsummary\r\n",
      "Successfully installed torchsummary-1.5.1\r\n",
      "\u001b[33mWARNING: Running pip as the 'root' user can result in broken permissions and conflicting behaviour with the system package manager. It is recommended to use a virtual environment instead: https://pip.pypa.io/warnings/venv\u001b[0m\u001b[33m\r\n",
      "\u001b[0mRequirement already satisfied: Unidecode in /opt/conda/lib/python3.7/site-packages (1.3.6)\r\n",
      "\u001b[33mWARNING: Running pip as the 'root' user can result in broken permissions and conflicting behaviour with the system package manager. It is recommended to use a virtual environment instead: https://pip.pypa.io/warnings/venv\u001b[0m\u001b[33m\r\n",
      "\u001b[0m"
     ]
    }
   ],
   "source": [
    "!pip install torchsummary\n",
    "!pip install Unidecode"
   ]
  },
  {
   "cell_type": "code",
   "execution_count": 2,
   "id": "6d2522af",
   "metadata": {
    "_cell_guid": "b1076dfc-b9ad-4769-8c92-a6c4dae69d19",
    "_uuid": "8f2839f25d086af736a60e9eeb907d3b93b6e0e5",
    "execution": {
     "iopub.execute_input": "2023-06-07T11:35:38.697514Z",
     "iopub.status.busy": "2023-06-07T11:35:38.696987Z",
     "iopub.status.idle": "2023-06-07T11:35:56.437866Z",
     "shell.execute_reply": "2023-06-07T11:35:56.436103Z"
    },
    "papermill": {
     "duration": 17.756214,
     "end_time": "2023-06-07T11:35:56.441321",
     "exception": false,
     "start_time": "2023-06-07T11:35:38.685107",
     "status": "completed"
    },
    "tags": []
   },
   "outputs": [],
   "source": [
    "import os\n",
    "import numpy as np\n",
    "import pandas as pd\n",
    "import re\n",
    "import csv\n",
    "from bs4 import BeautifulSoup\n",
    "import unicodedata\n",
    "import nltk\n",
    "from nltk.tokenize.toktok import ToktokTokenizer\n",
    "from tensorflow.keras.preprocessing import sequence\n",
    "from tensorflow.keras.preprocessing.text import Tokenizer\n",
    "from tqdm import tqdm\n",
    "import codecs\n",
    "import matplotlib.pyplot as plt\n",
    "import torch\n",
    "import torch.nn as nn\n",
    "import torch.nn.functional as F\n",
    "from torch.utils.data import DataLoader, TensorDataset, RandomSampler, SequentialSampler, random_split\n",
    "from torchsummary import summary\n",
    "from transformers import BertTokenizer\n",
    "from transformers import BertModel\n",
    "from transformers import AdamW, get_linear_schedule_with_warmup\n",
    "import matplotlib.pyplot as plt\n",
    "from sklearn import metrics\n",
    "import random\n",
    "import time\n",
    "from collections import Counter\n",
    "from wordcloud import WordCloud, STOPWORDS, ImageColorGenerator\n",
    "from unidecode import unidecode"
   ]
  },
  {
   "cell_type": "code",
   "execution_count": 3,
   "id": "4857ccc9",
   "metadata": {
    "execution": {
     "iopub.execute_input": "2023-06-07T11:35:56.462607Z",
     "iopub.status.busy": "2023-06-07T11:35:56.462119Z",
     "iopub.status.idle": "2023-06-07T11:35:56.493057Z",
     "shell.execute_reply": "2023-06-07T11:35:56.491920Z"
    },
    "papermill": {
     "duration": 0.045322,
     "end_time": "2023-06-07T11:35:56.495935",
     "exception": false,
     "start_time": "2023-06-07T11:35:56.450613",
     "status": "completed"
    },
    "tags": []
   },
   "outputs": [],
   "source": [
    "def remove_html_tags(text):\n",
    "    soup = BeautifulSoup(text, \"html.parser\")\n",
    "    [s.extract() for s in soup(['iframe','script'])]\n",
    "    stripped_text = soup.get_text()\n",
    "    stripped_text = re.sub(r'[\"\\|\\n|\\r|\\n\\r]+',' ', stripped_text)\n",
    "    return stripped_text\n",
    "\n",
    "def remove_html(text):\n",
    "    text = re.sub(r'https?:\\/\\/\\S*', ' ', str(text), flags=re.MULTILINE)\n",
    "    return text\n",
    "\n",
    "def remove_accented_chars(text):\n",
    "    text = unicodedata.normalize('NFKD', text).encode('ascii','ignore').decode('utf-8','ignore')\n",
    "    return text\n",
    "\n",
    "def remove_special_characters(text):\n",
    "    text = re.sub(r'[^ \\nA-Za-z0-9À-ÖØ-öø-ÿ/]+',' ',text)\n",
    "    return text\n",
    "\n",
    "def remove_stopwords_1(text):\n",
    "    \n",
    "    stop_file_path = '/kaggle/input/offline-libs/stop-words-2018.7.23/stop-words-2018.7.23/stop_words/stop-words/italian.txt'\n",
    "   \n",
    "    with open(stop_file_path, 'r', encoding=\"utf-8\") as f:\n",
    "        stopwords = f.readlines()\n",
    "        stop_set = set(m.strip() for m in stopwords)\n",
    "        stopword_list = list(frozenset(stop_set))\n",
    "        stopword_list.append('rt')\n",
    "        stopword_list.append('cè')\n",
    "        stopword_list.append('via')\n",
    "        stopword_list.append('d')\n",
    "    \n",
    "    tokenizer = ToktokTokenizer()\n",
    "    tokens = tokenizer.tokenize(text)\n",
    "    tokens = [token.strip() for token in tokens]\n",
    "    filtered_tokens = [token for token in tokens if token not in stopword_list]\n",
    "    filtered_text = ' '.join(filtered_tokens)    \n",
    "    \n",
    "    return filtered_text\n",
    "\n",
    "def remove_stopwords_2(text):\n",
    "    \n",
    "    stop_file_path = '/kaggle/input/stopword-lists-for-19-languages/italianST.txt' \n",
    "    with open(stop_file_path, 'r', encoding=\"utf-8\") as f:\n",
    "        stopwords = f.readlines()\n",
    "        stop_set = set(m.strip() for m in stopwords)\n",
    "        stopword_list = list(frozenset(stop_set))\n",
    "\n",
    "    \n",
    "    tokenizer = ToktokTokenizer() \n",
    "    tokens = tokenizer.tokenize(text)\n",
    "    tokens = [token.strip() for token in tokens]\n",
    "    filtered_tokens = [token for token in tokens if token not in stopword_list]\n",
    "    filtered_text = ' '.join(filtered_tokens)    \n",
    "    \n",
    "    return filtered_text\n",
    "\n",
    "def remove_mentions(text):\n",
    "    processed_text = re.sub(r\"(?:\\@|http?\\://|https?\\://|www)\\S+\", ' ', text)\n",
    "    processed_text = ' '.join(processed_text.split())\n",
    "    return processed_text\n",
    "def remove_accents(text):\n",
    "    processed_text = unidecode(text)\n",
    "    return processed_text\n",
    "\n",
    "def preprocessing_text(text_arr):\n",
    "    preprocessed_text = []\n",
    "    idx = 0\n",
    "    for text in text_arr:\n",
    "        text = remove_html(text)\n",
    "        text = remove_html_tags(text) \n",
    "        text = remove_mentions(text)\n",
    "        text = remove_special_characters(text) \n",
    "        text = text.lower() \n",
    "        text = remove_stopwords_1(text) \n",
    "        text = remove_stopwords_2(text)\n",
    "        text = remove_accents(text)\n",
    "        preprocessed_text.append(text)\n",
    "        idx+=1\n",
    "    print('Data Preprocessing finished.')\n",
    "    return preprocessed_text"
   ]
  },
  {
   "cell_type": "code",
   "execution_count": 4,
   "id": "d051541b",
   "metadata": {
    "execution": {
     "iopub.execute_input": "2023-06-07T11:35:56.515735Z",
     "iopub.status.busy": "2023-06-07T11:35:56.515331Z",
     "iopub.status.idle": "2023-06-07T11:35:56.570186Z",
     "shell.execute_reply": "2023-06-07T11:35:56.568729Z"
    },
    "papermill": {
     "duration": 0.0687,
     "end_time": "2023-06-07T11:35:56.573516",
     "exception": false,
     "start_time": "2023-06-07T11:35:56.504816",
     "status": "completed"
    },
    "tags": []
   },
   "outputs": [],
   "source": [
    "data_binary='/kaggle/input/tweets-binary-v2/tweets-for-binary-class.csv'\n",
    "df_binary=pd.read_csv(data_binary, index_col=0, encoding='ISO 8859-1')\n",
    "titles=df_binary.loc[:,\"text\"].values\n",
    "labels = df_binary.iloc[:,8:9].values"
   ]
  },
  {
   "cell_type": "code",
   "execution_count": 5,
   "id": "af5d56b2",
   "metadata": {
    "execution": {
     "iopub.execute_input": "2023-06-07T11:35:56.593923Z",
     "iopub.status.busy": "2023-06-07T11:35:56.593498Z",
     "iopub.status.idle": "2023-06-07T11:36:02.227427Z",
     "shell.execute_reply": "2023-06-07T11:36:02.225350Z"
    },
    "papermill": {
     "duration": 5.647378,
     "end_time": "2023-06-07T11:36:02.230067",
     "exception": false,
     "start_time": "2023-06-07T11:35:56.582689",
     "status": "completed"
    },
    "tags": []
   },
   "outputs": [
    {
     "name": "stderr",
     "output_type": "stream",
     "text": [
      "/opt/conda/lib/python3.7/site-packages/bs4/__init__.py:439: MarkupResemblesLocatorWarning: The input looks more like a filename than markup. You may want to open this file and pass the filehandle into Beautiful Soup.\n",
      "  MarkupResemblesLocatorWarning\n"
     ]
    },
    {
     "name": "stdout",
     "output_type": "stream",
     "text": [
      "Data Preprocessing finished.\n"
     ]
    }
   ],
   "source": [
    "text_cleaned = preprocessing_text(titles)\n",
    "df_text_cleaned = pd.DataFrame({\"cleaned_text\": text_cleaned})"
   ]
  },
  {
   "cell_type": "code",
   "execution_count": 6,
   "id": "6fa59ad0",
   "metadata": {
    "execution": {
     "iopub.execute_input": "2023-06-07T11:36:02.250934Z",
     "iopub.status.busy": "2023-06-07T11:36:02.249774Z",
     "iopub.status.idle": "2023-06-07T11:36:04.152442Z",
     "shell.execute_reply": "2023-06-07T11:36:04.151264Z"
    },
    "papermill": {
     "duration": 1.916044,
     "end_time": "2023-06-07T11:36:04.155389",
     "exception": false,
     "start_time": "2023-06-07T11:36:02.239345",
     "status": "completed"
    },
    "tags": []
   },
   "outputs": [
    {
     "data": {
      "application/vnd.jupyter.widget-view+json": {
       "model_id": "e384fc7a372b45b4b26011bb1a481f24",
       "version_major": 2,
       "version_minor": 0
      },
      "text/plain": [
       "Downloading (…)solve/main/vocab.txt:   0%|          | 0.00/996k [00:00<?, ?B/s]"
      ]
     },
     "metadata": {},
     "output_type": "display_data"
    },
    {
     "data": {
      "application/vnd.jupyter.widget-view+json": {
       "model_id": "2546f47d364a4af8920880fe83169c30",
       "version_major": 2,
       "version_minor": 0
      },
      "text/plain": [
       "Downloading (…)okenizer_config.json:   0%|          | 0.00/29.0 [00:00<?, ?B/s]"
      ]
     },
     "metadata": {},
     "output_type": "display_data"
    },
    {
     "data": {
      "application/vnd.jupyter.widget-view+json": {
       "model_id": "5953730f80d048deb8e445d32aaabef8",
       "version_major": 2,
       "version_minor": 0
      },
      "text/plain": [
       "Downloading (…)lve/main/config.json:   0%|          | 0.00/625 [00:00<?, ?B/s]"
      ]
     },
     "metadata": {},
     "output_type": "display_data"
    }
   ],
   "source": [
    "tokenizer = BertTokenizer.from_pretrained('bert-base-multilingual-cased', do_lower_case=True)"
   ]
  },
  {
   "cell_type": "code",
   "execution_count": 7,
   "id": "7959eb94",
   "metadata": {
    "execution": {
     "iopub.execute_input": "2023-06-07T11:36:04.177868Z",
     "iopub.status.busy": "2023-06-07T11:36:04.176731Z",
     "iopub.status.idle": "2023-06-07T11:36:06.191762Z",
     "shell.execute_reply": "2023-06-07T11:36:06.190000Z"
    },
    "papermill": {
     "duration": 2.030811,
     "end_time": "2023-06-07T11:36:06.196257",
     "exception": false,
     "start_time": "2023-06-07T11:36:04.165446",
     "status": "completed"
    },
    "tags": []
   },
   "outputs": [
    {
     "name": "stdout",
     "output_type": "stream",
     "text": [
      "Max sentence length:  73\n"
     ]
    }
   ],
   "source": [
    "max_length = 0\n",
    "\n",
    "for sentence in text_cleaned:\n",
    "\n",
    "    input_ids = tokenizer.encode(sentence, add_special_tokens=True)\n",
    "    max_length = max(max_length, len(input_ids))\n",
    "\n",
    "print('Max sentence length: ', max_length)"
   ]
  },
  {
   "cell_type": "code",
   "execution_count": 8,
   "id": "87137e42",
   "metadata": {
    "execution": {
     "iopub.execute_input": "2023-06-07T11:36:06.219388Z",
     "iopub.status.busy": "2023-06-07T11:36:06.218849Z",
     "iopub.status.idle": "2023-06-07T11:36:06.225168Z",
     "shell.execute_reply": "2023-06-07T11:36:06.223727Z"
    },
    "papermill": {
     "duration": 0.022251,
     "end_time": "2023-06-07T11:36:06.228770",
     "exception": false,
     "start_time": "2023-06-07T11:36:06.206519",
     "status": "completed"
    },
    "tags": []
   },
   "outputs": [],
   "source": [
    "input_ids = []\n",
    "attention_masks = []"
   ]
  },
  {
   "cell_type": "code",
   "execution_count": 9,
   "id": "9a59e05d",
   "metadata": {
    "execution": {
     "iopub.execute_input": "2023-06-07T11:36:06.252476Z",
     "iopub.status.busy": "2023-06-07T11:36:06.251019Z",
     "iopub.status.idle": "2023-06-07T11:36:10.047311Z",
     "shell.execute_reply": "2023-06-07T11:36:10.045731Z"
    },
    "papermill": {
     "duration": 3.811219,
     "end_time": "2023-06-07T11:36:10.050515",
     "exception": false,
     "start_time": "2023-06-07T11:36:06.239296",
     "status": "completed"
    },
    "tags": []
   },
   "outputs": [],
   "source": [
    "for sentence in titles:\n",
    "    # `encode_plus` will:\n",
    "    #   (1) Tokenize the sentence.\n",
    "    #   (2) Prepend the `[CLS]` token to the start.\n",
    "    #   (3) Append the `[SEP]` token to the end.\n",
    "    #   (4) Map tokens to their IDs.\n",
    "    #   (5) Pad or truncate the sentence to `max_length`\n",
    "    #   (6) Create attention masks for [PAD] tokens.\n",
    "    inputs = tokenizer.encode_plus(\n",
    "        sentence,  # sequence to be encoded\n",
    "        add_special_tokens=True,  # to encode the sequences with the special tokens\n",
    "        padding='max_length',  # activates and controls padding\n",
    "        truncation=True,  # activates and controls truncation\n",
    "        max_length=max_length,  # controls the maximum length to use       \n",
    "        return_attention_mask=True,  # whether to return the attention mask\n",
    "        return_tensors='pt'  # to return PyTorch torch.Tensor objects        \n",
    "    )\n",
    "    #list of token ids to be fed to a model.\n",
    "    input_ids.append(inputs['input_ids'])\n",
    "    # list of indices specifying which tokens should be attended to by the model \n",
    "    attention_masks.append(inputs['attention_mask'])"
   ]
  },
  {
   "cell_type": "code",
   "execution_count": 10,
   "id": "0fac83e7",
   "metadata": {
    "execution": {
     "iopub.execute_input": "2023-06-07T11:36:10.074789Z",
     "iopub.status.busy": "2023-06-07T11:36:10.074315Z",
     "iopub.status.idle": "2023-06-07T11:36:10.134453Z",
     "shell.execute_reply": "2023-06-07T11:36:10.132984Z"
    },
    "papermill": {
     "duration": 0.0756,
     "end_time": "2023-06-07T11:36:10.137661",
     "exception": false,
     "start_time": "2023-06-07T11:36:10.062061",
     "status": "completed"
    },
    "tags": []
   },
   "outputs": [],
   "source": [
    "# Convert the lists into tensors.\n",
    "input_ids = torch.cat(input_ids, dim=0)\n",
    "attention_masks = torch.cat(attention_masks, dim=0)\n",
    "labels = torch.tensor(labels)"
   ]
  },
  {
   "cell_type": "code",
   "execution_count": 11,
   "id": "88ace188",
   "metadata": {
    "execution": {
     "iopub.execute_input": "2023-06-07T11:36:10.160937Z",
     "iopub.status.busy": "2023-06-07T11:36:10.160122Z",
     "iopub.status.idle": "2023-06-07T11:36:10.165694Z",
     "shell.execute_reply": "2023-06-07T11:36:10.164627Z"
    },
    "papermill": {
     "duration": 0.02039,
     "end_time": "2023-06-07T11:36:10.168188",
     "exception": false,
     "start_time": "2023-06-07T11:36:10.147798",
     "status": "completed"
    },
    "tags": []
   },
   "outputs": [],
   "source": [
    "# For fine-tuning BERT on a specific task, the authors recommend a batch size of 16 or 32.\n",
    "batch_size = 16"
   ]
  },
  {
   "cell_type": "code",
   "execution_count": 12,
   "id": "561f6c8c",
   "metadata": {
    "execution": {
     "iopub.execute_input": "2023-06-07T11:36:10.191120Z",
     "iopub.status.busy": "2023-06-07T11:36:10.190400Z",
     "iopub.status.idle": "2023-06-07T11:36:10.207172Z",
     "shell.execute_reply": "2023-06-07T11:36:10.205502Z"
    },
    "papermill": {
     "duration": 0.031879,
     "end_time": "2023-06-07T11:36:10.210463",
     "exception": false,
     "start_time": "2023-06-07T11:36:10.178584",
     "status": "completed"
    },
    "tags": []
   },
   "outputs": [],
   "source": [
    "dataset = TensorDataset(input_ids, attention_masks, labels)\n",
    "\n",
    "# 80% training set 10% validation set 10% testing set\n",
    "train_size = int(0.8 * len(dataset))\n",
    "validation_size = int(0.1 * len(dataset))\n",
    "test_size = len(dataset) - train_size - validation_size\n",
    "\n",
    "train_dataset, validation_dataset, test_dataset = random_split(dataset, [train_size, validation_size, test_size])"
   ]
  },
  {
   "cell_type": "code",
   "execution_count": 13,
   "id": "b7143436",
   "metadata": {
    "execution": {
     "iopub.execute_input": "2023-06-07T11:36:10.234047Z",
     "iopub.status.busy": "2023-06-07T11:36:10.232738Z",
     "iopub.status.idle": "2023-06-07T11:36:10.242015Z",
     "shell.execute_reply": "2023-06-07T11:36:10.240830Z"
    },
    "papermill": {
     "duration": 0.024189,
     "end_time": "2023-06-07T11:36:10.244985",
     "exception": false,
     "start_time": "2023-06-07T11:36:10.220796",
     "status": "completed"
    },
    "tags": []
   },
   "outputs": [],
   "source": [
    "train_dataloader = DataLoader(\n",
    "            train_dataset,\n",
    "            sampler = RandomSampler(train_dataset),\n",
    "            batch_size = batch_size\n",
    "        )\n",
    "\n",
    "validation_dataloader = DataLoader(\n",
    "            validation_dataset,\n",
    "            sampler = SequentialSampler(validation_dataset),\n",
    "            batch_size = batch_size\n",
    "        )\n",
    "test_dataloader = DataLoader(\n",
    "            test_dataset,\n",
    "            sampler = SequentialSampler(test_dataset),\n",
    "            batch_size = batch_size\n",
    "        )"
   ]
  },
  {
   "cell_type": "code",
   "execution_count": 14,
   "id": "2367a4d5",
   "metadata": {
    "execution": {
     "iopub.execute_input": "2023-06-07T11:36:10.268432Z",
     "iopub.status.busy": "2023-06-07T11:36:10.267808Z",
     "iopub.status.idle": "2023-06-07T11:36:10.274320Z",
     "shell.execute_reply": "2023-06-07T11:36:10.273018Z"
    },
    "papermill": {
     "duration": 0.022415,
     "end_time": "2023-06-07T11:36:10.277575",
     "exception": false,
     "start_time": "2023-06-07T11:36:10.255160",
     "status": "completed"
    },
    "tags": []
   },
   "outputs": [],
   "source": [
    "loss_fn = nn.BCELoss()"
   ]
  },
  {
   "cell_type": "code",
   "execution_count": 15,
   "id": "4eb19a02",
   "metadata": {
    "execution": {
     "iopub.execute_input": "2023-06-07T11:36:10.300408Z",
     "iopub.status.busy": "2023-06-07T11:36:10.299661Z",
     "iopub.status.idle": "2023-06-07T11:36:10.311825Z",
     "shell.execute_reply": "2023-06-07T11:36:10.310239Z"
    },
    "papermill": {
     "duration": 0.02723,
     "end_time": "2023-06-07T11:36:10.314887",
     "exception": false,
     "start_time": "2023-06-07T11:36:10.287657",
     "status": "completed"
    },
    "tags": []
   },
   "outputs": [],
   "source": [
    "class BertClassifier(nn.Module):\n",
    "\n",
    "    def __init__(self, freeze_bert=True):\n",
    "\n",
    "        super(BertClassifier, self).__init__()\n",
    "        \n",
    "        D_in, D_out = 768, 1\n",
    "\n",
    "       \n",
    "        self.bert = BertModel.from_pretrained('bert-base-multilingual-cased')\n",
    "       \n",
    "        self.classifier = nn.Sequential(\n",
    "            nn.Linear(D_in, D_out),\n",
    "            nn.Sigmoid()\n",
    "        )\n",
    "\n",
    "        # freeze parameters\n",
    "        if freeze_bert:\n",
    "            for param in self.bert.parameters():\n",
    "                param.requires_grad = False\n",
    "\n",
    "    def forward(self, input_ids, attention_mask):\n",
    "\n",
    "        # feed input to BERT\n",
    "        outputs = self.bert(input_ids=input_ids,\n",
    "                            attention_mask=attention_mask)\n",
    "\n",
    "        # extract the last hidden state for classification task\n",
    "        pooled_output = torch.mean(outputs.last_hidden_state,1)\n",
    "\n",
    "        # feed input to classifier\n",
    "        logits = self.classifier(pooled_output)        \n",
    "\n",
    "        return logits"
   ]
  },
  {
   "cell_type": "code",
   "execution_count": 16,
   "id": "bb8c3add",
   "metadata": {
    "execution": {
     "iopub.execute_input": "2023-06-07T11:36:10.339191Z",
     "iopub.status.busy": "2023-06-07T11:36:10.338348Z",
     "iopub.status.idle": "2023-06-07T11:36:10.344865Z",
     "shell.execute_reply": "2023-06-07T11:36:10.343723Z"
    },
    "papermill": {
     "duration": 0.022313,
     "end_time": "2023-06-07T11:36:10.347859",
     "exception": false,
     "start_time": "2023-06-07T11:36:10.325546",
     "status": "completed"
    },
    "tags": []
   },
   "outputs": [],
   "source": [
    "def set_seed(seed_value=42):\n",
    "\n",
    "    random.seed(seed_value)\n",
    "    np.random.seed(seed_value)\n",
    "    torch.manual_seed(seed_value)\n",
    "    torch.cuda.manual_seed_all(seed_value)"
   ]
  },
  {
   "cell_type": "code",
   "execution_count": 17,
   "id": "8bfabd21",
   "metadata": {
    "execution": {
     "iopub.execute_input": "2023-06-07T11:36:10.371997Z",
     "iopub.status.busy": "2023-06-07T11:36:10.371198Z",
     "iopub.status.idle": "2023-06-07T11:36:10.378705Z",
     "shell.execute_reply": "2023-06-07T11:36:10.377262Z"
    },
    "papermill": {
     "duration": 0.022847,
     "end_time": "2023-06-07T11:36:10.381690",
     "exception": false,
     "start_time": "2023-06-07T11:36:10.358843",
     "status": "completed"
    },
    "tags": []
   },
   "outputs": [],
   "source": [
    "def initialize_model(epochs):\n",
    "\n",
    "    bert_classifier = BertClassifier(freeze_bert=True)    \n",
    "    bert_classifier\n",
    "\n",
    "\n",
    "    optimizer = AdamW(bert_classifier.parameters(),\n",
    "                      lr=3e-5,    # learning rate\n",
    "                      eps=1e-8    # epsilon value\n",
    "                      )\n",
    "\n",
    "    # total number of training steps\n",
    "    total_steps = len(train_dataloader) * epochs\n",
    "\n",
    "    # set up the learning rate scheduler\n",
    "    scheduler = get_linear_schedule_with_warmup(optimizer, num_warmup_steps=0, num_training_steps=total_steps)\n",
    "    return bert_classifier, optimizer, scheduler"
   ]
  },
  {
   "cell_type": "code",
   "execution_count": 18,
   "id": "9b81bdb6",
   "metadata": {
    "execution": {
     "iopub.execute_input": "2023-06-07T11:36:10.405133Z",
     "iopub.status.busy": "2023-06-07T11:36:10.404345Z",
     "iopub.status.idle": "2023-06-07T11:36:10.410742Z",
     "shell.execute_reply": "2023-06-07T11:36:10.409694Z"
    },
    "papermill": {
     "duration": 0.021345,
     "end_time": "2023-06-07T11:36:10.413738",
     "exception": false,
     "start_time": "2023-06-07T11:36:10.392393",
     "status": "completed"
    },
    "tags": []
   },
   "outputs": [],
   "source": [
    "def calculate_metrics(pred, target):\n",
    "    return {'precision': metrics.precision_score(y_true=target, y_pred=pred),\n",
    "\n",
    "            'recall': metrics.recall_score(y_true=target, y_pred=pred),\n",
    "\n",
    "            'f1': metrics.f1_score(y_true=target, y_pred=pred)          \n",
    "\n",
    "            }\n"
   ]
  },
  {
   "cell_type": "code",
   "execution_count": 19,
   "id": "4cbbe3ca",
   "metadata": {
    "execution": {
     "iopub.execute_input": "2023-06-07T11:36:10.437051Z",
     "iopub.status.busy": "2023-06-07T11:36:10.436283Z",
     "iopub.status.idle": "2023-06-07T11:36:10.455399Z",
     "shell.execute_reply": "2023-06-07T11:36:10.454260Z"
    },
    "papermill": {
     "duration": 0.034473,
     "end_time": "2023-06-07T11:36:10.458460",
     "exception": false,
     "start_time": "2023-06-07T11:36:10.423987",
     "status": "completed"
    },
    "tags": []
   },
   "outputs": [],
   "source": [
    "def train(model, train_dataloader, validation_dataloader=None, epochs=5, evaluation=True):\n",
    "\n",
    "    print(\"Start training...\\n\")\n",
    "    for epoch_i in range(epochs):\n",
    "\n",
    "        print(\n",
    "            f\"{'Epoch':^7} | {'Batch':^7} | {'Train Loss':^12} | {'Val Loss':^10} | {'Val Precision':^9} | {'Val Recall':^9} | {'Val F1':^9} | {'Elapsed':^9}\")\n",
    "        print(\"-\" * 100)\n",
    "\n",
    "        # Measure the elapsed time of each epoch\n",
    "        t0_epoch, t0_batch = time.time(), time.time()\n",
    "\n",
    "        # Reset tracking variables at the beginning of each epoch\n",
    "        total_loss, batch_loss, batch_counts = 0, 0, 0\n",
    "\n",
    "        # Put the model into the training mode\n",
    "        model.train()\n",
    "\n",
    "        # For each batch of training data...\n",
    "        for step, batch in enumerate(train_dataloader):\n",
    "            batch_counts += 1\n",
    "            # Load batch to GPU\n",
    "            b_input_ids, b_attn_mask, b_labels = tuple(t for t in batch)\n",
    "\n",
    "            # Zero out any previously calculated gradients\n",
    "            model.zero_grad()\n",
    "\n",
    "            # Perform a forward pass. This will return logits.\n",
    "            logits = model(b_input_ids, b_attn_mask)\n",
    "\n",
    "            loss=loss_fn(logits, b_labels.type(torch.float))\n",
    "            # accumulate the loss values\n",
    "            batch_loss += loss.item()\n",
    "            total_loss += loss.item()\n",
    "            # Perform a backward pass to calculate gradients\n",
    "            loss.backward()\n",
    "\n",
    "            # Clip the norm of the gradients to 1.0 to prevent \"exploding gradients\"\n",
    "            torch.nn.utils.clip_grad_norm_(model.parameters(), 1.0)\n",
    "\n",
    "            # Update parameters and the learning rate\n",
    "            optimizer.step()\n",
    "            scheduler.step()\n",
    "\n",
    "            # Print the loss values and time elapsed for every 20 batches\n",
    "            if (step % 20 == 0 and step != 0) or (step == len(train_dataloader) - 1):\n",
    "                # Calculate time elapsed for 20 batches\n",
    "                time_elapsed = time.time() - t0_batch\n",
    "\n",
    "                # Print training results\n",
    "                print(\n",
    "                    f\"{epoch_i + 1:^7} | {step:^7} | {batch_loss / batch_counts:^12f} | {'-':^10} | {'-':^13} | {'-':^10} | {'-':^9} | {time_elapsed:^9f}\")\n",
    "\n",
    "                # Reset batch tracking variables\n",
    "                batch_loss, batch_counts = 0, 0\n",
    "                t0_batch = time.time()\n",
    "\n",
    "        # Calculate the average loss over the entire training data\n",
    "        avg_train_loss = total_loss / len(train_dataloader)\n",
    "\n",
    "        print(\"-\" * 100)\n",
    "\n",
    "        if evaluation == True:\n",
    "            # After the completion of each training epoch, measure the model's performance\n",
    "            # on our validation set.\n",
    "            val_loss, val_precision, val_recall, val_f1 = evaluate(model, validation_dataloader)\n",
    "\n",
    "            # Print performance over the entire training data\n",
    "            time_elapsed = time.time() - t0_epoch\n",
    "\n",
    "            # Print the header of the result table\n",
    "\n",
    "            print(\"-\" * 100)\n",
    "            print(\n",
    "                f\"{epoch_i + 1:^7} | {'-':^7} | {avg_train_loss:^12.6f} | {val_loss:^10.6f} | {val_precision:^13f} | {val_recall:^10.2f} | {val_f1:^9.2f} | {time_elapsed:^9.2f}\")\n",
    "            print(\"-\" * 100)\n",
    "        print(\"\\n\")\n",
    "\n",
    "    print(\"Training complete!\")\n",
    "\n",
    "    # saving the model\n",
    "    output_dir = '/kaggle/working/'\n",
    "\n",
    "    # Create output directory if needed\n",
    "    if not os.path.exists(output_dir):\n",
    "      os.makedirs(output_dir)\n",
    "\n",
    "    print(\"Saving model to %s\" % output_dir)\n",
    "\n",
    "    model.bert.save_pretrained(output_dir)"
   ]
  },
  {
   "cell_type": "code",
   "execution_count": 20,
   "id": "a2e637b2",
   "metadata": {
    "execution": {
     "iopub.execute_input": "2023-06-07T11:36:10.483229Z",
     "iopub.status.busy": "2023-06-07T11:36:10.482348Z",
     "iopub.status.idle": "2023-06-07T11:36:10.496033Z",
     "shell.execute_reply": "2023-06-07T11:36:10.494878Z"
    },
    "papermill": {
     "duration": 0.029734,
     "end_time": "2023-06-07T11:36:10.499104",
     "exception": false,
     "start_time": "2023-06-07T11:36:10.469370",
     "status": "completed"
    },
    "tags": []
   },
   "outputs": [],
   "source": [
    "def evaluate(model, val_dataloader):\n",
    "\n",
    "    model.eval()\n",
    "\n",
    "    # Tracking variables\n",
    "    val_precision = []\n",
    "    val_recall = []\n",
    "    val_f1 = []\n",
    "    val_loss = []\n",
    "\n",
    "    # For each batch in our validation set...\n",
    "    for batch in val_dataloader:\n",
    "        # Load batch to GPU\n",
    "        b_input_ids, b_attn_mask, b_labels = tuple(t for t in batch)\n",
    "\n",
    "        # Compute logits\n",
    "        with torch.no_grad():\n",
    "            logits = model(b_input_ids, b_attn_mask)\n",
    "\n",
    "        # Compute loss\n",
    "        loss = loss_fn(logits, b_labels.type(torch.float))\n",
    "        val_loss.append(loss.item())\n",
    "\n",
    "        # Get the predictions\n",
    "        logits_arr = logits.cpu().numpy()\n",
    "        logits_arr[logits_arr >= 0.5] = 1\n",
    "        logits_arr[logits_arr < 0.5] = 0\n",
    "\n",
    "        b_labels_arr = b_labels.cpu().numpy()\n",
    "        # Calculate the accuracy rate\n",
    "        precision_micro = metrics.precision_score(y_true=b_labels_arr, y_pred=logits_arr, average='micro')\n",
    "        val_precision.append(precision_micro)\n",
    "        recall_micro = metrics.recall_score(y_true=b_labels_arr, y_pred=logits_arr, average='micro')\n",
    "        val_recall.append(recall_micro)\n",
    "        f1_micro = metrics.f1_score(y_true=b_labels_arr, y_pred=logits_arr, average='micro')\n",
    "        val_f1.append(f1_micro)\n",
    "\n",
    "    # Compute the average accuracy and loss over the validation set.\n",
    "    val_loss = np.mean(val_loss)\n",
    "    val_precision = np.mean(precision_micro)\n",
    "    val_recall = np.mean(recall_micro)\n",
    "    val_f1 = np.mean(f1_micro)\n",
    "\n",
    "    return val_loss, val_precision, val_recall, val_f1\n"
   ]
  },
  {
   "cell_type": "code",
   "execution_count": 21,
   "id": "ec906d06",
   "metadata": {
    "execution": {
     "iopub.execute_input": "2023-06-07T11:36:10.523184Z",
     "iopub.status.busy": "2023-06-07T11:36:10.522387Z",
     "iopub.status.idle": "2023-06-07T11:36:10.530548Z",
     "shell.execute_reply": "2023-06-07T11:36:10.529429Z"
    },
    "papermill": {
     "duration": 0.023954,
     "end_time": "2023-06-07T11:36:10.533585",
     "exception": false,
     "start_time": "2023-06-07T11:36:10.509631",
     "status": "completed"
    },
    "tags": []
   },
   "outputs": [],
   "source": [
    "def bert_predict(model, test_dataloader):\n",
    "\n",
    "    model.eval()\n",
    "\n",
    "    all_logits = []\n",
    "\n",
    "    # For each batch in test set...\n",
    "    for batch in test_dataloader:\n",
    "        # Load batch to GPU\n",
    "        b_input_ids, b_attn_mask = tuple(t for t in batch)[:2]\n",
    "\n",
    "        # Compute logits\n",
    "        with torch.no_grad():\n",
    "            logits = model(b_input_ids, b_attn_mask)\n",
    "        all_logits.append(logits.type(torch.float))\n",
    "    \n",
    "    # Concatenate logits from each batch\n",
    "    all_logits = torch.cat(all_logits, dim=0)\n",
    "\n",
    "    # Apply softmax to calculate probabilities\n",
    "    probs = all_logits.cpu().numpy()\n",
    "\n",
    "    return probs"
   ]
  },
  {
   "cell_type": "code",
   "execution_count": 22,
   "id": "20c37006",
   "metadata": {
    "execution": {
     "iopub.execute_input": "2023-06-07T11:36:10.557713Z",
     "iopub.status.busy": "2023-06-07T11:36:10.556685Z",
     "iopub.status.idle": "2023-06-07T11:52:18.432671Z",
     "shell.execute_reply": "2023-06-07T11:52:18.431030Z"
    },
    "papermill": {
     "duration": 967.891335,
     "end_time": "2023-06-07T11:52:18.435801",
     "exception": false,
     "start_time": "2023-06-07T11:36:10.544466",
     "status": "completed"
    },
    "tags": []
   },
   "outputs": [
    {
     "data": {
      "application/vnd.jupyter.widget-view+json": {
       "model_id": "c62f7207f64743308a06effc6fc447f8",
       "version_major": 2,
       "version_minor": 0
      },
      "text/plain": [
       "Downloading pytorch_model.bin:   0%|          | 0.00/714M [00:00<?, ?B/s]"
      ]
     },
     "metadata": {},
     "output_type": "display_data"
    },
    {
     "name": "stderr",
     "output_type": "stream",
     "text": [
      "Some weights of the model checkpoint at bert-base-multilingual-cased were not used when initializing BertModel: ['cls.predictions.transform.dense.weight', 'cls.predictions.transform.LayerNorm.bias', 'cls.predictions.transform.dense.bias', 'cls.predictions.bias', 'cls.seq_relationship.bias', 'cls.predictions.transform.LayerNorm.weight', 'cls.seq_relationship.weight', 'cls.predictions.decoder.weight']\n",
      "- This IS expected if you are initializing BertModel from the checkpoint of a model trained on another task or with another architecture (e.g. initializing a BertForSequenceClassification model from a BertForPreTraining model).\n",
      "- This IS NOT expected if you are initializing BertModel from the checkpoint of a model that you expect to be exactly identical (initializing a BertForSequenceClassification model from a BertForSequenceClassification model).\n",
      "/opt/conda/lib/python3.7/site-packages/transformers/optimization.py:395: FutureWarning: This implementation of AdamW is deprecated and will be removed in a future version. Use the PyTorch implementation torch.optim.AdamW instead, or set `no_deprecation_warning=True` to disable this warning\n",
      "  FutureWarning,\n"
     ]
    },
    {
     "name": "stdout",
     "output_type": "stream",
     "text": [
      "Start training...\n",
      "\n",
      " Epoch  |  Batch  |  Train Loss  |  Val Loss  | Val Precision | Val Recall |  Val F1   |  Elapsed \n",
      "----------------------------------------------------------------------------------------------------\n",
      "   1    |   20    |   0.694543   |     -      |       -       |     -      |     -     | 39.443599\n",
      "   1    |   40    |   0.690031   |     -      |       -       |     -      |     -     | 35.746280\n",
      "   1    |   60    |   0.694819   |     -      |       -       |     -      |     -     | 36.114158\n",
      "   1    |   80    |   0.694674   |     -      |       -       |     -      |     -     | 35.861594\n",
      "   1    |   94    |   0.689245   |     -      |       -       |     -      |     -     | 24.985279\n",
      "----------------------------------------------------------------------------------------------------\n",
      "----------------------------------------------------------------------------------------------------\n",
      "   1    |    -    |   0.692898   |  0.683837  |   0.615385    |    0.62    |   0.62    |  193.05  \n",
      "----------------------------------------------------------------------------------------------------\n",
      "\n",
      "\n",
      " Epoch  |  Batch  |  Train Loss  |  Val Loss  | Val Precision | Val Recall |  Val F1   |  Elapsed \n",
      "----------------------------------------------------------------------------------------------------\n",
      "   2    |   20    |   0.689629   |     -      |       -       |     -      |     -     | 37.586114\n",
      "   2    |   40    |   0.690052   |     -      |       -       |     -      |     -     | 35.825958\n",
      "   2    |   60    |   0.691434   |     -      |       -       |     -      |     -     | 36.052289\n",
      "   2    |   80    |   0.685603   |     -      |       -       |     -      |     -     | 35.918361\n",
      "   2    |   94    |   0.688897   |     -      |       -       |     -      |     -     | 25.075874\n",
      "----------------------------------------------------------------------------------------------------\n",
      "----------------------------------------------------------------------------------------------------\n",
      "   2    |    -    |   0.689143   |  0.680480  |   0.692308    |    0.69    |   0.69    |  191.55  \n",
      "----------------------------------------------------------------------------------------------------\n",
      "\n",
      "\n",
      " Epoch  |  Batch  |  Train Loss  |  Val Loss  | Val Precision | Val Recall |  Val F1   |  Elapsed \n",
      "----------------------------------------------------------------------------------------------------\n",
      "   3    |   20    |   0.681442   |     -      |       -       |     -      |     -     | 37.884408\n",
      "   3    |   40    |   0.683673   |     -      |       -       |     -      |     -     | 36.039372\n",
      "   3    |   60    |   0.686761   |     -      |       -       |     -      |     -     | 35.884039\n",
      "   3    |   80    |   0.681930   |     -      |       -       |     -      |     -     | 36.086840\n",
      "   3    |   94    |   0.689372   |     -      |       -       |     -      |     -     | 25.239289\n",
      "----------------------------------------------------------------------------------------------------\n",
      "----------------------------------------------------------------------------------------------------\n",
      "   3    |    -    |   0.684303   |  0.677560  |   0.769231    |    0.77    |   0.77    |  192.18  \n",
      "----------------------------------------------------------------------------------------------------\n",
      "\n",
      "\n",
      " Epoch  |  Batch  |  Train Loss  |  Val Loss  | Val Precision | Val Recall |  Val F1   |  Elapsed \n",
      "----------------------------------------------------------------------------------------------------\n",
      "   4    |   20    |   0.677854   |     -      |       -       |     -      |     -     | 37.843109\n",
      "   4    |   40    |   0.690411   |     -      |       -       |     -      |     -     | 36.151172\n",
      "   4    |   60    |   0.679829   |     -      |       -       |     -      |     -     | 35.995372\n",
      "   4    |   80    |   0.677571   |     -      |       -       |     -      |     -     | 35.963174\n",
      "   4    |   94    |   0.680882   |     -      |       -       |     -      |     -     | 25.119348\n",
      "----------------------------------------------------------------------------------------------------\n",
      "----------------------------------------------------------------------------------------------------\n",
      "   4    |    -    |   0.681300   |  0.676403  |   0.769231    |    0.77    |   0.77    |  192.00  \n",
      "----------------------------------------------------------------------------------------------------\n",
      "\n",
      "\n",
      " Epoch  |  Batch  |  Train Loss  |  Val Loss  | Val Precision | Val Recall |  Val F1   |  Elapsed \n",
      "----------------------------------------------------------------------------------------------------\n",
      "   5    |   20    |   0.681551   |     -      |       -       |     -      |     -     | 37.518271\n",
      "   5    |   40    |   0.687348   |     -      |       -       |     -      |     -     | 35.720562\n",
      "   5    |   60    |   0.679485   |     -      |       -       |     -      |     -     | 35.832171\n",
      "   5    |   80    |   0.680004   |     -      |       -       |     -      |     -     | 35.734559\n",
      "   5    |   94    |   0.679518   |     -      |       -       |     -      |     -     | 25.064460\n",
      "----------------------------------------------------------------------------------------------------\n",
      "----------------------------------------------------------------------------------------------------\n",
      "   5    |    -    |   0.681711   |  0.676146  |   0.692308    |    0.69    |   0.69    |  190.73  \n",
      "----------------------------------------------------------------------------------------------------\n",
      "\n",
      "\n",
      "Training complete!\n",
      "Saving model to /kaggle/working/\n"
     ]
    }
   ],
   "source": [
    "set_seed(42)\n",
    "bert_classifier, optimizer, scheduler = initialize_model(epochs=5)\n",
    "train(bert_classifier, train_dataloader, validation_dataloader, epochs=5, evaluation=True)"
   ]
  },
  {
   "cell_type": "code",
   "execution_count": 23,
   "id": "b9d1cae6",
   "metadata": {
    "execution": {
     "iopub.execute_input": "2023-06-07T11:52:18.465998Z",
     "iopub.status.busy": "2023-06-07T11:52:18.465403Z",
     "iopub.status.idle": "2023-06-07T11:52:18.481128Z",
     "shell.execute_reply": "2023-06-07T11:52:18.479582Z"
    },
    "papermill": {
     "duration": 0.03477,
     "end_time": "2023-06-07T11:52:18.484278",
     "exception": false,
     "start_time": "2023-06-07T11:52:18.449508",
     "status": "completed"
    },
    "tags": []
   },
   "outputs": [
    {
     "data": {
      "text/plain": [
       "(191, 1)"
      ]
     },
     "execution_count": 23,
     "metadata": {},
     "output_type": "execute_result"
    }
   ],
   "source": [
    "test_labels = np.array([])\n",
    "for i, data in enumerate(test_dataloader):\n",
    "    test_labels = np.append(test_labels, data[2].numpy())\n",
    "test_labels = test_labels.reshape(191,1)\n",
    "test_labels.shape"
   ]
  },
  {
   "cell_type": "code",
   "execution_count": 24,
   "id": "c68bd17a",
   "metadata": {
    "execution": {
     "iopub.execute_input": "2023-06-07T11:52:18.514994Z",
     "iopub.status.busy": "2023-06-07T11:52:18.514509Z",
     "iopub.status.idle": "2023-06-07T11:52:39.103211Z",
     "shell.execute_reply": "2023-06-07T11:52:39.101735Z"
    },
    "papermill": {
     "duration": 20.607357,
     "end_time": "2023-06-07T11:52:39.106300",
     "exception": false,
     "start_time": "2023-06-07T11:52:18.498943",
     "status": "completed"
    },
    "tags": []
   },
   "outputs": [
    {
     "name": "stdout",
     "output_type": "stream",
     "text": [
      "Precision: 0.6184\n",
      "Recall: 0.4653\n",
      "F1: 0.5311\n"
     ]
    }
   ],
   "source": [
    "probs = bert_predict(bert_classifier, test_dataloader)\n",
    "\n",
    "# Get predictions from the probabilities\n",
    "threshold = 0.5\n",
    "preds = np.where(probs > threshold, 1, 0)\n",
    "\n",
    "results = calculate_metrics(pred = preds,target = test_labels.astype(\"int\"))\n",
    "print(f'Precision: {results[\"precision\"]:.4f}')\n",
    "print(f'Recall: {results[\"recall\"]:.4f}')\n",
    "print(f'F1: {results[\"f1\"]:.4f}')\n",
    "\n",
    "\n",
    "csvFile = open('tweets-binary-prediction-results.csv', 'w')\n",
    "csvWriter = csv.writer(csvFile)\n",
    "for i in preds:\n",
    "    csvWriter.writerow(i)\n",
    "csvFile.close()\n"
   ]
  }
 ],
 "metadata": {
  "kernelspec": {
   "display_name": "Python 3",
   "language": "python",
   "name": "python3"
  },
  "language_info": {
   "codemirror_mode": {
    "name": "ipython",
    "version": 3
   },
   "file_extension": ".py",
   "mimetype": "text/x-python",
   "name": "python",
   "nbconvert_exporter": "python",
   "pygments_lexer": "ipython3",
   "version": "3.7.12"
  },
  "papermill": {
   "default_parameters": {},
   "duration": 1072.540444,
   "end_time": "2023-06-07T11:52:42.582834",
   "environment_variables": {},
   "exception": null,
   "input_path": "__notebook__.ipynb",
   "output_path": "__notebook__.ipynb",
   "parameters": {},
   "start_time": "2023-06-07T11:34:50.042390",
   "version": "2.4.0"
  },
  "widgets": {
   "application/vnd.jupyter.widget-state+json": {
    "state": {
     "03d6e854a46b4fdf971c4404d9659d2d": {
      "model_module": "@jupyter-widgets/controls",
      "model_module_version": "1.5.0",
      "model_name": "DescriptionStyleModel",
      "state": {
       "_model_module": "@jupyter-widgets/controls",
       "_model_module_version": "1.5.0",
       "_model_name": "DescriptionStyleModel",
       "_view_count": null,
       "_view_module": "@jupyter-widgets/base",
       "_view_module_version": "1.2.0",
       "_view_name": "StyleView",
       "description_width": ""
      }
     },
     "0669089c83e5465bb5c8b8036a72deec": {
      "model_module": "@jupyter-widgets/base",
      "model_module_version": "1.2.0",
      "model_name": "LayoutModel",
      "state": {
       "_model_module": "@jupyter-widgets/base",
       "_model_module_version": "1.2.0",
       "_model_name": "LayoutModel",
       "_view_count": null,
       "_view_module": "@jupyter-widgets/base",
       "_view_module_version": "1.2.0",
       "_view_name": "LayoutView",
       "align_content": null,
       "align_items": null,
       "align_self": null,
       "border": null,
       "bottom": null,
       "display": null,
       "flex": null,
       "flex_flow": null,
       "grid_area": null,
       "grid_auto_columns": null,
       "grid_auto_flow": null,
       "grid_auto_rows": null,
       "grid_column": null,
       "grid_gap": null,
       "grid_row": null,
       "grid_template_areas": null,
       "grid_template_columns": null,
       "grid_template_rows": null,
       "height": null,
       "justify_content": null,
       "justify_items": null,
       "left": null,
       "margin": null,
       "max_height": null,
       "max_width": null,
       "min_height": null,
       "min_width": null,
       "object_fit": null,
       "object_position": null,
       "order": null,
       "overflow": null,
       "overflow_x": null,
       "overflow_y": null,
       "padding": null,
       "right": null,
       "top": null,
       "visibility": null,
       "width": null
      }
     },
     "06bca14f8cef40eb81b341ab0fec1e03": {
      "model_module": "@jupyter-widgets/base",
      "model_module_version": "1.2.0",
      "model_name": "LayoutModel",
      "state": {
       "_model_module": "@jupyter-widgets/base",
       "_model_module_version": "1.2.0",
       "_model_name": "LayoutModel",
       "_view_count": null,
       "_view_module": "@jupyter-widgets/base",
       "_view_module_version": "1.2.0",
       "_view_name": "LayoutView",
       "align_content": null,
       "align_items": null,
       "align_self": null,
       "border": null,
       "bottom": null,
       "display": null,
       "flex": null,
       "flex_flow": null,
       "grid_area": null,
       "grid_auto_columns": null,
       "grid_auto_flow": null,
       "grid_auto_rows": null,
       "grid_column": null,
       "grid_gap": null,
       "grid_row": null,
       "grid_template_areas": null,
       "grid_template_columns": null,
       "grid_template_rows": null,
       "height": null,
       "justify_content": null,
       "justify_items": null,
       "left": null,
       "margin": null,
       "max_height": null,
       "max_width": null,
       "min_height": null,
       "min_width": null,
       "object_fit": null,
       "object_position": null,
       "order": null,
       "overflow": null,
       "overflow_x": null,
       "overflow_y": null,
       "padding": null,
       "right": null,
       "top": null,
       "visibility": null,
       "width": null
      }
     },
     "080275962ae74975a83978e7b6ef573c": {
      "model_module": "@jupyter-widgets/base",
      "model_module_version": "1.2.0",
      "model_name": "LayoutModel",
      "state": {
       "_model_module": "@jupyter-widgets/base",
       "_model_module_version": "1.2.0",
       "_model_name": "LayoutModel",
       "_view_count": null,
       "_view_module": "@jupyter-widgets/base",
       "_view_module_version": "1.2.0",
       "_view_name": "LayoutView",
       "align_content": null,
       "align_items": null,
       "align_self": null,
       "border": null,
       "bottom": null,
       "display": null,
       "flex": null,
       "flex_flow": null,
       "grid_area": null,
       "grid_auto_columns": null,
       "grid_auto_flow": null,
       "grid_auto_rows": null,
       "grid_column": null,
       "grid_gap": null,
       "grid_row": null,
       "grid_template_areas": null,
       "grid_template_columns": null,
       "grid_template_rows": null,
       "height": null,
       "justify_content": null,
       "justify_items": null,
       "left": null,
       "margin": null,
       "max_height": null,
       "max_width": null,
       "min_height": null,
       "min_width": null,
       "object_fit": null,
       "object_position": null,
       "order": null,
       "overflow": null,
       "overflow_x": null,
       "overflow_y": null,
       "padding": null,
       "right": null,
       "top": null,
       "visibility": null,
       "width": null
      }
     },
     "0e6e9dcc19d748bbaee256c8e3b28d17": {
      "model_module": "@jupyter-widgets/controls",
      "model_module_version": "1.5.0",
      "model_name": "FloatProgressModel",
      "state": {
       "_dom_classes": [],
       "_model_module": "@jupyter-widgets/controls",
       "_model_module_version": "1.5.0",
       "_model_name": "FloatProgressModel",
       "_view_count": null,
       "_view_module": "@jupyter-widgets/controls",
       "_view_module_version": "1.5.0",
       "_view_name": "ProgressView",
       "bar_style": "success",
       "description": "",
       "description_tooltip": null,
       "layout": "IPY_MODEL_35f41c319871441fa07d7a14e64fe1df",
       "max": 29.0,
       "min": 0.0,
       "orientation": "horizontal",
       "style": "IPY_MODEL_4d9e80647c8f4d98afd886c571a37ee5",
       "value": 29.0
      }
     },
     "1ba58aa02e214bb491bd2f7a1c5d5399": {
      "model_module": "@jupyter-widgets/controls",
      "model_module_version": "1.5.0",
      "model_name": "DescriptionStyleModel",
      "state": {
       "_model_module": "@jupyter-widgets/controls",
       "_model_module_version": "1.5.0",
       "_model_name": "DescriptionStyleModel",
       "_view_count": null,
       "_view_module": "@jupyter-widgets/base",
       "_view_module_version": "1.2.0",
       "_view_name": "StyleView",
       "description_width": ""
      }
     },
     "2546f47d364a4af8920880fe83169c30": {
      "model_module": "@jupyter-widgets/controls",
      "model_module_version": "1.5.0",
      "model_name": "HBoxModel",
      "state": {
       "_dom_classes": [],
       "_model_module": "@jupyter-widgets/controls",
       "_model_module_version": "1.5.0",
       "_model_name": "HBoxModel",
       "_view_count": null,
       "_view_module": "@jupyter-widgets/controls",
       "_view_module_version": "1.5.0",
       "_view_name": "HBoxView",
       "box_style": "",
       "children": [
        "IPY_MODEL_c8d1a097ad6949fc9bfaefd76ee4d8a2",
        "IPY_MODEL_0e6e9dcc19d748bbaee256c8e3b28d17",
        "IPY_MODEL_7129972fc0a44bf188727cb331187cde"
       ],
       "layout": "IPY_MODEL_ff90a30baa5d46108e30810d41e73229"
      }
     },
     "2a28796876b049dda8604ba26322212c": {
      "model_module": "@jupyter-widgets/controls",
      "model_module_version": "1.5.0",
      "model_name": "FloatProgressModel",
      "state": {
       "_dom_classes": [],
       "_model_module": "@jupyter-widgets/controls",
       "_model_module_version": "1.5.0",
       "_model_name": "FloatProgressModel",
       "_view_count": null,
       "_view_module": "@jupyter-widgets/controls",
       "_view_module_version": "1.5.0",
       "_view_name": "ProgressView",
       "bar_style": "success",
       "description": "",
       "description_tooltip": null,
       "layout": "IPY_MODEL_3fae511d2e1b4d3180fe9ed57ecabad3",
       "max": 625.0,
       "min": 0.0,
       "orientation": "horizontal",
       "style": "IPY_MODEL_b770aec0577e4fc0a5db3aeade8f6a58",
       "value": 625.0
      }
     },
     "2c17b621b754498f913f15b0f9debb1f": {
      "model_module": "@jupyter-widgets/base",
      "model_module_version": "1.2.0",
      "model_name": "LayoutModel",
      "state": {
       "_model_module": "@jupyter-widgets/base",
       "_model_module_version": "1.2.0",
       "_model_name": "LayoutModel",
       "_view_count": null,
       "_view_module": "@jupyter-widgets/base",
       "_view_module_version": "1.2.0",
       "_view_name": "LayoutView",
       "align_content": null,
       "align_items": null,
       "align_self": null,
       "border": null,
       "bottom": null,
       "display": null,
       "flex": null,
       "flex_flow": null,
       "grid_area": null,
       "grid_auto_columns": null,
       "grid_auto_flow": null,
       "grid_auto_rows": null,
       "grid_column": null,
       "grid_gap": null,
       "grid_row": null,
       "grid_template_areas": null,
       "grid_template_columns": null,
       "grid_template_rows": null,
       "height": null,
       "justify_content": null,
       "justify_items": null,
       "left": null,
       "margin": null,
       "max_height": null,
       "max_width": null,
       "min_height": null,
       "min_width": null,
       "object_fit": null,
       "object_position": null,
       "order": null,
       "overflow": null,
       "overflow_x": null,
       "overflow_y": null,
       "padding": null,
       "right": null,
       "top": null,
       "visibility": null,
       "width": null
      }
     },
     "35f41c319871441fa07d7a14e64fe1df": {
      "model_module": "@jupyter-widgets/base",
      "model_module_version": "1.2.0",
      "model_name": "LayoutModel",
      "state": {
       "_model_module": "@jupyter-widgets/base",
       "_model_module_version": "1.2.0",
       "_model_name": "LayoutModel",
       "_view_count": null,
       "_view_module": "@jupyter-widgets/base",
       "_view_module_version": "1.2.0",
       "_view_name": "LayoutView",
       "align_content": null,
       "align_items": null,
       "align_self": null,
       "border": null,
       "bottom": null,
       "display": null,
       "flex": null,
       "flex_flow": null,
       "grid_area": null,
       "grid_auto_columns": null,
       "grid_auto_flow": null,
       "grid_auto_rows": null,
       "grid_column": null,
       "grid_gap": null,
       "grid_row": null,
       "grid_template_areas": null,
       "grid_template_columns": null,
       "grid_template_rows": null,
       "height": null,
       "justify_content": null,
       "justify_items": null,
       "left": null,
       "margin": null,
       "max_height": null,
       "max_width": null,
       "min_height": null,
       "min_width": null,
       "object_fit": null,
       "object_position": null,
       "order": null,
       "overflow": null,
       "overflow_x": null,
       "overflow_y": null,
       "padding": null,
       "right": null,
       "top": null,
       "visibility": null,
       "width": null
      }
     },
     "3a9d41d54f2540efb5b0462a65ed2053": {
      "model_module": "@jupyter-widgets/controls",
      "model_module_version": "1.5.0",
      "model_name": "ProgressStyleModel",
      "state": {
       "_model_module": "@jupyter-widgets/controls",
       "_model_module_version": "1.5.0",
       "_model_name": "ProgressStyleModel",
       "_view_count": null,
       "_view_module": "@jupyter-widgets/base",
       "_view_module_version": "1.2.0",
       "_view_name": "StyleView",
       "bar_color": null,
       "description_width": ""
      }
     },
     "3fae511d2e1b4d3180fe9ed57ecabad3": {
      "model_module": "@jupyter-widgets/base",
      "model_module_version": "1.2.0",
      "model_name": "LayoutModel",
      "state": {
       "_model_module": "@jupyter-widgets/base",
       "_model_module_version": "1.2.0",
       "_model_name": "LayoutModel",
       "_view_count": null,
       "_view_module": "@jupyter-widgets/base",
       "_view_module_version": "1.2.0",
       "_view_name": "LayoutView",
       "align_content": null,
       "align_items": null,
       "align_self": null,
       "border": null,
       "bottom": null,
       "display": null,
       "flex": null,
       "flex_flow": null,
       "grid_area": null,
       "grid_auto_columns": null,
       "grid_auto_flow": null,
       "grid_auto_rows": null,
       "grid_column": null,
       "grid_gap": null,
       "grid_row": null,
       "grid_template_areas": null,
       "grid_template_columns": null,
       "grid_template_rows": null,
       "height": null,
       "justify_content": null,
       "justify_items": null,
       "left": null,
       "margin": null,
       "max_height": null,
       "max_width": null,
       "min_height": null,
       "min_width": null,
       "object_fit": null,
       "object_position": null,
       "order": null,
       "overflow": null,
       "overflow_x": null,
       "overflow_y": null,
       "padding": null,
       "right": null,
       "top": null,
       "visibility": null,
       "width": null
      }
     },
     "4666c70285104fe2a32ad7f5ef170b45": {
      "model_module": "@jupyter-widgets/base",
      "model_module_version": "1.2.0",
      "model_name": "LayoutModel",
      "state": {
       "_model_module": "@jupyter-widgets/base",
       "_model_module_version": "1.2.0",
       "_model_name": "LayoutModel",
       "_view_count": null,
       "_view_module": "@jupyter-widgets/base",
       "_view_module_version": "1.2.0",
       "_view_name": "LayoutView",
       "align_content": null,
       "align_items": null,
       "align_self": null,
       "border": null,
       "bottom": null,
       "display": null,
       "flex": null,
       "flex_flow": null,
       "grid_area": null,
       "grid_auto_columns": null,
       "grid_auto_flow": null,
       "grid_auto_rows": null,
       "grid_column": null,
       "grid_gap": null,
       "grid_row": null,
       "grid_template_areas": null,
       "grid_template_columns": null,
       "grid_template_rows": null,
       "height": null,
       "justify_content": null,
       "justify_items": null,
       "left": null,
       "margin": null,
       "max_height": null,
       "max_width": null,
       "min_height": null,
       "min_width": null,
       "object_fit": null,
       "object_position": null,
       "order": null,
       "overflow": null,
       "overflow_x": null,
       "overflow_y": null,
       "padding": null,
       "right": null,
       "top": null,
       "visibility": null,
       "width": null
      }
     },
     "49cba177b00540df9a1580c6bd4e3721": {
      "model_module": "@jupyter-widgets/controls",
      "model_module_version": "1.5.0",
      "model_name": "HTMLModel",
      "state": {
       "_dom_classes": [],
       "_model_module": "@jupyter-widgets/controls",
       "_model_module_version": "1.5.0",
       "_model_name": "HTMLModel",
       "_view_count": null,
       "_view_module": "@jupyter-widgets/controls",
       "_view_module_version": "1.5.0",
       "_view_name": "HTMLView",
       "description": "",
       "description_tooltip": null,
       "layout": "IPY_MODEL_6641b90026cc4afb9fb8f610ab8eac1a",
       "placeholder": "​",
       "style": "IPY_MODEL_ea68ecb1286047459701d456d6ec73ee",
       "value": "Downloading pytorch_model.bin: 100%"
      }
     },
     "4d109b393edd4d1ab5cbea79a7cb2a78": {
      "model_module": "@jupyter-widgets/controls",
      "model_module_version": "1.5.0",
      "model_name": "HTMLModel",
      "state": {
       "_dom_classes": [],
       "_model_module": "@jupyter-widgets/controls",
       "_model_module_version": "1.5.0",
       "_model_name": "HTMLModel",
       "_view_count": null,
       "_view_module": "@jupyter-widgets/controls",
       "_view_module_version": "1.5.0",
       "_view_name": "HTMLView",
       "description": "",
       "description_tooltip": null,
       "layout": "IPY_MODEL_ab73d68d6b4b4633b352e13cc5ab9543",
       "placeholder": "​",
       "style": "IPY_MODEL_8b1011bec7bc47ae9a5362c0ac340680",
       "value": "Downloading (…)lve/main/config.json: 100%"
      }
     },
     "4d9e80647c8f4d98afd886c571a37ee5": {
      "model_module": "@jupyter-widgets/controls",
      "model_module_version": "1.5.0",
      "model_name": "ProgressStyleModel",
      "state": {
       "_model_module": "@jupyter-widgets/controls",
       "_model_module_version": "1.5.0",
       "_model_name": "ProgressStyleModel",
       "_view_count": null,
       "_view_module": "@jupyter-widgets/base",
       "_view_module_version": "1.2.0",
       "_view_name": "StyleView",
       "bar_color": null,
       "description_width": ""
      }
     },
     "526c53e25af84ddcb0d86a9544a5d21e": {
      "model_module": "@jupyter-widgets/controls",
      "model_module_version": "1.5.0",
      "model_name": "HTMLModel",
      "state": {
       "_dom_classes": [],
       "_model_module": "@jupyter-widgets/controls",
       "_model_module_version": "1.5.0",
       "_model_name": "HTMLModel",
       "_view_count": null,
       "_view_module": "@jupyter-widgets/controls",
       "_view_module_version": "1.5.0",
       "_view_name": "HTMLView",
       "description": "",
       "description_tooltip": null,
       "layout": "IPY_MODEL_080275962ae74975a83978e7b6ef573c",
       "placeholder": "​",
       "style": "IPY_MODEL_03d6e854a46b4fdf971c4404d9659d2d",
       "value": " 996k/996k [00:00&lt;00:00, 5.41MB/s]"
      }
     },
     "5953730f80d048deb8e445d32aaabef8": {
      "model_module": "@jupyter-widgets/controls",
      "model_module_version": "1.5.0",
      "model_name": "HBoxModel",
      "state": {
       "_dom_classes": [],
       "_model_module": "@jupyter-widgets/controls",
       "_model_module_version": "1.5.0",
       "_model_name": "HBoxModel",
       "_view_count": null,
       "_view_module": "@jupyter-widgets/controls",
       "_view_module_version": "1.5.0",
       "_view_name": "HBoxView",
       "box_style": "",
       "children": [
        "IPY_MODEL_4d109b393edd4d1ab5cbea79a7cb2a78",
        "IPY_MODEL_2a28796876b049dda8604ba26322212c",
        "IPY_MODEL_9d7322838d5e4ee4a393edc7ef8c6fe0"
       ],
       "layout": "IPY_MODEL_e5b536f37fc14b41ada8dc0180524c83"
      }
     },
     "6641b90026cc4afb9fb8f610ab8eac1a": {
      "model_module": "@jupyter-widgets/base",
      "model_module_version": "1.2.0",
      "model_name": "LayoutModel",
      "state": {
       "_model_module": "@jupyter-widgets/base",
       "_model_module_version": "1.2.0",
       "_model_name": "LayoutModel",
       "_view_count": null,
       "_view_module": "@jupyter-widgets/base",
       "_view_module_version": "1.2.0",
       "_view_name": "LayoutView",
       "align_content": null,
       "align_items": null,
       "align_self": null,
       "border": null,
       "bottom": null,
       "display": null,
       "flex": null,
       "flex_flow": null,
       "grid_area": null,
       "grid_auto_columns": null,
       "grid_auto_flow": null,
       "grid_auto_rows": null,
       "grid_column": null,
       "grid_gap": null,
       "grid_row": null,
       "grid_template_areas": null,
       "grid_template_columns": null,
       "grid_template_rows": null,
       "height": null,
       "justify_content": null,
       "justify_items": null,
       "left": null,
       "margin": null,
       "max_height": null,
       "max_width": null,
       "min_height": null,
       "min_width": null,
       "object_fit": null,
       "object_position": null,
       "order": null,
       "overflow": null,
       "overflow_x": null,
       "overflow_y": null,
       "padding": null,
       "right": null,
       "top": null,
       "visibility": null,
       "width": null
      }
     },
     "66f968002d2b426e85856562a58c581e": {
      "model_module": "@jupyter-widgets/controls",
      "model_module_version": "1.5.0",
      "model_name": "DescriptionStyleModel",
      "state": {
       "_model_module": "@jupyter-widgets/controls",
       "_model_module_version": "1.5.0",
       "_model_name": "DescriptionStyleModel",
       "_view_count": null,
       "_view_module": "@jupyter-widgets/base",
       "_view_module_version": "1.2.0",
       "_view_name": "StyleView",
       "description_width": ""
      }
     },
     "7129972fc0a44bf188727cb331187cde": {
      "model_module": "@jupyter-widgets/controls",
      "model_module_version": "1.5.0",
      "model_name": "HTMLModel",
      "state": {
       "_dom_classes": [],
       "_model_module": "@jupyter-widgets/controls",
       "_model_module_version": "1.5.0",
       "_model_name": "HTMLModel",
       "_view_count": null,
       "_view_module": "@jupyter-widgets/controls",
       "_view_module_version": "1.5.0",
       "_view_name": "HTMLView",
       "description": "",
       "description_tooltip": null,
       "layout": "IPY_MODEL_cf72db8751c7482298192712d2ef4844",
       "placeholder": "​",
       "style": "IPY_MODEL_a4a89a2ccae442f58b4ccccd6d7dd0fa",
       "value": " 29.0/29.0 [00:00&lt;00:00, 937B/s]"
      }
     },
     "78701b5e629a4bbba28aea221cd46d59": {
      "model_module": "@jupyter-widgets/controls",
      "model_module_version": "1.5.0",
      "model_name": "ProgressStyleModel",
      "state": {
       "_model_module": "@jupyter-widgets/controls",
       "_model_module_version": "1.5.0",
       "_model_name": "ProgressStyleModel",
       "_view_count": null,
       "_view_module": "@jupyter-widgets/base",
       "_view_module_version": "1.2.0",
       "_view_name": "StyleView",
       "bar_color": null,
       "description_width": ""
      }
     },
     "85420ac85a4748aa91fd256ffcfda2ef": {
      "model_module": "@jupyter-widgets/base",
      "model_module_version": "1.2.0",
      "model_name": "LayoutModel",
      "state": {
       "_model_module": "@jupyter-widgets/base",
       "_model_module_version": "1.2.0",
       "_model_name": "LayoutModel",
       "_view_count": null,
       "_view_module": "@jupyter-widgets/base",
       "_view_module_version": "1.2.0",
       "_view_name": "LayoutView",
       "align_content": null,
       "align_items": null,
       "align_self": null,
       "border": null,
       "bottom": null,
       "display": null,
       "flex": null,
       "flex_flow": null,
       "grid_area": null,
       "grid_auto_columns": null,
       "grid_auto_flow": null,
       "grid_auto_rows": null,
       "grid_column": null,
       "grid_gap": null,
       "grid_row": null,
       "grid_template_areas": null,
       "grid_template_columns": null,
       "grid_template_rows": null,
       "height": null,
       "justify_content": null,
       "justify_items": null,
       "left": null,
       "margin": null,
       "max_height": null,
       "max_width": null,
       "min_height": null,
       "min_width": null,
       "object_fit": null,
       "object_position": null,
       "order": null,
       "overflow": null,
       "overflow_x": null,
       "overflow_y": null,
       "padding": null,
       "right": null,
       "top": null,
       "visibility": null,
       "width": null
      }
     },
     "8b1011bec7bc47ae9a5362c0ac340680": {
      "model_module": "@jupyter-widgets/controls",
      "model_module_version": "1.5.0",
      "model_name": "DescriptionStyleModel",
      "state": {
       "_model_module": "@jupyter-widgets/controls",
       "_model_module_version": "1.5.0",
       "_model_name": "DescriptionStyleModel",
       "_view_count": null,
       "_view_module": "@jupyter-widgets/base",
       "_view_module_version": "1.2.0",
       "_view_name": "StyleView",
       "description_width": ""
      }
     },
     "9d7322838d5e4ee4a393edc7ef8c6fe0": {
      "model_module": "@jupyter-widgets/controls",
      "model_module_version": "1.5.0",
      "model_name": "HTMLModel",
      "state": {
       "_dom_classes": [],
       "_model_module": "@jupyter-widgets/controls",
       "_model_module_version": "1.5.0",
       "_model_name": "HTMLModel",
       "_view_count": null,
       "_view_module": "@jupyter-widgets/controls",
       "_view_module_version": "1.5.0",
       "_view_name": "HTMLView",
       "description": "",
       "description_tooltip": null,
       "layout": "IPY_MODEL_b371c83f29434b75909d35433106de4d",
       "placeholder": "​",
       "style": "IPY_MODEL_66f968002d2b426e85856562a58c581e",
       "value": " 625/625 [00:00&lt;00:00, 27.2kB/s]"
      }
     },
     "a2e750763130422b94d03ee69135d69e": {
      "model_module": "@jupyter-widgets/base",
      "model_module_version": "1.2.0",
      "model_name": "LayoutModel",
      "state": {
       "_model_module": "@jupyter-widgets/base",
       "_model_module_version": "1.2.0",
       "_model_name": "LayoutModel",
       "_view_count": null,
       "_view_module": "@jupyter-widgets/base",
       "_view_module_version": "1.2.0",
       "_view_name": "LayoutView",
       "align_content": null,
       "align_items": null,
       "align_self": null,
       "border": null,
       "bottom": null,
       "display": null,
       "flex": null,
       "flex_flow": null,
       "grid_area": null,
       "grid_auto_columns": null,
       "grid_auto_flow": null,
       "grid_auto_rows": null,
       "grid_column": null,
       "grid_gap": null,
       "grid_row": null,
       "grid_template_areas": null,
       "grid_template_columns": null,
       "grid_template_rows": null,
       "height": null,
       "justify_content": null,
       "justify_items": null,
       "left": null,
       "margin": null,
       "max_height": null,
       "max_width": null,
       "min_height": null,
       "min_width": null,
       "object_fit": null,
       "object_position": null,
       "order": null,
       "overflow": null,
       "overflow_x": null,
       "overflow_y": null,
       "padding": null,
       "right": null,
       "top": null,
       "visibility": null,
       "width": null
      }
     },
     "a4a89a2ccae442f58b4ccccd6d7dd0fa": {
      "model_module": "@jupyter-widgets/controls",
      "model_module_version": "1.5.0",
      "model_name": "DescriptionStyleModel",
      "state": {
       "_model_module": "@jupyter-widgets/controls",
       "_model_module_version": "1.5.0",
       "_model_name": "DescriptionStyleModel",
       "_view_count": null,
       "_view_module": "@jupyter-widgets/base",
       "_view_module_version": "1.2.0",
       "_view_name": "StyleView",
       "description_width": ""
      }
     },
     "a57a56d37fee41a5a9acfe41052cb2c4": {
      "model_module": "@jupyter-widgets/controls",
      "model_module_version": "1.5.0",
      "model_name": "FloatProgressModel",
      "state": {
       "_dom_classes": [],
       "_model_module": "@jupyter-widgets/controls",
       "_model_module_version": "1.5.0",
       "_model_name": "FloatProgressModel",
       "_view_count": null,
       "_view_module": "@jupyter-widgets/controls",
       "_view_module_version": "1.5.0",
       "_view_name": "ProgressView",
       "bar_style": "success",
       "description": "",
       "description_tooltip": null,
       "layout": "IPY_MODEL_85420ac85a4748aa91fd256ffcfda2ef",
       "max": 714314041.0,
       "min": 0.0,
       "orientation": "horizontal",
       "style": "IPY_MODEL_78701b5e629a4bbba28aea221cd46d59",
       "value": 714314041.0
      }
     },
     "ab710e39f0474e2b98f3994cab63b4d6": {
      "model_module": "@jupyter-widgets/controls",
      "model_module_version": "1.5.0",
      "model_name": "DescriptionStyleModel",
      "state": {
       "_model_module": "@jupyter-widgets/controls",
       "_model_module_version": "1.5.0",
       "_model_name": "DescriptionStyleModel",
       "_view_count": null,
       "_view_module": "@jupyter-widgets/base",
       "_view_module_version": "1.2.0",
       "_view_name": "StyleView",
       "description_width": ""
      }
     },
     "ab73d68d6b4b4633b352e13cc5ab9543": {
      "model_module": "@jupyter-widgets/base",
      "model_module_version": "1.2.0",
      "model_name": "LayoutModel",
      "state": {
       "_model_module": "@jupyter-widgets/base",
       "_model_module_version": "1.2.0",
       "_model_name": "LayoutModel",
       "_view_count": null,
       "_view_module": "@jupyter-widgets/base",
       "_view_module_version": "1.2.0",
       "_view_name": "LayoutView",
       "align_content": null,
       "align_items": null,
       "align_self": null,
       "border": null,
       "bottom": null,
       "display": null,
       "flex": null,
       "flex_flow": null,
       "grid_area": null,
       "grid_auto_columns": null,
       "grid_auto_flow": null,
       "grid_auto_rows": null,
       "grid_column": null,
       "grid_gap": null,
       "grid_row": null,
       "grid_template_areas": null,
       "grid_template_columns": null,
       "grid_template_rows": null,
       "height": null,
       "justify_content": null,
       "justify_items": null,
       "left": null,
       "margin": null,
       "max_height": null,
       "max_width": null,
       "min_height": null,
       "min_width": null,
       "object_fit": null,
       "object_position": null,
       "order": null,
       "overflow": null,
       "overflow_x": null,
       "overflow_y": null,
       "padding": null,
       "right": null,
       "top": null,
       "visibility": null,
       "width": null
      }
     },
     "b3106559bf764b0f8cd67f70f6876b7a": {
      "model_module": "@jupyter-widgets/controls",
      "model_module_version": "1.5.0",
      "model_name": "HTMLModel",
      "state": {
       "_dom_classes": [],
       "_model_module": "@jupyter-widgets/controls",
       "_model_module_version": "1.5.0",
       "_model_name": "HTMLModel",
       "_view_count": null,
       "_view_module": "@jupyter-widgets/controls",
       "_view_module_version": "1.5.0",
       "_view_name": "HTMLView",
       "description": "",
       "description_tooltip": null,
       "layout": "IPY_MODEL_06bca14f8cef40eb81b341ab0fec1e03",
       "placeholder": "​",
       "style": "IPY_MODEL_f075669038014c61bfae2c1f0ed5a3aa",
       "value": "Downloading (…)solve/main/vocab.txt: 100%"
      }
     },
     "b371c83f29434b75909d35433106de4d": {
      "model_module": "@jupyter-widgets/base",
      "model_module_version": "1.2.0",
      "model_name": "LayoutModel",
      "state": {
       "_model_module": "@jupyter-widgets/base",
       "_model_module_version": "1.2.0",
       "_model_name": "LayoutModel",
       "_view_count": null,
       "_view_module": "@jupyter-widgets/base",
       "_view_module_version": "1.2.0",
       "_view_name": "LayoutView",
       "align_content": null,
       "align_items": null,
       "align_self": null,
       "border": null,
       "bottom": null,
       "display": null,
       "flex": null,
       "flex_flow": null,
       "grid_area": null,
       "grid_auto_columns": null,
       "grid_auto_flow": null,
       "grid_auto_rows": null,
       "grid_column": null,
       "grid_gap": null,
       "grid_row": null,
       "grid_template_areas": null,
       "grid_template_columns": null,
       "grid_template_rows": null,
       "height": null,
       "justify_content": null,
       "justify_items": null,
       "left": null,
       "margin": null,
       "max_height": null,
       "max_width": null,
       "min_height": null,
       "min_width": null,
       "object_fit": null,
       "object_position": null,
       "order": null,
       "overflow": null,
       "overflow_x": null,
       "overflow_y": null,
       "padding": null,
       "right": null,
       "top": null,
       "visibility": null,
       "width": null
      }
     },
     "b770aec0577e4fc0a5db3aeade8f6a58": {
      "model_module": "@jupyter-widgets/controls",
      "model_module_version": "1.5.0",
      "model_name": "ProgressStyleModel",
      "state": {
       "_model_module": "@jupyter-widgets/controls",
       "_model_module_version": "1.5.0",
       "_model_name": "ProgressStyleModel",
       "_view_count": null,
       "_view_module": "@jupyter-widgets/base",
       "_view_module_version": "1.2.0",
       "_view_name": "StyleView",
       "bar_color": null,
       "description_width": ""
      }
     },
     "c62f7207f64743308a06effc6fc447f8": {
      "model_module": "@jupyter-widgets/controls",
      "model_module_version": "1.5.0",
      "model_name": "HBoxModel",
      "state": {
       "_dom_classes": [],
       "_model_module": "@jupyter-widgets/controls",
       "_model_module_version": "1.5.0",
       "_model_name": "HBoxModel",
       "_view_count": null,
       "_view_module": "@jupyter-widgets/controls",
       "_view_module_version": "1.5.0",
       "_view_name": "HBoxView",
       "box_style": "",
       "children": [
        "IPY_MODEL_49cba177b00540df9a1580c6bd4e3721",
        "IPY_MODEL_a57a56d37fee41a5a9acfe41052cb2c4",
        "IPY_MODEL_f9e2701dccad4ec5ac3fcad06aeb6414"
       ],
       "layout": "IPY_MODEL_a2e750763130422b94d03ee69135d69e"
      }
     },
     "c8d1a097ad6949fc9bfaefd76ee4d8a2": {
      "model_module": "@jupyter-widgets/controls",
      "model_module_version": "1.5.0",
      "model_name": "HTMLModel",
      "state": {
       "_dom_classes": [],
       "_model_module": "@jupyter-widgets/controls",
       "_model_module_version": "1.5.0",
       "_model_name": "HTMLModel",
       "_view_count": null,
       "_view_module": "@jupyter-widgets/controls",
       "_view_module_version": "1.5.0",
       "_view_name": "HTMLView",
       "description": "",
       "description_tooltip": null,
       "layout": "IPY_MODEL_e36c8f50630747f6b894a7952c23eff3",
       "placeholder": "​",
       "style": "IPY_MODEL_ab710e39f0474e2b98f3994cab63b4d6",
       "value": "Downloading (…)okenizer_config.json: 100%"
      }
     },
     "cf72db8751c7482298192712d2ef4844": {
      "model_module": "@jupyter-widgets/base",
      "model_module_version": "1.2.0",
      "model_name": "LayoutModel",
      "state": {
       "_model_module": "@jupyter-widgets/base",
       "_model_module_version": "1.2.0",
       "_model_name": "LayoutModel",
       "_view_count": null,
       "_view_module": "@jupyter-widgets/base",
       "_view_module_version": "1.2.0",
       "_view_name": "LayoutView",
       "align_content": null,
       "align_items": null,
       "align_self": null,
       "border": null,
       "bottom": null,
       "display": null,
       "flex": null,
       "flex_flow": null,
       "grid_area": null,
       "grid_auto_columns": null,
       "grid_auto_flow": null,
       "grid_auto_rows": null,
       "grid_column": null,
       "grid_gap": null,
       "grid_row": null,
       "grid_template_areas": null,
       "grid_template_columns": null,
       "grid_template_rows": null,
       "height": null,
       "justify_content": null,
       "justify_items": null,
       "left": null,
       "margin": null,
       "max_height": null,
       "max_width": null,
       "min_height": null,
       "min_width": null,
       "object_fit": null,
       "object_position": null,
       "order": null,
       "overflow": null,
       "overflow_x": null,
       "overflow_y": null,
       "padding": null,
       "right": null,
       "top": null,
       "visibility": null,
       "width": null
      }
     },
     "e36c8f50630747f6b894a7952c23eff3": {
      "model_module": "@jupyter-widgets/base",
      "model_module_version": "1.2.0",
      "model_name": "LayoutModel",
      "state": {
       "_model_module": "@jupyter-widgets/base",
       "_model_module_version": "1.2.0",
       "_model_name": "LayoutModel",
       "_view_count": null,
       "_view_module": "@jupyter-widgets/base",
       "_view_module_version": "1.2.0",
       "_view_name": "LayoutView",
       "align_content": null,
       "align_items": null,
       "align_self": null,
       "border": null,
       "bottom": null,
       "display": null,
       "flex": null,
       "flex_flow": null,
       "grid_area": null,
       "grid_auto_columns": null,
       "grid_auto_flow": null,
       "grid_auto_rows": null,
       "grid_column": null,
       "grid_gap": null,
       "grid_row": null,
       "grid_template_areas": null,
       "grid_template_columns": null,
       "grid_template_rows": null,
       "height": null,
       "justify_content": null,
       "justify_items": null,
       "left": null,
       "margin": null,
       "max_height": null,
       "max_width": null,
       "min_height": null,
       "min_width": null,
       "object_fit": null,
       "object_position": null,
       "order": null,
       "overflow": null,
       "overflow_x": null,
       "overflow_y": null,
       "padding": null,
       "right": null,
       "top": null,
       "visibility": null,
       "width": null
      }
     },
     "e384fc7a372b45b4b26011bb1a481f24": {
      "model_module": "@jupyter-widgets/controls",
      "model_module_version": "1.5.0",
      "model_name": "HBoxModel",
      "state": {
       "_dom_classes": [],
       "_model_module": "@jupyter-widgets/controls",
       "_model_module_version": "1.5.0",
       "_model_name": "HBoxModel",
       "_view_count": null,
       "_view_module": "@jupyter-widgets/controls",
       "_view_module_version": "1.5.0",
       "_view_name": "HBoxView",
       "box_style": "",
       "children": [
        "IPY_MODEL_b3106559bf764b0f8cd67f70f6876b7a",
        "IPY_MODEL_e5ed40a173a44f1aa38b7fb165408ca3",
        "IPY_MODEL_526c53e25af84ddcb0d86a9544a5d21e"
       ],
       "layout": "IPY_MODEL_2c17b621b754498f913f15b0f9debb1f"
      }
     },
     "e5b536f37fc14b41ada8dc0180524c83": {
      "model_module": "@jupyter-widgets/base",
      "model_module_version": "1.2.0",
      "model_name": "LayoutModel",
      "state": {
       "_model_module": "@jupyter-widgets/base",
       "_model_module_version": "1.2.0",
       "_model_name": "LayoutModel",
       "_view_count": null,
       "_view_module": "@jupyter-widgets/base",
       "_view_module_version": "1.2.0",
       "_view_name": "LayoutView",
       "align_content": null,
       "align_items": null,
       "align_self": null,
       "border": null,
       "bottom": null,
       "display": null,
       "flex": null,
       "flex_flow": null,
       "grid_area": null,
       "grid_auto_columns": null,
       "grid_auto_flow": null,
       "grid_auto_rows": null,
       "grid_column": null,
       "grid_gap": null,
       "grid_row": null,
       "grid_template_areas": null,
       "grid_template_columns": null,
       "grid_template_rows": null,
       "height": null,
       "justify_content": null,
       "justify_items": null,
       "left": null,
       "margin": null,
       "max_height": null,
       "max_width": null,
       "min_height": null,
       "min_width": null,
       "object_fit": null,
       "object_position": null,
       "order": null,
       "overflow": null,
       "overflow_x": null,
       "overflow_y": null,
       "padding": null,
       "right": null,
       "top": null,
       "visibility": null,
       "width": null
      }
     },
     "e5ed40a173a44f1aa38b7fb165408ca3": {
      "model_module": "@jupyter-widgets/controls",
      "model_module_version": "1.5.0",
      "model_name": "FloatProgressModel",
      "state": {
       "_dom_classes": [],
       "_model_module": "@jupyter-widgets/controls",
       "_model_module_version": "1.5.0",
       "_model_name": "FloatProgressModel",
       "_view_count": null,
       "_view_module": "@jupyter-widgets/controls",
       "_view_module_version": "1.5.0",
       "_view_name": "ProgressView",
       "bar_style": "success",
       "description": "",
       "description_tooltip": null,
       "layout": "IPY_MODEL_4666c70285104fe2a32ad7f5ef170b45",
       "max": 995526.0,
       "min": 0.0,
       "orientation": "horizontal",
       "style": "IPY_MODEL_3a9d41d54f2540efb5b0462a65ed2053",
       "value": 995526.0
      }
     },
     "ea68ecb1286047459701d456d6ec73ee": {
      "model_module": "@jupyter-widgets/controls",
      "model_module_version": "1.5.0",
      "model_name": "DescriptionStyleModel",
      "state": {
       "_model_module": "@jupyter-widgets/controls",
       "_model_module_version": "1.5.0",
       "_model_name": "DescriptionStyleModel",
       "_view_count": null,
       "_view_module": "@jupyter-widgets/base",
       "_view_module_version": "1.2.0",
       "_view_name": "StyleView",
       "description_width": ""
      }
     },
     "f075669038014c61bfae2c1f0ed5a3aa": {
      "model_module": "@jupyter-widgets/controls",
      "model_module_version": "1.5.0",
      "model_name": "DescriptionStyleModel",
      "state": {
       "_model_module": "@jupyter-widgets/controls",
       "_model_module_version": "1.5.0",
       "_model_name": "DescriptionStyleModel",
       "_view_count": null,
       "_view_module": "@jupyter-widgets/base",
       "_view_module_version": "1.2.0",
       "_view_name": "StyleView",
       "description_width": ""
      }
     },
     "f9e2701dccad4ec5ac3fcad06aeb6414": {
      "model_module": "@jupyter-widgets/controls",
      "model_module_version": "1.5.0",
      "model_name": "HTMLModel",
      "state": {
       "_dom_classes": [],
       "_model_module": "@jupyter-widgets/controls",
       "_model_module_version": "1.5.0",
       "_model_name": "HTMLModel",
       "_view_count": null,
       "_view_module": "@jupyter-widgets/controls",
       "_view_module_version": "1.5.0",
       "_view_name": "HTMLView",
       "description": "",
       "description_tooltip": null,
       "layout": "IPY_MODEL_0669089c83e5465bb5c8b8036a72deec",
       "placeholder": "​",
       "style": "IPY_MODEL_1ba58aa02e214bb491bd2f7a1c5d5399",
       "value": " 714M/714M [00:03&lt;00:00, 187MB/s]"
      }
     },
     "ff90a30baa5d46108e30810d41e73229": {
      "model_module": "@jupyter-widgets/base",
      "model_module_version": "1.2.0",
      "model_name": "LayoutModel",
      "state": {
       "_model_module": "@jupyter-widgets/base",
       "_model_module_version": "1.2.0",
       "_model_name": "LayoutModel",
       "_view_count": null,
       "_view_module": "@jupyter-widgets/base",
       "_view_module_version": "1.2.0",
       "_view_name": "LayoutView",
       "align_content": null,
       "align_items": null,
       "align_self": null,
       "border": null,
       "bottom": null,
       "display": null,
       "flex": null,
       "flex_flow": null,
       "grid_area": null,
       "grid_auto_columns": null,
       "grid_auto_flow": null,
       "grid_auto_rows": null,
       "grid_column": null,
       "grid_gap": null,
       "grid_row": null,
       "grid_template_areas": null,
       "grid_template_columns": null,
       "grid_template_rows": null,
       "height": null,
       "justify_content": null,
       "justify_items": null,
       "left": null,
       "margin": null,
       "max_height": null,
       "max_width": null,
       "min_height": null,
       "min_width": null,
       "object_fit": null,
       "object_position": null,
       "order": null,
       "overflow": null,
       "overflow_x": null,
       "overflow_y": null,
       "padding": null,
       "right": null,
       "top": null,
       "visibility": null,
       "width": null
      }
     }
    },
    "version_major": 2,
    "version_minor": 0
   }
  }
 },
 "nbformat": 4,
 "nbformat_minor": 5
}
